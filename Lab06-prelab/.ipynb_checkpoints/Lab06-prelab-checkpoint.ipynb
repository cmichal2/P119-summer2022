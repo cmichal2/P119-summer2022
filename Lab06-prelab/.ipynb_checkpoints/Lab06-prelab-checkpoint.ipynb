{
 "cells": [
  {
   "cell_type": "markdown",
   "id": "c0a76f2d-ef0a-4eee-9411-c124f1e08887",
   "metadata": {},
   "source": [
    "# Lab 06 Prelab - A review of residuals and fitting"
   ]
  },
  {
   "cell_type": "code",
   "execution_count": 2,
   "id": "1b294a4c-e07a-43e6-b6e9-de737f89c959",
   "metadata": {},
   "outputs": [],
   "source": [
    "import data_entry\n",
    "import numpy as np\n",
    "import matplotlib.pyplot as plt"
   ]
  },
  {
   "cell_type": "markdown",
   "id": "b1c7e749-6d19-48d1-a16a-05da741efad5",
   "metadata": {},
   "source": [
    "We covered a lot of new material in lab 5; this pre-lab won't cover any new material, but will serve to reiterate the concepts/techniques from the last lab to give you more practice. We start with a review of residual plots."
   ]
  },
  {
   "cell_type": "markdown",
   "id": "b692a95b-892b-4b2f-bd5a-f0e39d5a3f98",
   "metadata": {
    "tags": []
   },
   "source": [
    "## Part 1 - How to read residuals"
   ]
  },
  {
   "cell_type": "markdown",
   "id": "8ccb0726-5449-4793-8ca4-01354deedaee",
   "metadata": {
    "tags": []
   },
   "source": [
    "### Question 1"
   ]
  },
  {
   "cell_type": "markdown",
   "id": "41d4bf3d-1d4a-40f3-b2d0-93308f296326",
   "metadata": {},
   "source": [
    "**Q1a:** Given experimental data and a model for that data, what is a residual?"
   ]
  },
  {
   "cell_type": "markdown",
   "id": "363e57f7-4fc5-4f76-91c2-0d70bf4da8e7",
   "metadata": {},
   "source": []
  },
  {
   "cell_type": "markdown",
   "id": "8da66fa7-4e33-439b-b45a-2a351a589242",
   "metadata": {},
   "source": [
    "**Q1b:** What are properties of a residual plot that inform us that the model is a good fit to the data?"
   ]
  },
  {
   "cell_type": "markdown",
   "id": "8da6fda0-d830-4cb4-bd0e-6ad8ad148363",
   "metadata": {},
   "source": []
  },
  {
   "cell_type": "markdown",
   "id": "7549b6de-1d02-48d6-b146-f0f1288bc4e5",
   "metadata": {
    "jp-MarkdownHeadingCollapsed": true,
    "tags": []
   },
   "source": [
    "### Answers (Highlight to reveal)"
   ]
  },
  {
   "cell_type": "markdown",
   "id": "972fe2f5-6877-4274-9626-cec7dbceb3f3",
   "metadata": {},
   "source": [
    "**A1a:** <font color='white'>A residual is defined as the difference between experimental data and a model, i.e. $R_i = y_i - f(x_i)$.<font>"
   ]
  },
  {
   "cell_type": "markdown",
   "id": "254156ce-7308-4af7-b048-430ce9b69622",
   "metadata": {},
   "source": [
    "**A1b:** A model that is a good fit to the data will have a residual plot with:<font>\n",
    "- <font color='white'>No obvious trend<font>\n",
    "- <font color='white'>A roughly equal scatter of points across the x-axis (x = 0)<font>\n",
    "- <font color='white'>Roughly ~68% of error bars crossing the x-axis<font>\n",
    "- <font color='white'>Roughly all (~95%) of doubled error bars crossing the x-axis<font>"
   ]
  },
  {
   "cell_type": "markdown",
   "id": "6390dd02-f08d-4252-bb0a-d5f385ce7fc9",
   "metadata": {
    "tags": []
   },
   "source": [
    "### Diagnosing models with residuals"
   ]
  },
  {
   "cell_type": "markdown",
   "id": "aaf4324a-09c6-4130-b704-29127f256c2b",
   "metadata": {},
   "source": [
    "Now that we have reminded ourselves of how to use residuals to diagnose the goodness of fit of a model to a given set of experimental data, let's use these criteria to diagnose some fits. Below, we have three datasets to which we have tried to fit the model of a straight line with intercept; $y_{\\text{model}} = mx + b$. By running the code cells below, we can plot the three datasets with the model, as well as the subsequent residual plot. \n",
    "\n",
    "For each of the three datasets, point out any features of the residual plot that may indicate that there is a problem of the model fit to the data. Explain what should be changed about the model. Finally, go into the code cell and modify the model according to the diagnosis, until the residual plot indicates that the model is a good fit to the data, as per the criteria discussed in question 1."
   ]
  },
  {
   "cell_type": "code",
   "execution_count": 3,
   "id": "06a9ffbc-a740-4bc5-bc71-1a4c1bcfdaa1",
   "metadata": {},
   "outputs": [
    {
     "name": "stdout",
     "output_type": "stream",
     "text": [
      "Creating directory for backups:  csv_backups/\n",
      "Creating undo file\n",
      "Sheet name: lab06_prelab_data1.csv\n"
     ]
    },
    {
     "data": {
      "application/vnd.jupyter.widget-view+json": {
       "model_id": "09b841f888c94977b085b5e6b6797ed9",
       "version_major": 2,
       "version_minor": 0
      },
      "text/plain": [
       "VBox(children=(Sheet(cells=(Cell(column_end=0, column_start=0, row_end=0, row_start=0, type='text', value='x')…"
      ]
     },
     "metadata": {},
     "output_type": "display_data"
    }
   ],
   "source": [
    "de = data_entry.sheet(\"lab06_prelab_data1.csv\")\n",
    "# Make sure to hit the \"Generate Vectors\" button!"
   ]
  },
  {
   "cell_type": "markdown",
   "id": "f8709fc8-68e5-43d3-9603-50b5479709af",
   "metadata": {
    "tags": []
   },
   "source": [
    "### Question 2 (Dataset 1)"
   ]
  },
  {
   "cell_type": "code",
   "execution_count": 4,
   "id": "f3c8fc5f-583c-4a57-bb9c-81c2b76e83ea",
   "metadata": {},
   "outputs": [
    {
     "data": {
      "image/png": "[encoded data removed]",
      "text/plain": [
       "<Figure size 432x288 with 1 Axes>"
      ]
     },
     "metadata": {
      "needs_background": "light"
     },
     "output_type": "display_data"
    },
    {
     "data": {
      "image/png": "[encoded data removed]",
      "text/plain": [
       "<Figure size 432x288 with 1 Axes>"
      ]
     },
     "metadata": {
      "needs_background": "light"
     },
     "output_type": "display_data"
    }
   ],
   "source": [
    "# Data/Model Plot\n",
    "# Step 1: find the limits of the data:\n",
    "xmin = np.min(xVec) # use the np.min function to find the smallest x value\n",
    "xmax = np.max(xVec) # same for max\n",
    "#print (xmin, xmax)  # uncomment to see what the limits are\n",
    "\n",
    "# Step 2: generate a bunch of x points between xmin and xmax\n",
    "xpoints = np.linspace(xmin, xmax, 200) # gives 200 evenly spaced points between xmin and xmax\n",
    "#print(xpoints) # uncomment to see the x values that were generated.\n",
    "\n",
    "# Step 3: calculate the model values:\n",
    "# MODIFY THIS PART ##############################################################################\n",
    "slope = 1 # Estimate of the slope.\n",
    "intercept = 1.1  # Estimate of the intercept\n",
    "ypoints = xpoints * slope + intercept # this calculates the yvalues at all 200 points.\n",
    "#################################################################################################\n",
    "\n",
    "# Step 4: plot the curve. We plot this as a red line \"r-\" :\n",
    "plt.plot(xpoints, ypoints, \"r-\", label = \"y = mx + b\")\n",
    "\n",
    "# What's below is exactly what we had earlier:\n",
    "plt.errorbar(xVec, y1Vec, uy1Vec, fmt=\"bo\", markersize=3, label=\"Experimental data\")\n",
    "plt.title(\"y vs. x for first dataset\")\n",
    "plt.xlabel(\"x (s)\")\n",
    "plt.ylabel(\"y (m)\")\n",
    "plt.legend()\n",
    "plt.show()\n",
    "\n",
    "# Residuals Plot\n",
    "# Step 1: Calculate the model at each x-datapoint\n",
    "ymodel = xVec * slope + intercept\n",
    "\n",
    "# Step 2: Calcualte the residual vector\n",
    "RVec = y1Vec - ymodel\n",
    "\n",
    "# Step 3: Plot the residual vector against the x-data vector\n",
    "plt.errorbar(xVec, RVec, uy1Vec, fmt=\"bo\", markersize = 3)\n",
    "\n",
    "# Step 4: Add a R = 0 x-axis (horizontal line) to the plot\n",
    "plt.hlines(y=0, xmin=xmin, xmax=xmax, color='k') # draw axis at y = 0.\n",
    "\n",
    "# Add axis labels and title, and show the graph\n",
    "plt.title(\"Residuals for y vs. x for first dataset\")\n",
    "plt.xlabel(\"x (s)\")\n",
    "plt.ylabel(\"Residual = data - model (m)\")\n",
    "plt.show()"
   ]
  },
  {
   "cell_type": "markdown",
   "id": "70b5a96c-9244-4667-8d03-a0e41574c13c",
   "metadata": {},
   "source": [
    "**Q2a:** What feature of the above residual plot indicates a problem with the fit of the model to the data?"
   ]
  },
  {
   "cell_type": "markdown",
   "id": "dfa649fa-0652-48a0-a797-7599272e783a",
   "metadata": {},
   "source": []
  },
  {
   "cell_type": "markdown",
   "id": "258c70e3-e332-496e-ab06-7bf5ddc8438d",
   "metadata": {},
   "source": [
    "**Q2b:** What should be changed about the model?"
   ]
  },
  {
   "cell_type": "markdown",
   "id": "7fbb0186-6be8-4e96-ae4a-25755cdae4a4",
   "metadata": {},
   "source": []
  },
  {
   "cell_type": "markdown",
   "id": "7dd2538f-5958-453d-8668-07f0c531f12a",
   "metadata": {},
   "source": [
    "**Q2c:** Change the model in the code cell (in the area specified) until the residuals indicate the model is a good fit."
   ]
  },
  {
   "cell_type": "markdown",
   "id": "d6065bc9-5f3b-4f29-8512-1c4a7d020604",
   "metadata": {
    "jp-MarkdownHeadingCollapsed": true,
    "tags": []
   },
   "source": [
    "### Answers (Highlight to reveal)"
   ]
  },
  {
   "cell_type": "markdown",
   "id": "188f2cfe-514d-4d34-ba15-ce989586aa33",
   "metadata": {},
   "source": [
    "**A2a:** <font color='white'>We see a trend in the residuals where all of the residual points lie below the x-axis (x=0 line)<font>\""
   ]
  },
  {
   "cell_type": "markdown",
   "id": "db95ec97-f8ee-47a3-85eb-bd831d255a20",
   "metadata": {},
   "source": [
    "**A2b:** <font color='white'>The y-intercept of the model is too large, so we should decrease it.<font>"
   ]
  },
  {
   "cell_type": "markdown",
   "id": "3896c363-1ea8-43c9-bfae-76297853dfcc",
   "metadata": {},
   "source": [
    "**A2c:** <font color='white'>Changing the intercept from 1.1 to 1 in the code improves the model in the desired fashion.<font>"
   ]
  },
  {
   "cell_type": "markdown",
   "id": "d4c13ab3-9b7a-4856-92ab-9ba39b9ba41b",
   "metadata": {
    "tags": []
   },
   "source": [
    "### Question 3 (Dataset 2)"
   ]
  },
  {
   "cell_type": "code",
   "execution_count": 5,
   "id": "e294ab89-b070-4cb1-8e7d-2d8d631af25e",
   "metadata": {},
   "outputs": [
    {
     "data": {
      "image/png": "[encoded data removed]",
      "text/plain": [
       "<Figure size 432x288 with 1 Axes>"
      ]
     },
     "metadata": {
      "needs_background": "light"
     },
     "output_type": "display_data"
    },
    {
     "data": {
      "image/png": "[encoded data removed]",
      "text/plain": [
       "<Figure size 432x288 with 1 Axes>"
      ]
     },
     "metadata": {
      "needs_background": "light"
     },
     "output_type": "display_data"
    }
   ],
   "source": [
    "# Data/Model Plot\n",
    "# Step 1: find the limits of the data:\n",
    "xmin = np.min(xVec) # use the np.min function to find the smallest x value\n",
    "xmax = np.max(xVec) # same for max\n",
    "#print (xmin, xmax)  # uncomment to see what the limits are\n",
    "\n",
    "# Step 2: generate a bunch of x points between xmin and xmax\n",
    "xpoints = np.linspace(xmin, xmax, 200) # gives 200 evenly spaced points between xmin and xmax\n",
    "#print(xpoints) # uncomment to see the x values that were generated.\n",
    "\n",
    "# Step 3: calculate the model values:\n",
    "# MODIFY THIS PART ##############################################################################\n",
    "slope = 1.9 # Estimate of the slope.\n",
    "intercept = 3\n",
    "ypoints = xpoints * slope + intercept # this calculates the yvalues at all 200 points.\n",
    "#################################################################################################\n",
    "\n",
    "# Step 4: plot the curve. We plot this as a red line \"r-\" :\n",
    "plt.plot(xpoints, ypoints, \"r-\", label = \"y = mx + b\")\n",
    "\n",
    "# What's below is exactly what we had earlier:\n",
    "plt.errorbar(xVec, y2Vec, uy2Vec, fmt=\"bo\", markersize=3, label=\"Experimental data\")\n",
    "plt.title(\"y vs. x for second dataset\")\n",
    "plt.xlabel(\"x (s)\")\n",
    "plt.ylabel(\"y (m)\")\n",
    "plt.legend()\n",
    "plt.show()\n",
    "\n",
    "# Residuals Plot\n",
    "# Step 1: Calculate the model at each x-datapoint\n",
    "ymodel = xVec * slope + intercept\n",
    "\n",
    "# Step 2: Calcualte the residual vector\n",
    "RVec = y2Vec - ymodel\n",
    "\n",
    "# Step 3: Plot the residual vector against the x-data vector\n",
    "plt.errorbar(xVec, RVec, uy2Vec, fmt=\"bo\", markersize = 3)\n",
    "\n",
    "# Step 4: Add a R = 0 x-axis (horizontal line) to the plot\n",
    "plt.hlines(y=0, xmin=xmin, xmax=xmax, color='k') # draw axis at y = 0.\n",
    "\n",
    "# Add axis labels and title, and show the graph\n",
    "plt.title(\"Residuals for y vs. x for second dataset\")\n",
    "plt.xlabel(\"x (s)\")\n",
    "plt.ylabel(\"Residual = data - model (m)\")\n",
    "plt.show()"
   ]
  },
  {
   "cell_type": "markdown",
   "id": "7c4101d0-031a-4422-87f8-b15bcdecf303",
   "metadata": {},
   "source": [
    "**Q3a:** What feature of the above residual plot indicates a problem with the fit of the model to the data?"
   ]
  },
  {
   "cell_type": "markdown",
   "id": "6be1f0b2-fc25-4f0c-9a29-fd54d49dd50d",
   "metadata": {},
   "source": []
  },
  {
   "cell_type": "markdown",
   "id": "9d3477bd-f50d-430a-af4e-91264e3a0b96",
   "metadata": {},
   "source": [
    "**Q3b:** What should be changed about the model?"
   ]
  },
  {
   "cell_type": "markdown",
   "id": "59ea0ef7-2dea-4622-a30a-28a47adcff31",
   "metadata": {},
   "source": []
  },
  {
   "cell_type": "markdown",
   "id": "c4a78103-a60f-4cd3-a7b7-0b8cccfbc9fe",
   "metadata": {},
   "source": [
    "**Q3c:** Change the model in the code cell (in the area specified) until the residuals indicate the model is a good fit."
   ]
  },
  {
   "cell_type": "markdown",
   "id": "240dcbb0-b365-42be-96f7-72c44f3fed06",
   "metadata": {
    "jp-MarkdownHeadingCollapsed": true,
    "tags": []
   },
   "source": [
    "### Answers (Highlight to reveal)"
   ]
  },
  {
   "cell_type": "markdown",
   "id": "f8ee5e31-e693-4085-b17c-8dc6ce19e3de",
   "metadata": {},
   "source": [
    "**A3a:** <font color='white'>We see an (upwards) linear trend in the residuals plot.<font>\""
   ]
  },
  {
   "cell_type": "markdown",
   "id": "3f8de93c-75eb-4184-a4a6-6a8ee003441d",
   "metadata": {},
   "source": [
    "**A3b:** <font color='white'>The slope of the model is too small, so we should increase it.<font>"
   ]
  },
  {
   "cell_type": "markdown",
   "id": "96e5fe6a-5a99-40a7-8985-ecd39732cbed",
   "metadata": {},
   "source": [
    "**A3c:** <font color='white'>Changing the slope from 1.9 to 2 in the code improves the model in the desired fashion.<font>"
   ]
  },
  {
   "cell_type": "markdown",
   "id": "e4d4c4f0-d1db-4d62-b277-09ffbc27d0e3",
   "metadata": {
    "tags": []
   },
   "source": [
    "### Question 4 (Dataset 3)"
   ]
  },
  {
   "cell_type": "markdown",
   "id": "df62bd41-7618-4522-8faf-b7c4557fc9d5",
   "metadata": {},
   "source": [
    "Note that for this dataset, the issue with the model is a bit harder to fix compared to the other two examples; for this part it is alright to skip the step of fixing the model in the code, and just comment on what appears to be wrong and how one could feasibly improve the fit of the model to the data (though we welcome the initiative to try to fix the model in the code, as well!)"
   ]
  },
  {
   "cell_type": "code",
   "execution_count": 20,
   "id": "bfb809d8-44a6-4bbf-a108-e678e593f495",
   "metadata": {},
   "outputs": [
    {
     "data": {
      "image/png": "[encoded data removed]",
      "text/plain": [
       "<Figure size 432x288 with 1 Axes>"
      ]
     },
     "metadata": {
      "needs_background": "light"
     },
     "output_type": "display_data"
    },
    {
     "data": {
      "image/png": "[encoded data removed]",
      "text/plain": [
       "<Figure size 432x288 with 1 Axes>"
      ]
     },
     "metadata": {
      "needs_background": "light"
     },
     "output_type": "display_data"
    }
   ],
   "source": [
    "# Data/Model Plot\n",
    "# Step 1: find the limits of the data:\n",
    "xmin = np.min(xVec) # use the np.min function to find the smallest x value\n",
    "xmax = np.max(xVec) # same for max\n",
    "#print (xmin, xmax)  # uncomment to see what the limits are\n",
    "\n",
    "# Step 2: generate a bunch of x points between xmin and xmax\n",
    "xpoints = np.linspace(xmin, xmax, 200) # gives 200 evenly spaced points between xmin and xmax\n",
    "#print(xpoints) # uncomment to see the x values that were generated.\n",
    "\n",
    "# Step 3: calculate the model values:\n",
    "# MODIFY THIS PART ##############################################################################\n",
    "slope = 1 # Estimate of the slope.\n",
    "intercept = 3\n",
    "ypoints = xpoints * slope + intercept # this calculates the yvalues at all 200 points.\n",
    "#################################################################################################\n",
    "\n",
    "# Step 4: plot the curve. We plot this as a red line \"r-\" :\n",
    "plt.plot(xpoints, ypoints, \"r-\", label = \"y = mx + b\")\n",
    "\n",
    "# What's below is exactly what we had earlier:\n",
    "plt.errorbar(xVec, y3Vec, uy3Vec, fmt=\"bo\", markersize=3, label=\"Experimental data\")\n",
    "plt.title(\"y vs. x for third dataset\")\n",
    "plt.xlabel(\"x (s)\")\n",
    "plt.ylabel(\"y (m)\")\n",
    "plt.legend()\n",
    "plt.show()\n",
    "\n",
    "# Residuals Plot\n",
    "# Step 1: Calculate the model at each x-datapoint\n",
    "# ALSO MODIFY THIS PART, DEPENDING ON YOUR MODEL MODIFICATION ABOVE###########################\n",
    "ymodel = xVec * slope + intercept\n",
    "#################################################################################################\n",
    "\n",
    "# Step 2: Calcualte the residual vector\n",
    "RVec = y3Vec - ymodel\n",
    "\n",
    "# Step 3: Plot the residual vector against the x-data vector\n",
    "plt.errorbar(xVec, RVec, uy3Vec, fmt=\"bo\", markersize = 3)\n",
    "\n",
    "# Step 4: Add a R = 0 x-axis (horizontal line) to the plot\n",
    "plt.hlines(y=0, xmin=xmin, xmax=xmax, color='k') # draw axis at y = 0.\n",
    "\n",
    "# Add axis labels and title, and show the graph\n",
    "plt.title(\"Residuals for y vs. x for third dataset\")\n",
    "plt.xlabel(\"x (s)\")\n",
    "plt.ylabel(\"Residual = data - model (m)\")\n",
    "plt.show()"
   ]
  },
  {
   "cell_type": "markdown",
   "id": "8370b765-3482-4a72-9968-b62b88079d7f",
   "metadata": {},
   "source": [
    "**Q4a:** What feature of the above residual plot indicates a problem with the fit of the model to the data?"
   ]
  },
  {
   "cell_type": "markdown",
   "id": "5c97039a-7226-4536-9858-b1682205b7d7",
   "metadata": {},
   "source": []
  },
  {
   "cell_type": "markdown",
   "id": "20961a89-9005-4c58-917c-5cbcac9db4b8",
   "metadata": {},
   "source": [
    "**Q4b:** What should be changed about the model?"
   ]
  },
  {
   "cell_type": "markdown",
   "id": "cd8432cb-d3b9-4fbd-9f66-d93e0cea11d5",
   "metadata": {},
   "source": []
  },
  {
   "cell_type": "markdown",
   "id": "1dbe4462-5f46-4f2e-8d8a-f974dec7f0af",
   "metadata": {},
   "source": [
    "**Q4c (optional):** Change the model in the code cell (in the area specified) until the residuals indicate the model is a good fit. Note that for this question the model is harder to fix in the code compared to the previous two questions; it is therefore a bonus for those who really want to put their python-model-doctor skills to the test."
   ]
  },
  {
   "cell_type": "markdown",
   "id": "c57c1bf9-8629-4542-968b-0a1034782646",
   "metadata": {
    "jp-MarkdownHeadingCollapsed": true,
    "tags": []
   },
   "source": [
    "### Answers (Highlight to reveal)"
   ]
  },
  {
   "cell_type": "markdown",
   "id": "2a3db1b6-a72c-4970-86e0-444e6cd6e51a",
   "metadata": {},
   "source": [
    "**A4a:** <font color='white'>We notice from the residuals plot that there is a upwards parabolic trend.<font>\""
   ]
  },
  {
   "cell_type": "markdown",
   "id": "98ce3f0d-c76b-4953-a5e0-381ff7278d17",
   "metadata": {},
   "source": [
    "**A4b:** <font color='white'> This parabolic trend tells us that the current linear model is not a good fit for the data; we should add a (positive) quadratic term.<font>"
   ]
  },
  {
   "cell_type": "markdown",
   "id": "e2f4c038-ebda-42d0-a90f-7764c0daf2f7",
   "metadata": {},
   "source": [
    "**A4c:** <font color='white'>Adding $0.01x^2$ to the model, which can be done by modifying the code to:<font>\n",
    "- <font color='white'>ypoints = 0.01 * xpoints**2 + xpoints * slope + intercept <font>\n",
    "- <font color='white'>ymodel = 0.01 * xVec**2 + xVec * slope + intercept<font>\n",
    "\n",
    "    <font color='white'>improves it in the desired fashion.<font>"
   ]
  },
  {
   "cell_type": "markdown",
   "id": "d11613d7-5758-49fc-8d24-1847d2fe0ff9",
   "metadata": {
    "tags": []
   },
   "source": [
    "## Part 2 - Using residuals to obtain best fit parameters and their uncertainties"
   ]
  },
  {
   "cell_type": "markdown",
   "id": "a479fb14-0af9-4cda-8cf7-0e5cb2dfe27a",
   "metadata": {},
   "source": [
    "In the TA tutorial in lab 5, we learned how to use the residual plot to find the best fit parameters in a linear model and evaluate their uncertainties. We review this procedure here, looking at an experimental setting which gives similar linear data."
   ]
  },
  {
   "cell_type": "markdown",
   "id": "45c7dffe-92ae-4d01-99db-838acf52990a",
   "metadata": {
    "tags": []
   },
   "source": [
    "### A worked example"
   ]
  },
  {
   "cell_type": "markdown",
   "id": "76e344db-b8cc-4ae8-8108-93caef55f5d8",
   "metadata": {},
   "source": [
    "An experiment was performed using an electric toy car and an ultrasonic position sensor. The toy car was set into motion (travelling at constant velocity) and the position sensor recorded its position, $d$, every 0.5 seconds. From this data we want to determine the speed and initial position of the toy car. From kinematics, we believe that the toy car's position should follow:\n",
    "\n",
    "$$d = vt + d_0$$\n",
    "\n",
    "where $v$ is the speed of the car and $d_0$ is the initial position. We will therefore model this as a linear model with an intercept.\n",
    "\n",
    "To begin, we will plot the data, a linear model to the scatter plot, and the residuals plot. We can adjust the slope and y-intercept of the model to determine the line of best fit (starting with slope (m) $v = 0.33$ and intercept (b) $d_0 = 0.2$; these initial guesses could be made by eyeballing the plot for the approximate slope and y-intercept) . Notice that the uncertainty in the position, $u[d]$, increases as the distance between the car and position sensor increases."
   ]
  },
  {
   "cell_type": "code",
   "execution_count": 6,
   "id": "8b18f73b-9b8a-4ea6-9d74-b8574759578b",
   "metadata": {},
   "outputs": [
    {
     "name": "stdout",
     "output_type": "stream",
     "text": [
      "Creating undo file\n",
      "Sheet name: lab06_prelab_data2.csv\n"
     ]
    },
    {
     "data": {
      "application/vnd.jupyter.widget-view+json": {
       "model_id": "4b366fe0988340028efbaf4136080488",
       "version_major": 2,
       "version_minor": 0
      },
      "text/plain": [
       "VBox(children=(Sheet(cells=(Cell(column_end=0, column_start=0, row_end=0, row_start=0, type='text', value='t')…"
      ]
     },
     "metadata": {},
     "output_type": "display_data"
    }
   ],
   "source": [
    "de2 = data_entry.sheet(\"lab06_prelab_data2.csv\")"
   ]
  },
  {
   "cell_type": "code",
   "execution_count": 7,
   "id": "b3791af5-c026-4fd7-9943-59c03a8df6e5",
   "metadata": {},
   "outputs": [
    {
     "data": {
      "image/png": "[encoded data removed]",
      "text/plain": [
       "<Figure size 432x288 with 1 Axes>"
      ]
     },
     "metadata": {
      "needs_background": "light"
     },
     "output_type": "display_data"
    },
    {
     "data": {
      "image/png": "[encoded data removed]",
      "text/plain": [
       "<Figure size 432x288 with 1 Axes>"
      ]
     },
     "metadata": {
      "needs_background": "light"
     },
     "output_type": "display_data"
    }
   ],
   "source": [
    "# Data/Model Plot\n",
    "# Step 1: find the limits of the data:\n",
    "xmin = np.min(tVec) # use the np.min function to find the smallest x value\n",
    "xmax = np.max(tVec) # same for max\n",
    "#print (xmin, xmax)  # uncomment to see what the limits are\n",
    "\n",
    "# Step 2: generate a bunch of x points between xmin and xmax\n",
    "xpoints = np.linspace(xmin, xmax, 200) # gives 200 evenly spaced points between xmin and xmax\n",
    "#print(xpoints) # uncomment to see the x values that were generated.\n",
    "\n",
    "# Step 3: calculate the model values:\n",
    "slope = 0.33  # Estimate of the slope.\n",
    "intercept = 0.2  # Estimate of the intercept\n",
    "ypoints = xpoints * slope + intercept # this calculates the yvalues at all 200 points.\n",
    "\n",
    "# Step 4: plot the curve. We plot this as a red line \"r-\" :\n",
    "plt.plot(xpoints, ypoints, \"r-\", label = \"d = vt + d0\")\n",
    "\n",
    "# Plot the data:\n",
    "plt.errorbar(tVec, dVec, udVec, fmt=\"bo\", markersize=3, label=\"Experimental data\")\n",
    "plt.title(\"Position vs. Time for toy car\")\n",
    "plt.xlabel(\"Time (s)\")\n",
    "plt.ylabel(\"Position (m)\")\n",
    "plt.legend()\n",
    "plt.show()\n",
    "\n",
    "# Residuals Plot\n",
    "# Step 1: Calculate the model at each x-datapoint\n",
    "ymodel = tVec * slope + intercept\n",
    "\n",
    "# Step 2: Calcualte the residual vector\n",
    "RVec = dVec - ymodel\n",
    "\n",
    "# Step 3: Plot the residual vector against the x-data vector\n",
    "plt.errorbar(tVec, RVec, udVec, fmt=\"bo\", markersize = 3)\n",
    "\n",
    "# Step 4: Add a R = 0 x-axis (horizontal line) to the plot\n",
    "plt.hlines(y=0, xmin=xmin, xmax=xmax, color='k') # draw axis at y = 0.\n",
    "\n",
    "# Add axis labels and title, and show the graph\n",
    "plt.title(\"Position vs. Time for toy car\")\n",
    "plt.xlabel(\"Time (s)\")\n",
    "plt.ylabel(\"Residual = data - model (m)\")\n",
    "plt.show()"
   ]
  },
  {
   "cell_type": "markdown",
   "id": "eda8914c-a6a8-4be1-a4b9-8aeb03d6c643",
   "metadata": {},
   "source": [
    "The data looks roughly linear, and our initial guesses seem to produce a model that looks reasonable! However, we can recall some criteria of good model fits to improve our current fit:\n",
    "\n",
    "*The scatter of the residuals for a good fit will follow a Gaussian distribution with a mean of 0, which means we are looking for a roughly equal number of residuals above the y=0 line as below it. Ideally we should also see no obvious trend/shape in the residuals plot.*\n",
    "\n",
    "Let’s use these criteria to make some small adjustments to the slope and intercept of our model. First, notice that the residuals plot shows a small trend where they are slowly increasing from left to right. Increasing our slope slightly could fix this, since a larger slope will increase the model values more at larger $t$ values, reducing the difference between data and model (the residual) more on the right-hand side of the graph than the left-hand side.\n",
    "\n",
    "Changing the slope to 0.34, we see that the trend of increasing from left to right goes away, but our model line is now a bit too high, which can also be seen with our residuals  (data-model) mostly being negative."
   ]
  },
  {
   "cell_type": "code",
   "execution_count": 25,
   "id": "c8c62b93-3ec7-4ddc-ab0a-4eb7dca2e9c0",
   "metadata": {},
   "outputs": [
    {
     "data": {
      "image/png": "[encoded data removed]",
      "text/plain": [
       "<Figure size 432x288 with 1 Axes>"
      ]
     },
     "metadata": {
      "needs_background": "light"
     },
     "output_type": "display_data"
    },
    {
     "data": {
      "image/png": "[encoded data removed]",
      "text/plain": [
       "<Figure size 432x288 with 1 Axes>"
      ]
     },
     "metadata": {
      "needs_background": "light"
     },
     "output_type": "display_data"
    }
   ],
   "source": [
    "# Data/Model Plot\n",
    "# Step 1: find the limits of the data:\n",
    "xmin = np.min(tVec) # use the np.min function to find the smallest x value\n",
    "xmax = np.max(tVec) # same for max\n",
    "#print (xmin, xmax)  # uncomment to see what the limits are\n",
    "\n",
    "# Step 2: generate a bunch of x points between xmin and xmax\n",
    "xpoints = np.linspace(xmin, xmax, 200) # gives 200 evenly spaced points between xmin and xmax\n",
    "#print(xpoints) # uncomment to see the x values that were generated.\n",
    "\n",
    "# Step 3: calculate the model values:\n",
    "slope = 0.34  # Estimate of the slope; this has been increased from the previous time.\n",
    "intercept = 0.2  # Estimate of the intercept\n",
    "ypoints = xpoints * slope + intercept # this calculates the yvalues at all 200 points.\n",
    "\n",
    "# Step 4: plot the curve. We plot this as a red line \"r-\" :\n",
    "plt.plot(xpoints, ypoints, \"r-\", label = \"d = vt + d0\")\n",
    "\n",
    "# What's below is exactly what we had earlier:\n",
    "plt.errorbar(tVec, dVec, udVec, fmt=\"bo\", markersize=3, label=\"Experimental data\")\n",
    "plt.title(\"Position vs. Time for toy car\")\n",
    "plt.xlabel(\"Time (s)\")\n",
    "plt.ylabel(\"Position (m)\")\n",
    "plt.legend()\n",
    "plt.show()\n",
    "\n",
    "# Residuals Plot\n",
    "# Step 1: Calculate the model at each x-datapoint\n",
    "ymodel = tVec * slope + intercept\n",
    "\n",
    "# Step 2: Calcualte the residual vector\n",
    "RVec = dVec - ymodel\n",
    "\n",
    "# Step 3: Plot the residual vector against the x-data vector\n",
    "plt.errorbar(tVec, RVec, udVec, fmt=\"bo\", markersize = 3)\n",
    "\n",
    "# Step 4: Add a R = 0 x-axis (horizontal line) to the plot\n",
    "plt.hlines(y=0, xmin=xmin, xmax=xmax, color='k') # draw axis at y = 0.\n",
    "\n",
    "# Add axis labels and title, and show the graph\n",
    "plt.title(\"Position vs. Time for toy car\")\n",
    "plt.xlabel(\"Time (s)\")\n",
    "plt.ylabel(\"Residual = data - model (m)\")\n",
    "plt.show()"
   ]
  },
  {
   "cell_type": "markdown",
   "id": "58b6e301-446f-4353-860f-590e7b3be18c",
   "metadata": {},
   "source": [
    "If we then start to adjust the $y$-intercept ($b$), we eventually find that $b$ = 0.17 gets us to a place where the residuals look randomly scattered about 0 and have no obvious trend/shape. If we have a good fit of our model to our data, and our uncertainties have been well estimated, we expect ~68% of our residuals to cross zero, which is the same as ~68% of our data points crossing the model line."
   ]
  },
  {
   "cell_type": "code",
   "execution_count": 26,
   "id": "21a65cbb-ce36-4f05-afd6-caba30878b5b",
   "metadata": {},
   "outputs": [
    {
     "data": {
      "image/png": "[encoded data removed]",
      "text/plain": [
       "<Figure size 432x288 with 1 Axes>"
      ]
     },
     "metadata": {
      "needs_background": "light"
     },
     "output_type": "display_data"
    },
    {
     "data": {
      "image/png": "[encoded data removed]",
      "text/plain": [
       "<Figure size 432x288 with 1 Axes>"
      ]
     },
     "metadata": {
      "needs_background": "light"
     },
     "output_type": "display_data"
    }
   ],
   "source": [
    "# Data/Model Plot\n",
    "# Step 1: find the limits of the data:\n",
    "xmin = np.min(tVec) # use the np.min function to find the smallest x value\n",
    "xmax = np.max(tVec) # same for max\n",
    "#print (xmin, xmax)  # uncomment to see what the limits are\n",
    "\n",
    "# Step 2: generate a bunch of x points between xmin and xmax\n",
    "xpoints = np.linspace(xmin, xmax, 200) # gives 200 evenly spaced points between xmin and xmax\n",
    "#print(xpoints) # uncomment to see the x values that were generated.\n",
    "\n",
    "# Step 3: calculate the model values:\n",
    "slope = 0.34  # Estimate of the slope\n",
    "intercept = 0.17  # Estimate of the intercept; this has been decreased\n",
    "ypoints = xpoints * slope + intercept # this calculates the yvalues at all 200 points.\n",
    "\n",
    "# Step 4: plot the curve. We plot this as a red line \"r-\" :\n",
    "plt.plot(xpoints, ypoints, \"r-\", label = \"d = vt + d0\")\n",
    "\n",
    "# What's below is exactly what we had earlier:\n",
    "plt.errorbar(tVec, dVec, udVec, fmt=\"bo\", markersize=3, label=\"Experimental data\")\n",
    "plt.title(\"Position vs. Time for toy car\")\n",
    "plt.xlabel(\"Time (s)\")\n",
    "plt.ylabel(\"Position (m)\")\n",
    "plt.legend()\n",
    "plt.show()\n",
    "\n",
    "# Residuals Plot\n",
    "# Step 1: Calculate the model at each x-datapoint\n",
    "ymodel = tVec * slope + intercept\n",
    "\n",
    "# Step 2: Calcualte the residual vector\n",
    "RVec = dVec - ymodel\n",
    "\n",
    "# Step 3: Plot the residual vector against the x-data vector\n",
    "plt.errorbar(tVec, RVec, udVec, fmt=\"bo\", markersize = 3)\n",
    "\n",
    "# Step 4: Add a R = 0 x-axis (horizontal line) to the plot\n",
    "plt.hlines(y=0, xmin=xmin, xmax=xmax, color='k') # draw axis at y = 0.\n",
    "\n",
    "# Add axis labels and title, and show the graph\n",
    "plt.title(\"Position vs. Time for toy car\")\n",
    "plt.xlabel(\"Time (s)\")\n",
    "plt.ylabel(\"Residual = data - model (m)\")\n",
    "plt.show()"
   ]
  },
  {
   "cell_type": "markdown",
   "id": "4ec2d84b-e0ca-4c20-83e2-be1976f17838",
   "metadata": {},
   "source": [
    "Let’s interpret these results again. The slope of this graph represents the speed of the car for a model that assumes a constant speed (that’s why we are trying to use a straight line to fit this graph) and that speed is 0.34 m/s. The y-intercept represents the position of the car at $t=0$, which is 0.17m. \n",
    "\n",
    "It is worth noting in all of this that we probably could have used the original scatter plot to improve the fit in a similar way, but this ability of the residuals plot to zoom in on the difference between data and model values allows us to make these sorts of improvements even when the uncertainties in the original scatter plot become invisibly small. \n",
    "\n",
    "But hold on a moment, these fit parameters from the graphs are experimental results and should have uncertainties! Let’s look at how to estimate these."
   ]
  },
  {
   "cell_type": "markdown",
   "id": "afe6a27a-4745-43ee-9a29-e221b8e518b6",
   "metadata": {},
   "source": [
    "To estimate uncertainties in fitting parameters, we will use the method of looking at the range of reasonable best-fit lines and treating that as a confidence interval. We will make the steepest possible best-fit line \"Max\" (as in maximum slope) that still does a reasonable job of fitting the data and a least steep \"Min\" (as in minimum slope) that also does a reasonable job of fitting the data. We will call our original model line \"Best\". Use the \"Best\" parameters for the starting guesses for the \"Max\" and \"Min\" fit parameters.\n",
    "\n",
    "Below, the slope/intercept values can be modified and the plots/residuals recreated. Doing so, we can find the maximal $m$ (and corresponding minimal $b$) and the minimum $m$ (And corresponding maximum $b$)."
   ]
  },
  {
   "cell_type": "code",
   "execution_count": null,
   "id": "da9ac263-2e04-4547-bf79-d2252336c8dc",
   "metadata": {},
   "outputs": [],
   "source": [
    "# Data/Model Plot\n",
    "# Step 1: find the limits of the data:\n",
    "xmin = np.min(tVec) # use the np.min function to find the smallest x value\n",
    "xmax = np.max(tVec) # same for max\n",
    "#print (xmin, xmax)  # uncomment to see what the limits are\n",
    "\n",
    "# Step 2: generate a bunch of x points between xmin and xmax\n",
    "xpoints = np.linspace(xmin, xmax, 200) # gives 200 evenly spaced points between xmin and xmax\n",
    "#print(xpoints) # uncomment to see the x values that were generated.\n",
    "\n",
    "# Step 3: calculate the model values:\n",
    "slope = 0.34  # Estimate of the slope\n",
    "intercept = 0.17  # Estimate of the intercept\n",
    "ypoints = xpoints * slope + intercept # this calculates the yvalues at all 200 points.\n",
    "\n",
    "# Step 4: plot the curve. We plot this as a red line \"r-\" :\n",
    "plt.plot(xpoints, ypoints, \"r-\", label = \"d = vt + d0\")\n",
    "\n",
    "# Plot the data:\n",
    "plt.errorbar(tVec, dVec, udVec, fmt=\"bo\", markersize=3, label=\"Experimental data\")\n",
    "plt.title(\"Position vs. Time for toy car\")\n",
    "plt.xlabel(\"Time (s)\")\n",
    "plt.ylabel(\"Position (m)\")\n",
    "plt.legend()\n",
    "plt.show()\n",
    "\n",
    "# Residuals Plot\n",
    "# Step 1: Calculate the model at each x-datapoint\n",
    "ymodel = tVec * slope + intercept\n",
    "\n",
    "# Step 2: Calcualte the residual vector\n",
    "RVec = dVec - ymodel\n",
    "\n",
    "# Step 3: Plot the residual vector against the x-data vector\n",
    "plt.errorbar(tVec, RVec, udVec, fmt=\"bo\", markersize = 3)\n",
    "\n",
    "# Step 4: Add a R = 0 x-axis (horizontal line) to the plot\n",
    "plt.hlines(y=0, xmin=xmin, xmax=xmax, color='k') # draw axis at y = 0.\n",
    "\n",
    "# Add axis labels and title, and show the graph\n",
    "plt.title(\"Position vs. Time for toy car\")\n",
    "plt.xlabel(\"Time (s)\")\n",
    "plt.ylabel(\"Residual = data - model (m)\")\n",
    "plt.show()"
   ]
  },
  {
   "cell_type": "markdown",
   "id": "c686ce59-728a-4c64-910a-c1449453bda8",
   "metadata": {},
   "source": [
    "After some toying around, we find that $m_{\\text{max}} = 0.37$ (with $b_{\\text{min}} = 0.13$) and $m_{\\text{min}} = 0.32$ (with $b_{\\text{max}} = 0.19$) seem to be maximum/minimum parameters that fit the data. As an example, below are the plot + residuals for the $m_{\\text{max}}/b_{\\text{min}}$ pair:"
   ]
  },
  {
   "cell_type": "code",
   "execution_count": null,
   "id": "bbaf52f7-f971-498f-8f7a-8dc9ff71564d",
   "metadata": {},
   "outputs": [],
   "source": [
    "# Data/Model Plot\n",
    "# Step 1: find the limits of the data:\n",
    "xmin = np.min(tVec) # use the np.min function to find the smallest x value\n",
    "xmax = np.max(tVec) # same for max\n",
    "#print (xmin, xmax)  # uncomment to see what the limits are\n",
    "\n",
    "# Step 2: generate a bunch of x points between xmin and xmax\n",
    "xpoints = np.linspace(xmin, xmax, 200) # gives 200 evenly spaced points between xmin and xmax\n",
    "#print(xpoints) # uncomment to see the x values that were generated.\n",
    "\n",
    "# Step 3: calculate the model values:\n",
    "slope = 0.37  # Estimate of the slope\n",
    "intercept = 0.13  # Estimate of the intercept\n",
    "ypoints = xpoints * slope + intercept # this calculates the yvalues at all 200 points.\n",
    "\n",
    "# Step 4: plot the curve. We plot this as a red line \"r-\" :\n",
    "plt.plot(xpoints, ypoints, \"r-\", label = \"d = vt + d0\")\n",
    "\n",
    "# Plot the data:\n",
    "plt.errorbar(tVec, dVec, udVec, fmt=\"bo\", markersize=3, label=\"Experimental data\")\n",
    "plt.title(\"Position vs. Time for toy car\")\n",
    "plt.xlabel(\"Time (s)\")\n",
    "plt.ylabel(\"Position (m)\")\n",
    "plt.legend()\n",
    "plt.show()\n",
    "\n",
    "# Residuals Plot\n",
    "# Step 1: Calculate the model at each x-datapoint\n",
    "ymodel = tVec * slope + intercept\n",
    "\n",
    "# Step 2: Calcualte the residual vector\n",
    "RVec = dVec - ymodel\n",
    "\n",
    "# Step 3: Plot the residual vector against the x-data vector\n",
    "plt.errorbar(tVec, RVec, udVec, fmt=\"bo\", markersize = 3)\n",
    "\n",
    "# Step 4: Add a R = 0 x-axis (horizontal line) to the plot\n",
    "plt.hlines(y=0, xmin=xmin, xmax=xmax, color='k') # draw axis at y = 0.\n",
    "\n",
    "# Add axis labels and title, and show the graph\n",
    "plt.title(\"Position vs. Time for toy car\")\n",
    "plt.xlabel(\"Time (s)\")\n",
    "plt.ylabel(\"Residual = data - model (m)\")\n",
    "plt.show()"
   ]
  },
  {
   "cell_type": "markdown",
   "id": "90663293-e8ff-4a49-a903-1cd98cfb1900",
   "metadata": {},
   "source": [
    "However, note that similar to estimating confidence intervals with your individual measurements, this process involves some judgement and different people will come up with slightly different, but still reasonable, values; so do not worry if you got slightly different numbers! \n",
    "\n",
    "For the sake of comparison, below is a plot with the three different models (best/max/min):"
   ]
  },
  {
   "cell_type": "code",
   "execution_count": 27,
   "id": "3f76b471-b0bb-4b71-a9b6-1b263a2f6e2a",
   "metadata": {},
   "outputs": [
    {
     "data": {
      "image/png": "[encoded data removed]",
      "text/plain": [
       "<Figure size 432x288 with 1 Axes>"
      ]
     },
     "metadata": {
      "needs_background": "light"
     },
     "output_type": "display_data"
    }
   ],
   "source": [
    "# Step 1: find the limits of the data:\n",
    "xmin = np.min(tVec) # use the np.min function to find the smallest x value\n",
    "xmax = np.max(tVec) # same for max\n",
    "#print (xmin, xmax)  # uncomment to see what the limits are\n",
    "\n",
    "# Step 2: generate a bunch of x points between xmin and xmax\n",
    "xpoints = np.linspace(xmin, xmax, 200) # gives 200 evenly spaced points between xmin and xmax\n",
    "#print(xpoints) # uncomment to see the x values that were generated.\n",
    "\n",
    "# Step 3: calculate the model values:\n",
    "best_slope = 0.34  # Estimate of the slope\n",
    "best_intercept = 0.17  # Estimate of the intercept\n",
    "best_ypoints = xpoints * best_slope + best_intercept # this calculates the yvalues at all 200 points.\n",
    "\n",
    "max_slope = 0.37\n",
    "min_intercept = 0.13\n",
    "max_ypoints = xpoints * max_slope + min_intercept\n",
    "\n",
    "min_slope = 0.32\n",
    "max_intercept = 0.19\n",
    "min_ypoints = xpoints * min_slope + max_intercept\n",
    "\n",
    "\n",
    "# Step 4: plot the curve. We plot this as a red line \"r-\" :\n",
    "plt.plot(xpoints, best_ypoints, \"r-\", label = \"d = vt + d0 best\")\n",
    "plt.plot(xpoints, max_ypoints, \"g-\", label = \"d = vt + d0 max\")\n",
    "plt.plot(xpoints, min_ypoints, \"y-\", label = \"d = vt + d0 min\")\n",
    "\n",
    "# Plot the data:\n",
    "plt.errorbar(tVec, dVec, udVec, fmt=\"bo\", markersize=3, label=\"Experimental data\")\n",
    "plt.title(\"Position vs. Time for toy car\")\n",
    "plt.xlabel(\"Time (s)\")\n",
    "plt.ylabel(\"Position (m)\")\n",
    "plt.legend()\n",
    "plt.show()"
   ]
  },
  {
   "cell_type": "markdown",
   "id": "0bf02595-7d89-43b9-b458-918f1afe13cc",
   "metadata": {},
   "source": [
    "Since our uncertainty bars represent 68% Confidence Intervals for each data point, the range of fit parameters represented by the “Max” and “Min” fit lines should be considered 68% Confidence Intervals for those parameters. For a 68% Confidence Interval, the standard uncertainty will be half of the width of the 68% Confidence Interval (recall that for a 95% Confidence Interval, the standard uncertainty is one quarter of the width of the Confidence Interval). For the slope we have:\n",
    "\n",
    "$$u[m] = (m_{\\text{max}} - m_{\\text{min}})/2 = (0.37-0.32)/2 = 0.025\\text{m/s}$$\n",
    "\n",
    "and for the y-intercept:\n",
    "\n",
    "$$u[b] = (0.19 - 0.13)/2 = 0.030\\text{m}$$."
   ]
  },
  {
   "cell_type": "markdown",
   "id": "277a0e26-0af9-462b-a570-9069ca3aaf2e",
   "metadata": {},
   "source": [
    "We report our final results from this fit as the car having a speed ($m = v$) of:\n",
    "\n",
    "$$v \\pm u[v] = 0.340 \\pm 0.025 \\text{m/s}$$\n",
    "\n",
    "and an initial position ($b = d_0$) of:\n",
    "\n",
    "$$d_0 \\pm u[d_0] = 0.170 \\pm 0.030 \\text{m}$$."
   ]
  },
  {
   "cell_type": "markdown",
   "id": "bc71f0c8-d4b4-40cf-a857-b0e8249e96de",
   "metadata": {
    "tags": []
   },
   "source": [
    "### Question 5"
   ]
  },
  {
   "cell_type": "markdown",
   "id": "579a87c6-e8d9-4ef5-a3ea-8235170cf587",
   "metadata": {},
   "source": [
    "Below is the experimental data for the position vs. time of a different toy car. Following the procedure as we covered in the above worked example (and in the TA tutorial), use the residual plot to determine the best fit model parameters and their uncertainties; from this conclude the initial position and speed of the toy car.\n",
    "\n",
    "To review:\n",
    "1. Start by plotting a scatterplot of the below data, with a linear model (with y-intercept) and a residuals plot. We provide the code for this below, with a (bad) starting guess of $m = 0.7$ and $b = 0.2$. \n",
    "2. Using the residuals plot, adjust the slope and the y-intercept values until you see no trend in the residuals. This will give you the best fit slope $m_{\\text{best}}$ and y-intercept $b_{\\text{best}}$. \n",
    "3. Increase the slope/decrease the y-intercept to the extent possible where the model still fits the data reasonably well (as evaluated by the residuals). From this obtain $m_{\\text{max}}$ and $b_{\\text{min}}$. Analogously, obtain $m_{\\text{min}}$ and $b_{\\text{max}}$ by pushing the model parameters in the opposite direction.\n",
    "4. From $m_{\\text{max}}/m_{\\text{min}}$ and $b_{\\text{max}}/b_{\\text{min}}$, calculate the uncertainties in $m$ and $b$.\n",
    "5. The speed of the car can be identified as the slope of the distance vs. time graph, and the initial position can be identified as the y-intercept of the graph. Given this, report the speed and initial position of the toy car with uncertainty.\n",
    "\n",
    "Note: It is not necessary to copy and paste the same block of plotting code multiple times (this is done in the worked example above so that it is easier to follow); it suffices to have one single block of plotting code that you can run multiple times while changing the parameters inside."
   ]
  },
  {
   "cell_type": "code",
   "execution_count": 8,
   "id": "210a1dcd-428c-475d-8dc2-0a393fcec2ee",
   "metadata": {},
   "outputs": [
    {
     "name": "stdout",
     "output_type": "stream",
     "text": [
      "Creating undo file\n",
      "Sheet name: lab06_prelab_data3.csv\n"
     ]
    },
    {
     "data": {
      "application/vnd.jupyter.widget-view+json": {
       "model_id": "95a8d8f3ece344f6975357ecfa61a0e2",
       "version_major": 2,
       "version_minor": 0
      },
      "text/plain": [
       "VBox(children=(Sheet(cells=(Cell(column_end=0, column_start=0, row_end=0, row_start=0, type='text', value='t')…"
      ]
     },
     "metadata": {},
     "output_type": "display_data"
    }
   ],
   "source": [
    "de3 = data_entry.sheet(\"lab06_prelab_data3.csv\")"
   ]
  },
  {
   "cell_type": "code",
   "execution_count": 5,
   "id": "9f95619d-7280-44e0-988d-0479d47f66d3",
   "metadata": {},
   "outputs": [
    {
     "data": {
      "image/png": "[encoded data removed]",
      "text/plain": [
       "<Figure size 432x288 with 1 Axes>"
      ]
     },
     "metadata": {
      "needs_background": "light"
     },
     "output_type": "display_data"
    },
    {
     "data": {
      "image/png": "[encoded data removed]",
      "text/plain": [
       "<Figure size 432x288 with 1 Axes>"
      ]
     },
     "metadata": {
      "needs_background": "light"
     },
     "output_type": "display_data"
    }
   ],
   "source": [
    "# Data/Model Plot\n",
    "# Step 1: find the limits of the data:\n",
    "xmin = np.min(tVec) # use the np.min function to find the smallest x value\n",
    "xmax = np.max(tVec) # same for max\n",
    "#print (xmin, xmax)  # uncomment to see what the limits are\n",
    "\n",
    "# Step 2: generate a bunch of x points between xmin and xmax\n",
    "xpoints = np.linspace(xmin, xmax, 200) # gives 200 evenly spaced points between xmin and xmax\n",
    "#print(xpoints) # uncomment to see the x values that were generated.\n",
    "\n",
    "# Step 3: calculate the model values:\n",
    "##### MODIFY THE MODEL PARAMETERS HERE ##############################\n",
    "slope = 0.7  # Estimate of the slope\n",
    "intercept = 0.2  # Estimate of the intercept\n",
    "#####################################################################\n",
    "ypoints = xpoints * slope + intercept # this calculates the yvalues at all 200 points.\n",
    "\n",
    "# Step 4: plot the curve. We plot this as a red line \"r-\" :\n",
    "plt.plot(xpoints, ypoints, \"r-\", label = \"d = vt + d0\")\n",
    "\n",
    "# What's below is exactly what we had earlier:\n",
    "plt.errorbar(tVec, dVec, udVec, fmt=\"bo\", markersize=3, label=\"Experimental data\")\n",
    "plt.title(\"Position vs. Time for toy car\")\n",
    "plt.xlabel(\"Time (s)\")\n",
    "plt.ylabel(\"Position (m)\")\n",
    "plt.legend()\n",
    "plt.show()\n",
    "\n",
    "# Residuals Plot\n",
    "# Step 1: Calculate the model at each x-datapoint\n",
    "ymodel = tVec * slope + intercept\n",
    "\n",
    "# Step 2: Calcualte the residual vector\n",
    "RVec = dVec - ymodel\n",
    "\n",
    "# Step 3: Plot the residual vector against the x-data vector\n",
    "plt.errorbar(tVec, RVec, udVec, fmt=\"bo\", markersize = 3)\n",
    "\n",
    "# Step 4: Add a R = 0 x-axis (horizontal line) to the plot\n",
    "plt.hlines(y=0, xmin=xmin, xmax=xmax, color='k') # draw axis at y = 0.\n",
    "\n",
    "# Add axis labels and title, and show the graph\n",
    "plt.title(\"Position vs. Time for toy car\")\n",
    "plt.xlabel(\"Time (s)\")\n",
    "plt.ylabel(\"Residual = data - model (m)\")\n",
    "plt.show()"
   ]
  },
  {
   "cell_type": "markdown",
   "id": "d3d7f78e-1a5d-401a-bbe5-baee469d06da",
   "metadata": {},
   "source": []
  }
 ],
 "metadata": {
  "kernelspec": {
   "display_name": "Python 3 (ipykernel)",
   "language": "python",
   "name": "python3"
  },
  "language_info": {
   "codemirror_mode": {
    "name": "ipython",
    "version": 3
   },
   "file_extension": ".py",
   "mimetype": "text/x-python",
   "name": "python",
   "nbconvert_exporter": "python",
   "pygments_lexer": "ipython3",
   "version": "3.10.5"
  }
 },
 "nbformat": 4,
 "nbformat_minor": 5
}
