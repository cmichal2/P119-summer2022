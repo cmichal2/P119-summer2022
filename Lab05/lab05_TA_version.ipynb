{
 "cells": [
  {
   "cell_type": "markdown",
   "id": "61ed9912-a3b5-4024-b62b-49c912b1aa25",
   "metadata": {
    "id": "61ed9912-a3b5-4024-b62b-49c912b1aa25"
   },
   "source": [
    "# Lab 05 - Ohm's Law"
   ]
  },
  {
   "cell_type": "markdown",
   "id": "355521ea-d050-45f2-93d5-988f72f018a2",
   "metadata": {
    "id": "355521ea-d050-45f2-93d5-988f72f018a2"
   },
   "source": [
    "Edit this cell and provide the information requested:\n",
    "\n",
    "- Your name:\n",
    "- Your student number:\n",
    "- Partner's name:"
   ]
  },
  {
   "cell_type": "code",
   "execution_count": 10,
   "id": "b795858f-a049-496e-a9bb-8128e61d49c3",
   "metadata": {
    "id": "b795858f-a049-496e-a9bb-8128e61d49c3"
   },
   "outputs": [],
   "source": [
    "import numpy as np\n",
    "import data_entry\n",
    "import matplotlib.pyplot as plt"
   ]
  },
  {
   "cell_type": "markdown",
   "id": "97644611-7359-4ded-8178-53a09dd70abb",
   "metadata": {
    "id": "97644611-7359-4ded-8178-53a09dd70abb"
   },
   "source": [
    "## Part A - Grading feedback, overview of the day [0h00-0h05]"
   ]
  },
  {
   "cell_type": "markdown",
   "id": "b5ad0fdd-d597-43e5-8f41-7473c348a560",
   "metadata": {
    "id": "b5ad0fdd-d597-43e5-8f41-7473c348a560"
   },
   "source": [
    "***After reviewing and hearing feedback from the last lab, write some notes below about what you learned/what you could improve for this week.***"
   ]
  },
  {
   "cell_type": "markdown",
   "id": "f8ab58f4-f2bf-4517-a32e-e8626a910a48",
   "metadata": {
    "id": "f8ab58f4-f2bf-4517-a32e-e8626a910a48"
   },
   "source": []
  },
  {
   "cell_type": "markdown",
   "id": "2921ad5c-8305-4d1e-996d-03d62735438c",
   "metadata": {
    "id": "2921ad5c-8305-4d1e-996d-03d62735438c"
   },
   "source": [
    "## Part B - Familiarize, Part 1 (Circuits and Multimeters)"
   ]
  },
  {
   "cell_type": "markdown",
   "id": "a94f87ad-829c-4566-b2e7-92ad2dafe042",
   "metadata": {
    "id": "a94f87ad-829c-4566-b2e7-92ad2dafe042"
   },
   "source": [
    "***After the class discussion for Ohm's law, how to construct circuits, and using multimeters, write down anything that may be helpful for your understanding and for conducting the experiment this week.***"
   ]
  },
  {
   "cell_type": "markdown",
   "id": "e6ae7d17-4c81-4eda-82f6-29b223f7d9b0",
   "metadata": {
    "id": "e6ae7d17-4c81-4eda-82f6-29b223f7d9b0"
   },
   "source": [
    "- Ohm's law relates the voltage, current, and resistance of/through a circuit element. It is given by:\n",
    "$$ V = IR$$.\n",
    "- Given a resistor of unknown resistance, we can vary the voltage across it, and make measurements of voltage and current at various points. If the relationship is linear, then we can use Ohm's law to extract the resistance from this data.\n",
    "- (Some notes about how to use multimeters - series for I, parallel for V. Different terminals for I and V measurements)"
   ]
  },
  {
   "cell_type": "markdown",
   "id": "f2f0940c-266b-429c-bf4f-93ee502dd067",
   "metadata": {
    "id": "f2f0940c-266b-429c-bf4f-93ee502dd067"
   },
   "source": [
    "## Part C - Familiarize, Part 2 (Explore the Equipment and Develop a Measurement Strategy)"
   ]
  },
  {
   "cell_type": "markdown",
   "id": "36361425-9e9c-46fc-85ec-97d880f53ca2",
   "metadata": {
    "id": "36361425-9e9c-46fc-85ec-97d880f53ca2"
   },
   "source": [
    "***Using the multimeter to measure the voltage of the source and the current through the circuit, take a few initial datapoints of voltage and current. Take notes from what you learn from experimenting with the equipment.***"
   ]
  },
  {
   "cell_type": "markdown",
   "id": "2a6f92f4-5251-46ff-9ff4-f0da300d35aa",
   "metadata": {
    "id": "2a6f92f4-5251-46ff-9ff4-f0da300d35aa"
   },
   "source": [
    "- We make current and voltage measurements - ideal ranges are 0-15 V (20V scale) and 0-20 mA.\n",
    "- Readings of voltage and current are stable for the most part.\n",
    "- Uncertainty in voltage is instrumental (stable fixed reading from the multimeter). Use half of the most significant digit divided by $\\sqrt{3}$ to obtain the uncertainty. \n",
    "- Uncertainty in current is instrumental (stable fixed reading from the multimeter). Use half of the most significant digit divided by $\\sqrt{3}$ to obtain the uncertainty.\n",
    "- **The multimeter manual suggests 0.5%/1% + 1 digit (but this produces very large uncertainties compared to fluctuations), so the manipulation/estimation of uncertainties here is actually a bit subtle if we want the uncertainties to work the way we want.** As long as we keep the meters on fixed ranges, the \"divide by $2\\sqrt{3}$ strategy\" should work well.\n",
    "- The resistance is chosen so that the uncertainty in the current should always be larger than that in the voltage, so that ignoring the uncertainty in voltage is reasonable.\n",
    "- **Data here is totally made up, assuming a resistor of 1300 kOhm, and assuming Ohm's law basically holds perfectly (which for the resistor is true; no longer holds for the lightbulb). The fluctuations probably aren't consistent with what is actually observed.**"
   ]
  },
  {
   "cell_type": "code",
   "execution_count": 15,
   "id": "204f8a01-c563-4e67-b4af-856ab221f807",
   "metadata": {
    "id": "204f8a01-c563-4e67-b4af-856ab221f807",
    "outputId": "bfd03c52-763b-441c-86aa-bfc7c596b92a"
   },
   "outputs": [
    {
     "name": "stdout",
     "output_type": "stream",
     "text": [
      "0.002886751345948129\n",
      "0.002886751345948129\n"
     ]
    }
   ],
   "source": [
    "# uncertainties in V and mA:\n",
    "\n",
    "uV = 0.01/2/np.sqrt(3)\n",
    "print(uV)\n",
    "uI = .01/2/np.sqrt(3)\n",
    "print(uI)\n"
   ]
  },
  {
   "cell_type": "markdown",
   "id": "0f01a18e-a4ed-4bc8-a9e6-bdded902f65f",
   "metadata": {
    "id": "0f01a18e-a4ed-4bc8-a9e6-bdded902f65f"
   },
   "source": [
    "## Part D - Familiarize, Part 3 (Develop Measurement Strategy)"
   ]
  },
  {
   "cell_type": "markdown",
   "id": "6a257a79-47da-4e52-8a84-8926b8d3f18f",
   "metadata": {
    "id": "6a257a79-47da-4e52-8a84-8926b8d3f18f"
   },
   "source": [
    "***Describe your measurement strategy based on the familiarization step above.***"
   ]
  },
  {
   "cell_type": "markdown",
   "id": "c57d0f0c-32f6-44d3-9765-22c53c9b9bc2",
   "metadata": {
    "id": "c57d0f0c-32f6-44d3-9765-22c53c9b9bc2"
   },
   "source": [
    "- As before, we take data over evenly spaced voltage points so as to not focus on a single region of parameter space over another.\n",
    "- We expand our voltage range from 0.2V-1V to 0.1V-2.0V, and instead of 0.2V increments, we use 0.1V increments to obtain a higher quality dataset (more dense, when we fit a linear model to it later will be more constrained). Taking data over a larger range will also help us to see if the linearity of the data may break down in some region."
   ]
  },
  {
   "cell_type": "markdown",
   "id": "1d593d35-14aa-4543-9107-77488aa1c0d9",
   "metadata": {
    "id": "1d593d35-14aa-4543-9107-77488aa1c0d9"
   },
   "source": [
    "## Part D - Measure and Analyze (Collect Data and Make a Scatter Plot)"
   ]
  },
  {
   "cell_type": "code",
   "execution_count": 16,
   "id": "1f977bad-af13-4b9d-8787-9377d261725f",
   "metadata": {
    "colab": {
     "referenced_widgets": [
      "cadbae5e287a41a7a6481c21fe362640"
     ]
    },
    "id": "1f977bad-af13-4b9d-8787-9377d261725f",
    "outputId": "3501ebc8-7925-4118-ee46-2591e8d85f79"
   },
   "outputs": [
    {
     "name": "stdout",
     "output_type": "stream",
     "text": [
      "Sheet name: lab05_data.csv\n"
     ]
    },
    {
     "data": {
      "application/vnd.jupyter.widget-view+json": {
       "model_id": "b2b04078b02246058f3e1e873625e7a0",
       "version_major": 2,
       "version_minor": 0
      },
      "text/plain": [
       "VBox(children=(Sheet(cells=(Cell(column_end=0, column_start=0, row_end=0, row_start=0, type='text', value='V')…"
      ]
     },
     "metadata": {},
     "output_type": "display_data"
    }
   ],
   "source": [
    "de2 = data_entry.sheet(\"lab05_data\")"
   ]
  },
  {
   "cell_type": "code",
   "execution_count": 17,
   "id": "a81ed35b-552e-45be-8ce1-5a8d02b4fefc",
   "metadata": {
    "id": "a81ed35b-552e-45be-8ce1-5a8d02b4fefc",
    "outputId": "a24f1506-2ab5-447f-a02e-dc909c6503e5"
   },
   "outputs": [
    {
     "data": {
      "image/png": "[encoded data removed]",
      "text/plain": [
       "<Figure size 432x288 with 1 Axes>"
      ]
     },
     "metadata": {
      "needs_background": "light"
     },
     "output_type": "display_data"
    }
   ],
   "source": [
    "plt.errorbar(VVec, IVec, uIVec, fmt = \"bo\", markersize = 3, label = \"Experimental data\")\n",
    "plt.title(\"Current vs. Voltage for single loop circuit\")\n",
    "plt.xlabel(\"Applied voltage (V)\")\n",
    "plt.ylabel(\"Current through resistor (A)\")\n",
    "plt.show()"
   ]
  },
  {
   "cell_type": "markdown",
   "id": "295122c1-d750-4027-9bcb-4d0239a366c0",
   "metadata": {
    "id": "295122c1-d750-4027-9bcb-4d0239a366c0"
   },
   "source": [
    "The slope can be estimated as:\n",
    "$$\n",
    "m \\approx \\frac{I_2 - I_1}{V_2 - V_1}\n",
    "$$\n",
    "for two points $(V_1, I_1), (V_2, I_2)$. "
   ]
  },
  {
   "cell_type": "code",
   "execution_count": 23,
   "id": "3f22c2b8-0ea6-449e-9359-fdd10a347b88",
   "metadata": {
    "id": "3f22c2b8-0ea6-449e-9359-fdd10a347b88",
    "outputId": "b0d5b5a7-00be-411f-82da-d968b756d0ce"
   },
   "outputs": [
    {
     "name": "stdout",
     "output_type": "stream",
     "text": [
      "1.2996968384582073 kOhms\n"
     ]
    }
   ],
   "source": [
    "approxm = (IVec[-1] - IVec[0])/(VVec[-1] - VVec[0])\n",
    "approxR = 1/approxm\n",
    "print(approxR, \"kOhms\")"
   ]
  },
  {
   "cell_type": "markdown",
   "id": "72ff519b-9e8f-4d70-898a-5ac7387ff28e",
   "metadata": {
    "id": "72ff519b-9e8f-4d70-898a-5ac7387ff28e"
   },
   "source": [
    "- The data in the above plot appears linear, which is what we expected.\n",
    "- The resistance can be calculated as the inverse of the slope of the above plot, which we can estimate to be 1k$\\Omega$.\n",
    "- Next time, we can improve our dataset by taking more datapoints over a larger range and seeing if the linear behavior holds over a larger range; this will be a valid improvement as our slope will be more constrained by the additional datapoints. We can also take multiple measurements and average the results to decrease our uncertainty in individual points (and hence improve the quality of the slope)."
   ]
  },
  {
   "cell_type": "code",
   "execution_count": 24,
   "id": "cddcae73-1506-4cdc-8ca2-a2e8a5a900e2",
   "metadata": {},
   "outputs": [
    {
     "data": {
      "image/png": "[encoded data removed]",
      "text/plain": [
       "<Figure size 432x288 with 1 Axes>"
      ]
     },
     "metadata": {
      "needs_background": "light"
     },
     "output_type": "display_data"
    }
   ],
   "source": [
    "# make plot again with line representing this line:\n",
    "xmin = np.min(VVec)\n",
    "xmax = np.max(VVec)\n",
    "xvals = np.linspace(xmin, xmax, 200)\n",
    "yvals = xvals/approxR\n",
    "\n",
    "plt.plot(xvals, yvals, \"r-\", label = \"I = V/R\")\n",
    "plt.errorbar(VVec, IVec, uIVec, fmt = \"bo\", markersize = 3, label = \"Experimental data\")\n",
    "plt.title(\"Current vs. Voltage for single loop circuit\")\n",
    "plt.xlabel(\"Applied voltage (V)\")\n",
    "plt.ylabel(\"Current through resistor (A)\")\n",
    "plt.show()"
   ]
  },
  {
   "cell_type": "markdown",
   "id": "e011d06e-afc2-490c-9940-bd66e3ac8f11",
   "metadata": {
    "id": "9433b047-f5d8-404b-9217-284c0d6645ab"
   },
   "source": [
    "## Part E - IMPROVE, COMPARE, SUMMARIZE, REFLECT\n",
    "\n"
   ]
  },
  {
   "cell_type": "code",
   "execution_count": null,
   "id": "cbfea9fc-fb26-4e07-974c-0b94b6f85eda",
   "metadata": {},
   "outputs": [],
   "source": []
  }
 ],
 "metadata": {
  "colab": {
   "collapsed_sections": [],
   "name": "lab05_TAversion.ipynb",
   "provenance": []
  },
  "kernelspec": {
   "display_name": "Python 3 (ipykernel)",
   "language": "python",
   "name": "python3"
  },
  "language_info": {
   "codemirror_mode": {
    "name": "ipython",
    "version": 3
   },
   "file_extension": ".py",
   "mimetype": "text/x-python",
   "name": "python",
   "nbconvert_exporter": "python",
   "pygments_lexer": "ipython3",
   "version": "3.10.5"
  }
 },
 "nbformat": 4,
 "nbformat_minor": 5
}
