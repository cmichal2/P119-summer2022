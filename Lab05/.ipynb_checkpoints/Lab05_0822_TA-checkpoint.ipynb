{
 "cells": [
  {
   "cell_type": "markdown",
   "id": "61ed9912-a3b5-4024-b62b-49c912b1aa25",
   "metadata": {
    "id": "61ed9912-a3b5-4024-b62b-49c912b1aa25"
   },
   "source": [
    "# Lab 05 - Ohm's Law"
   ]
  },
  {
   "cell_type": "markdown",
   "id": "355521ea-d050-45f2-93d5-988f72f018a2",
   "metadata": {
    "id": "355521ea-d050-45f2-93d5-988f72f018a2"
   },
   "source": [
    "Edit this cell and provide the information requested:\n",
    "\n",
    "- Your name:\n",
    "- Your student number:\n",
    "- Partner's name:"
   ]
  },
  {
   "cell_type": "code",
   "execution_count": 1,
   "id": "b795858f-a049-496e-a9bb-8128e61d49c3",
   "metadata": {
    "id": "b795858f-a049-496e-a9bb-8128e61d49c3"
   },
   "outputs": [],
   "source": [
    "import numpy as np\n",
    "import data_entry\n",
    "import matplotlib.pyplot as plt"
   ]
  },
  {
   "cell_type": "markdown",
   "id": "97644611-7359-4ded-8178-53a09dd70abb",
   "metadata": {
    "id": "97644611-7359-4ded-8178-53a09dd70abb"
   },
   "source": [
    "## Part A - Grading feedback, overview of the day"
   ]
  },
  {
   "cell_type": "markdown",
   "id": "b5ad0fdd-d597-43e5-8f41-7473c348a560",
   "metadata": {
    "id": "b5ad0fdd-d597-43e5-8f41-7473c348a560"
   },
   "source": [
    "***After reviewing and hearing feedback from the last lab, write some notes below about what you learned/what you could improve for this week.***"
   ]
  },
  {
   "cell_type": "markdown",
   "id": "f8ab58f4-f2bf-4517-a32e-e8626a910a48",
   "metadata": {
    "id": "f8ab58f4-f2bf-4517-a32e-e8626a910a48"
   },
   "source": []
  },
  {
   "cell_type": "markdown",
   "id": "cce406b4-a6d8-4783-b05f-e1265070ed8e",
   "metadata": {},
   "source": [
    "## Class Discussion: Residuals"
   ]
  },
  {
   "cell_type": "markdown",
   "id": "00565bf7-0be3-4088-922a-5d4c8bab572d",
   "metadata": {},
   "source": [
    "**In the cell below, summarize from the class discussion how residuals are useful, and what properties of a residuals graph inform us about the quality of a fit of a model to data.**"
   ]
  },
  {
   "cell_type": "markdown",
   "id": "6d00f9c8-15c4-4754-be16-e211a5af4a5d",
   "metadata": {},
   "source": [
    "- Residuals tell us how to improve the fit of models to data\n",
    "- They tell us about how to target improvements, by seeing which measurements need to be investigated (e.g. if we see any obvious outliers)\n",
    "- They tell us if the model is a good choice for the data, if we see that there is no obvious trend (and approximately equal scatter over the $y = 0$ line)\n",
    "- They tell us if the uncertainties have been estimated reasonably; if we see that ~2/3 of residuals are within $1\\sigma$ (i.e. ~2/3 cross $y = 0$) and ~95% are within $2\\sigma$ (i.e. ~95% cross $y = 0$) then we conclude that the size of the uncertainty is reasonable compared to the size of the scatter."
   ]
  },
  {
   "cell_type": "markdown",
   "id": "2921ad5c-8305-4d1e-996d-03d62735438c",
   "metadata": {
    "id": "2921ad5c-8305-4d1e-996d-03d62735438c"
   },
   "source": [
    "## Part B - Familiarize, Part 1 (Build your circuit)"
   ]
  },
  {
   "cell_type": "markdown",
   "id": "a94f87ad-829c-4566-b2e7-92ad2dafe042",
   "metadata": {
    "id": "a94f87ad-829c-4566-b2e7-92ad2dafe042"
   },
   "source": [
    "***In the cell below, write any notes from the class discussion on Ohm's law, multimeters, and anything else useful for building the circuit. Record the experimental goal.***"
   ]
  },
  {
   "cell_type": "markdown",
   "id": "e6ae7d17-4c81-4eda-82f6-29b223f7d9b0",
   "metadata": {
    "id": "e6ae7d17-4c81-4eda-82f6-29b223f7d9b0"
   },
   "source": [
    "- Ohm's law says the current through a device is proportional to the voltage through it; $I = V/R$. It is not a law of nature, but an empirical rule that many observations have been found to obey.\n",
    "- **Experimental Goal:** See if resistors obey Ohm's law, and determine the resistance of a resistor.\n",
    "- Multimeter:\n",
    "    - Voltmeter/DC Voltage: Set to DC Voltage (one single range for the set of measurements) and connect the voltmeter in parallel with the device being measured (using the V and COM terminals); in this case the resistor.\n",
    "    - Ammeter/DC Current: Set to DC Current (one single range for the set of measurements) and connect the ammeter in series with the circuit (using the 200mA and COM terminals).\n",
    "- Power Supply: Use Red (+) and Black (-) terminals"
   ]
  },
  {
   "cell_type": "markdown",
   "id": "f2f0940c-266b-429c-bf4f-93ee502dd067",
   "metadata": {
    "id": "f2f0940c-266b-429c-bf4f-93ee502dd067"
   },
   "source": [
    "## Part C - Familiarize, Part 2 (Explore the Equipment and Develop a Measurement Strategy)"
   ]
  },
  {
   "cell_type": "markdown",
   "id": "36361425-9e9c-46fc-85ec-97d880f53ca2",
   "metadata": {
    "id": "36361425-9e9c-46fc-85ec-97d880f53ca2"
   },
   "source": [
    "***Explore the circuit’s operation and make some notes in your notebook. Some questions you might consider are:***\n",
    "- ***There are knobs on the power supply labelled “Voltage” and “Current”. What do these knobs do?***\n",
    "- ***What range should you use for the voltage and current meters? Why? Choose one \"best\" range for each meter to stick for all of your data collection today.***\n",
    "- ***What will the uncertainties in your voltage and current measurements be?***"
   ]
  },
  {
   "cell_type": "markdown",
   "id": "2a6f92f4-5251-46ff-9ff4-f0da300d35aa",
   "metadata": {
    "id": "2a6f92f4-5251-46ff-9ff4-f0da300d35aa"
   },
   "source": [
    "- Voltage causes the power supply to produce a voltage difference of X Volts across it. Current causes the power supply to output a current of Y amps.\n",
    "- We make current and voltage measurements - we find that an appropriate range for the Voltmeter is (min-max) V (as this is what the power supply reasonably supports, and allows us to get a wide range of voltage datapoints) and the appropriate range for the Ammeter is (min-max) mA (as this is the range of output currents for the optimal voltage range). We will use these ranges for the rest of the day.\n",
    "- Readings of voltage and current are stable for the most part.\n",
    "- (If readings in voltage/current are stable), uncertainty in voltage/current is instrumental/described by square PDF(stable fixed reading from a measurement device).  Use half of the most significant digit divided by $\\sqrt{3}$ to obtain the uncertainty. \n",
    "- (If readings in voltage/current are unstable), uncertainty in voltage/current are best described by a Gaussian PDF. Determine the measurement value by the mean of the fluctuating values, and the uncertainty by taking the range of the fluctuations as the 95% confidence interval and dividing by 4. \n",
    "- (TA Note: The multimeter manual suggests 0.5%/1% + 1 digit (but this produces very large uncertainties compared to fluctuations), so the manipulation/estimation of uncertainties here is actually a bit subtle if we want the uncertainties to work the way we want. As long as we keep the meters on fixed ranges, the \"divide by $2\\sqrt{3}$ strategy\" should work well.)\n",
    "- The resistance is chosen so that the uncertainty in the current should always be larger than that in the voltage, so that ignoring the uncertainty in voltage is reasonable."
   ]
  },
  {
   "cell_type": "markdown",
   "id": "4b418ba3-0184-441c-9f9d-0668d84da902",
   "metadata": {},
   "source": [
    "- **Note: Data in this notebook is totally fabricated, assuming a resistor of 1300 kOhm, and assuming Ohm's law basically holds perfectly (which for the resistor is true; no longer holds for the lightbulb). The fluctuations be not at all consistent with what would actually be observed**\n",
    "- For our measurement strategy, we take data over evenly spaced voltage points, spanning the entire voltage range that we have chosen above. We do this to constrain the model consistently and for a wide range of input voltages. **(For our fabricated dataset, we suppose the range is from 0.1V-1.5V, and take data in 0.1V increments. We suppose that there were uncertainties on the order of ~0.01V and ~0.01mA).** "
   ]
  },
  {
   "cell_type": "markdown",
   "id": "1d593d35-14aa-4543-9107-77488aa1c0d9",
   "metadata": {
    "id": "1d593d35-14aa-4543-9107-77488aa1c0d9"
   },
   "source": [
    "## Part D - Measure and Analyze (Collect Data and Make a Scatter Plot)"
   ]
  },
  {
   "cell_type": "code",
   "execution_count": 25,
   "id": "1f977bad-af13-4b9d-8787-9377d261725f",
   "metadata": {
    "colab": {
     "referenced_widgets": [
      "cadbae5e287a41a7a6481c21fe362640"
     ]
    },
    "id": "1f977bad-af13-4b9d-8787-9377d261725f",
    "outputId": "3501ebc8-7925-4118-ee46-2591e8d85f79"
   },
   "outputs": [
    {
     "name": "stdout",
     "output_type": "stream",
     "text": [
      "Sheet name: lab05_data.csv\n"
     ]
    },
    {
     "data": {
      "application/vnd.jupyter.widget-view+json": {
       "model_id": "f584152be48d478290c881fdd03a3062",
       "version_major": 2,
       "version_minor": 0
      },
      "text/plain": [
       "VBox(children=(Sheet(cells=(Cell(column_end=0, column_start=0, row_end=0, row_start=0, type='text', value='V')…"
      ]
     },
     "metadata": {},
     "output_type": "display_data"
    }
   ],
   "source": [
    "de = data_entry.sheet(\"lab05_data\")"
   ]
  },
  {
   "cell_type": "markdown",
   "id": "a9a434c1-6237-40f6-a5c0-90d1d1b7e4d9",
   "metadata": {},
   "source": [
    "Below we plot the data as a scatterplot, along with the (linear) Ohm's law model and a residuals plot. First, we convert the current into Amps:"
   ]
  },
  {
   "cell_type": "code",
   "execution_count": 51,
   "id": "a81ed35b-552e-45be-8ce1-5a8d02b4fefc",
   "metadata": {
    "id": "a81ed35b-552e-45be-8ce1-5a8d02b4fefc",
    "outputId": "a24f1506-2ab5-447f-a02e-dc909c6503e5"
   },
   "outputs": [
    {
     "data": {
      "image/png": "[encoded data removed]",
      "text/plain": [
       "<Figure size 432x288 with 1 Axes>"
      ]
     },
     "metadata": {
      "needs_background": "light"
     },
     "output_type": "display_data"
    },
    {
     "data": {
      "image/png": "[encoded data removed]",
      "text/plain": [
       "<Figure size 432x288 with 1 Axes>"
      ]
     },
     "metadata": {
      "needs_background": "light"
     },
     "output_type": "display_data"
    }
   ],
   "source": [
    "# Data/Model Plot (this is just copied from prelab 5)\n",
    "# Step 1: find the limits of the data:\n",
    "xmin = np.min(VVec) # use the np.min function to find the smallest x value\n",
    "xmax = np.max(VVec) # same for max\n",
    "\n",
    "# Step 2: generate a bunch of x points between xmin and xmax\n",
    "xpoints = np.linspace(xmin, xmax, 200) # gives 200 evenly spaced points between xmin and xmax\n",
    "\n",
    "# Step 3: calculate the model values:\n",
    "slope = 0.77 # Estimate of the slope.\n",
    "ypoints = xpoints * slope # this calculates the yvalues at all 200 points.\n",
    "\n",
    "# Step 4: plot the curve. We plot this as a red line \"r-\" :\n",
    "plt.plot(xpoints, ypoints, \"r-\", label = \"I = V/R\")\n",
    "\n",
    "# What's below is exactly what we had earlier:\n",
    "plt.errorbar(VVec, IVec, uIVec, fmt=\"bo\", markersize = 3, label=\"Experimental data\")\n",
    "plt.title(\"Current vs. Voltage for resistor loop circuit\")\n",
    "plt.xlabel(\"Applied Voltage (V)\")\n",
    "plt.ylabel(\"Current through circuit (A)\")\n",
    "plt.legend()\n",
    "plt.show()\n",
    "\n",
    "# Residuals Plot\n",
    "# Step 1: Calculate the model at each x-datapoint\n",
    "ymodel = slope * VVec # y = mx at each x_i\n",
    "\n",
    "# Step 2: Calcualte the residual vector\n",
    "RVec = IVec - ymodel\n",
    "\n",
    "# Step 3: Plot the residual vector against the x-data vector\n",
    "plt.errorbar(VVec, RVec, uIVec, fmt=\"bo\", markersize = 3)\n",
    "\n",
    "# Step 4: Add a R = 0 x-axis (horizontal line) to the plot\n",
    "plt.hlines(y=0, xmin=xmin, xmax=xmax, color='k') # draw axis at y = 0.\n",
    "\n",
    "# Add axis labels and title, and show the graph\n",
    "plt.title(\"Residuals for Current vs. Voltage\")\n",
    "plt.xlabel(\"Applied Voltage (V)\")\n",
    "plt.ylabel(\"Residuals = data - model (A)\")\n",
    "plt.show()"
   ]
  },
  {
   "cell_type": "markdown",
   "id": "72ff519b-9e8f-4d70-898a-5ac7387ff28e",
   "metadata": {
    "id": "72ff519b-9e8f-4d70-898a-5ac7387ff28e"
   },
   "source": [
    "Following the steps in the tutorial, we find that $m \\approx 0.77 \\frac{\\text{mA}}{V}$ is the best slope; we find here that the residuals exhibit no obvious trend, with approximately 50/50 spread across the x-axis and 10/15 = 66% (close to 68%) of the error bars crossing the x-axis. We find that $m_{\\max} \\approx 0.78$ and $m_{\\min} \\approx 0.76$. We plot the three below:"
   ]
  },
  {
   "cell_type": "code",
   "execution_count": 53,
   "id": "b01c474b-cfae-416f-aff2-a3a3c91d6d29",
   "metadata": {},
   "outputs": [
    {
     "data": {
      "image/png": "[encoded data removed]",
      "text/plain": [
       "<Figure size 432x288 with 1 Axes>"
      ]
     },
     "metadata": {
      "needs_background": "light"
     },
     "output_type": "display_data"
    }
   ],
   "source": [
    "xmin = np.min(VVec) # use the np.min function to find the smallest x value\n",
    "xmax = np.max(VVec) # same for max\n",
    "#print (xmin, xmax)  # uncomment to see what the limits are\n",
    "\n",
    "# Step 2: generate a bunch of x points between xmin and xmax\n",
    "xpoints = np.linspace(xmin, xmax, 200) # gives 200 evenly spaced points between xmin and xmax\n",
    "\n",
    "# Step 3: calculate the model values:\n",
    "best_slope = 0.77\n",
    "max_slope = 0.78\n",
    "min_slope = 0.76\n",
    "\n",
    "best_ypoints = xpoints * slope # this calculates the yvalues at all 200 points.\n",
    "max_ypoints = xpoints * max_slope\n",
    "min_ypoints = xpoints * min_slope\n",
    "\n",
    "# Step 4: plot the curve. We plot this as a red line \"r-\" :\n",
    "plt.plot(xpoints, best_ypoints, \"r-\", label = \"I = V/R (best slope)\")\n",
    "plt.plot(xpoints, max_ypoints, \"g-\", label = \"I = V/R (max slope)\")\n",
    "plt.plot(xpoints, min_ypoints, \"y-\", label = \"I = V/R (min slope)\")\n",
    "\n",
    "# What's below is exactly what we had earlier:\n",
    "plt.errorbar(VVec, IVec, uIVec, fmt=\"bo\", markersize = 3, label=\"Experimental data\")\n",
    "plt.title(\"Current vs. Voltage for resistor loop circuit\")\n",
    "plt.xlabel(\"Applied Voltage (V)\")\n",
    "plt.ylabel(\"Current through circuit (A)\")\n",
    "plt.legend()\n",
    "plt.show()"
   ]
  },
  {
   "cell_type": "markdown",
   "id": "1989e344-ecbd-4cb3-bb3b-7692482c5385",
   "metadata": {},
   "source": [
    "We therefore calculate the uncertainty in the slope $m$ as:\n",
    "\n",
    "$$u[m] = \\frac{m_{\\text{max}} - m_{\\text{min}}}{2} = \\frac{0.78-0.76}{2} = 0.01$$.\n",
    "\n",
    "So $m \\pm u[m] = 0.77 \\pm 0.1 \\frac{\\text{mA}}{\\text{V}}$. "
   ]
  },
  {
   "cell_type": "markdown",
   "id": "e011d06e-afc2-490c-9940-bd66e3ac8f11",
   "metadata": {
    "id": "9433b047-f5d8-404b-9217-284c0d6645ab"
   },
   "source": [
    "## Part E - IMPROVE, COMPARE, SUMMARIZE, REFLECT"
   ]
  },
  {
   "cell_type": "markdown",
   "id": "d7b62755-c1f4-45fa-98e8-ebdd1bce45b6",
   "metadata": {},
   "source": [
    "- ***Does the Ohm’s law model describe your data?***\n",
    "- ***Does the resistance you found match the expected resistance (approximately 1300 $\\Omega$)***\n",
    "- ***Make a comparison with at least one other group. Does your resistance match their resistance (how do we make quantitative comparisons between two values in this course?)***\n"
   ]
  },
  {
   "cell_type": "markdown",
   "id": "ff405ffd-ea04-44d2-af61-6158fa15debe",
   "metadata": {},
   "source": [
    "- The Ohm's law model does appear to describe our data; we see that the linear model fits the data exceedingly well, as evidenced from our residuals plot. We can see that there is an equal scatter of data points above/below the x-axis for our best slope of $m = 0.77$, and there is no obvious trend. In addition, we see that ~68% of error bars cross the x-axis.\n",
    "- We know that the resistance, as $I = V/R$. First, we convert the units of the slope:\n",
    "    $$m \\pm u[m] = 0.77 \\pm 0.01 \\frac{\\text{mA}}{\\text{V}} = 0.00077 \\pm 0.00001 \\frac{\\text{A}}{\\text{V}}$$\n",
    "    Finding the resistance, we therefore have:\n",
    "    $$R = \\frac{1}{0.00077} \\Omega = 1298.7 \\Omega$$\n",
    "    For propogating the uncertainty, we recall that for taking the inverse, the uncertainty in the inverse quantity has the same relative uncertainty as the original quantity. So:\n",
    "    $$u[R] = 1298.8 * \\frac{0.00001}{0.00077} = 16.8 \\Omega.$$\n",
    "    So our reported value of the resistance is $1299 \\pm 17 \\Omega$. We can see that this is totally consistent with the expected resistance (it agrees well within uncertainty). \n",
    "- Feynman's group found that $R = 1308 \\pm 20 \\Omega$. Doing a t-score between our two results, we find:\n",
    "    $$ t = \\frac{\\lvert 1299-1309 \\rvert}{\\sqrt{17^2 + 20^2}} = 0.38$$\n",
    "    Since $0.38 \\ll 1$, we are not at all confident that the results are different; this is good, as we expect to be measuring a resistor with the same resistance!\n",
    "- **(Could also have a t-score comparison between a direct measurement of the resistance using the multimeter here)**\n"
   ]
  },
  {
   "cell_type": "markdown",
   "id": "5a7d84ec-e02f-4eae-84d4-0d4042471ffa",
   "metadata": {},
   "source": [
    "## Part F - IMPROVE, COMPARE, SUMMARIZE, REFLECT"
   ]
  },
  {
   "cell_type": "markdown",
   "id": "3a8378e3-6f60-4178-bf31-bca5d47b216c",
   "metadata": {},
   "source": [
    "- We could improve our dataset by:\n",
    "    - Taking more datapoints in the range we have chosen (i.e. more finely spaced points between 0.1V and 1.5V). This would futher constrain our model in the region we currently have investigated.\n",
    "    - Taking multiple measurements per voltage and take the average of the results; this will improve the quality of individual datapoints in our dataset.\n",
    "    - We could expand the range of our dataset by changing our volume ranges on the multimeter; this allows us to constrain Ohm's law over a larger range of voltages, or see if the model continues to hold in other regions. **(Note: this may actually have the effect of worsening things)**"
   ]
  },
  {
   "cell_type": "markdown",
   "id": "15cda4da-7eb0-4fa3-8c27-6cf2e317c037",
   "metadata": {},
   "source": [
    "- (Insert some discussion about what improvements were chosen and why here)\n",
    "- (The analysis done above can be repeated with the improved and/or expanded dataset)."
   ]
  },
  {
   "cell_type": "markdown",
   "id": "89c7ad18-223d-4d0d-be61-37bb0cb2c63a",
   "metadata": {},
   "source": [
    "## Part G - Completing the Lab"
   ]
  },
  {
   "cell_type": "markdown",
   "id": "0eec7727-175a-4101-931b-7aa61a1a7dfe",
   "metadata": {},
   "source": [
    "***Tips:***\n",
    "- ***A brief summary of how your key results and the results of your analysis and comparisons evolved throughout the lab.***\n",
    "- ***1-2 sentences to describe and justify your major improvements and how they proved to be successful or unsuccessful (if performed). It may be helpful to use relative uncertainty to quantify your argument.***\n",
    "- ***1-2 sentences addressing the experimental goal and describing the conclusions you can make from the results of your comparisons.***\n",
    "- ***1 sentence containing your thoughts for further investigation. If you were to spend more time with this experiment, what would you plan to do next?***"
   ]
  },
  {
   "cell_type": "markdown",
   "id": "208dd382-37a0-47c8-9148-8eeba92ffd73",
   "metadata": {},
   "source": [
    "The experimental goal was to determine if Ohm's law holds for a resistor, and to measure this resistance. We found that the linear model of $I = (1/R)V$ indeed was a good fit, as evidenced by the residuals having no obvious trend, equal scatter about the $x = 0$ axis, and ~68% of error bars crossing the $x$-axis. We conclude that Ohm's law holds well for a resistor. In particular, we found that $R = 1299 \\pm 17 \\Omega$ for the resistor we were using. Through t-score comparison, we found that we are not at all confident that other groups had different values for their resistance, proving to be a good consistency check that we are measuring resistors of similar resistances.\n",
    "\n",
    "We carried out (hypothetically) the improvements of taking more datapoints and taking multiple measurements per voltage and averaging. These both had the effect of (hypothetically) constraining the model further, and lead to a decrease in the relative uncertainty of the model slope and therefore the resistance measurement. We conclude that the improvements were successful.\n",
    "\n",
    "For further investigation, it may be interesting to investigate higher ranges of voltages. Does Ohm's law continue to hold for higher voltage inputs, or is the linearity a small $V$ phenomena?"
   ]
  },
  {
   "cell_type": "code",
   "execution_count": null,
   "id": "0db0ebf9-0b38-42bb-b861-b296ee62ca2d",
   "metadata": {},
   "outputs": [],
   "source": []
  }
 ],
 "metadata": {
  "colab": {
   "collapsed_sections": [],
   "name": "lab05_TAversion.ipynb",
   "provenance": []
  },
  "kernelspec": {
   "display_name": "Python 3 (ipykernel)",
   "language": "python",
   "name": "python3"
  },
  "language_info": {
   "codemirror_mode": {
    "name": "ipython",
    "version": 3
   },
   "file_extension": ".py",
   "mimetype": "text/x-python",
   "name": "python",
   "nbconvert_exporter": "python",
   "pygments_lexer": "ipython3",
   "version": "3.9.7"
  }
 },
 "nbformat": 4,
 "nbformat_minor": 5
}
