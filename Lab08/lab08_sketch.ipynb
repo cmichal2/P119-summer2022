{
 "cells": [
  {
   "cell_type": "markdown",
   "id": "0b9caaf1-fb8b-429f-bb3f-5715cc1c324c",
   "metadata": {},
   "source": [
    "# Lab 08 - RC circuits"
   ]
  },
  {
   "cell_type": "code",
   "execution_count": 1,
   "id": "2f468deb-066b-4b13-aded-15b9fabd4c6e",
   "metadata": {},
   "outputs": [],
   "source": [
    "import numpy as np\n",
    "import data_entry\n",
    "import matplotlib.pyplot as plt"
   ]
  },
  {
   "cell_type": "markdown",
   "id": "856cf8f2-ea8c-4523-b719-f9a41b2dd61f",
   "metadata": {},
   "source": [
    "## TA feedback, discussion from last time"
   ]
  },
  {
   "cell_type": "markdown",
   "id": "557e3b2c-86ca-4fbe-a0e3-6cefb3db450f",
   "metadata": {},
   "source": []
  },
  {
   "cell_type": "markdown",
   "id": "6d252924-7a9a-46e8-bc2e-46d2a575f7fa",
   "metadata": {},
   "source": [
    "## Derivation of best fit equation for one-parameter fit?"
   ]
  },
  {
   "cell_type": "markdown",
   "id": "e249e9eb-15da-4e6b-9c4c-794a48d1b0e0",
   "metadata": {},
   "source": []
  },
  {
   "cell_type": "markdown",
   "id": "f01fa510-3f6c-4b5e-a538-cf36e4565087",
   "metadata": {},
   "source": [
    "## Familiarize: determine best fit slope from existing data"
   ]
  },
  {
   "cell_type": "markdown",
   "id": "a7f35efe-a67f-4308-9b31-4e1dd11445eb",
   "metadata": {},
   "source": []
  },
  {
   "cell_type": "code",
   "execution_count": 2,
   "id": "e32b8548-92cc-4f21-a1c4-53839ff4f686",
   "metadata": {},
   "outputs": [
    {
     "name": "stdout",
     "output_type": "stream",
     "text": [
      "Copied lab07_data.csv to lab08_data.csv\n",
      "Creating directory for backups:  csv_backups/\n",
      "Creating undo file\n",
      "Sheet name: lab08_data.csv\n"
     ]
    },
    {
     "data": {
      "application/vnd.jupyter.widget-view+json": {
       "model_id": "aa8dc24474a94a6b8e7fa6962b9eca78",
       "version_major": 2,
       "version_minor": 0
      },
      "text/plain": [
       "VBox(children=(Sheet(cells=(Cell(column_end=0, column_start=0, row_end=0, row_start=0, type='text', value='R')…"
      ]
     },
     "metadata": {},
     "output_type": "display_data"
    }
   ],
   "source": [
    "de = data_entry.sheet_copy(\"lab07_data\", \"lab08_data\")"
   ]
  },
  {
   "cell_type": "code",
   "execution_count": 20,
   "id": "ed72734d-8921-4bf9-a8c8-7f375ec2359d",
   "metadata": {},
   "outputs": [
    {
     "name": "stdout",
     "output_type": "stream",
     "text": [
      "0.9947851496906293 0.005224080340067384\n",
      "0.005251465948895632\n"
     ]
    }
   ],
   "source": [
    "\"\"\" breaking down tau calculation into subproblems for uncertainty propagation \"\"\"\n",
    "dTVec = t2Vec - t1Vec\n",
    "udTVec = np.sqrt(ut1Vec**2 + ut2Vec**2)\n",
    "WVec = V1Vec/V2Vec\n",
    "uWVec = WVec * np.sqrt( (uV1Vec/V1Vec)**2 + (uV2Vec/V2Vec)**2 )\n",
    "\n",
    "logWVec = np.log(WVec)\n",
    "ulogWVec = uWVec / WVec\n",
    "\n",
    "tauVec = dTVec / logWVec\n",
    "utauVec = tauVec * np.sqrt( (udTVec/dTVec)**2 + (ulogWVec/logWVec)**2 )\n",
    "\n",
    "\"\"\" best fit for weighted one-parameter fit \"\"\"\n",
    "x = RVec\n",
    "y = tauVec\n",
    "uy = utauVec\n",
    "\n",
    "xyTerm = x*y/uy**2\n",
    "xxTerm = x*x/uy**2\n",
    "\n",
    "Z = np.sum(xxTerm)\n",
    "m = np.sum(xyTerm) / Z\n",
    "um = np.sqrt(1/Z)\n",
    "\n",
    "print(m*1e7, um*1e7)\n",
    "print(um/m)"
   ]
  },
  {
   "cell_type": "markdown",
   "id": "8be73253-2d10-4ef2-9e3d-1a8df10900f3",
   "metadata": {},
   "source": [
    "Using the best fit equation for a one parameter fit, we find a best fit slope of $(0.9948 \\pm 0.0052) \\times 10^{-7} F$. This yields a chi-squared of 0.86, which is on the order of 1 and thus indicates a good fit."
   ]
  },
  {
   "cell_type": "code",
   "execution_count": 6,
   "id": "f3ed2414-ece5-457b-b006-e92394fa0f23",
   "metadata": {},
   "outputs": [
    {
     "name": "stdout",
     "output_type": "stream",
     "text": [
      "0.8632857531038303\n"
     ]
    },
    {
     "data": {
      "image/png": "[encoded data removed]",
      "text/plain": [
       "<Figure size 432x288 with 1 Axes>"
      ]
     },
     "metadata": {
      "needs_background": "light"
     },
     "output_type": "display_data"
    },
    {
     "data": {
      "image/png": "[encoded data removed]",
      "text/plain": [
       "<Figure size 432x288 with 1 Axes>"
      ]
     },
     "metadata": {
      "needs_background": "light"
     },
     "output_type": "display_data"
    }
   ],
   "source": [
    "modelVec = m*RVec\n",
    "\n",
    "\"\"\" residuals and chi-squared \"\"\"\n",
    "residuals = tauVec - modelVec\n",
    "wResiduals2 = (residuals / utauVec)**2 # weighting the residuals and squaring\n",
    "P = 1 # number of parameters\n",
    "N = len(tauVec) # number of data points\n",
    "chi2 = np.sum(wResiduals2) / (N - P)\n",
    "print(chi2)\n",
    "\n",
    "\"\"\" plotting \"\"\"\n",
    "plt.errorbar(RVec, tauVec, utauVec, fmt = \"bo\", markersize = 3, label = \"Experimental data\")\n",
    "plt.plot(RVec, modelVec, \"r\", label = \"Model fit\")\n",
    "plt.title(\"Time constant vs. resistance in an RC circuit\")\n",
    "plt.xlabel(\"Resistance ($\\Omega$)\")\n",
    "plt.ylabel(\"Time constant (s)\")\n",
    "plt.legend()\n",
    "plt.show()\n",
    "\n",
    "plt.errorbar(RVec, residuals, utauVec, fmt = \"bo\", markersize = 3)\n",
    "plt.grid()\n",
    "plt.title(\"Residuals plot\")\n",
    "plt.xlabel(\"Resistance ($\\Omega$)\")\n",
    "plt.ylabel(\"Residuals (s)\")\n",
    "plt.show()"
   ]
  },
  {
   "cell_type": "markdown",
   "id": "cc830327-5150-4a71-9b01-1e770779b498",
   "metadata": {},
   "source": [
    "This produces a fit with no structure in the residuals, even scatter above and below, and roughly 2/3 of errorbars crossing the x-axis. $\\chi^2 \\approx 1$ and these observations tell us our fit is good and our assumption of no intercept is reasonable. The slope is very close to the expected capacitance of $1\\times 10^{-7}$."
   ]
  },
  {
   "cell_type": "markdown",
   "id": "2191def5-90c9-4f85-a972-9a0e05295df7",
   "metadata": {},
   "source": [
    "## Iterative cycles of improvements"
   ]
  },
  {
   "cell_type": "markdown",
   "id": "95b0ecb0-8515-4b33-9f74-aef05fbb4cb6",
   "metadata": {},
   "source": [
    "We will implement our suggested improvements of last week:\n",
    "- Filling in the gaps for $R \\in [1000,10000]\\Omega$\n",
    "- Exploring the extremes of resistance"
   ]
  },
  {
   "cell_type": "code",
   "execution_count": 7,
   "id": "d1e7ebd5-2c22-4572-95b4-621738e4b393",
   "metadata": {},
   "outputs": [
    {
     "name": "stdout",
     "output_type": "stream",
     "text": [
      "Copied lab08_data.csv to lab08_data-2.csv\n",
      "Creating undo file\n",
      "Sheet name: lab08_data-2.csv\n"
     ]
    },
    {
     "data": {
      "application/vnd.jupyter.widget-view+json": {
       "model_id": "77806c8660d94b528e926cae59f9cc71",
       "version_major": 2,
       "version_minor": 0
      },
      "text/plain": [
       "VBox(children=(Sheet(cells=(Cell(column_end=0, column_start=0, row_end=0, row_start=0, type='text', value='R')…"
      ]
     },
     "metadata": {},
     "output_type": "display_data"
    }
   ],
   "source": [
    "de2 = data_entry.sheet_copy(\"lab08_data\",\"lab08_data-2\")"
   ]
  },
  {
   "cell_type": "code",
   "execution_count": 22,
   "id": "d6a3af5a-eb15-45ca-bdfa-fc25440ab494",
   "metadata": {},
   "outputs": [
    {
     "name": "stdout",
     "output_type": "stream",
     "text": [
      "0.9965913515138812 0.0038173759447357636\n",
      "0.003830432542824041\n",
      "0.9840635345165585\n"
     ]
    },
    {
     "data": {
      "image/png": "[encoded data removed]",
      "text/plain": [
       "<Figure size 432x288 with 1 Axes>"
      ]
     },
     "metadata": {
      "needs_background": "light"
     },
     "output_type": "display_data"
    },
    {
     "data": {
      "image/png": "[encoded data removed]",
      "text/plain": [
       "<Figure size 432x288 with 1 Axes>"
      ]
     },
     "metadata": {
      "needs_background": "light"
     },
     "output_type": "display_data"
    }
   ],
   "source": [
    "\"\"\" breaking down tau calculation into subproblems for uncertainty propagation \"\"\"\n",
    "dTVec = t2Vec - t1Vec\n",
    "udTVec = np.sqrt(ut1Vec**2 + ut2Vec**2)\n",
    "WVec = V1Vec/V2Vec\n",
    "uWVec = WVec * np.sqrt( (uV1Vec/V1Vec)**2 + (uV2Vec/V2Vec)**2 )\n",
    "\n",
    "logWVec = np.log(WVec)\n",
    "ulogWVec = uWVec / WVec\n",
    "\n",
    "tauVec = dTVec / logWVec\n",
    "utauVec = tauVec * np.sqrt( (udTVec/dTVec)**2 + (ulogWVec/logWVec)**2 )\n",
    "\n",
    "\"\"\" best fit for weighted one-parameter fit \"\"\"\n",
    "x = RVec\n",
    "y = tauVec\n",
    "uy = utauVec\n",
    "\n",
    "xyTerm = x*y/uy**2\n",
    "xxTerm = x*x/uy**2\n",
    "\n",
    "Z = np.sum(xxTerm)\n",
    "m = np.sum(xyTerm) / Z\n",
    "um = np.sqrt(1/Z)\n",
    "\n",
    "print(m*1e7, um*1e7)\n",
    "print(um/m)\n",
    "\n",
    "modelVec = m*RVec\n",
    "\n",
    "\"\"\" residuals and chi-squared \"\"\"\n",
    "residuals = tauVec - modelVec\n",
    "wResiduals2 = (residuals / utauVec)**2 # weighting the residuals and squaring\n",
    "P = 1 # number of parameters\n",
    "N = len(tauVec) # number of data points\n",
    "chi2 = np.sum(wResiduals2) / (N - P)\n",
    "print(chi2)\n",
    "\n",
    "\"\"\" plotting \"\"\"\n",
    "plt.errorbar(RVec, tauVec, utauVec, fmt = \"bo\", markersize = 3, label = \"Experimental data\")\n",
    "plt.plot(RVec, modelVec, \"r\", label = \"Model fit\")\n",
    "plt.title(\"Time constant vs. resistance in an RC circuit\")\n",
    "plt.xlabel(\"Resistance ($\\Omega$)\")\n",
    "plt.ylabel(\"Time constant (s)\")\n",
    "plt.legend()\n",
    "plt.show()\n",
    "\n",
    "plt.errorbar(RVec, residuals, utauVec, fmt = \"bo\", markersize = 3)\n",
    "plt.grid()\n",
    "plt.title(\"Residuals plot\")\n",
    "plt.xlabel(\"Resistance ($\\Omega$)\")\n",
    "plt.ylabel(\"Residuals (s)\")\n",
    "plt.show()"
   ]
  },
  {
   "cell_type": "markdown",
   "id": "3f28db3a-b86a-4844-8ade-14b8ea71f64c",
   "metadata": {},
   "source": [
    "After implementing our improvement, our best fit slope is similar at $(0.9966 \\pm 0.0038) \\times 10^{-7} F$. The relative uncertainty in the slope decreased from 0.0053 to 0.0038, while $\\chi^2$ remains close to one at 0.98. This tells us that our improvement of adding more data successful at increasing the precision of our capacitance estimate (reduced relative uncertainty), while maintaining an accurate fit to the data ($\\chi^2 \\approx 1$, no trend in residuals, even scatter above and below zero, and $6/10 \\approx 2/3$ of the errorbars crossing the x-axis). Note that adding more data is always guaranteed to reduce $u[m]$ from the best fit slope uncertainty equation: the sum in $Z$ will increase with more data, and $u[m] = \\sqrt{1/Z}$."
   ]
  },
  {
   "cell_type": "markdown",
   "id": "bab1cefd-42c7-4e24-8218-0a4bbf3227a1",
   "metadata": {},
   "source": [
    "Second improvement would follow with similar analysis..."
   ]
  },
  {
   "cell_type": "code",
   "execution_count": null,
   "id": "22a7cc60-c40b-4850-9143-2227eb2efea4",
   "metadata": {},
   "outputs": [],
   "source": []
  }
 ],
 "metadata": {
  "kernelspec": {
   "display_name": "Python 3 (ipykernel)",
   "language": "python",
   "name": "python3"
  },
  "language_info": {
   "codemirror_mode": {
    "name": "ipython",
    "version": 3
   },
   "file_extension": ".py",
   "mimetype": "text/x-python",
   "name": "python",
   "nbconvert_exporter": "python",
   "pygments_lexer": "ipython3",
   "version": "3.10.5"
  }
 },
 "nbformat": 4,
 "nbformat_minor": 5
}
