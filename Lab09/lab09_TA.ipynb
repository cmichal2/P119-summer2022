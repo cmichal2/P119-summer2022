{
 "cells": [
  {
   "cell_type": "markdown",
   "id": "8b42018a-744a-4a76-86d3-989d31c02420",
   "metadata": {
    "id": "61ed9912-a3b5-4024-b62b-49c912b1aa25"
   },
   "source": [
    "# Lab 09 - Radiation Shielding (Part 1)"
   ]
  },
  {
   "cell_type": "markdown",
   "id": "0ce96c66-1b26-42d1-9e77-df222a6c2b5d",
   "metadata": {
    "id": "355521ea-d050-45f2-93d5-988f72f018a2"
   },
   "source": [
    "Edit this cell and provide the information requested:\n",
    "\n",
    "- Your name:\n",
    "- Your student number:\n",
    "- Partner's name:"
   ]
  },
  {
   "cell_type": "code",
   "execution_count": 20,
   "id": "bdbafbb8-f7aa-4c12-9c3e-1c109fef8893",
   "metadata": {
    "id": "b795858f-a049-496e-a9bb-8128e61d49c3"
   },
   "outputs": [],
   "source": [
    "import numpy as np\n",
    "import data_entry\n",
    "import matplotlib.pyplot as plt"
   ]
  },
  {
   "cell_type": "markdown",
   "id": "2a446d18-0231-4fb0-a547-fb419576f28b",
   "metadata": {},
   "source": [
    "## Familiarize Part I (Equipment)"
   ]
  },
  {
   "cell_type": "markdown",
   "id": "3bf1ee22-e1f9-442b-9852-c97f7bf14733",
   "metadata": {},
   "source": [
    "- Experimental goal: Figure out the attenuation coefficient $\\mu$ for low-energy gamma rays attenuated by paper shielding.\n",
    "- We used radioactive source #9, with the device set to \"Geiger counter\" at 450V. The source is located 1cm from the detector.\n",
    "- Paper sheets come in thicknesses of 0.1mm each, according to a measurement using the calipers. \n",
    "- The timer has significant digits up to a hundreth of a second. This has instrumental uncertainty of $0.01/(2\\sqrt{3}) = 0.002$ seconds. However, there is a larger form of uncertainty that comes from human error, namely the ability to stop the radiation counter and timer at the same time. We do a short experiment to measure this directly. We do 10 trials where we try to stop the timer precisely at 10 seconds. We then take the average of these trials, and find the deviation from the target time of 10 seconds; this gives us the first term in the human error, which we call $\\Delta t_{\\text{ave}} = 10 - t_{\\text{ave}}$. We also take the standard deviation of these trials, which is a measure of our consistency; this gives us the second term in the human error, which we call $\\sigma_t$. The uncertainty in the time is then given by:\n",
    "\n",
    "$$u[t] = \\sqrt{(\\Delta t_{\\text{ave}})^2 + \\sigma_t^2}$$"
   ]
  },
  {
   "cell_type": "markdown",
   "id": "2eb24dbe-e899-424d-88be-b773ebe90492",
   "metadata": {},
   "source": [
    "## Familiarize Part II (Variables Under our Control)"
   ]
  },
  {
   "cell_type": "markdown",
   "id": "731f2150-ef66-4d4e-9d5a-8faee0df63c3",
   "metadata": {},
   "source": [
    "- Candidate model for the count-rate is $R(x) = R_0\\exp(-\\mu x)$ where $x$ is the thickness of the paper shielding, $R_0$ is the zero-shielding count-rate, and $\\mu$ is the attenuation coefficient. Note that when considering the semi-log plot and fitting a linear model, this becomes:\n",
    "$$\\log(R(x)) = \\log(R_0\\exp(-\\mu x)) = \\log(R_0) + \\log(\\exp(-\\mu x)) = \\log(R_0) - \\mu x = b+ mx$$\n",
    "    which gives a correspondence between fit parameters and physical parameters.\n",
    "- $\\mu$ can be extracted by measuring count rate (by measuring time intervals and number of radiation counts) at various thicknesses of shielding; by linearizing the data and fitting a linear model (with intercept) the attenuation coefficient can be extracted as the slope."
   ]
  },
  {
   "cell_type": "markdown",
   "id": "7b581cf8-7d4b-43b9-af39-44cd0a4f7b6a",
   "metadata": {},
   "source": [
    "## Familiarize Part III (Uncertainties)"
   ]
  },
  {
   "cell_type": "markdown",
   "id": "5e202b75-49f2-4483-8f5f-8e721e18baeb",
   "metadata": {},
   "source": [
    "- Uncertainty in counts is given by statistics of Poisson distribution (which describes radiation counts); in particular:\n",
    "$$u[N] = \\sqrt{N}.$$\n",
    "- For papers, there is some deviation when measuring multiple times due to the degree of compression of the paper; there is around a ~0.04mm range in which measurements can fall. As the uncertainty here is due to human error (multiple measuerements), we take a 95% CI of width 0.04cm and so an uncertainty of $u[x] = 0.01$mm per sheet of paper used.\n",
    "- The timer has instrumental uncertainty of $0.01/(2\\sqrt{3}) = 0.002$ seconds. However, there is a larger form of uncertainty that comes from human error, namely the ability to stop the radiation counter and timer at the same time. We do a short experiment to measure this directly. We do 10 trials where we use our stopwatch and the apparatus set to \"Time in seconds\" mode (timing mode). We measure $t_1$ and $t_2$, where $t_1$ corresponds to the stopping time of the stopwatch and $t_2$ corresponds to the stopping time of the apparatus, while we try to stop the two simultaneously. We then take their difference $\\Delta t = t_2 - t_1$. From there, we calculate two terms of the error; the first is the average of the $\\Delta t$s, $\\Delta t_{\\text{ave}}$ (which quantifies how far the two disagree on average). The second is the standard deviation of the $\\Delta t$s, $\\sigma_t$ (which quantifies how consistent the disagreement between the two timings are). We can then add the two in quadrature to get the uncertainty in time:\n",
    "$$u[t] = \\sqrt{(\\Delta t_{\\text{ave}})^2 + \\sigma_t^2}.$$\n",
    "- Uncertainty in count rate is given by:\n",
    "$$u[R] = R\\sqrt{\\frac{1}{N} + \\left(\\frac{u[t]}{t}\\right)^2}.$$"
   ]
  },
  {
   "cell_type": "markdown",
   "id": "0ca4c21c-4c7b-46cc-9b7c-8286fce00f9a",
   "metadata": {},
   "source": [
    "Below are the measurements and calculations for quantifying $u[t]$, as described above. We did 10 trials of trying to stop the two simultaneously."
   ]
  },
  {
   "cell_type": "code",
   "execution_count": 5,
   "id": "8b068e09-531a-4a23-b255-196f62daf2ab",
   "metadata": {},
   "outputs": [
    {
     "name": "stdout",
     "output_type": "stream",
     "text": [
      "Sheet name: lab09_data_times.csv\n"
     ]
    },
    {
     "data": {
      "application/vnd.jupyter.widget-view+json": {
       "model_id": "d94b98734e2644d38db114605735f4de",
       "version_major": 2,
       "version_minor": 0
      },
      "text/plain": [
       "VBox(children=(Sheet(cells=(Cell(column_end=0, column_start=0, row_end=0, row_start=0, type='text', value='t1'…"
      ]
     },
     "metadata": {},
     "output_type": "display_data"
    }
   ],
   "source": [
    "de = data_entry.sheet(\"lab09_data_times.csv\")"
   ]
  },
  {
   "cell_type": "code",
   "execution_count": 9,
   "id": "93f391c1-3713-4ec1-a60c-7924c5aa5e4d",
   "metadata": {},
   "outputs": [
    {
     "name": "stdout",
     "output_type": "stream",
     "text": [
      "0.05932958789676519\n"
     ]
    }
   ],
   "source": [
    "deltatVec = t1Vec - t2Vec\n",
    "deltatavg = np.mean(deltatVec)\n",
    "deltatstd = np.std(deltatVec)\n",
    "ut = np.sqrt(deltatavg**2 + deltatstd**2)\n",
    "print(ut)"
   ]
  },
  {
   "cell_type": "markdown",
   "id": "4b83d946-477e-411d-971c-061aae1e08d1",
   "metadata": {},
   "source": [
    "We can see that the timing uncertainty arising from human error is much larger than the instrumental uncertainty; we can therefore neglect the latter."
   ]
  },
  {
   "cell_type": "markdown",
   "id": "63f0ea02-9a3b-42e2-bdcc-5eb306c01be6",
   "metadata": {},
   "source": [
    "## Familiarize Part IV (Practice Measurements + Measurement Strategy)"
   ]
  },
  {
   "cell_type": "markdown",
   "id": "fe70bc6b-91cb-41bc-8fc2-5357a6e7defd",
   "metadata": {},
   "source": [
    "- We took practice measurements at 0 sheets, 1 sheet, 2 sheets, 4 sheets, and 8 sheets, all for 20 seconds each\n",
    "- We found that the counts dropped more quickly than linearly as we added more sheets; certainly we have reason to believe that the behaviour is nonlinear, possibly exponential.\n",
    "- Measurement strategy: Cover an even wider range of measurements (go up to using as much shielding as we have). The doubling of sheets is an effective spacing to probe an exponential law (rather than linearly spacing thicknesses). We will also take longer measurements; First, we see that $u[t]$ is constant as a function of the time interval measured, and so by measuring for longer times $t$ the time-uncertainty factor in $u[R]$ is suppressed. More importantly, the counting uncertainty dominates over the time term, and roughly $u[R] \\sim \\frac{1}{\\sqrt{N}}$, so the more time we measure for, the more counts we get and so the uncertainty in the rate is further supressed."
   ]
  },
  {
   "cell_type": "markdown",
   "id": "2f1bc247-4a3d-4ac8-925a-28cb76066735",
   "metadata": {},
   "source": [
    "## Measure"
   ]
  },
  {
   "cell_type": "markdown",
   "id": "5151ac7c-4a27-4fc1-80ba-93dd6fc8fc19",
   "metadata": {},
   "source": [
    "Collected data is below:"
   ]
  },
  {
   "cell_type": "code",
   "execution_count": 21,
   "id": "10c5569d-e385-4956-80f9-d026ae7004a5",
   "metadata": {},
   "outputs": [
    {
     "name": "stdout",
     "output_type": "stream",
     "text": [
      "Sheet name: lab09_data.csv\n"
     ]
    },
    {
     "data": {
      "application/vnd.jupyter.widget-view+json": {
       "model_id": "e46e35bdc1114029a4bd618e2031b34e",
       "version_major": 2,
       "version_minor": 0
      },
      "text/plain": [
       "VBox(children=(Sheet(cells=(Cell(column_end=0, column_start=0, row_end=0, row_start=0, type='text', value='x')…"
      ]
     },
     "metadata": {},
     "output_type": "display_data"
    }
   ],
   "source": [
    "de2 = data_entry.sheet(\"lab09_data.csv\")"
   ]
  },
  {
   "cell_type": "code",
   "execution_count": 22,
   "id": "3fed2f8b-b972-4fac-991b-766826b0b020",
   "metadata": {},
   "outputs": [],
   "source": [
    "uNVec = np.sqrt(NVec)  # u[N] = sqrt(N)"
   ]
  },
  {
   "cell_type": "markdown",
   "id": "4ec0d618-8fc0-4805-9ff4-39b958fe369c",
   "metadata": {},
   "source": [
    "Below we calculate the count rates and uncertainties:"
   ]
  },
  {
   "cell_type": "code",
   "execution_count": 23,
   "id": "40d9ef1a-f038-4473-a1ec-e3485e8b91ee",
   "metadata": {},
   "outputs": [],
   "source": [
    "RateVec = NVec/tVec\n",
    "uRateVec = RateVec*np.sqrt(1/NVec + (utVec/tVec)**2)"
   ]
  },
  {
   "cell_type": "markdown",
   "id": "dd1954b4-73be-470f-bc2e-5b00ffc5bf56",
   "metadata": {},
   "source": [
    "## Plotting and Fitting"
   ]
  },
  {
   "cell_type": "markdown",
   "id": "72196ce2-7ca4-4b56-ac93-e2f5549284ed",
   "metadata": {},
   "source": [
    "Let us take the logarithm of the count rates:"
   ]
  },
  {
   "cell_type": "code",
   "execution_count": 24,
   "id": "eea76139-2566-4462-8dff-2469aeada159",
   "metadata": {},
   "outputs": [],
   "source": [
    "logRateVec = np.log(RateVec)\n",
    "ulogRateVec = uRateVec/RateVec"
   ]
  },
  {
   "cell_type": "markdown",
   "id": "20eb6f7a-1ee9-4d22-ae4d-a9a7de43a116",
   "metadata": {},
   "source": [
    "Producing a semi-log plot, we have:"
   ]
  },
  {
   "cell_type": "code",
   "execution_count": 25,
   "id": "b53a7bf8-4fcd-4879-9ad0-c10ac8d2b229",
   "metadata": {},
   "outputs": [
    {
     "data": {
      "image/png": "[encoded data removed]",
      "text/plain": [
       "<Figure size 432x288 with 1 Axes>"
      ]
     },
     "metadata": {
      "needs_background": "light"
     },
     "output_type": "display_data"
    }
   ],
   "source": [
    "plt.errorbar(xVec, logRateVec, ulogRateVec, markersize = 3, fmt = \"bo\", label = \"Log of exp. count-rate\")\n",
    "plt.title(\"Semi-log plot of count-rate and shielding thickness\")\n",
    "plt.xlabel(\"Paper shielding thickness (mm)\")\n",
    "plt.ylabel(\"log(Count-rate)\")\n",
    "plt.show()"
   ]
  },
  {
   "cell_type": "markdown",
   "id": "f5a01d40-0af6-4aec-b20f-1c3af1924487",
   "metadata": {},
   "source": [
    "We see that indeed the data appears to be roughly linear (though it does appear to become less linear at higher thicknesses), so it is worth fitting a linear model with intercept. We use the analytic best fit method to find the best fit slope and intercept, as well as their uncertainties."
   ]
  },
  {
   "cell_type": "code",
   "execution_count": 27,
   "id": "e699498a-cd58-4a11-a7f9-f4915d33028f",
   "metadata": {},
   "outputs": [
    {
     "name": "stdout",
     "output_type": "stream",
     "text": [
      "-3.209639085970639 0.29195964405565905\n",
      "2.3674816618410097 0.14946313333491243\n"
     ]
    }
   ],
   "source": [
    "A = np.sum(1/ulogRateVec)\n",
    "B = np.sum(xVec*logRateVec/ulogRateVec)\n",
    "C = np.sum(xVec/ulogRateVec)\n",
    "D = np.sum(logRateVec/ulogRateVec)\n",
    "E = np.sum(xVec**2/ulogRateVec)\n",
    "Z = A * E - C**2\n",
    "\n",
    "m = (A*B-C*D)/Z\n",
    "um = np.sqrt(A/Z)\n",
    "b = (D*E-B*C)/Z\n",
    "ub = np.sqrt(E/Z)\n",
    "print(m, um)\n",
    "print(b, ub)"
   ]
  },
  {
   "cell_type": "markdown",
   "id": "ac1a55ce-786d-42c8-bff2-d6debd90acb7",
   "metadata": {},
   "source": [
    "So we conclude that $m = -3.21 \\pm 0.29$ and $b = 2.37 \\pm 0.15$. Let us plot this model with residuals, and also calculate the weighted $\\chi_w^2$:"
   ]
  },
  {
   "cell_type": "code",
   "execution_count": 28,
   "id": "e3c0e3c2-7b23-41a2-a6a9-4714cbfd6473",
   "metadata": {},
   "outputs": [
    {
     "data": {
      "image/png": "[encoded data removed]",
      "text/plain": [
       "<Figure size 432x288 with 1 Axes>"
      ]
     },
     "metadata": {
      "needs_background": "light"
     },
     "output_type": "display_data"
    },
    {
     "data": {
      "image/png": "[encoded data removed]",
      "text/plain": [
       "<Figure size 432x288 with 1 Axes>"
      ]
     },
     "metadata": {
      "needs_background": "light"
     },
     "output_type": "display_data"
    },
    {
     "name": "stdout",
     "output_type": "stream",
     "text": [
      "3.72012723226801\n"
     ]
    }
   ],
   "source": [
    "# DATA/MODEL PLOT\n",
    "# Step 1: find the limits of the data:\n",
    "xmin = np.min(xVec) # use the np.min function to find the smallest x value\n",
    "xmax = np.max(xVec) # same for max\n",
    "#print (xmin, xmax)  # uncomment to see what the limits are\n",
    "\n",
    "# Step 2: generate a bunch of x points between xmin and xmax\n",
    "xpoints = np.linspace(xmin, xmax, 200) # gives 200 evenly spaced points between xmin and xmax\n",
    "#print(xpoints) # uncomment to see the x values that were generated.\n",
    "\n",
    "# Step 3: calculate the model values (for linear model with intercept):\n",
    "slope = -3.21  # best fit slope\n",
    "intercept = 2.37  # best fit intercept\n",
    "ypoints = xpoints * slope + intercept # this calculates the yvalues at all 200 points\n",
    "\n",
    "# Step 4: plot the curve. We plot this as a red line \"r-\" :\n",
    "plt.plot(xpoints, ypoints, \"r-\", label = \"log(R) = -mu x + log(R_0)\")\n",
    "\n",
    "# What's below is exactly what we had earlier:\n",
    "plt.errorbar(xVec, logRateVec, ulogRateVec, fmt=\"bo\", markersize=3, label=\"Log of Experimental data\")\n",
    "plt.title(\"Semi-log plot for Count rate vs. thickness of shielding\")\n",
    "plt.xlabel(\"Thickness (mm)\")\n",
    "plt.ylabel(\"Log(Count-rate)\")\n",
    "plt.legend()\n",
    "plt.show()\n",
    "\n",
    "\n",
    "# RESIDUALS PLOT\n",
    "# Step 1: Calculate the model at each x-datapoint\n",
    "ymodel = xVec * slope + intercept\n",
    "\n",
    "# Step 2: Calculate the residual vector\n",
    "RVec = logRateVec - ymodel\n",
    "\n",
    "# Step 3: Plot the residual vector against the x-data vector\n",
    "plt.errorbar(xVec, RVec, ulogRateVec, fmt=\"bo\", markersize = 3)\n",
    "\n",
    "# Step 4: Add a R = 0 x-axis (horizontal line) to the plot\n",
    "plt.hlines(y=0, xmin=xmin, xmax=xmax, color='k') # draw axis at y = 0.\n",
    "\n",
    "# Add axis labels and title, and show the graph\n",
    "plt.title(\"Residuals for Linear fit of semi-log count rate data\")\n",
    "plt.xlabel(\"Thickness (mm)\")\n",
    "plt.ylabel(\"Residual = data - model\")\n",
    "plt.show()\n",
    "\n",
    "\n",
    "# CHI-SQUARED CALCULATION\n",
    "N = len(xVec)\n",
    "P = 2  # 2 parameters; slope and intercept\n",
    "weightedsquaredresVec = (RVec/ulogRateVec)**2\n",
    "chisquared = np.sum(weightedsquaredresVec)/(N-P)\n",
    "print(chisquared)"
   ]
  },
  {
   "cell_type": "markdown",
   "id": "1ec37e6f-75b6-4f72-9dbb-dde495035c8a",
   "metadata": {},
   "source": [
    "## Analysis"
   ]
  },
  {
   "cell_type": "markdown",
   "id": "288afd2e-a635-49ba-a2af-a63f72400c52",
   "metadata": {},
   "source": [
    "**Discussion of Model Failure:** What we find is extremely intriguing; we find that the residuals plot appears to have a clear nonlinear trend, and $\\chi_w^2$ is not close to 1 as we might expect it to be; instead it is $\\chi_w^2 > 1$ (by a reasonable margin) The residuals and $\\chi_w^2$ both support the conclusion that the linear model (and hence the pure exponential model $R(x) = R_0\\exp(-\\mu x$ for the count-rate) is not a good model. This gives a more quantitative backing for the earlier observation that the semi-log plot did not look totally linear. We will hypothesize why the model may have failed and how to improve/amend it.\n",
    "\n",
    "In addition to the graphical observation that the linearity seems to \"level off\" as we increase the shielding thickness, we have observed in the experiments that at higher shieldings there is very little change in the number of counts we were seeing. We wondered about why this might be; after discussion with group members, we hypothesized that there might be a small amount of radiation independent of what the source produces. To test this hypothesis, we took the source out of the device, and saw if any counts would be registered. Although limited in number, even with the source removed the Geiger counter registered a number of counts, which supports the hypothesis of background radiation. An improved model would incorporate this background; e.g. through the addition of a constant background term $B$, giving:\n",
    "\n",
    "$$R(x) = R_0\\exp(-\\mu x) + B.$$\n",
    "\n",
    "**Possible Improvements:** Improvements could involve a measurement and fit of this background term. Another possibility is to try to fit the data in the low-shielding region where the background is negligeble and the original purely exponential model would be a reasonable approximation.\n",
    "\n",
    "Another possible improvement for the next lab (which is independent of what model we choose) is to increase the amount of time we are counting for. This will decrease the uncertainty in the count rate, and improve the quality of individual datapoints.\n",
    "\n",
    "**Obtaining physical parameters from fit parameters:** Although we concluded that the model we are fitting is not a good fit, we can still obtain estimates for the physical parameters of the attenuation coefficient $\\mu$ and zero-shielding count-rate $R_0$ from the best-fit parameters (though the actual usefulness of these results must be put under a certain degree of doubt due to the poor fit of the model). For $\\mu$, we obtain:\n",
    "\n",
    "$$\\mu = -m = 3.21, u[\\mu] = u[m] = 0.29$$\n",
    "\n",
    "So the attenuation parameter (keeping in mind the units of the thicknesses used) is $\\mu = 3.21 \\pm 0.29 \\text{mm}^{-1}$. The zero-shielding thickness can be obtained by manipulating the intercept:\n",
    "\n",
    "$$R_0 = \\exp(b) = 10.7, u[R_0] = u[b]\\exp(b) = 1.6$$\n",
    "\n",
    "So the zero-shielding count-rate obtained from the fit is $R_0 = 10.7 \\pm 1.6$ counts/second.\n",
    "\n",
    "**Comparisons:** Other groups also found a similar failure of the linear model fit, which tells us that the effect is not just due to some failure in our measurement apparatus but a global effect; this further supports our background count hypothesis. Comparing with X and Ys group, they found that $\\mu = 3.05 \\pm 0.18$. We did a t'-score between their attenuation coefficient and ours, and found that $t = 0.47$. Since $t' \\ll 1$, we conclude that there is not a significant difference between the attenuation coefficient measured by their group and by us. This makes sense as the attenuation coefficient should be independent of the source used, and should just depend on the material used in the attenuation, and we both used paper. Conversely, we could expect a difference in the value of $R_0$ (zero shielding count-rate) as this should depend on the radioactive source used. Their value for $R_0$ was $R_0 = 8.5 \\pm 1.2$. Doing a t'-score between their $R_0$ and ours, we find $t' = 1.8$. There is tension between the two results; it could be possible that a future measurement could resolve a difference, or make us less confident that one could exist. The two experiments were done with different sources, but different sources made from the same material (and of the same make), so both a difference and no difference would be consistent with what we could expect.\n",
    "\n",
    "Another comparison we can do internally is comparing the fit parameter $R_0$ with the experimental count-rate value measured at zero shielding, which was $R(0) = 11.8 \\pm 0.67$. Calculating a t-score between these values, we have $t = 0.67$. Since $t \\ll 1$, we are not confident at all there is a difference. This makes sense as the two should be quantifying the same thing."
   ]
  },
  {
   "cell_type": "code",
   "execution_count": 37,
   "id": "2b519ba5-1b46-4a29-bc53-0006a61a13a3",
   "metadata": {},
   "outputs": [
    {
     "name": "stdout",
     "output_type": "stream",
     "text": [
      "3.209639085970639 0.29195964405565905\n",
      "10.670486526038665 1.5948443503897036\n",
      "11.821922933034044 0.6655520679288949\n",
      "0.4654370206929422\n",
      "1.7948701251365173\n",
      "0.6662842787219528\n"
     ]
    }
   ],
   "source": [
    "# Calculations\n",
    "mu = -m\n",
    "umu = um\n",
    "print(mu, umu)\n",
    "R0 = np.exp(b)\n",
    "uR0 = ub*np.exp(b)\n",
    "print(R0, uR0)\n",
    "\n",
    "print(RateVec[0], uRateVec[0])\n",
    "\n",
    "tmu = np.abs(mu - 3.05)/np.sqrt(umu**2 + 0.18**2)\n",
    "tR0 = np.abs(R0 - 8.5)/np.sqrt(ub**2 + 1.2**2)\n",
    "tR0self = np.abs(R0 - RateVec[0])/np.sqrt(uR0**2 + uRateVec[0]**2)\n",
    "print(tmu)\n",
    "print(tR0)\n",
    "print(tR0self)                                     "
   ]
  },
  {
   "cell_type": "markdown",
   "id": "af238b15-5189-4fdd-8a28-3c1a1d700a0f",
   "metadata": {},
   "source": [
    "## Conclusion/Summary of Results"
   ]
  },
  {
   "cell_type": "markdown",
   "id": "484f7a4f-70f2-445d-bc2c-a6be7b9bdc58",
   "metadata": {},
   "source": [
    "In conclusion, we found through a fit of a linear model to the (linearized) data that the attenuation parameter was $\\mu = 3.21 \\pm 0.29 \\text{mm}^{-1}$ and the zero-shielding count-rate was $R_0 = 10.7 \\pm 1.6$ counts/second. The attenuation parameter was found to be consistent with the findings of other groups, and the zero-shielding count rate was found to be consistent with a direct measurement (both evaluated quantitatively using a t-score).\n",
    "\n",
    "We found that $\\chi_w^2 = 3.72 >1$ and that the residuals of the best-fit model exhibited a clear nonlinear trend. Both of these support the conclusion that the pure exponential model of $R(x) = R_0\\exp(-\\mu x)$ is not a good fit to the data. We hypothesized that this was due to background radiation that was independent of the shielding used, and we confirmed this hypothesis by measuring counts with the source removed. Further investigations would quantify the background count rate, and introduce it as an additional fit parameter to the model. We hypothesize that this would lead to a model that better fits the data, and a more accurate estimation of the attenuation coefficient."
   ]
  },
  {
   "cell_type": "code",
   "execution_count": null,
   "id": "a7f530df-8e74-4d80-b540-f1ac35217ebb",
   "metadata": {},
   "outputs": [],
   "source": []
  }
 ],
 "metadata": {
  "kernelspec": {
   "display_name": "Python 3 (ipykernel)",
   "language": "python",
   "name": "python3"
  },
  "language_info": {
   "codemirror_mode": {
    "name": "ipython",
    "version": 3
   },
   "file_extension": ".py",
   "mimetype": "text/x-python",
   "name": "python",
   "nbconvert_exporter": "python",
   "pygments_lexer": "ipython3",
   "version": "3.9.7"
  }
 },
 "nbformat": 4,
 "nbformat_minor": 5
}
