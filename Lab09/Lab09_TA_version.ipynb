{
 "cells": [
  {
   "cell_type": "markdown",
   "id": "8b42018a-744a-4a76-86d3-989d31c02420",
   "metadata": {
    "id": "61ed9912-a3b5-4024-b62b-49c912b1aa25"
   },
   "source": [
    "# Lab 09 - Radiation Shielding (Part 1)"
   ]
  },
  {
   "cell_type": "markdown",
   "id": "0ce96c66-1b26-42d1-9e77-df222a6c2b5d",
   "metadata": {
    "id": "355521ea-d050-45f2-93d5-988f72f018a2"
   },
   "source": [
    "Edit this cell and provide the information requested:\n",
    "\n",
    "- Your name: Marie Curie\n",
    "- Your student number: 12345678\n",
    "- Partner's name: Ray Gamma"
   ]
  },
  {
   "cell_type": "code",
   "execution_count": 1,
   "id": "bdbafbb8-f7aa-4c12-9c3e-1c109fef8893",
   "metadata": {
    "id": "b795858f-a049-496e-a9bb-8128e61d49c3"
   },
   "outputs": [],
   "source": [
    "import numpy as np\n",
    "import data_entry\n",
    "import matplotlib.pyplot as plt"
   ]
  },
  {
   "cell_type": "markdown",
   "id": "2a446d18-0231-4fb0-a547-fb419576f28b",
   "metadata": {},
   "source": [
    "## Familiarize"
   ]
  },
  {
   "cell_type": "markdown",
   "id": "3bf1ee22-e1f9-442b-9852-c97f7bf14733",
   "metadata": {},
   "source": [
    "### Experimental Goal"
   ]
  },
  {
   "cell_type": "markdown",
   "id": "9d45bf0c-e4b4-471d-9a09-e2038aac8e93",
   "metadata": {},
   "source": [
    "Find the radiation attenuation coefficient, $μ$, for low-energy gamma rays attenuated by shielding."
   ]
  },
  {
   "cell_type": "markdown",
   "id": "fe70bc6b-91cb-41bc-8fc2-5357a6e7defd",
   "metadata": {},
   "source": [
    "### Equipment familiarization"
   ]
  },
  {
   "cell_type": "markdown",
   "id": "320601ca-249c-47db-8dfb-ced217896e0a",
   "metadata": {},
   "source": [
    "We signed out source 1. The source is Fe-55 which emits gamma rays. These photons are detected by a Geiger counter. We placed the source in the holder beneath the Geiger tube and ensured the tube placement was '1' on the ruler. We know that if this is moved then the inverse square law tells us less counts will be detected.\n",
    "\n",
    "We also have a set of paper sheets (stapled in groups of five sheets as well as single sheets) to attenuate the radiation before it is detected. Without any paper on top of the source, we notice that the counts increase very rapidly. If we only add one or two sheets, the counts still increase fairly quickly, but when we add ten or more sheets the count rate is increasing very slowly. \n",
    "\n",
    "These observations tell us that we will need to do longer measurements for more sheets of paper if we want to have a similar number of counts, $N$, for each measurement. This would be a good goal to aim for since the relative uncertainty in the number of counts is $1/\\sqrt{N}$, so if we measured for a similar length of time for each measurement then the measurements with more sheets would systematically have less counts and thus higher relative uncertainty.\n",
    "\n",
    "Also from the $1/\\sqrt{N}$ relative uncertainty, we can see that even if we collect 100 counts we will still have a 10\\% relative uncertainty! Therefore, we will ensure that we collect at least 100 counts for each measurement."
   ]
  },
  {
   "cell_type": "markdown",
   "id": "5799fd10-6e58-4eb3-9164-45ca0b882c00",
   "metadata": {},
   "source": [
    "### Model familiarization"
   ]
  },
  {
   "cell_type": "markdown",
   "id": "133e5166-b573-4368-b50a-fc193eab077c",
   "metadata": {},
   "source": [
    "The model provided tells us that theoretically we would expect the detected count rate ($R$, counts per second) as a function of shielding thickness $x$ to be:\n",
    "\n",
    "$$ R(x) = R_0 e^{-\\mu x} $$\n",
    "\n",
    "where $R_0$ is the unattenuated count rate (i.e., if $x=0 \\implies e^{-\\mu x} = 1$) and $\\mu$ is the attenuation coefficient. \n",
    "\n",
    "Since the choice of units for $x$ is arbitrary and only affects the units of the resulting $\\mu$, we decide to measure $x$ in units of \"number of sheets\". This also mitigates any systematic error if we were to measure the thickness of the sheets directly, such as squishing the paper during measurement because it is quite soft.\n",
    "\n",
    "In our experiment we will choose a number of sheets, $x$, and then measure $R$ by collecting $N$ counts and dividing by the measured time $t$, i.e. $R = N/t$. This leaves $R_0$ and $\\mu$ as our unknowns. By performing various measurements at different $x$, when we plot our data the theory tells us that we would expect exponentially decaying data. Therefore, we can linearize our data by plotting $\\log R$ versus $x$:\n",
    "\n",
    "$$ \\log R = \\log R_0 - \\mu x .$$\n",
    "\n",
    "From the above equation, we can see that the slope of the linearized model is $m = -\\mu$ and the intercept is $b = \\log R_0$. Therefore, we can obtain estimates of $\\mu$ and $R_0$ (to address the experimental goal) by calculating $\\mu = -m$ and $R_0 = e^b$. However, since $R_0$ is modeling the unattenuated count rate, we can also directly estimate $R_0$ by measuring $R(x=0$), i.e. the count rate without any paper shielding."
   ]
  },
  {
   "cell_type": "markdown",
   "id": "45de71ea-c885-464e-9022-e955e4a765d9",
   "metadata": {},
   "source": [
    "### Uncertainty familiarization"
   ]
  },
  {
   "cell_type": "markdown",
   "id": "79542f08-e3c6-4bcd-b77b-0408d7a55e9e",
   "metadata": {
    "tags": []
   },
   "source": [
    "We already discussed uncertainty in the number of counts in the Equipment Familiarization section. However, since count rate is counts divided by seconds, we also have to factor in time uncertainty to calculate $u[R]$:\n",
    "\n",
    "$$ u[R] = R \\sqrt{\\frac{1}{N} + \\left(\\frac{u[t]}{t}\\right)^2}.$$\n",
    "\n",
    "We know that $u[t]$ comes from any imprecision in starting and stopping our timer when starting and stopping our measurement of $N$. To estimate this timing precision, we use the lap function of our timer and try to press 'lap' every second for twenty seconds. This gives us twenty data points for trying to \"start/stop\" the timer in one-second intervals. If we take the standard deviation of these twenty points, $\\sigma(t)$, this would be an estimate for our start/stop uncertainty. Since we need to factor in both starting and stopping the timer, we can say that $u[t] = \\sqrt{\\sigma(t)^2 + \\sigma(t)^2} = \\sqrt{2} \\sigma(t)$. Our calculation of $\\sigma(t)$ is shown below."
   ]
  },
  {
   "cell_type": "code",
   "execution_count": 2,
   "id": "14ba245b-887c-49a4-ac4f-c2c4023cf1f4",
   "metadata": {},
   "outputs": [
    {
     "name": "stdout",
     "output_type": "stream",
     "text": [
      "u[t] =  0.12430861425881701\n"
     ]
    }
   ],
   "source": [
    "timingData = np.array([0.94, 1.00, 0.93, 1.02, 1.16, 0.99, 0.93, 1.01, 1.03, 1.04, 1.01, 0.90, 1.02, 1.01, 1.08, 1.04, 0.90, 0.80, 1.19, 1.00])\n",
    "ut = np.sqrt(2) * np.std(timingData, ddof=1)\n",
    "print('u[t] = ', ut)"
   ]
  },
  {
   "cell_type": "markdown",
   "id": "62f0ab11-d265-4aa1-a171-6b4a8fbdbfc3",
   "metadata": {},
   "source": [
    "Since $u[t]$ only depends on starting/stopping the timer and has no dependence on how long the timer is run in between, we can use this estimate of $u[t]$ for each measurement. \n",
    "\n",
    "We note that for a typical measurement over many seconds, say 100, and a number of counts on the order of 100, the uncertainty in counts term is much more dominant than the timing uncertainty term when calculating $u[R]$, since $1/N \\approx 1/100 = 0.01$ whereas $(u[t]/t)^2 \\approx (0.124/100)^2 = 0.00000154$. Therefore, $u[R]/R \\approx u[N]/N$ and our earlier decision to ensure we have at least 100 counts for each measurement will also ensure we keep $u[R]/R$ reasonably low."
   ]
  },
  {
   "cell_type": "markdown",
   "id": "7a35548c-0127-4567-8ff9-c6f513160b90",
   "metadata": {},
   "source": [
    "### Initial measurement plan"
   ]
  },
  {
   "cell_type": "markdown",
   "id": "2ee935b2-56e3-4f55-a6f6-4eaddfc5d2bc",
   "metadata": {},
   "source": [
    "Based on the expected exponential decay of the counts with increasing thickness, the curve will be changing most rapidly at low thicknesses, so we will take more measurements in this range. Therefore, for our initial measurement plan we will take measurements with 0, 1, 2, 3, 4, 5, 7, 10, and 15 sheets. We will use the analytical two-parameter fit formula to determine our best estimate of $m$ and $b$ (with uncertainty) and then convert these to estimates of $\\mu$ and $R_0$. We will also compare our model estimate of $R_0$ with the direct measurement of $R(x=0)$.\n",
    "\n",
    "We will acquire approximately 100 counts for each measurement as a compromise between minimizing relative uncertainty and having enough measurements taken for a reliable fit."
   ]
  },
  {
   "cell_type": "markdown",
   "id": "817b21bd-5a98-42ce-a84c-f49c11185f88",
   "metadata": {},
   "source": [
    "## Measure and analyze"
   ]
  },
  {
   "cell_type": "code",
   "execution_count": 3,
   "id": "9ec8f260-27a2-4707-823a-5fdca2ea977a",
   "metadata": {},
   "outputs": [
    {
     "name": "stdout",
     "output_type": "stream",
     "text": [
      "Sheet name: lab09_data1.csv\n"
     ]
    },
    {
     "data": {
      "application/vnd.jupyter.widget-view+json": {
       "model_id": "98005e150b7e4d909ffb24dd27d34adb",
       "version_major": 2,
       "version_minor": 0
      },
      "text/plain": [
       "VBox(children=(Sheet(cells=(Cell(column_end=0, column_start=0, row_end=0, row_start=0, type='text', value='x')…"
      ]
     },
     "metadata": {},
     "output_type": "display_data"
    }
   ],
   "source": [
    "de = data_entry.sheet('lab09_data1')"
   ]
  },
  {
   "cell_type": "code",
   "execution_count": 4,
   "id": "72b12ebc-aa47-4017-85fc-bb188cffbc29",
   "metadata": {},
   "outputs": [
    {
     "data": {
      "image/png": "[encoded data removed]",
      "text/plain": [
       "<Figure size 432x288 with 1 Axes>"
      ]
     },
     "metadata": {
      "needs_background": "light"
     },
     "output_type": "display_data"
    },
    {
     "data": {
      "image/png": "[encoded data removed]",
      "text/plain": [
       "<Figure size 432x288 with 1 Axes>"
      ]
     },
     "metadata": {
      "needs_background": "light"
     },
     "output_type": "display_data"
    },
    {
     "data": {
      "image/png": "[encoded data removed]",
      "text/plain": [
       "<Figure size 432x288 with 1 Axes>"
      ]
     },
     "metadata": {
      "needs_background": "light"
     },
     "output_type": "display_data"
    },
    {
     "name": "stdout",
     "output_type": "stream",
     "text": [
      "Chi-squared 0.40219615892456456\n",
      "mu =  0.27510339334143585  +/-  0.007367672000997929\n",
      "Rel uncertainty in mu =  0.026781465366564113\n",
      "R0 =  13.222593385822627  +/-  0.6715394728161274\n",
      "Rel uncertainty in R0 =  0.05078727396519336\n"
     ]
    }
   ],
   "source": [
    "RateVec = NVec / tVec # calculating count rate\n",
    "uRateVec = RateVec * np.sqrt( 1/NVec + (ut/tVec)**2) # calculating uncertainty in count rate\n",
    "logRateVec = np.log(RateVec) # taking log of count rate\n",
    "ulogRateVec = uRateVec / RateVec # uncertainty of log(count rate), from the prelab\n",
    "\n",
    "### LINEAR PLOT ###\n",
    "\n",
    "# Step 1: find the limits of the data:\n",
    "xmin = np.min(xVec) # use the np.min function to find the smallest x value\n",
    "xmax = np.max(xVec) # same for max\n",
    "#print (xmin, xmax)  # uncomment to see what the limits are\n",
    "\n",
    "# Step 2: generate a bunch of x points between xmin and xmax\n",
    "xpoints = np.linspace(xmin, xmax, 200) # gives 200 evenly spaced points between xmin and xmax\n",
    "#print(xpoints) # uncomment to see the x values that were generated.\n",
    "\n",
    "plt.errorbar(xVec, RateVec, uRateVec, fmt=\"bo\", markersize=3, label=\"Experimental data\")\n",
    "plt.title(\"Linear-linear plot for Count rate vs. thickness of shielding\")\n",
    "plt.xlabel(\"Thickness (sheets)\")\n",
    "plt.ylabel(\"Count-rate (Bq)\")\n",
    "plt.legend()\n",
    "plt.show()\n",
    "\n",
    "\n",
    "### SEMILOG PLOT with model ###\n",
    "# Step 1: find the limits of the data:\n",
    "xmin = np.min(xVec) # use the np.min function to find the smallest x value\n",
    "xmax = np.max(xVec) # same for max\n",
    "#print (xmin, xmax)  # uncomment to see what the limits are\n",
    "\n",
    "# Step 2: generate a bunch of x points between xmin and xmax\n",
    "xpoints = np.linspace(xmin, xmax, 200) # gives 200 evenly spaced points between xmin and xmax\n",
    "#print(xpoints) # uncomment to see the x values that were generated.\n",
    "\n",
    "# Step 3: calculate the model values (for linear model with intercept):\n",
    "A = np.sum(1/ulogRateVec**2)\n",
    "B = np.sum(xVec*logRateVec/ulogRateVec**2)\n",
    "C = np.sum(xVec/ulogRateVec**2)\n",
    "D = np.sum(logRateVec/ulogRateVec**2)\n",
    "E = np.sum(xVec**2/ulogRateVec**2)\n",
    "Z = A * E - C**2\n",
    "\n",
    "##### ANALYTIC BEST FIT PARAMETERS HERE #############################\n",
    "slope = (A*B - C*D)/Z \n",
    "intercept = (D*E - B*C)/Z\n",
    "#####################################################################\n",
    "ypoints = xpoints * slope + intercept # this calculates the yvalues at all 200 points\n",
    "\n",
    "# Step 4: plot the curve. We plot this as a red line \"r-\" :\n",
    "plt.plot(xpoints, ypoints, \"r-\", label = \"log(R) = -mu x + log(R_0)\")\n",
    "\n",
    "# What's below is exactly what we had earlier:\n",
    "plt.errorbar(xVec, logRateVec, ulogRateVec, fmt=\"bo\", markersize=3, label=\"Log of Experimental data\")\n",
    "plt.title(\"Semi-log plot for Count rate vs. thickness of shielding\")\n",
    "plt.xlabel(\"Thickness (mm)\")\n",
    "plt.ylabel(\"Log(Count-rate)\")\n",
    "plt.legend()\n",
    "plt.show()\n",
    "\n",
    "\n",
    "# RESIDUALS PLOT\n",
    "# Step 1: Calculate the model at each x-datapoint\n",
    "ymodel = xVec * slope + intercept\n",
    "\n",
    "# Step 2: Calculate the residual vector\n",
    "resVec = logRateVec - ymodel\n",
    "\n",
    "# Step 3: Plot the residual vector against the x-data vector\n",
    "plt.errorbar(xVec, resVec, ulogRateVec, fmt=\"bo\", markersize = 3)\n",
    "\n",
    "# Step 4: Add a R = 0 x-axis (horizontal line) to the plot\n",
    "plt.hlines(y=0, xmin=xmin, xmax=xmax, color='k') # draw axis at y = 0.\n",
    "\n",
    "# Add axis labels and title, and show the graph\n",
    "plt.title(\"Residuals for Linear fit of semi-log count rate data\")\n",
    "plt.xlabel(\"Thickness (mm)\")\n",
    "plt.ylabel(\"Residual = data - model\")\n",
    "plt.show()\n",
    "\n",
    "# CHI-SQUARED CALCULATION\n",
    "N = len(xVec)\n",
    "P = 2  # 2 parameters; slope and intercept\n",
    "weightedsquaredresVec = (resVec/ulogRateVec)**2\n",
    "chisquared = np.sum(weightedsquaredresVec)/(N-P)\n",
    "print(\"Chi-squared\", chisquared)\n",
    "\n",
    "\n",
    "# UNCERTAINTY IN BEST FIT PARAMETERS\n",
    "uslope = np.sqrt(A/Z)\n",
    "uintercept = np.sqrt(E/Z)\n",
    "\n",
    "# CONVERTING TO R0 AND mu\n",
    "R0 = np.exp(intercept)\n",
    "uR0 = np.exp(intercept) * uintercept\n",
    "mu = -slope\n",
    "umu = uslope\n",
    "\n",
    "print('mu = ', mu, ' +/- ', umu)\n",
    "print('Rel uncertainty in mu = ', umu/mu)\n",
    "print('R0 = ', R0, ' +/- ', uR0)\n",
    "print('Rel uncertainty in R0 = ', uR0/R0)\n"
   ]
  },
  {
   "cell_type": "markdown",
   "id": "6e0b092d-cb32-434f-bdc8-6143856c987c",
   "metadata": {},
   "source": [
    "The analytic best fit to our initial dataset gives us a chi-squared of 0.40, which tells us our model is likely a good fit to the data, but we may have overestimated our uncertainties. Since we are using a theoretical estimate for uncertainty, there is not much we can do to change our calculation of uncertainty, but we can improve our measurements by increasing the number of counts. (As we showed in familiarization, $u[R]/R \\approx 1/\\sqrt{N}$.) From the residuals plot, there seems to be a random scatter of residuals above and below the x-axis with no systematic trend, but all error bars cross the x-axis, which supports overestimating uncertainty.\n",
    "\n",
    "From our model fit, we have estimates of $\\mu=0.2751 \\pm 0.0074$ (sheets)$^{-1}$ and $R_0 = 13.22 \\pm 0.67$ Bq. The relative uncertainties in these parameters were 0.027 and 0.051, respectively, which are reasonable. \n",
    "\n",
    "Other groups found similar results: $\\mu$ estiamtes ranged from 0.25 to 0.32 and $R_0$ ranged from 11.2 to 15.9. However, one group measured up to 20 sheets and found the measurements with a greater number of sheets did not agree with the model.\n",
    "\n",
    "Since we did not go to this thickness, in the next round we will add new data points at 12, 17, and 20 sheets. We will also reduce the uncertainty of our existing data points by increasing to approximately 300 counts per measurement. We will compare our updated relative uncertainty in the fitting parameters to see if these improvements help increase the precision of our model."
   ]
  },
  {
   "cell_type": "markdown",
   "id": "3a4d4489-7c87-4917-ab15-de78604d0f27",
   "metadata": {},
   "source": [
    "## Improvement round"
   ]
  },
  {
   "cell_type": "code",
   "execution_count": 5,
   "id": "26bbffa2-ea36-45c5-af67-5456befc0b2d",
   "metadata": {},
   "outputs": [
    {
     "name": "stdout",
     "output_type": "stream",
     "text": [
      "Sheet name: lab09_data2.csv\n"
     ]
    },
    {
     "data": {
      "application/vnd.jupyter.widget-view+json": {
       "model_id": "b3e77dab030e4736bf8ba92df0c3f115",
       "version_major": 2,
       "version_minor": 0
      },
      "text/plain": [
       "VBox(children=(Sheet(cells=(Cell(column_end=0, column_start=0, row_end=0, row_start=0, type='text', value='x')…"
      ]
     },
     "metadata": {},
     "output_type": "display_data"
    }
   ],
   "source": [
    "de2 = data_entry.sheet_copy('lab09_data1', 'lab09_data2')"
   ]
  },
  {
   "cell_type": "code",
   "execution_count": 6,
   "id": "68aa9f50-1024-4098-928f-08e88313b2f6",
   "metadata": {},
   "outputs": [
    {
     "data": {
      "image/png": "[encoded data removed]",
      "text/plain": [
       "<Figure size 432x288 with 1 Axes>"
      ]
     },
     "metadata": {
      "needs_background": "light"
     },
     "output_type": "display_data"
    },
    {
     "data": {
      "image/png": "[encoded data removed]",
      "text/plain": [
       "<Figure size 432x288 with 1 Axes>"
      ]
     },
     "metadata": {
      "needs_background": "light"
     },
     "output_type": "display_data"
    },
    {
     "data": {
      "image/png": "[encoded data removed]",
      "text/plain": [
       "<Figure size 432x288 with 1 Axes>"
      ]
     },
     "metadata": {
      "needs_background": "light"
     },
     "output_type": "display_data"
    },
    {
     "name": "stdout",
     "output_type": "stream",
     "text": [
      "Chi-squared 10.411972852554495\n",
      "mu =  0.2540381308636413  +/-  0.0029949922083424402\n",
      "Rel uncertainty in mu =  0.01178953804360199\n",
      "R0 =  13.261689235417737  +/-  0.36274193325081294\n",
      "Rel uncertainty in R0 =  0.027352619022473025\n"
     ]
    }
   ],
   "source": [
    "RateVec = NVec / tVec # calculating count rate\n",
    "uRateVec = RateVec * np.sqrt( 1/NVec + (ut/tVec)**2) # calculating uncertainty in count rate\n",
    "logRateVec = np.log(RateVec) # taking log of count rate\n",
    "ulogRateVec = uRateVec / RateVec # uncertainty of log(count rate), from the prelab\n",
    "\n",
    "### LINEAR PLOT ###\n",
    "\n",
    "# Step 1: find the limits of the data:\n",
    "xmin = np.min(xVec) # use the np.min function to find the smallest x value\n",
    "xmax = np.max(xVec) # same for max\n",
    "#print (xmin, xmax)  # uncomment to see what the limits are\n",
    "\n",
    "# Step 2: generate a bunch of x points between xmin and xmax\n",
    "xpoints = np.linspace(xmin, xmax, 200) # gives 200 evenly spaced points between xmin and xmax\n",
    "#print(xpoints) # uncomment to see the x values that were generated.\n",
    "\n",
    "plt.errorbar(xVec, RateVec, uRateVec, fmt=\"bo\", markersize=3, label=\"Experimental data\")\n",
    "plt.title(\"Linear-linear plot for Count rate vs. thickness of shielding\")\n",
    "plt.xlabel(\"Thickness (sheets)\")\n",
    "plt.ylabel(\"Count-rate (Bq)\")\n",
    "plt.legend()\n",
    "plt.show()\n",
    "\n",
    "\n",
    "### SEMILOG PLOT with model ###\n",
    "# Step 1: find the limits of the data:\n",
    "xmin = np.min(xVec) # use the np.min function to find the smallest x value\n",
    "xmax = np.max(xVec) # same for max\n",
    "#print (xmin, xmax)  # uncomment to see what the limits are\n",
    "\n",
    "# Step 2: generate a bunch of x points between xmin and xmax\n",
    "xpoints = np.linspace(xmin, xmax, 200) # gives 200 evenly spaced points between xmin and xmax\n",
    "#print(xpoints) # uncomment to see the x values that were generated.\n",
    "\n",
    "# Step 3: calculate the model values (for linear model with intercept):\n",
    "A = np.sum(1/ulogRateVec**2)\n",
    "B = np.sum(xVec*logRateVec/ulogRateVec**2)\n",
    "C = np.sum(xVec/ulogRateVec**2)\n",
    "D = np.sum(logRateVec/ulogRateVec**2)\n",
    "E = np.sum(xVec**2/ulogRateVec**2)\n",
    "Z = A * E - C**2\n",
    "\n",
    "##### ANALYTIC BEST FIT PARAMETERS HERE #############################\n",
    "slope = (A*B - C*D)/Z \n",
    "intercept = (D*E - B*C)/Z\n",
    "#####################################################################\n",
    "ypoints = xpoints * slope + intercept # this calculates the yvalues at all 200 points\n",
    "\n",
    "# Step 4: plot the curve. We plot this as a red line \"r-\" :\n",
    "plt.plot(xpoints, ypoints, \"r-\", label = \"log(R) = -mu x + log(R_0)\")\n",
    "\n",
    "# What's below is exactly what we had earlier:\n",
    "plt.errorbar(xVec, logRateVec, ulogRateVec, fmt=\"bo\", markersize=3, label=\"Log of Experimental data\")\n",
    "plt.title(\"Semi-log plot for Count rate vs. thickness of shielding\")\n",
    "plt.xlabel(\"Thickness (mm)\")\n",
    "plt.ylabel(\"Log(Count-rate)\")\n",
    "plt.legend()\n",
    "plt.show()\n",
    "\n",
    "\n",
    "# RESIDUALS PLOT\n",
    "# Step 1: Calculate the model at each x-datapoint\n",
    "ymodel = xVec * slope + intercept\n",
    "\n",
    "# Step 2: Calculate the residual vector\n",
    "resVec = logRateVec - ymodel\n",
    "\n",
    "# Step 3: Plot the residual vector against the x-data vector\n",
    "plt.errorbar(xVec, resVec, ulogRateVec, fmt=\"bo\", markersize = 3)\n",
    "\n",
    "# Step 4: Add a R = 0 x-axis (horizontal line) to the plot\n",
    "plt.hlines(y=0, xmin=xmin, xmax=xmax, color='k') # draw axis at y = 0.\n",
    "\n",
    "# Add axis labels and title, and show the graph\n",
    "plt.title(\"Residuals for Linear fit of semi-log count rate data\")\n",
    "plt.xlabel(\"Thickness (mm)\")\n",
    "plt.ylabel(\"Residual = data - model\")\n",
    "plt.show()\n",
    "\n",
    "# CHI-SQUARED CALCULATION\n",
    "N = len(xVec)\n",
    "P = 2  # 2 parameters; slope and intercept\n",
    "weightedsquaredresVec = (resVec/ulogRateVec)**2\n",
    "chisquared = np.sum(weightedsquaredresVec)/(N-P)\n",
    "print(\"Chi-squared\", chisquared)\n",
    "\n",
    "\n",
    "# UNCERTAINTY IN BEST FIT PARAMETERS\n",
    "uslope = np.sqrt(A/Z)\n",
    "uintercept = np.sqrt(E/Z)\n",
    "\n",
    "# CONVERTING TO R0 AND mu\n",
    "R0 = np.exp(intercept)\n",
    "uR0 = np.exp(intercept) * uintercept\n",
    "mu = -slope\n",
    "umu = uslope\n",
    "\n",
    "print('mu = ', mu, ' +/- ', umu)\n",
    "print('Rel uncertainty in mu = ', umu/mu)\n",
    "print('R0 = ', R0, ' +/- ', uR0)\n",
    "print('Rel uncertainty in R0 = ', uR0/R0)"
   ]
  },
  {
   "cell_type": "markdown",
   "id": "92868a07-b9c4-404f-91a0-3ae42e0f5e54",
   "metadata": {},
   "source": [
    "We ended up not having enough time to get to 300 counts for the 17 and 20 sheet measurements, so we only got 150 counts. Nevertheless, with our improved dataset we now see a similar result to the other group who measured more data at great thicknesses: a poor fit to the data in this range. The chi-squared is now 10.41, which indicates a poor fit or underestimated uncertainties. However, the residuals plot have a significant V-shaped systematic trend, which supports a poor fit to the data.\n",
    "\n",
    "Talking to the TAs and other groups, we realized that the model is underestimating the number of counts that we actually record, which tells us that there is radiation not coming from the source that is contributing to the total counts we measure. This is likely background radiation from space; we verified this by removing the source and running the counter, resulting in some counts being recorded. Since this only is apparent at greater thicknesses where the source radiation is more attenuated, this suggests this background count rate is constant and is only non-negligible at greater thicknesses. \n",
    "\n",
    "This means that our model should still provide a reasonable fit to the data in the lower thickness range. From looking at the residuals plot, it appears that all thickness up to 7 sheets of paper seem to have a negative linear trend in the residuals before leveling off and then increasing, so analyze this subset of the data below to determine our model fit parameters."
   ]
  },
  {
   "cell_type": "code",
   "execution_count": 7,
   "id": "ff00e15b-d16a-48d8-863c-8a799ae09c1c",
   "metadata": {},
   "outputs": [
    {
     "name": "stdout",
     "output_type": "stream",
     "text": [
      "Sheet name: lab09_data2_subset.csv\n"
     ]
    },
    {
     "data": {
      "application/vnd.jupyter.widget-view+json": {
       "model_id": "3f9a0cc94a8640f09516d66f7697f0d4",
       "version_major": 2,
       "version_minor": 0
      },
      "text/plain": [
       "VBox(children=(Sheet(cells=(Cell(column_end=0, column_start=0, row_end=0, row_start=0, type='text', value='x')…"
      ]
     },
     "metadata": {},
     "output_type": "display_data"
    }
   ],
   "source": [
    "de3 = data_entry.sheet_copy('lab09_data2', 'lab09_data2_subset')"
   ]
  },
  {
   "cell_type": "code",
   "execution_count": 8,
   "id": "ceb1a71e-903d-41d5-9853-d1ed920be678",
   "metadata": {},
   "outputs": [
    {
     "data": {
      "image/png": "[encoded data removed]",
      "text/plain": [
       "<Figure size 432x288 with 1 Axes>"
      ]
     },
     "metadata": {
      "needs_background": "light"
     },
     "output_type": "display_data"
    },
    {
     "data": {
      "image/png": "[encoded data removed]",
      "text/plain": [
       "<Figure size 432x288 with 1 Axes>"
      ]
     },
     "metadata": {
      "needs_background": "light"
     },
     "output_type": "display_data"
    },
    {
     "data": {
      "image/png": "[encoded data removed]",
      "text/plain": [
       "<Figure size 432x288 with 1 Axes>"
      ]
     },
     "metadata": {
      "needs_background": "light"
     },
     "output_type": "display_data"
    },
    {
     "name": "stdout",
     "output_type": "stream",
     "text": [
      "Chi-squared 0.9013890972231693\n",
      "mu =  0.2998469713955955  +/-  0.009773131809999037\n",
      "Rel uncertainty in mu =  0.032593731944369396\n",
      "R0 =  15.588439799086393  +/-  0.5871254155913922\n",
      "Rel uncertainty in R0 =  0.03766415517900659\n"
     ]
    }
   ],
   "source": [
    "RateVec = NVec / tVec # calculating count rate\n",
    "uRateVec = RateVec * np.sqrt( 1/NVec + (ut/tVec)**2) # calculating uncertainty in count rate\n",
    "logRateVec = np.log(RateVec) # taking log of count rate\n",
    "ulogRateVec = uRateVec / RateVec # uncertainty of log(count rate), from the prelab\n",
    "\n",
    "### LINEAR PLOT ###\n",
    "\n",
    "# Step 1: find the limits of the data:\n",
    "xmin = np.min(xVec) # use the np.min function to find the smallest x value\n",
    "xmax = np.max(xVec) # same for max\n",
    "#print (xmin, xmax)  # uncomment to see what the limits are\n",
    "\n",
    "# Step 2: generate a bunch of x points between xmin and xmax\n",
    "xpoints = np.linspace(xmin, xmax, 200) # gives 200 evenly spaced points between xmin and xmax\n",
    "#print(xpoints) # uncomment to see the x values that were generated.\n",
    "\n",
    "plt.errorbar(xVec, RateVec, uRateVec, fmt=\"bo\", markersize=3, label=\"Experimental data\")\n",
    "plt.title(\"Linear-linear plot for Count rate vs. thickness of shielding\")\n",
    "plt.xlabel(\"Thickness (sheets)\")\n",
    "plt.ylabel(\"Count-rate (Bq)\")\n",
    "plt.legend()\n",
    "plt.show()\n",
    "\n",
    "\n",
    "### SEMILOG PLOT with model ###\n",
    "# Step 1: find the limits of the data:\n",
    "xmin = np.min(xVec) # use the np.min function to find the smallest x value\n",
    "xmax = np.max(xVec) # same for max\n",
    "#print (xmin, xmax)  # uncomment to see what the limits are\n",
    "\n",
    "# Step 2: generate a bunch of x points between xmin and xmax\n",
    "xpoints = np.linspace(xmin, xmax, 200) # gives 200 evenly spaced points between xmin and xmax\n",
    "#print(xpoints) # uncomment to see the x values that were generated.\n",
    "\n",
    "# Step 3: calculate the model values (for linear model with intercept):\n",
    "A = np.sum(1/ulogRateVec**2)\n",
    "B = np.sum(xVec*logRateVec/ulogRateVec**2)\n",
    "C = np.sum(xVec/ulogRateVec**2)\n",
    "D = np.sum(logRateVec/ulogRateVec**2)\n",
    "E = np.sum(xVec**2/ulogRateVec**2)\n",
    "Z = A * E - C**2\n",
    "\n",
    "##### ANALYTIC BEST FIT PARAMETERS HERE #############################\n",
    "slope = (A*B - C*D)/Z \n",
    "intercept = (D*E - B*C)/Z\n",
    "#####################################################################\n",
    "ypoints = xpoints * slope + intercept # this calculates the yvalues at all 200 points\n",
    "\n",
    "# Step 4: plot the curve. We plot this as a red line \"r-\" :\n",
    "plt.plot(xpoints, ypoints, \"r-\", label = \"log(R) = -mu x + log(R_0)\")\n",
    "\n",
    "# What's below is exactly what we had earlier:\n",
    "plt.errorbar(xVec, logRateVec, ulogRateVec, fmt=\"bo\", markersize=3, label=\"Log of Experimental data\")\n",
    "plt.title(\"Semi-log plot for Count rate vs. thickness of shielding\")\n",
    "plt.xlabel(\"Thickness (mm)\")\n",
    "plt.ylabel(\"Log(Count-rate)\")\n",
    "plt.legend()\n",
    "plt.show()\n",
    "\n",
    "\n",
    "# RESIDUALS PLOT\n",
    "# Step 1: Calculate the model at each x-datapoint\n",
    "ymodel = xVec * slope + intercept\n",
    "\n",
    "# Step 2: Calculate the residual vector\n",
    "resVec = logRateVec - ymodel\n",
    "\n",
    "# Step 3: Plot the residual vector against the x-data vector\n",
    "plt.errorbar(xVec, resVec, ulogRateVec, fmt=\"bo\", markersize = 3)\n",
    "\n",
    "# Step 4: Add a R = 0 x-axis (horizontal line) to the plot\n",
    "plt.hlines(y=0, xmin=xmin, xmax=xmax, color='k') # draw axis at y = 0.\n",
    "\n",
    "# Add axis labels and title, and show the graph\n",
    "plt.title(\"Residuals for Linear fit of semi-log count rate data\")\n",
    "plt.xlabel(\"Thickness (mm)\")\n",
    "plt.ylabel(\"Residual = data - model\")\n",
    "plt.show()\n",
    "\n",
    "# CHI-SQUARED CALCULATION\n",
    "N = len(xVec)\n",
    "P = 2  # 2 parameters; slope and intercept\n",
    "weightedsquaredresVec = (resVec/ulogRateVec)**2\n",
    "chisquared = np.sum(weightedsquaredresVec)/(N-P)\n",
    "print(\"Chi-squared\", chisquared)\n",
    "\n",
    "\n",
    "# UNCERTAINTY IN BEST FIT PARAMETERS\n",
    "uslope = np.sqrt(A/Z)\n",
    "uintercept = np.sqrt(E/Z)\n",
    "\n",
    "# CONVERTING TO R0 AND mu\n",
    "R0 = np.exp(intercept)\n",
    "uR0 = np.exp(intercept) * uintercept\n",
    "mu = -slope\n",
    "umu = uslope\n",
    "\n",
    "print('mu = ', mu, ' +/- ', umu)\n",
    "print('Rel uncertainty in mu = ', umu/mu)\n",
    "print('R0 = ', R0, ' +/- ', uR0)\n",
    "print('Rel uncertainty in R0 = ', uR0/R0)"
   ]
  },
  {
   "cell_type": "markdown",
   "id": "a2491a49-d459-44eb-b496-6052f22099bc",
   "metadata": {},
   "source": [
    "The chi-squared of this fit over $x\\in[0,7]$ sheets is 0.90, which suggests a good fit to the data. This is supported by the residuals: even scatter above and below the x-axis, the V-shaped trend is no longer present, and not all error bars are crossing the x-axis.\n",
    "\n",
    "Our best fit parameters give $\\mu = 0.2998 \\pm 0.0098$ (sheets)$^{-1}$ and $R_0 = 15.58 \\pm 0.59$ Bq, with relative uncertainties of 0.033 and 0.038, respectively. Compared to our initial round, the relative uncertainty in $\\mu$ has gone up but gone down for $R_0$. This is likely because $R_0$ is more constrained in the fit by the low thickness measurements which are of higher quality compared to the initial round (more counts and hence lower relative uncertainty), whereas the estimate of $\\mu$ is determined across the entire dataset and we now have fewer data points in this subset of the improved dataset than the entire initial dataset. Therefore, to improve next week we could measure more data points where the model appears to work.\n",
    "\n",
    "Since we have our best fit-based estimate of $R_0$ from this round, we directly compare this estimate to the $R(x=0)$ measurement from the improved dataset using a t-score below, finding 0.66. This indicates we are not at all confident that the measured and fit-based $R_0$ values are different (as we should expect, since the data and model seem to agree here)."
   ]
  },
  {
   "cell_type": "code",
   "execution_count": 9,
   "id": "2792de88-94b4-4f61-87ab-bf2a58ce2dd7",
   "metadata": {},
   "outputs": [
    {
     "name": "stdout",
     "output_type": "stream",
     "text": [
      "t-score =  0.6579673087615604\n"
     ]
    }
   ],
   "source": [
    "tscore = (R0 - RateVec[0]) / np.sqrt(uR0**2 + uRateVec[0]**2)\n",
    "print('t-score = ', tscore)"
   ]
  },
  {
   "cell_type": "markdown",
   "id": "614c2a70-143a-459d-8640-ec242f617416",
   "metadata": {},
   "source": [
    "## Summary of results"
   ]
  },
  {
   "cell_type": "markdown",
   "id": "87b36d4a-3ea8-4238-bce2-8871789ffc6d",
   "metadata": {},
   "source": [
    "The experimental goal of this lab was to find the attenuation coefficient, $\\mu$, of paper for low-energy gamma radiation. We found through experimentation that measurements of low-energy gamma radiation are contaminated by background radiation, and hence the provided attenuation model that does not account for background radiation fails to model the measured count rate well when the attenuation is high, i.e. when the attenuated count rate from the source is comparable to the background radiation count level. We found this level is somewhere greater than seven sheets of paper.\n",
    "\n",
    "By constraining our model to fit over data acquired with seven or fewer sheets of paper, we were still able to obtain a good fit to the data (chi-squared of 0.9) which allowed us to estimate $\\mu = 0.2998 \\pm 0.0098$ (sheets)$^{-1}$. Since attenuation is governed by $e^{-\\mu x}$, when $x=1/\\mu$ the count rate will decrease to $1/e$ (roughly 37\\%) of its unattenuated count rate, $R_0$. This corresponds to about $1/0.2998 \\approx 3.3$ sheets of paper. From our model, we also estimated $R_0 = 15.58 \\pm 0.59$ Bq which agrees with a direct measurement of the count rate with no paper shielding (t-score of 0.69). \n",
    "\n",
    "Other groups that fit over a range of data where the model and data agree got similar results ($\\mu \\in [0.28, 0.33]$ (sheets)$^{-1}$), but other groups that fit over the dataset tended to have lower $\\mu$ estimates of about 0.2 (sheets)$^{-1}$ as we saw in our initial analysis over the entire dataset.\n",
    "\n",
    "Our improvements to our dataset between rounds were to measure at the extreme end of more sheets and increase the number of counts in each measurement. The latter improvement allowed us to discover the failure of the model at greater sheets, but also meant that our fit could only be performed over a subset of the data. With less but higher quality data points, we obtained a small reduction in relative uncertainty in our $R_0$ estimate but a small increase in the relative uncertainty in $\\mu$. For next time, we can measure more data points at lower thicknesses as well as determine precisely where the model begins to fail. Additionally, we could try to alter the model to incorporate background radiation so that it could describe the behaviour of the system over all thickness of attenuation."
   ]
  },
  {
   "cell_type": "markdown",
   "id": "098eacee-f21b-4459-9c2c-b0fcbb601400",
   "metadata": {},
   "source": [
    "### Submission\n",
    "\n",
    "As we've done before, please re-run your entire notebook, ensure that everything executed successfully (especially the final cell below) then export as html, and upload to Canvas."
   ]
  },
  {
   "cell_type": "code",
   "execution_count": 10,
   "id": "625ddab6-2662-4ff2-8f21-2f45beda1d88",
   "metadata": {},
   "outputs": [
    {
     "name": "stdout",
     "output_type": "stream",
     "text": [
      "Sheet: de   File: lab09_data1.csv\n"
     ]
    },
    {
     "data": {
      "text/html": [
       "<div>\n",
       "<style scoped>\n",
       "    .dataframe tbody tr th:only-of-type {\n",
       "        vertical-align: middle;\n",
       "    }\n",
       "\n",
       "    .dataframe tbody tr th {\n",
       "        vertical-align: top;\n",
       "    }\n",
       "\n",
       "    .dataframe thead th {\n",
       "        text-align: right;\n",
       "    }\n",
       "</style>\n",
       "<table border=\"1\" class=\"dataframe\">\n",
       "  <thead>\n",
       "    <tr style=\"text-align: right;\">\n",
       "      <th></th>\n",
       "      <th>x</th>\n",
       "      <th>N</th>\n",
       "      <th>t</th>\n",
       "    </tr>\n",
       "  </thead>\n",
       "  <tbody>\n",
       "    <tr>\n",
       "      <th>Units</th>\n",
       "      <td>number of sheets</td>\n",
       "      <td>counts</td>\n",
       "      <td>seconds</td>\n",
       "    </tr>\n",
       "    <tr>\n",
       "      <th>0</th>\n",
       "      <td>0</td>\n",
       "      <td>105</td>\n",
       "      <td>7.55</td>\n",
       "    </tr>\n",
       "    <tr>\n",
       "      <th>1</th>\n",
       "      <td>1</td>\n",
       "      <td>101</td>\n",
       "      <td>10.35</td>\n",
       "    </tr>\n",
       "    <tr>\n",
       "      <th>2</th>\n",
       "      <td>2</td>\n",
       "      <td>103</td>\n",
       "      <td>12.96</td>\n",
       "    </tr>\n",
       "    <tr>\n",
       "      <th>3</th>\n",
       "      <td>3</td>\n",
       "      <td>100</td>\n",
       "      <td>17.75</td>\n",
       "    </tr>\n",
       "    <tr>\n",
       "      <th>4</th>\n",
       "      <td>4</td>\n",
       "      <td>100</td>\n",
       "      <td>21.01</td>\n",
       "    </tr>\n",
       "    <tr>\n",
       "      <th>5</th>\n",
       "      <td>5</td>\n",
       "      <td>100</td>\n",
       "      <td>32.49</td>\n",
       "    </tr>\n",
       "    <tr>\n",
       "      <th>6</th>\n",
       "      <td>7</td>\n",
       "      <td>100</td>\n",
       "      <td>54.21</td>\n",
       "    </tr>\n",
       "    <tr>\n",
       "      <th>7</th>\n",
       "      <td>10</td>\n",
       "      <td>100</td>\n",
       "      <td>125.18</td>\n",
       "    </tr>\n",
       "    <tr>\n",
       "      <th>8</th>\n",
       "      <td>15</td>\n",
       "      <td>100</td>\n",
       "      <td>438.8</td>\n",
       "    </tr>\n",
       "  </tbody>\n",
       "</table>\n",
       "</div>"
      ],
      "text/plain": [
       "                      x       N        t\n",
       "Units  number of sheets  counts  seconds\n",
       "0                     0     105     7.55\n",
       "1                     1     101    10.35\n",
       "2                     2     103    12.96\n",
       "3                     3     100    17.75\n",
       "4                     4     100    21.01\n",
       "5                     5     100    32.49\n",
       "6                     7     100    54.21\n",
       "7                    10     100   125.18\n",
       "8                    15     100    438.8"
      ]
     },
     "metadata": {},
     "output_type": "display_data"
    },
    {
     "name": "stdout",
     "output_type": "stream",
     "text": [
      "Sheet: de2   File: lab09_data2.csv\n"
     ]
    },
    {
     "data": {
      "text/html": [
       "<div>\n",
       "<style scoped>\n",
       "    .dataframe tbody tr th:only-of-type {\n",
       "        vertical-align: middle;\n",
       "    }\n",
       "\n",
       "    .dataframe tbody tr th {\n",
       "        vertical-align: top;\n",
       "    }\n",
       "\n",
       "    .dataframe thead th {\n",
       "        text-align: right;\n",
       "    }\n",
       "</style>\n",
       "<table border=\"1\" class=\"dataframe\">\n",
       "  <thead>\n",
       "    <tr style=\"text-align: right;\">\n",
       "      <th></th>\n",
       "      <th>x</th>\n",
       "      <th>N</th>\n",
       "      <th>t</th>\n",
       "    </tr>\n",
       "  </thead>\n",
       "  <tbody>\n",
       "    <tr>\n",
       "      <th>Units</th>\n",
       "      <td>number of sheets</td>\n",
       "      <td>counts</td>\n",
       "      <td>seconds</td>\n",
       "    </tr>\n",
       "    <tr>\n",
       "      <th>0</th>\n",
       "      <td>0</td>\n",
       "      <td>306</td>\n",
       "      <td>20.53</td>\n",
       "    </tr>\n",
       "    <tr>\n",
       "      <th>1</th>\n",
       "      <td>1</td>\n",
       "      <td>300</td>\n",
       "      <td>23.55</td>\n",
       "    </tr>\n",
       "    <tr>\n",
       "      <th>2</th>\n",
       "      <td>2</td>\n",
       "      <td>301</td>\n",
       "      <td>36.61</td>\n",
       "    </tr>\n",
       "    <tr>\n",
       "      <th>3</th>\n",
       "      <td>3</td>\n",
       "      <td>301</td>\n",
       "      <td>49.21</td>\n",
       "    </tr>\n",
       "    <tr>\n",
       "      <th>4</th>\n",
       "      <td>4</td>\n",
       "      <td>300</td>\n",
       "      <td>62.37</td>\n",
       "    </tr>\n",
       "    <tr>\n",
       "      <th>5</th>\n",
       "      <td>5</td>\n",
       "      <td>300</td>\n",
       "      <td>85.87</td>\n",
       "    </tr>\n",
       "    <tr>\n",
       "      <th>6</th>\n",
       "      <td>7</td>\n",
       "      <td>300</td>\n",
       "      <td>157.47</td>\n",
       "    </tr>\n",
       "    <tr>\n",
       "      <th>7</th>\n",
       "      <td>10</td>\n",
       "      <td>300</td>\n",
       "      <td>337.74</td>\n",
       "    </tr>\n",
       "    <tr>\n",
       "      <th>8</th>\n",
       "      <td>15</td>\n",
       "      <td>300</td>\n",
       "      <td>1125.13</td>\n",
       "    </tr>\n",
       "    <tr>\n",
       "      <th>9</th>\n",
       "      <td>12</td>\n",
       "      <td>300</td>\n",
       "      <td>608.02</td>\n",
       "    </tr>\n",
       "    <tr>\n",
       "      <th>10</th>\n",
       "      <td>17</td>\n",
       "      <td>150</td>\n",
       "      <td>668.58</td>\n",
       "    </tr>\n",
       "    <tr>\n",
       "      <th>11</th>\n",
       "      <td>20</td>\n",
       "      <td>150</td>\n",
       "      <td>1086.15</td>\n",
       "    </tr>\n",
       "  </tbody>\n",
       "</table>\n",
       "</div>"
      ],
      "text/plain": [
       "                      x       N        t\n",
       "Units  number of sheets  counts  seconds\n",
       "0                     0     306    20.53\n",
       "1                     1     300    23.55\n",
       "2                     2     301    36.61\n",
       "3                     3     301    49.21\n",
       "4                     4     300    62.37\n",
       "5                     5     300    85.87\n",
       "6                     7     300   157.47\n",
       "7                    10     300   337.74\n",
       "8                    15     300  1125.13\n",
       "9                    12     300   608.02\n",
       "10                   17     150   668.58\n",
       "11                   20     150  1086.15"
      ]
     },
     "metadata": {},
     "output_type": "display_data"
    },
    {
     "name": "stdout",
     "output_type": "stream",
     "text": [
      "Sheet: de3   File: lab09_data2_subset.csv\n"
     ]
    },
    {
     "data": {
      "text/html": [
       "<div>\n",
       "<style scoped>\n",
       "    .dataframe tbody tr th:only-of-type {\n",
       "        vertical-align: middle;\n",
       "    }\n",
       "\n",
       "    .dataframe tbody tr th {\n",
       "        vertical-align: top;\n",
       "    }\n",
       "\n",
       "    .dataframe thead th {\n",
       "        text-align: right;\n",
       "    }\n",
       "</style>\n",
       "<table border=\"1\" class=\"dataframe\">\n",
       "  <thead>\n",
       "    <tr style=\"text-align: right;\">\n",
       "      <th></th>\n",
       "      <th>x</th>\n",
       "      <th>N</th>\n",
       "      <th>t</th>\n",
       "    </tr>\n",
       "  </thead>\n",
       "  <tbody>\n",
       "    <tr>\n",
       "      <th>Units</th>\n",
       "      <td>number of sheets</td>\n",
       "      <td>counts</td>\n",
       "      <td>seconds</td>\n",
       "    </tr>\n",
       "    <tr>\n",
       "      <th>0</th>\n",
       "      <td>0</td>\n",
       "      <td>306</td>\n",
       "      <td>20.53</td>\n",
       "    </tr>\n",
       "    <tr>\n",
       "      <th>1</th>\n",
       "      <td>1</td>\n",
       "      <td>300</td>\n",
       "      <td>23.55</td>\n",
       "    </tr>\n",
       "    <tr>\n",
       "      <th>2</th>\n",
       "      <td>2</td>\n",
       "      <td>301</td>\n",
       "      <td>36.61</td>\n",
       "    </tr>\n",
       "    <tr>\n",
       "      <th>3</th>\n",
       "      <td>3</td>\n",
       "      <td>301</td>\n",
       "      <td>49.21</td>\n",
       "    </tr>\n",
       "    <tr>\n",
       "      <th>4</th>\n",
       "      <td>4</td>\n",
       "      <td>300</td>\n",
       "      <td>62.37</td>\n",
       "    </tr>\n",
       "    <tr>\n",
       "      <th>5</th>\n",
       "      <td>5</td>\n",
       "      <td>300</td>\n",
       "      <td>85.87</td>\n",
       "    </tr>\n",
       "    <tr>\n",
       "      <th>6</th>\n",
       "      <td>7</td>\n",
       "      <td>300</td>\n",
       "      <td>157.47</td>\n",
       "    </tr>\n",
       "    <tr>\n",
       "      <th>7</th>\n",
       "      <td>#10</td>\n",
       "      <td>300</td>\n",
       "      <td>337.74</td>\n",
       "    </tr>\n",
       "    <tr>\n",
       "      <th>8</th>\n",
       "      <td>#15</td>\n",
       "      <td>300</td>\n",
       "      <td>1125.13</td>\n",
       "    </tr>\n",
       "    <tr>\n",
       "      <th>9</th>\n",
       "      <td>#12</td>\n",
       "      <td>300</td>\n",
       "      <td>608.02</td>\n",
       "    </tr>\n",
       "    <tr>\n",
       "      <th>10</th>\n",
       "      <td>#17</td>\n",
       "      <td>150</td>\n",
       "      <td>668.58</td>\n",
       "    </tr>\n",
       "    <tr>\n",
       "      <th>11</th>\n",
       "      <td>#20</td>\n",
       "      <td>150</td>\n",
       "      <td>1086.15</td>\n",
       "    </tr>\n",
       "  </tbody>\n",
       "</table>\n",
       "</div>"
      ],
      "text/plain": [
       "                      x       N        t\n",
       "Units  number of sheets  counts  seconds\n",
       "0                     0     306    20.53\n",
       "1                     1     300    23.55\n",
       "2                     2     301    36.61\n",
       "3                     3     301    49.21\n",
       "4                     4     300    62.37\n",
       "5                     5     300    85.87\n",
       "6                     7     300   157.47\n",
       "7                   #10     300   337.74\n",
       "8                   #15     300  1125.13\n",
       "9                   #12     300   608.02\n",
       "10                  #17     150   668.58\n",
       "11                  #20     150  1086.15"
      ]
     },
     "metadata": {},
     "output_type": "display_data"
    }
   ],
   "source": [
    "display_sheets()"
   ]
  },
  {
   "cell_type": "code",
   "execution_count": null,
   "id": "bec537b7-e880-47a3-97df-63b0b7f34467",
   "metadata": {},
   "outputs": [],
   "source": []
  }
 ],
 "metadata": {
  "kernelspec": {
   "display_name": "Python 3 (ipykernel)",
   "language": "python",
   "name": "python3"
  },
  "language_info": {
   "codemirror_mode": {
    "name": "ipython",
    "version": 3
   },
   "file_extension": ".py",
   "mimetype": "text/x-python",
   "name": "python",
   "nbconvert_exporter": "python",
   "pygments_lexer": "ipython3",
   "version": "3.10.5"
  },
  "widgets": {
   "application/vnd.jupyter.widget-state+json": {
    "state": {
     "036b36f1e19741fd9ccbd879d6951bfa": {
      "model_module": "ipysheet",
      "model_module_version": "~0.5.0",
      "model_name": "CellRangeModel",
      "state": {
       "_view_module": null,
       "_view_module_version": "",
       "column_end": 0,
       "column_start": 0,
       "row_end": 9,
       "row_start": 9,
       "type": "text",
       "value": "#10"
      }
     },
     "03d28e44d8df495a963d9fc89bcbc347": {
      "model_module": "ipysheet",
      "model_module_version": "~0.5.0",
      "model_name": "CellRangeModel",
      "state": {
       "_view_module": null,
       "_view_module_version": "",
       "row_end": 6,
       "row_start": 6,
       "type": "text",
       "value": "300"
      }
     },
     "07ab5324af9d4629b54101425a7d5d8a": {
      "model_module": "ipysheet",
      "model_module_version": "~0.5.0",
      "model_name": "CellRangeModel",
      "state": {
       "_view_module": null,
       "_view_module_version": "",
       "column_end": 2,
       "column_start": 2,
       "row_end": 2,
       "row_start": 2,
       "type": "text",
       "value": "7.55"
      }
     },
     "09de739873f145efbff36d0e76bd6de7": {
      "model_module": "@jupyter-widgets/controls",
      "model_module_version": "1.5.0",
      "model_name": "HBoxModel",
      "state": {
       "children": [
        "IPY_MODEL_0c1e36a269924514bf2e10c6ca2397e2",
        "IPY_MODEL_c431df7367a84c1fb98c05e815b602c5",
        "IPY_MODEL_aa12596fd6814d8dbcb1821401b88d71",
        "IPY_MODEL_adb5cdf0ce854ce68a1828c1b7eabd7b",
        "IPY_MODEL_738983a59497420081dde5e3e4531186"
       ],
       "layout": "IPY_MODEL_e01618cd452a4eee89ee1cc977ea77ef"
      }
     },
     "0a02630ab5704b83984b515cb7b55b4a": {
      "model_module": "ipysheet",
      "model_module_version": "~0.5.0",
      "model_name": "CellRangeModel",
      "state": {
       "_view_module": null,
       "_view_module_version": "",
       "row_end": 4,
       "row_start": 4,
       "type": "text",
       "value": "301"
      }
     },
     "0a3a28fd61c84548a69a40f417fd09e6": {
      "model_module": "ipysheet",
      "model_module_version": "~0.5.0",
      "model_name": "CellRangeModel",
      "state": {
       "_view_module": null,
       "_view_module_version": "",
       "column_end": 2,
       "column_start": 2,
       "row_end": 0,
       "row_start": 0,
       "type": "text",
       "value": "t"
      }
     },
     "0b3c05c86a5744e4aa3045fb7affdb55": {
      "model_module": "ipysheet",
      "model_module_version": "~0.5.0",
      "model_name": "CellRangeModel",
      "state": {
       "_view_module": null,
       "_view_module_version": "",
       "column_end": 2,
       "column_start": 2,
       "row_end": 4,
       "row_start": 4,
       "type": "text",
       "value": "12.96"
      }
     },
     "0c1e36a269924514bf2e10c6ca2397e2": {
      "model_module": "@jupyter-widgets/controls",
      "model_module_version": "1.5.0",
      "model_name": "ButtonModel",
      "state": {
       "description": "Undo",
       "layout": "IPY_MODEL_2a19864c16de428895b8ba28b0e749fc",
       "style": "IPY_MODEL_6df86ead3e974fe2a4649a27cfc501fe"
      }
     },
     "0e807d7c0e2e42b8950817608717f36d": {
      "model_module": "@jupyter-widgets/controls",
      "model_module_version": "1.5.0",
      "model_name": "ButtonStyleModel",
      "state": {}
     },
     "0f8c49fb59c64cd0b760fa6615b8715a": {
      "model_module": "ipysheet",
      "model_module_version": "~0.5.0",
      "model_name": "CellRangeModel",
      "state": {
       "_view_module": null,
       "_view_module_version": "",
       "column_end": 2,
       "column_start": 2,
       "type": "text",
       "value": "seconds"
      }
     },
     "10774bcf2c564aa69e389d430d2bc276": {
      "model_module": "ipysheet",
      "model_module_version": "~0.5.0",
      "model_name": "CellRangeModel",
      "state": {
       "_view_module": null,
       "_view_module_version": "",
       "row_end": 0,
       "row_start": 0,
       "type": "text",
       "value": "N"
      }
     },
     "108182f56304422aab3942fda4dcc427": {
      "model_module": "ipysheet",
      "model_module_version": "~0.5.0",
      "model_name": "CellRangeModel",
      "state": {
       "_view_module": null,
       "_view_module_version": "",
       "column_end": 2,
       "column_start": 2,
       "row_end": 7,
       "row_start": 7,
       "type": "text",
       "value": "85.87"
      }
     },
     "11b7305750ef42b0b1128a75fd4fcf38": {
      "model_module": "ipysheet",
      "model_module_version": "~0.5.0",
      "model_name": "CellRangeModel",
      "state": {
       "_view_module": null,
       "_view_module_version": "",
       "column_end": 0,
       "column_start": 0,
       "row_end": 8,
       "row_start": 8,
       "type": "text",
       "value": "7"
      }
     },
     "161dd7d7c3d640cc8c69ca56b0fd258a": {
      "model_module": "ipysheet",
      "model_module_version": "~0.5.0",
      "model_name": "CellRangeModel",
      "state": {
       "_view_module": null,
       "_view_module_version": "",
       "row_end": 5,
       "row_start": 5,
       "type": "text",
       "value": "100"
      }
     },
     "18a49081fe9b4b90833e09dd77aa8fa3": {
      "model_module": "@jupyter-widgets/base",
      "model_module_version": "1.2.0",
      "model_name": "LayoutModel",
      "state": {}
     },
     "1a252e002ae2492fb48e85cc7021ad3a": {
      "model_module": "ipysheet",
      "model_module_version": "~0.5.0",
      "model_name": "CellRangeModel",
      "state": {
       "_view_module": null,
       "_view_module_version": "",
       "column_end": 2,
       "column_start": 2,
       "type": "text",
       "value": "seconds"
      }
     },
     "1ccdf8f068474e03890e96a4b2a05519": {
      "model_module": "ipysheet",
      "model_module_version": "~0.5.0",
      "model_name": "CellRangeModel",
      "state": {
       "_view_module": null,
       "_view_module_version": "",
       "column_end": 0,
       "column_start": 0,
       "row_end": 13,
       "row_start": 13,
       "type": "text",
       "value": "#20"
      }
     },
     "1e1c48972ef949f8a833db9786dddaca": {
      "model_module": "ipysheet",
      "model_module_version": "~0.5.0",
      "model_name": "CellRangeModel",
      "state": {
       "_view_module": null,
       "_view_module_version": "",
       "column_end": 0,
       "column_start": 0,
       "row_end": 4,
       "row_start": 4,
       "type": "text",
       "value": "2"
      }
     },
     "1e370a370ab84a7fa853a0a478398e25": {
      "model_module": "ipysheet",
      "model_module_version": "~0.5.0",
      "model_name": "CellRangeModel",
      "state": {
       "_view_module": null,
       "_view_module_version": "",
       "row_end": 11,
       "row_start": 11,
       "type": "text",
       "value": "300"
      }
     },
     "241c7a535fe54074b7a017ff378fb1ee": {
      "model_module": "@jupyter-widgets/controls",
      "model_module_version": "1.5.0",
      "model_name": "ButtonModel",
      "state": {
       "description": "Add Column",
       "layout": "IPY_MODEL_377eb7a502164050a983af04d4e60c1e",
       "style": "IPY_MODEL_42a8451ba67b47c6baeaad12676596a3"
      }
     },
     "25bf91afe967489f857df233dbbb2f7a": {
      "model_module": "ipysheet",
      "model_module_version": "~0.5.0",
      "model_name": "CellRangeModel",
      "state": {
       "_view_module": null,
       "_view_module_version": "",
       "row_end": 8,
       "row_start": 8,
       "type": "text",
       "value": "300"
      }
     },
     "2715ec343e81491588d645866e5ff435": {
      "model_module": "ipysheet",
      "model_module_version": "~0.5.0",
      "model_name": "CellRangeModel",
      "state": {
       "_view_module": null,
       "_view_module_version": "",
       "row_end": 6,
       "row_start": 6,
       "type": "text",
       "value": "100"
      }
     },
     "28187684a66245eaa7c87847de6e50d3": {
      "model_module": "@jupyter-widgets/controls",
      "model_module_version": "1.5.0",
      "model_name": "ButtonStyleModel",
      "state": {}
     },
     "2a19864c16de428895b8ba28b0e749fc": {
      "model_module": "@jupyter-widgets/base",
      "model_module_version": "1.2.0",
      "model_name": "LayoutModel",
      "state": {}
     },
     "2bc1ee418ca64cb3977a5876500e7a55": {
      "model_module": "@jupyter-widgets/controls",
      "model_module_version": "1.5.0",
      "model_name": "ButtonModel",
      "state": {
       "description": "Add Row",
       "layout": "IPY_MODEL_5e0c51e968ef45b98b5b5e81d2d64cab",
       "style": "IPY_MODEL_5ce7e102d6304ca887b7cd3585e1774d"
      }
     },
     "2e93869d3756458c8b5d3cfcaaa30e84": {
      "model_module": "ipysheet",
      "model_module_version": "~0.5.0",
      "model_name": "CellRangeModel",
      "state": {
       "_view_module": null,
       "_view_module_version": "",
       "row_end": 3,
       "row_start": 3,
       "type": "text",
       "value": "300"
      }
     },
     "308aaa818983407281cb32886551ed08": {
      "model_module": "ipysheet",
      "model_module_version": "~0.5.0",
      "model_name": "CellRangeModel",
      "state": {
       "_view_module": null,
       "_view_module_version": "",
       "column_end": 2,
       "column_start": 2,
       "row_end": 11,
       "row_start": 11,
       "type": "text",
       "value": "608.02"
      }
     },
     "3275c49af54d4198aff9b94b7ddfa7d3": {
      "model_module": "ipysheet",
      "model_module_version": "~0.5.0",
      "model_name": "CellRangeModel",
      "state": {
       "_view_module": null,
       "_view_module_version": "",
       "column_end": 2,
       "column_start": 2,
       "row_end": 6,
       "row_start": 6,
       "type": "text",
       "value": "62.37"
      }
     },
     "331880bd1f074b228aeda825bcfb2618": {
      "model_module": "@jupyter-widgets/base",
      "model_module_version": "1.2.0",
      "model_name": "LayoutModel",
      "state": {}
     },
     "343892a8492b449d9182ec4c00aec23d": {
      "model_module": "@jupyter-widgets/controls",
      "model_module_version": "1.5.0",
      "model_name": "ButtonStyleModel",
      "state": {}
     },
     "35d166989d5c44bba68b6eed7ca191b3": {
      "model_module": "ipysheet",
      "model_module_version": "~0.5.0",
      "model_name": "CellRangeModel",
      "state": {
       "_view_module": null,
       "_view_module_version": "",
       "column_end": 0,
       "column_start": 0,
       "row_end": 13,
       "row_start": 13,
       "type": "text",
       "value": "20"
      }
     },
     "36bc32edf961432db43ca2175f43c6a4": {
      "model_module": "ipysheet",
      "model_module_version": "~0.5.0",
      "model_name": "CellRangeModel",
      "state": {
       "_view_module": null,
       "_view_module_version": "",
       "row_end": 7,
       "row_start": 7,
       "type": "text",
       "value": "100"
      }
     },
     "372adcae8b9e4d27a4259ab7a5d878f1": {
      "model_module": "@jupyter-widgets/controls",
      "model_module_version": "1.5.0",
      "model_name": "ButtonStyleModel",
      "state": {}
     },
     "374ebbd7e1de45c083fb75c4545f56d2": {
      "model_module": "ipysheet",
      "model_module_version": "~0.5.0",
      "model_name": "CellRangeModel",
      "state": {
       "_view_module": null,
       "_view_module_version": "",
       "column_end": 2,
       "column_start": 2,
       "row_end": 6,
       "row_start": 6,
       "type": "text",
       "value": "21.01"
      }
     },
     "3771c0f114424ea9a6822aa7ecdddf42": {
      "model_module": "@jupyter-widgets/base",
      "model_module_version": "1.2.0",
      "model_name": "LayoutModel",
      "state": {
       "height": "auto",
       "width": "auto"
      }
     },
     "377eb7a502164050a983af04d4e60c1e": {
      "model_module": "@jupyter-widgets/base",
      "model_module_version": "1.2.0",
      "model_name": "LayoutModel",
      "state": {}
     },
     "38e13dd7263748828c58b939e4883fca": {
      "model_module": "ipysheet",
      "model_module_version": "~0.5.0",
      "model_name": "CellRangeModel",
      "state": {
       "_view_module": null,
       "_view_module_version": "",
       "column_end": 0,
       "column_start": 0,
       "row_end": 2,
       "row_start": 2,
       "type": "text",
       "value": "0"
      }
     },
     "3904aa87c24047e9b06f054c7ec39b40": {
      "model_module": "ipysheet",
      "model_module_version": "~0.5.0",
      "model_name": "CellRangeModel",
      "state": {
       "_view_module": null,
       "_view_module_version": "",
       "column_end": 2,
       "column_start": 2,
       "row_end": 2,
       "row_start": 2,
       "type": "text",
       "value": "20.53"
      }
     },
     "399aed7779d8438598535a1d24716c80": {
      "model_module": "ipysheet",
      "model_module_version": "~0.5.0",
      "model_name": "CellRangeModel",
      "state": {
       "_view_module": null,
       "_view_module_version": "",
       "column_end": 0,
       "column_start": 0,
       "row_end": 7,
       "row_start": 7,
       "type": "text",
       "value": "5"
      }
     },
     "3c202d15b1354ed08251c623754f00cc": {
      "model_module": "ipysheet",
      "model_module_version": "~0.5.0",
      "model_name": "CellRangeModel",
      "state": {
       "_view_module": null,
       "_view_module_version": "",
       "column_end": 2,
       "column_start": 2,
       "row_end": 0,
       "row_start": 0,
       "type": "text",
       "value": "t"
      }
     },
     "3c47973c72ac454692c421516730cf0e": {
      "model_module": "ipysheet",
      "model_module_version": "~0.5.0",
      "model_name": "CellRangeModel",
      "state": {
       "_view_module": null,
       "_view_module_version": "",
       "row_end": 3,
       "row_start": 3,
       "type": "text",
       "value": "300"
      }
     },
     "3c583dd724ed4ad5bb7677e66429efe8": {
      "model_module": "@jupyter-widgets/base",
      "model_module_version": "1.2.0",
      "model_name": "LayoutModel",
      "state": {
       "height": "auto",
       "width": "auto"
      }
     },
     "3ec99497bdf74864b2ddc34ed1b54080": {
      "model_module": "ipysheet",
      "model_module_version": "~0.5.0",
      "model_name": "CellRangeModel",
      "state": {
       "_view_module": null,
       "_view_module_version": "",
       "column_end": 0,
       "column_start": 0,
       "row_end": 3,
       "row_start": 3,
       "type": "text",
       "value": "1"
      }
     },
     "3f9a0cc94a8640f09516d66f7697f0d4": {
      "model_module": "@jupyter-widgets/controls",
      "model_module_version": "1.5.0",
      "model_name": "VBoxModel",
      "state": {
       "children": [
        "IPY_MODEL_c1f8f9460f4145cfbcbd74a480adcda7",
        "IPY_MODEL_43a200672b3346ec9e074fc8eb9b5176",
        "IPY_MODEL_f6dd37a4a1ba492c84aeef09fd38bd96"
       ],
       "layout": "IPY_MODEL_abde415b752245728964f33bcb649657"
      }
     },
     "42a8451ba67b47c6baeaad12676596a3": {
      "model_module": "@jupyter-widgets/controls",
      "model_module_version": "1.5.0",
      "model_name": "ButtonStyleModel",
      "state": {}
     },
     "434172ae91db440e8124444a7db3d647": {
      "model_module": "ipysheet",
      "model_module_version": "~0.5.0",
      "model_name": "CellRangeModel",
      "state": {
       "_view_module": null,
       "_view_module_version": "",
       "column_end": 2,
       "column_start": 2,
       "row_end": 2,
       "row_start": 2,
       "type": "text",
       "value": "20.53"
      }
     },
     "43a200672b3346ec9e074fc8eb9b5176": {
      "model_module": "@jupyter-widgets/controls",
      "model_module_version": "1.5.0",
      "model_name": "HBoxModel",
      "state": {
       "children": [
        "IPY_MODEL_93b4f726b09d46d8a9122c7e17d55180",
        "IPY_MODEL_da35892767fe4c98b20bd04587849db2",
        "IPY_MODEL_2bc1ee418ca64cb3977a5876500e7a55",
        "IPY_MODEL_241c7a535fe54074b7a017ff378fb1ee",
        "IPY_MODEL_a2f210b1b59341b4b47b8c615b739335"
       ],
       "layout": "IPY_MODEL_95d029dd5684431199fc8b120a8fcc64"
      }
     },
     "441b3a61e709459eba3784f6179e2d3e": {
      "model_module": "ipysheet",
      "model_module_version": "~0.5.0",
      "model_name": "CellRangeModel",
      "state": {
       "_view_module": null,
       "_view_module_version": "",
       "column_end": 0,
       "column_start": 0,
       "row_end": 10,
       "row_start": 10,
       "type": "text",
       "value": "15"
      }
     },
     "44f8ea7979ae41c180f6e3b673604f46": {
      "model_module": "@jupyter-widgets/base",
      "model_module_version": "1.2.0",
      "model_name": "LayoutModel",
      "state": {}
     },
     "48f76b6373a44465be6e2cda2f385d40": {
      "model_module": "@jupyter-widgets/controls",
      "model_module_version": "1.5.0",
      "model_name": "ButtonModel",
      "state": {
       "description": "Add Column",
       "layout": "IPY_MODEL_642c17b924d542209df01dd3c9feb4c1",
       "style": "IPY_MODEL_372adcae8b9e4d27a4259ab7a5d878f1"
      }
     },
     "4bc780f9408a4f42b3c637d3745607d3": {
      "model_module": "@jupyter-widgets/controls",
      "model_module_version": "1.5.0",
      "model_name": "ButtonStyleModel",
      "state": {}
     },
     "4dbced71bcde4e3d9db502edc916d159": {
      "model_module": "ipysheet",
      "model_module_version": "~0.5.0",
      "model_name": "CellRangeModel",
      "state": {
       "_view_module": null,
       "_view_module_version": "",
       "row_end": 10,
       "row_start": 10,
       "type": "text",
       "value": "100"
      }
     },
     "4e3858636e634ceda1d516152528a205": {
      "model_module": "@jupyter-widgets/base",
      "model_module_version": "1.2.0",
      "model_name": "LayoutModel",
      "state": {}
     },
     "52f89e21f8b94447bdcb4109fc0e095f": {
      "model_module": "@jupyter-widgets/controls",
      "model_module_version": "1.5.0",
      "model_name": "ButtonModel",
      "state": {
       "description": "Add Row",
       "layout": "IPY_MODEL_44f8ea7979ae41c180f6e3b673604f46",
       "style": "IPY_MODEL_a26902aeeed2485e9f4dc1f1680d05ec"
      }
     },
     "5395e39d30b34f21b85d42a3598b125d": {
      "model_module": "ipysheet",
      "model_module_version": "~0.5.0",
      "model_name": "CellRangeModel",
      "state": {
       "_view_module": null,
       "_view_module_version": "",
       "column_end": 0,
       "column_start": 0,
       "type": "text",
       "value": "number of sheets"
      }
     },
     "5430a1f9f0e446d6be4b9474cde2c408": {
      "model_module": "ipysheet",
      "model_module_version": "~0.5.0",
      "model_name": "CellRangeModel",
      "state": {
       "_view_module": null,
       "_view_module_version": "",
       "row_end": 5,
       "row_start": 5,
       "type": "text",
       "value": "301"
      }
     },
     "54b44ed471804228b58c84dc094f272d": {
      "model_module": "ipysheet",
      "model_module_version": "~0.5.0",
      "model_name": "CellRangeModel",
      "state": {
       "_view_module": null,
       "_view_module_version": "",
       "column_end": 2,
       "column_start": 2,
       "type": "text",
       "value": "seconds"
      }
     },
     "5526c81ff1c440d7b888f55d33424a00": {
      "model_module": "ipysheet",
      "model_module_version": "~0.5.0",
      "model_name": "CellRangeModel",
      "state": {
       "_view_module": null,
       "_view_module_version": "",
       "row_end": 10,
       "row_start": 10,
       "type": "text",
       "value": "300"
      }
     },
     "562e83c140554844b15613fa12528fc0": {
      "model_module": "ipysheet",
      "model_module_version": "~0.5.0",
      "model_name": "CellRangeModel",
      "state": {
       "_view_module": null,
       "_view_module_version": "",
       "column_end": 2,
       "column_start": 2,
       "row_end": 3,
       "row_start": 3,
       "type": "text",
       "value": "10.35"
      }
     },
     "5cb762f6ee0945e59cf8639a6a0c2dc6": {
      "model_module": "@jupyter-widgets/base",
      "model_module_version": "1.2.0",
      "model_name": "LayoutModel",
      "state": {
       "height": "auto",
       "width": "auto"
      }
     },
     "5cc2f5c90f094edd8a8cb0f46431b48a": {
      "model_module": "ipysheet",
      "model_module_version": "~0.5.0",
      "model_name": "CellRangeModel",
      "state": {
       "_view_module": null,
       "_view_module_version": "",
       "column_end": 2,
       "column_start": 2,
       "row_end": 3,
       "row_start": 3,
       "type": "text",
       "value": "23.55"
      }
     },
     "5ce7e102d6304ca887b7cd3585e1774d": {
      "model_module": "@jupyter-widgets/controls",
      "model_module_version": "1.5.0",
      "model_name": "ButtonStyleModel",
      "state": {}
     },
     "5db838e6d988419692381fd9a92b917d": {
      "model_module": "ipysheet",
      "model_module_version": "~0.5.0",
      "model_name": "CellRangeModel",
      "state": {
       "_view_module": null,
       "_view_module_version": "",
       "column_end": 0,
       "column_start": 0,
       "row_end": 2,
       "row_start": 2,
       "type": "text",
       "value": "0"
      }
     },
     "5e0c51e968ef45b98b5b5e81d2d64cab": {
      "model_module": "@jupyter-widgets/base",
      "model_module_version": "1.2.0",
      "model_name": "LayoutModel",
      "state": {}
     },
     "6392dd8148ad45fdbb043f01fa5b4c93": {
      "model_module": "ipysheet",
      "model_module_version": "~0.5.0",
      "model_name": "CellRangeModel",
      "state": {
       "_view_module": null,
       "_view_module_version": "",
       "row_end": 9,
       "row_start": 9,
       "type": "text",
       "value": "300"
      }
     },
     "642c17b924d542209df01dd3c9feb4c1": {
      "model_module": "@jupyter-widgets/base",
      "model_module_version": "1.2.0",
      "model_name": "LayoutModel",
      "state": {}
     },
     "6444ab7a634b4f3c877ba516f0ae06b0": {
      "model_module": "ipysheet",
      "model_module_version": "~0.5.0",
      "model_name": "CellRangeModel",
      "state": {
       "_view_module": null,
       "_view_module_version": "",
       "column_end": 2,
       "column_start": 2,
       "row_end": 5,
       "row_start": 5,
       "type": "text",
       "value": "17.75"
      }
     },
     "67ca527606fa450488a4e24bbb767d5b": {
      "model_module": "@jupyter-widgets/base",
      "model_module_version": "1.2.0",
      "model_name": "LayoutModel",
      "state": {}
     },
     "6c33ea085db44f62bca5c442c6eebfc3": {
      "model_module": "ipysheet",
      "model_module_version": "~0.5.0",
      "model_name": "CellRangeModel",
      "state": {
       "_view_module": null,
       "_view_module_version": "",
       "column_end": 2,
       "column_start": 2,
       "row_end": 10,
       "row_start": 10,
       "type": "text",
       "value": "1125.13"
      }
     },
     "6df86ead3e974fe2a4649a27cfc501fe": {
      "model_module": "@jupyter-widgets/controls",
      "model_module_version": "1.5.0",
      "model_name": "ButtonStyleModel",
      "state": {}
     },
     "6e6b89d95cb348df94e40e0d4c17cf84": {
      "model_module": "ipysheet",
      "model_module_version": "~0.5.0",
      "model_name": "CellRangeModel",
      "state": {
       "_view_module": null,
       "_view_module_version": "",
       "column_end": 0,
       "column_start": 0,
       "row_end": 7,
       "row_start": 7,
       "type": "text",
       "value": "5"
      }
     },
     "6e9420e57e05493ebbe2d63c9b83b086": {
      "model_module": "ipysheet",
      "model_module_version": "~0.5.0",
      "model_name": "CellRangeModel",
      "state": {
       "_view_module": null,
       "_view_module_version": "",
       "column_end": 0,
       "column_start": 0,
       "row_end": 12,
       "row_start": 12,
       "type": "text",
       "value": "#17"
      }
     },
     "6ede166fb6d24d149b69ee78393b3125": {
      "model_module": "ipysheet",
      "model_module_version": "~0.5.0",
      "model_name": "CellRangeModel",
      "state": {
       "_view_module": null,
       "_view_module_version": "",
       "column_end": 2,
       "column_start": 2,
       "row_end": 9,
       "row_start": 9,
       "type": "text",
       "value": "125.18"
      }
     },
     "6fcf31dbe92645f188327eb2afc57396": {
      "model_module": "ipysheet",
      "model_module_version": "~0.5.0",
      "model_name": "CellRangeModel",
      "state": {
       "_view_module": null,
       "_view_module_version": "",
       "column_end": 0,
       "column_start": 0,
       "row_end": 0,
       "row_start": 0,
       "type": "text",
       "value": "x"
      }
     },
     "70385520b17443908ddbc36a62b2af5b": {
      "model_module": "@jupyter-widgets/base",
      "model_module_version": "1.2.0",
      "model_name": "LayoutModel",
      "state": {}
     },
     "71411ad0343548adb7c21749df9efd5d": {
      "model_module": "ipysheet",
      "model_module_version": "~0.5.0",
      "model_name": "SheetModel",
      "state": {
       "cells": [
        "IPY_MODEL_6fcf31dbe92645f188327eb2afc57396",
        "IPY_MODEL_f7fd8106785546d795438642ca96fc83",
        "IPY_MODEL_d47ea627e716499d83ac9f183a2484c5",
        "IPY_MODEL_5395e39d30b34f21b85d42a3598b125d",
        "IPY_MODEL_91aa4700d312472cbedd1873756f6668",
        "IPY_MODEL_0f8c49fb59c64cd0b760fa6615b8715a",
        "IPY_MODEL_38e13dd7263748828c58b939e4883fca",
        "IPY_MODEL_a5ad6599a4964dd3994c133334b43ad0",
        "IPY_MODEL_07ab5324af9d4629b54101425a7d5d8a",
        "IPY_MODEL_3ec99497bdf74864b2ddc34ed1b54080",
        "IPY_MODEL_c1bb43f150da444591a81c6031ab3f1f",
        "IPY_MODEL_562e83c140554844b15613fa12528fc0",
        "IPY_MODEL_7680d3d02d294ba1ae1f0f261008c977",
        "IPY_MODEL_cdd81127e53849fda600937183886434",
        "IPY_MODEL_0b3c05c86a5744e4aa3045fb7affdb55",
        "IPY_MODEL_cabba275cd3e474ebaa0e033586c9e83",
        "IPY_MODEL_161dd7d7c3d640cc8c69ca56b0fd258a",
        "IPY_MODEL_6444ab7a634b4f3c877ba516f0ae06b0",
        "IPY_MODEL_b276381ce91a4f0f9620588f55ccea77",
        "IPY_MODEL_2715ec343e81491588d645866e5ff435",
        "IPY_MODEL_374ebbd7e1de45c083fb75c4545f56d2",
        "IPY_MODEL_6e6b89d95cb348df94e40e0d4c17cf84",
        "IPY_MODEL_36bc32edf961432db43ca2175f43c6a4",
        "IPY_MODEL_a4dc96dd2eae485b8e10f2958a701efd",
        "IPY_MODEL_8f606cdceacc4c28b72f200a793272d9",
        "IPY_MODEL_d8f4fbf06f4c44c18a0aa3a3560ba842",
        "IPY_MODEL_a416eaa67f7444b2a3e98becced8f8c3",
        "IPY_MODEL_8c64f601090b4db2801ec805cf74071e",
        "IPY_MODEL_f0f4881388a14795979323c185a78ee7",
        "IPY_MODEL_6ede166fb6d24d149b69ee78393b3125",
        "IPY_MODEL_441b3a61e709459eba3784f6179e2d3e",
        "IPY_MODEL_4dbced71bcde4e3d9db502edc916d159",
        "IPY_MODEL_c925232ad76a4d52941c8541e6fc1c4b"
       ],
       "column_headers": false,
       "columns": 3,
       "layout": "IPY_MODEL_3771c0f114424ea9a6822aa7ecdddf42",
       "row_headers": [
        "Variable:",
        "Units:",
        "0",
        "1",
        "2",
        "3",
        "4",
        "5",
        "6",
        "7",
        "8"
       ],
       "rows": 11
      }
     },
     "722ec20729e741a1aebcf088b50253c6": {
      "model_module": "ipysheet",
      "model_module_version": "~0.5.0",
      "model_name": "CellRangeModel",
      "state": {
       "_view_module": null,
       "_view_module_version": "",
       "column_end": 2,
       "column_start": 2,
       "row_end": 13,
       "row_start": 13,
       "type": "text",
       "value": "1086.15"
      }
     },
     "738983a59497420081dde5e3e4531186": {
      "model_module": "@jupyter-widgets/controls",
      "model_module_version": "1.5.0",
      "model_name": "ButtonModel",
      "state": {
       "description": "Generate Vectors",
       "layout": "IPY_MODEL_18a49081fe9b4b90833e09dd77aa8fa3",
       "style": "IPY_MODEL_0e807d7c0e2e42b8950817608717f36d"
      }
     },
     "7680d3d02d294ba1ae1f0f261008c977": {
      "model_module": "ipysheet",
      "model_module_version": "~0.5.0",
      "model_name": "CellRangeModel",
      "state": {
       "_view_module": null,
       "_view_module_version": "",
       "column_end": 0,
       "column_start": 0,
       "row_end": 4,
       "row_start": 4,
       "type": "text",
       "value": "2"
      }
     },
     "79d1dbe20c6648a0b1845830ddc7d50f": {
      "model_module": "ipysheet",
      "model_module_version": "~0.5.0",
      "model_name": "CellRangeModel",
      "state": {
       "_view_module": null,
       "_view_module_version": "",
       "column_end": 2,
       "column_start": 2,
       "row_end": 12,
       "row_start": 12,
       "type": "text",
       "value": "668.58"
      }
     },
     "7a48ae2b91224397a7fde8e5bc60bb25": {
      "model_module": "ipysheet",
      "model_module_version": "~0.5.0",
      "model_name": "CellRangeModel",
      "state": {
       "_view_module": null,
       "_view_module_version": "",
       "column_end": 0,
       "column_start": 0,
       "row_end": 3,
       "row_start": 3,
       "type": "text",
       "value": "1"
      }
     },
     "7d20d48bee5a4d988819f1fe4adece06": {
      "model_module": "ipysheet",
      "model_module_version": "~0.5.0",
      "model_name": "CellRangeModel",
      "state": {
       "_view_module": null,
       "_view_module_version": "",
       "row_end": 12,
       "row_start": 12,
       "type": "text",
       "value": "150"
      }
     },
     "7d2dc0a18c0c4f37950682b97491ffe6": {
      "model_module": "ipysheet",
      "model_module_version": "~0.5.0",
      "model_name": "CellRangeModel",
      "state": {
       "_view_module": null,
       "_view_module_version": "",
       "column_end": 2,
       "column_start": 2,
       "row_end": 5,
       "row_start": 5,
       "type": "text",
       "value": "49.21"
      }
     },
     "802792549d734b56bad16c4130d01832": {
      "model_module": "ipysheet",
      "model_module_version": "~0.5.0",
      "model_name": "CellRangeModel",
      "state": {
       "_view_module": null,
       "_view_module_version": "",
       "column_end": 2,
       "column_start": 2,
       "row_end": 4,
       "row_start": 4,
       "type": "text",
       "value": "36.61"
      }
     },
     "80cdf3891e2f4d50b89318ea1382e253": {
      "model_module": "ipysheet",
      "model_module_version": "~0.5.0",
      "model_name": "SheetModel",
      "state": {
       "cells": [
        "IPY_MODEL_e231b950106a4a18b5ac17a4224360b1",
        "IPY_MODEL_10774bcf2c564aa69e389d430d2bc276",
        "IPY_MODEL_0a3a28fd61c84548a69a40f417fd09e6",
        "IPY_MODEL_90c572e250a74e39b9f263d914eca528",
        "IPY_MODEL_d890c20718104c1b9503d2b89e9d0e37",
        "IPY_MODEL_54b44ed471804228b58c84dc094f272d",
        "IPY_MODEL_5db838e6d988419692381fd9a92b917d",
        "IPY_MODEL_e39eb70590404531a071e00ff1df7574",
        "IPY_MODEL_3904aa87c24047e9b06f054c7ec39b40",
        "IPY_MODEL_f0eb400e3c8046529378f6592fdba269",
        "IPY_MODEL_3c47973c72ac454692c421516730cf0e",
        "IPY_MODEL_b5bc5e09368c496ea75e6c6a325773b8",
        "IPY_MODEL_db3390d98e3b46ab9db9bc236868fe88",
        "IPY_MODEL_bcd9c044d7f940ec8439096343981e52",
        "IPY_MODEL_802792549d734b56bad16c4130d01832",
        "IPY_MODEL_b90354d667ff43e99e76df19042cccce",
        "IPY_MODEL_5430a1f9f0e446d6be4b9474cde2c408",
        "IPY_MODEL_ecf9054bcf094d5f9978332d432bc1c5",
        "IPY_MODEL_8930db1686f74353bf2fe56328ce2070",
        "IPY_MODEL_03d28e44d8df495a963d9fc89bcbc347",
        "IPY_MODEL_a693194a9b494fba85dfdbd279313136",
        "IPY_MODEL_399aed7779d8438598535a1d24716c80",
        "IPY_MODEL_9f2e774640e9464cac4979c7d12b7648",
        "IPY_MODEL_108182f56304422aab3942fda4dcc427",
        "IPY_MODEL_11b7305750ef42b0b1128a75fd4fcf38",
        "IPY_MODEL_889855f4460142a4aa742ca96e0fe77c",
        "IPY_MODEL_db2a0d5f2a334c61b245c985086fa883",
        "IPY_MODEL_dd3960bf85a945e384de82cf4e52b8c5",
        "IPY_MODEL_6392dd8148ad45fdbb043f01fa5b4c93",
        "IPY_MODEL_c7306b378c6b4e1a94151130498eb6a0",
        "IPY_MODEL_fd9b0872c6a34c46b6d8b7f8de1d721f",
        "IPY_MODEL_b296114d91c14cd8845ca01b2cc44a17",
        "IPY_MODEL_83fbd7ee236149f08751ad4bf189cbba",
        "IPY_MODEL_8ab3d45b50334cb29ee94fa613c8de08",
        "IPY_MODEL_e1eff1a5851b44bc8c28ce1811e82b48",
        "IPY_MODEL_308aaa818983407281cb32886551ed08",
        "IPY_MODEL_9cc38e783bbc429ea165450d1092830e",
        "IPY_MODEL_fba5841006784e2087a4a2e39ea845c1",
        "IPY_MODEL_f7734c44062c462396086df5a7159523",
        "IPY_MODEL_35d166989d5c44bba68b6eed7ca191b3",
        "IPY_MODEL_ac4e1fdec32144c5886ba5cf667fe5d0",
        "IPY_MODEL_722ec20729e741a1aebcf088b50253c6"
       ],
       "column_headers": false,
       "columns": 3,
       "layout": "IPY_MODEL_5cb762f6ee0945e59cf8639a6a0c2dc6",
       "row_headers": [
        "Variable:",
        "Units:",
        "0",
        "1",
        "2",
        "3",
        "4",
        "5",
        "6",
        "7",
        "8",
        "9",
        "10",
        "11"
       ],
       "rows": 14
      }
     },
     "83fbd7ee236149f08751ad4bf189cbba": {
      "model_module": "ipysheet",
      "model_module_version": "~0.5.0",
      "model_name": "CellRangeModel",
      "state": {
       "_view_module": null,
       "_view_module_version": "",
       "column_end": 2,
       "column_start": 2,
       "row_end": 10,
       "row_start": 10,
       "type": "text",
       "value": "1125.13"
      }
     },
     "84766710c0954d638cb9097020f29530": {
      "model_module": "ipysheet",
      "model_module_version": "~0.5.0",
      "model_name": "CellRangeModel",
      "state": {
       "_view_module": null,
       "_view_module_version": "",
       "column_end": 0,
       "column_start": 0,
       "row_end": 5,
       "row_start": 5,
       "type": "text",
       "value": "3"
      }
     },
     "85fd0bd42f7847b4ae4d9e226579c1cd": {
      "model_module": "ipysheet",
      "model_module_version": "~0.5.0",
      "model_name": "CellRangeModel",
      "state": {
       "_view_module": null,
       "_view_module_version": "",
       "type": "text",
       "value": "counts"
      }
     },
     "86c928e6419a443aa8b69662c836f6f4": {
      "model_module": "ipysheet",
      "model_module_version": "~0.5.0",
      "model_name": "CellRangeModel",
      "state": {
       "_view_module": null,
       "_view_module_version": "",
       "row_end": 9,
       "row_start": 9,
       "type": "text",
       "value": "300"
      }
     },
     "889855f4460142a4aa742ca96e0fe77c": {
      "model_module": "ipysheet",
      "model_module_version": "~0.5.0",
      "model_name": "CellRangeModel",
      "state": {
       "_view_module": null,
       "_view_module_version": "",
       "row_end": 8,
       "row_start": 8,
       "type": "text",
       "value": "300"
      }
     },
     "88ce3fa903804e6a975bec2c40a9c105": {
      "model_module": "ipysheet",
      "model_module_version": "~0.5.0",
      "model_name": "CellRangeModel",
      "state": {
       "_view_module": null,
       "_view_module_version": "",
       "column_end": 0,
       "column_start": 0,
       "row_end": 6,
       "row_start": 6,
       "type": "text",
       "value": "4"
      }
     },
     "8930db1686f74353bf2fe56328ce2070": {
      "model_module": "ipysheet",
      "model_module_version": "~0.5.0",
      "model_name": "CellRangeModel",
      "state": {
       "_view_module": null,
       "_view_module_version": "",
       "column_end": 0,
       "column_start": 0,
       "row_end": 6,
       "row_start": 6,
       "type": "text",
       "value": "4"
      }
     },
     "894a9d833fbd4324ad041315b26a81dd": {
      "model_module": "ipysheet",
      "model_module_version": "~0.5.0",
      "model_name": "CellRangeModel",
      "state": {
       "_view_module": null,
       "_view_module_version": "",
       "row_end": 5,
       "row_start": 5,
       "type": "text",
       "value": "301"
      }
     },
     "89e134c62c5f476b8727dfe53bfae813": {
      "model_module": "@jupyter-widgets/base",
      "model_module_version": "1.2.0",
      "model_name": "LayoutModel",
      "state": {}
     },
     "8ab3d45b50334cb29ee94fa613c8de08": {
      "model_module": "ipysheet",
      "model_module_version": "~0.5.0",
      "model_name": "CellRangeModel",
      "state": {
       "_view_module": null,
       "_view_module_version": "",
       "column_end": 0,
       "column_start": 0,
       "row_end": 11,
       "row_start": 11,
       "type": "text",
       "value": "12"
      }
     },
     "8af114b645894c70856f163973ee975f": {
      "model_module": "@jupyter-widgets/controls",
      "model_module_version": "1.5.0",
      "model_name": "HBoxModel",
      "state": {
       "children": [
        "IPY_MODEL_9205803987af4995aa65dbf3d54f2bd7",
        "IPY_MODEL_95dffc7b80ce449789cab0f335f7cdfb",
        "IPY_MODEL_52f89e21f8b94447bdcb4109fc0e095f",
        "IPY_MODEL_48f76b6373a44465be6e2cda2f385d40",
        "IPY_MODEL_94c275bb93534eb29bbb5874e84d6c4b"
       ],
       "layout": "IPY_MODEL_ace163a68ea34508b9cb4b16930e402d"
      }
     },
     "8b54f6c6d65544fc92468050b1bce725": {
      "model_module": "@jupyter-widgets/base",
      "model_module_version": "1.2.0",
      "model_name": "LayoutModel",
      "state": {}
     },
     "8c64f601090b4db2801ec805cf74071e": {
      "model_module": "ipysheet",
      "model_module_version": "~0.5.0",
      "model_name": "CellRangeModel",
      "state": {
       "_view_module": null,
       "_view_module_version": "",
       "column_end": 0,
       "column_start": 0,
       "row_end": 9,
       "row_start": 9,
       "type": "text",
       "value": "10"
      }
     },
     "8e202ed4f948427d9fb72b8b324dac9b": {
      "model_module": "ipysheet",
      "model_module_version": "~0.5.0",
      "model_name": "CellRangeModel",
      "state": {
       "_view_module": null,
       "_view_module_version": "",
       "column_end": 2,
       "column_start": 2,
       "row_end": 13,
       "row_start": 13,
       "type": "text",
       "value": "1086.15"
      }
     },
     "8f606cdceacc4c28b72f200a793272d9": {
      "model_module": "ipysheet",
      "model_module_version": "~0.5.0",
      "model_name": "CellRangeModel",
      "state": {
       "_view_module": null,
       "_view_module_version": "",
       "column_end": 0,
       "column_start": 0,
       "row_end": 8,
       "row_start": 8,
       "type": "text",
       "value": "7"
      }
     },
     "90563260c4e049eca66c2edc26952490": {
      "model_module": "ipysheet",
      "model_module_version": "~0.5.0",
      "model_name": "CellRangeModel",
      "state": {
       "_view_module": null,
       "_view_module_version": "",
       "column_end": 0,
       "column_start": 0,
       "row_end": 2,
       "row_start": 2,
       "type": "text",
       "value": "0"
      }
     },
     "90c572e250a74e39b9f263d914eca528": {
      "model_module": "ipysheet",
      "model_module_version": "~0.5.0",
      "model_name": "CellRangeModel",
      "state": {
       "_view_module": null,
       "_view_module_version": "",
       "column_end": 0,
       "column_start": 0,
       "type": "text",
       "value": "number of sheets"
      }
     },
     "916cdefa76d041afbc38fd9616b3d5f1": {
      "model_module": "@jupyter-widgets/base",
      "model_module_version": "1.2.0",
      "model_name": "LayoutModel",
      "state": {}
     },
     "91aa4700d312472cbedd1873756f6668": {
      "model_module": "ipysheet",
      "model_module_version": "~0.5.0",
      "model_name": "CellRangeModel",
      "state": {
       "_view_module": null,
       "_view_module_version": "",
       "type": "text",
       "value": "counts"
      }
     },
     "9205803987af4995aa65dbf3d54f2bd7": {
      "model_module": "@jupyter-widgets/controls",
      "model_module_version": "1.5.0",
      "model_name": "ButtonModel",
      "state": {
       "description": "Undo",
       "layout": "IPY_MODEL_bbe7aca4fc71408c866201d63235e2a3",
       "style": "IPY_MODEL_e0c5e6fa95a844828d8542d8773c6b70"
      }
     },
     "93b4f726b09d46d8a9122c7e17d55180": {
      "model_module": "@jupyter-widgets/controls",
      "model_module_version": "1.5.0",
      "model_name": "ButtonModel",
      "state": {
       "description": "Undo",
       "layout": "IPY_MODEL_dab05953ec3441b2b473d7495a397015",
       "style": "IPY_MODEL_e0c03d3ec0d44bb693eb2ba70bf65932"
      }
     },
     "946ca35bb31b410ab0213ee1d920c639": {
      "model_module": "ipysheet",
      "model_module_version": "~0.5.0",
      "model_name": "CellRangeModel",
      "state": {
       "_view_module": null,
       "_view_module_version": "",
       "column_end": 0,
       "column_start": 0,
       "type": "text",
       "value": "number of sheets"
      }
     },
     "94c275bb93534eb29bbb5874e84d6c4b": {
      "model_module": "@jupyter-widgets/controls",
      "model_module_version": "1.5.0",
      "model_name": "ButtonModel",
      "state": {
       "description": "Generate Vectors",
       "layout": "IPY_MODEL_8b54f6c6d65544fc92468050b1bce725",
       "style": "IPY_MODEL_4bc780f9408a4f42b3c637d3745607d3"
      }
     },
     "95d029dd5684431199fc8b120a8fcc64": {
      "model_module": "@jupyter-widgets/base",
      "model_module_version": "1.2.0",
      "model_name": "LayoutModel",
      "state": {}
     },
     "95dffc7b80ce449789cab0f335f7cdfb": {
      "model_module": "@jupyter-widgets/controls",
      "model_module_version": "1.5.0",
      "model_name": "ButtonModel",
      "state": {
       "description": "Redo",
       "layout": "IPY_MODEL_331880bd1f074b228aeda825bcfb2618",
       "style": "IPY_MODEL_cfcf6795693b4215892dbdcead535b40"
      }
     },
     "98005e150b7e4d909ffb24dd27d34adb": {
      "model_module": "@jupyter-widgets/controls",
      "model_module_version": "1.5.0",
      "model_name": "VBoxModel",
      "state": {
       "children": [
        "IPY_MODEL_71411ad0343548adb7c21749df9efd5d",
        "IPY_MODEL_8af114b645894c70856f163973ee975f",
        "IPY_MODEL_b87ddf31451949d69d8c8438e1cdaa45"
       ],
       "layout": "IPY_MODEL_4e3858636e634ceda1d516152528a205"
      }
     },
     "9cc38e783bbc429ea165450d1092830e": {
      "model_module": "ipysheet",
      "model_module_version": "~0.5.0",
      "model_name": "CellRangeModel",
      "state": {
       "_view_module": null,
       "_view_module_version": "",
       "column_end": 0,
       "column_start": 0,
       "row_end": 12,
       "row_start": 12,
       "type": "text",
       "value": "17"
      }
     },
     "9f27cf931a73445d8e2f2e07b441337b": {
      "model_module": "ipysheet",
      "model_module_version": "~0.5.0",
      "model_name": "CellRangeModel",
      "state": {
       "_view_module": null,
       "_view_module_version": "",
       "column_end": 0,
       "column_start": 0,
       "row_end": 10,
       "row_start": 10,
       "type": "text",
       "value": "#15"
      }
     },
     "9f2e774640e9464cac4979c7d12b7648": {
      "model_module": "ipysheet",
      "model_module_version": "~0.5.0",
      "model_name": "CellRangeModel",
      "state": {
       "_view_module": null,
       "_view_module_version": "",
       "row_end": 7,
       "row_start": 7,
       "type": "text",
       "value": "300"
      }
     },
     "a26902aeeed2485e9f4dc1f1680d05ec": {
      "model_module": "@jupyter-widgets/controls",
      "model_module_version": "1.5.0",
      "model_name": "ButtonStyleModel",
      "state": {}
     },
     "a2f210b1b59341b4b47b8c615b739335": {
      "model_module": "@jupyter-widgets/controls",
      "model_module_version": "1.5.0",
      "model_name": "ButtonModel",
      "state": {
       "description": "Generate Vectors",
       "layout": "IPY_MODEL_67ca527606fa450488a4e24bbb767d5b",
       "style": "IPY_MODEL_dd65e89bb3704f8abf4a85368cea5f41"
      }
     },
     "a2f5e7b6c9284178bac75a1e356ca6ce": {
      "model_module": "ipysheet",
      "model_module_version": "~0.5.0",
      "model_name": "CellRangeModel",
      "state": {
       "_view_module": null,
       "_view_module_version": "",
       "column_end": 0,
       "column_start": 0,
       "row_end": 11,
       "row_start": 11,
       "type": "text",
       "value": "#12"
      }
     },
     "a416eaa67f7444b2a3e98becced8f8c3": {
      "model_module": "ipysheet",
      "model_module_version": "~0.5.0",
      "model_name": "CellRangeModel",
      "state": {
       "_view_module": null,
       "_view_module_version": "",
       "column_end": 2,
       "column_start": 2,
       "row_end": 8,
       "row_start": 8,
       "type": "text",
       "value": "54.21"
      }
     },
     "a4dc96dd2eae485b8e10f2958a701efd": {
      "model_module": "ipysheet",
      "model_module_version": "~0.5.0",
      "model_name": "CellRangeModel",
      "state": {
       "_view_module": null,
       "_view_module_version": "",
       "column_end": 2,
       "column_start": 2,
       "row_end": 7,
       "row_start": 7,
       "type": "text",
       "value": "32.49"
      }
     },
     "a5ad6599a4964dd3994c133334b43ad0": {
      "model_module": "ipysheet",
      "model_module_version": "~0.5.0",
      "model_name": "CellRangeModel",
      "state": {
       "_view_module": null,
       "_view_module_version": "",
       "row_end": 2,
       "row_start": 2,
       "type": "text",
       "value": "105"
      }
     },
     "a693194a9b494fba85dfdbd279313136": {
      "model_module": "ipysheet",
      "model_module_version": "~0.5.0",
      "model_name": "CellRangeModel",
      "state": {
       "_view_module": null,
       "_view_module_version": "",
       "column_end": 2,
       "column_start": 2,
       "row_end": 6,
       "row_start": 6,
       "type": "text",
       "value": "62.37"
      }
     },
     "a6a58410b78a465195740086d125b8db": {
      "model_module": "@jupyter-widgets/output",
      "model_module_version": "1.0.0",
      "model_name": "OutputModel",
      "state": {
       "layout": "IPY_MODEL_89e134c62c5f476b8727dfe53bfae813",
       "outputs": [
        {
         "name": "stdout",
         "output_type": "stream",
         "text": "Found 12 valid rows\n\nCreated array:\n xVec = np.array([0.0, 1.0, 2.0, 3.0, 4.0, 5.0, 7.0, 10.0, 15.0, 12.0, 17.0, 20.0])\n\nCreated array:\n NVec = np.array([306.0, 300.0, 301.0, 301.0, 300.0, 300.0, 300.0, 300.0, 300.0, 300.0, 150.0, 150.0])\n\nCreated array:\n tVec = np.array([20.53, 23.55, 36.61, 49.21, 62.37, 85.87, 157.47, 337.74, 1125.13, 608.02, 668.58, 1086.15])\n"
        },
        {
         "data": {
          "text/html": "<div>\n<style scoped>\n    .dataframe tbody tr th:only-of-type {\n        vertical-align: middle;\n    }\n\n    .dataframe tbody tr th {\n        vertical-align: top;\n    }\n\n    .dataframe thead th {\n        text-align: right;\n    }\n</style>\n<table border=\"1\" class=\"dataframe\">\n  <thead>\n    <tr style=\"text-align: right;\">\n      <th></th>\n      <th>x</th>\n      <th>N</th>\n      <th>t</th>\n    </tr>\n  </thead>\n  <tbody>\n    <tr>\n      <th>Units</th>\n      <td>number of sheets</td>\n      <td>counts</td>\n      <td>seconds</td>\n    </tr>\n    <tr>\n      <th>0</th>\n      <td>0</td>\n      <td>306</td>\n      <td>20.53</td>\n    </tr>\n    <tr>\n      <th>1</th>\n      <td>1</td>\n      <td>300</td>\n      <td>23.55</td>\n    </tr>\n    <tr>\n      <th>2</th>\n      <td>2</td>\n      <td>301</td>\n      <td>36.61</td>\n    </tr>\n    <tr>\n      <th>3</th>\n      <td>3</td>\n      <td>301</td>\n      <td>49.21</td>\n    </tr>\n    <tr>\n      <th>4</th>\n      <td>4</td>\n      <td>300</td>\n      <td>62.37</td>\n    </tr>\n    <tr>\n      <th>5</th>\n      <td>5</td>\n      <td>300</td>\n      <td>85.87</td>\n    </tr>\n    <tr>\n      <th>6</th>\n      <td>7</td>\n      <td>300</td>\n      <td>157.47</td>\n    </tr>\n    <tr>\n      <th>7</th>\n      <td>10</td>\n      <td>300</td>\n      <td>337.74</td>\n    </tr>\n    <tr>\n      <th>8</th>\n      <td>15</td>\n      <td>300</td>\n      <td>1125.13</td>\n    </tr>\n    <tr>\n      <th>9</th>\n      <td>12</td>\n      <td>300</td>\n      <td>608.02</td>\n    </tr>\n    <tr>\n      <th>10</th>\n      <td>17</td>\n      <td>150</td>\n      <td>668.58</td>\n    </tr>\n    <tr>\n      <th>11</th>\n      <td>20</td>\n      <td>150</td>\n      <td>1086.15</td>\n    </tr>\n  </tbody>\n</table>\n</div>",
          "text/plain": "                      x       N        t\nUnits  number of sheets  counts  seconds\n0                     0     306    20.53\n1                     1     300    23.55\n2                     2     301    36.61\n3                     3     301    49.21\n4                     4     300    62.37\n5                     5     300    85.87\n6                     7     300   157.47\n7                    10     300   337.74\n8                    15     300  1125.13\n9                    12     300   608.02\n10                   17     150   668.58\n11                   20     150  1086.15"
         },
         "metadata": {},
         "output_type": "display_data"
        }
       ]
      }
     },
     "a812619f32474e7588a8db11885eb393": {
      "model_module": "@jupyter-widgets/base",
      "model_module_version": "1.2.0",
      "model_name": "LayoutModel",
      "state": {}
     },
     "aa12596fd6814d8dbcb1821401b88d71": {
      "model_module": "@jupyter-widgets/controls",
      "model_module_version": "1.5.0",
      "model_name": "ButtonModel",
      "state": {
       "description": "Add Row",
       "layout": "IPY_MODEL_70385520b17443908ddbc36a62b2af5b",
       "style": "IPY_MODEL_da800d1f55f8493bb2987500930c9f67"
      }
     },
     "abde415b752245728964f33bcb649657": {
      "model_module": "@jupyter-widgets/base",
      "model_module_version": "1.2.0",
      "model_name": "LayoutModel",
      "state": {}
     },
     "ac4e1fdec32144c5886ba5cf667fe5d0": {
      "model_module": "ipysheet",
      "model_module_version": "~0.5.0",
      "model_name": "CellRangeModel",
      "state": {
       "_view_module": null,
       "_view_module_version": "",
       "row_end": 13,
       "row_start": 13,
       "type": "text",
       "value": "150"
      }
     },
     "ace163a68ea34508b9cb4b16930e402d": {
      "model_module": "@jupyter-widgets/base",
      "model_module_version": "1.2.0",
      "model_name": "LayoutModel",
      "state": {}
     },
     "adb5cdf0ce854ce68a1828c1b7eabd7b": {
      "model_module": "@jupyter-widgets/controls",
      "model_module_version": "1.5.0",
      "model_name": "ButtonModel",
      "state": {
       "description": "Add Column",
       "layout": "IPY_MODEL_baa06d9676fc4abeb1b1c6132b90631c",
       "style": "IPY_MODEL_28187684a66245eaa7c87847de6e50d3"
      }
     },
     "b276381ce91a4f0f9620588f55ccea77": {
      "model_module": "ipysheet",
      "model_module_version": "~0.5.0",
      "model_name": "CellRangeModel",
      "state": {
       "_view_module": null,
       "_view_module_version": "",
       "column_end": 0,
       "column_start": 0,
       "row_end": 6,
       "row_start": 6,
       "type": "text",
       "value": "4"
      }
     },
     "b296114d91c14cd8845ca01b2cc44a17": {
      "model_module": "ipysheet",
      "model_module_version": "~0.5.0",
      "model_name": "CellRangeModel",
      "state": {
       "_view_module": null,
       "_view_module_version": "",
       "row_end": 10,
       "row_start": 10,
       "type": "text",
       "value": "300"
      }
     },
     "b3e77dab030e4736bf8ba92df0c3f115": {
      "model_module": "@jupyter-widgets/controls",
      "model_module_version": "1.5.0",
      "model_name": "VBoxModel",
      "state": {
       "children": [
        "IPY_MODEL_80cdf3891e2f4d50b89318ea1382e253",
        "IPY_MODEL_09de739873f145efbff36d0e76bd6de7",
        "IPY_MODEL_a6a58410b78a465195740086d125b8db"
       ],
       "layout": "IPY_MODEL_f56d43d1281d42279dddfe6edcc9b6f4"
      }
     },
     "b3fdf45d424f4163ab8ac172b1bb55a9": {
      "model_module": "ipysheet",
      "model_module_version": "~0.5.0",
      "model_name": "CellRangeModel",
      "state": {
       "_view_module": null,
       "_view_module_version": "",
       "column_end": 2,
       "column_start": 2,
       "row_end": 11,
       "row_start": 11,
       "type": "text",
       "value": "608.02"
      }
     },
     "b4970e4934384ef0a5b25bf20e004c73": {
      "model_module": "@jupyter-widgets/base",
      "model_module_version": "1.2.0",
      "model_name": "LayoutModel",
      "state": {}
     },
     "b5bc5e09368c496ea75e6c6a325773b8": {
      "model_module": "ipysheet",
      "model_module_version": "~0.5.0",
      "model_name": "CellRangeModel",
      "state": {
       "_view_module": null,
       "_view_module_version": "",
       "column_end": 2,
       "column_start": 2,
       "row_end": 3,
       "row_start": 3,
       "type": "text",
       "value": "23.55"
      }
     },
     "b87ddf31451949d69d8c8438e1cdaa45": {
      "model_module": "@jupyter-widgets/output",
      "model_module_version": "1.0.0",
      "model_name": "OutputModel",
      "state": {
       "layout": "IPY_MODEL_b4970e4934384ef0a5b25bf20e004c73",
       "outputs": [
        {
         "name": "stdout",
         "output_type": "stream",
         "text": "Found 9 valid rows\n\nCreated array:\n xVec = np.array([0.0, 1.0, 2.0, 3.0, 4.0, 5.0, 7.0, 10.0, 15.0])\n\nCreated array:\n NVec = np.array([105.0, 101.0, 103.0, 100.0, 100.0, 100.0, 100.0, 100.0, 100.0])\n\nCreated array:\n tVec = np.array([7.55, 10.35, 12.96, 17.75, 21.01, 32.49, 54.21, 125.18, 438.8])\n"
        },
        {
         "data": {
          "text/html": "<div>\n<style scoped>\n    .dataframe tbody tr th:only-of-type {\n        vertical-align: middle;\n    }\n\n    .dataframe tbody tr th {\n        vertical-align: top;\n    }\n\n    .dataframe thead th {\n        text-align: right;\n    }\n</style>\n<table border=\"1\" class=\"dataframe\">\n  <thead>\n    <tr style=\"text-align: right;\">\n      <th></th>\n      <th>x</th>\n      <th>N</th>\n      <th>t</th>\n    </tr>\n  </thead>\n  <tbody>\n    <tr>\n      <th>Units</th>\n      <td>number of sheets</td>\n      <td>counts</td>\n      <td>seconds</td>\n    </tr>\n    <tr>\n      <th>0</th>\n      <td>0</td>\n      <td>105</td>\n      <td>7.55</td>\n    </tr>\n    <tr>\n      <th>1</th>\n      <td>1</td>\n      <td>101</td>\n      <td>10.35</td>\n    </tr>\n    <tr>\n      <th>2</th>\n      <td>2</td>\n      <td>103</td>\n      <td>12.96</td>\n    </tr>\n    <tr>\n      <th>3</th>\n      <td>3</td>\n      <td>100</td>\n      <td>17.75</td>\n    </tr>\n    <tr>\n      <th>4</th>\n      <td>4</td>\n      <td>100</td>\n      <td>21.01</td>\n    </tr>\n    <tr>\n      <th>5</th>\n      <td>5</td>\n      <td>100</td>\n      <td>32.49</td>\n    </tr>\n    <tr>\n      <th>6</th>\n      <td>7</td>\n      <td>100</td>\n      <td>54.21</td>\n    </tr>\n    <tr>\n      <th>7</th>\n      <td>10</td>\n      <td>100</td>\n      <td>125.18</td>\n    </tr>\n    <tr>\n      <th>8</th>\n      <td>15</td>\n      <td>100</td>\n      <td>438.8</td>\n    </tr>\n  </tbody>\n</table>\n</div>",
          "text/plain": "                      x       N        t\nUnits  number of sheets  counts  seconds\n0                     0     105     7.55\n1                     1     101    10.35\n2                     2     103    12.96\n3                     3     100    17.75\n4                     4     100    21.01\n5                     5     100    32.49\n6                     7     100    54.21\n7                    10     100   125.18\n8                    15     100    438.8"
         },
         "metadata": {},
         "output_type": "display_data"
        }
       ]
      }
     },
     "b90354d667ff43e99e76df19042cccce": {
      "model_module": "ipysheet",
      "model_module_version": "~0.5.0",
      "model_name": "CellRangeModel",
      "state": {
       "_view_module": null,
       "_view_module_version": "",
       "column_end": 0,
       "column_start": 0,
       "row_end": 5,
       "row_start": 5,
       "type": "text",
       "value": "3"
      }
     },
     "baa06d9676fc4abeb1b1c6132b90631c": {
      "model_module": "@jupyter-widgets/base",
      "model_module_version": "1.2.0",
      "model_name": "LayoutModel",
      "state": {}
     },
     "bbe7aca4fc71408c866201d63235e2a3": {
      "model_module": "@jupyter-widgets/base",
      "model_module_version": "1.2.0",
      "model_name": "LayoutModel",
      "state": {}
     },
     "bcd9c044d7f940ec8439096343981e52": {
      "model_module": "ipysheet",
      "model_module_version": "~0.5.0",
      "model_name": "CellRangeModel",
      "state": {
       "_view_module": null,
       "_view_module_version": "",
       "row_end": 4,
       "row_start": 4,
       "type": "text",
       "value": "301"
      }
     },
     "c1bb43f150da444591a81c6031ab3f1f": {
      "model_module": "ipysheet",
      "model_module_version": "~0.5.0",
      "model_name": "CellRangeModel",
      "state": {
       "_view_module": null,
       "_view_module_version": "",
       "row_end": 3,
       "row_start": 3,
       "type": "text",
       "value": "101"
      }
     },
     "c1f8f9460f4145cfbcbd74a480adcda7": {
      "model_module": "ipysheet",
      "model_module_version": "~0.5.0",
      "model_name": "SheetModel",
      "state": {
       "cells": [
        "IPY_MODEL_e720f1eb1bc54ee085d7ba53ab8610f2",
        "IPY_MODEL_dfe0155d65614b3fb3c8a5ee7754eebc",
        "IPY_MODEL_3c202d15b1354ed08251c623754f00cc",
        "IPY_MODEL_946ca35bb31b410ab0213ee1d920c639",
        "IPY_MODEL_85fd0bd42f7847b4ae4d9e226579c1cd",
        "IPY_MODEL_1a252e002ae2492fb48e85cc7021ad3a",
        "IPY_MODEL_90563260c4e049eca66c2edc26952490",
        "IPY_MODEL_e6e5d4b2c72741229b944799b5fd166d",
        "IPY_MODEL_434172ae91db440e8124444a7db3d647",
        "IPY_MODEL_7a48ae2b91224397a7fde8e5bc60bb25",
        "IPY_MODEL_2e93869d3756458c8b5d3cfcaaa30e84",
        "IPY_MODEL_5cc2f5c90f094edd8a8cb0f46431b48a",
        "IPY_MODEL_1e1c48972ef949f8a833db9786dddaca",
        "IPY_MODEL_0a02630ab5704b83984b515cb7b55b4a",
        "IPY_MODEL_fa99ed28b5e9406f85c216a6e89fb12a",
        "IPY_MODEL_84766710c0954d638cb9097020f29530",
        "IPY_MODEL_894a9d833fbd4324ad041315b26a81dd",
        "IPY_MODEL_7d2dc0a18c0c4f37950682b97491ffe6",
        "IPY_MODEL_88ce3fa903804e6a975bec2c40a9c105",
        "IPY_MODEL_e3dd053140024751ad0c152c7fe50c10",
        "IPY_MODEL_3275c49af54d4198aff9b94b7ddfa7d3",
        "IPY_MODEL_d1766d5431a04e84a6aaa2608478269a",
        "IPY_MODEL_d780884aabaa475087d90aeeedc1d75f",
        "IPY_MODEL_dc9310f561414fe19ac929517fb7105a",
        "IPY_MODEL_fb75efcba9354189a5fbbea1a9f8a456",
        "IPY_MODEL_25bf91afe967489f857df233dbbb2f7a",
        "IPY_MODEL_cadad9a14e9e4e478fae072bee06ce93",
        "IPY_MODEL_036b36f1e19741fd9ccbd879d6951bfa",
        "IPY_MODEL_86c928e6419a443aa8b69662c836f6f4",
        "IPY_MODEL_edbdcf17f01f4b6fb6db62728902b226",
        "IPY_MODEL_9f27cf931a73445d8e2f2e07b441337b",
        "IPY_MODEL_5526c81ff1c440d7b888f55d33424a00",
        "IPY_MODEL_6c33ea085db44f62bca5c442c6eebfc3",
        "IPY_MODEL_a2f5e7b6c9284178bac75a1e356ca6ce",
        "IPY_MODEL_1e370a370ab84a7fa853a0a478398e25",
        "IPY_MODEL_b3fdf45d424f4163ab8ac172b1bb55a9",
        "IPY_MODEL_6e9420e57e05493ebbe2d63c9b83b086",
        "IPY_MODEL_7d20d48bee5a4d988819f1fe4adece06",
        "IPY_MODEL_79d1dbe20c6648a0b1845830ddc7d50f",
        "IPY_MODEL_1ccdf8f068474e03890e96a4b2a05519",
        "IPY_MODEL_d5dbb870c1e642eeb594839524570d12",
        "IPY_MODEL_8e202ed4f948427d9fb72b8b324dac9b"
       ],
       "column_headers": false,
       "columns": 3,
       "layout": "IPY_MODEL_3c583dd724ed4ad5bb7677e66429efe8",
       "row_headers": [
        "Variable:",
        "Units:",
        "0",
        "1",
        "2",
        "3",
        "4",
        "5",
        "6",
        "7",
        "8",
        "9",
        "10",
        "11"
       ],
       "rows": 14
      }
     },
     "c431df7367a84c1fb98c05e815b602c5": {
      "model_module": "@jupyter-widgets/controls",
      "model_module_version": "1.5.0",
      "model_name": "ButtonModel",
      "state": {
       "description": "Redo",
       "layout": "IPY_MODEL_916cdefa76d041afbc38fd9616b3d5f1",
       "style": "IPY_MODEL_343892a8492b449d9182ec4c00aec23d"
      }
     },
     "c7306b378c6b4e1a94151130498eb6a0": {
      "model_module": "ipysheet",
      "model_module_version": "~0.5.0",
      "model_name": "CellRangeModel",
      "state": {
       "_view_module": null,
       "_view_module_version": "",
       "column_end": 2,
       "column_start": 2,
       "row_end": 9,
       "row_start": 9,
       "type": "text",
       "value": "337.74"
      }
     },
     "c925232ad76a4d52941c8541e6fc1c4b": {
      "model_module": "ipysheet",
      "model_module_version": "~0.5.0",
      "model_name": "CellRangeModel",
      "state": {
       "_view_module": null,
       "_view_module_version": "",
       "column_end": 2,
       "column_start": 2,
       "row_end": 10,
       "row_start": 10,
       "type": "text",
       "value": "438.8"
      }
     },
     "cabba275cd3e474ebaa0e033586c9e83": {
      "model_module": "ipysheet",
      "model_module_version": "~0.5.0",
      "model_name": "CellRangeModel",
      "state": {
       "_view_module": null,
       "_view_module_version": "",
       "column_end": 0,
       "column_start": 0,
       "row_end": 5,
       "row_start": 5,
       "type": "text",
       "value": "3"
      }
     },
     "cadad9a14e9e4e478fae072bee06ce93": {
      "model_module": "ipysheet",
      "model_module_version": "~0.5.0",
      "model_name": "CellRangeModel",
      "state": {
       "_view_module": null,
       "_view_module_version": "",
       "column_end": 2,
       "column_start": 2,
       "row_end": 8,
       "row_start": 8,
       "type": "text",
       "value": "157.47"
      }
     },
     "cdd81127e53849fda600937183886434": {
      "model_module": "ipysheet",
      "model_module_version": "~0.5.0",
      "model_name": "CellRangeModel",
      "state": {
       "_view_module": null,
       "_view_module_version": "",
       "row_end": 4,
       "row_start": 4,
       "type": "text",
       "value": "103"
      }
     },
     "cfcf6795693b4215892dbdcead535b40": {
      "model_module": "@jupyter-widgets/controls",
      "model_module_version": "1.5.0",
      "model_name": "ButtonStyleModel",
      "state": {}
     },
     "d1766d5431a04e84a6aaa2608478269a": {
      "model_module": "ipysheet",
      "model_module_version": "~0.5.0",
      "model_name": "CellRangeModel",
      "state": {
       "_view_module": null,
       "_view_module_version": "",
       "column_end": 0,
       "column_start": 0,
       "row_end": 7,
       "row_start": 7,
       "type": "text",
       "value": "5"
      }
     },
     "d47ea627e716499d83ac9f183a2484c5": {
      "model_module": "ipysheet",
      "model_module_version": "~0.5.0",
      "model_name": "CellRangeModel",
      "state": {
       "_view_module": null,
       "_view_module_version": "",
       "column_end": 2,
       "column_start": 2,
       "row_end": 0,
       "row_start": 0,
       "type": "text",
       "value": "t"
      }
     },
     "d5dbb870c1e642eeb594839524570d12": {
      "model_module": "ipysheet",
      "model_module_version": "~0.5.0",
      "model_name": "CellRangeModel",
      "state": {
       "_view_module": null,
       "_view_module_version": "",
       "row_end": 13,
       "row_start": 13,
       "type": "text",
       "value": "150"
      }
     },
     "d780884aabaa475087d90aeeedc1d75f": {
      "model_module": "ipysheet",
      "model_module_version": "~0.5.0",
      "model_name": "CellRangeModel",
      "state": {
       "_view_module": null,
       "_view_module_version": "",
       "row_end": 7,
       "row_start": 7,
       "type": "text",
       "value": "300"
      }
     },
     "d890c20718104c1b9503d2b89e9d0e37": {
      "model_module": "ipysheet",
      "model_module_version": "~0.5.0",
      "model_name": "CellRangeModel",
      "state": {
       "_view_module": null,
       "_view_module_version": "",
       "type": "text",
       "value": "counts"
      }
     },
     "d8f4fbf06f4c44c18a0aa3a3560ba842": {
      "model_module": "ipysheet",
      "model_module_version": "~0.5.0",
      "model_name": "CellRangeModel",
      "state": {
       "_view_module": null,
       "_view_module_version": "",
       "row_end": 8,
       "row_start": 8,
       "type": "text",
       "value": "100"
      }
     },
     "da35892767fe4c98b20bd04587849db2": {
      "model_module": "@jupyter-widgets/controls",
      "model_module_version": "1.5.0",
      "model_name": "ButtonModel",
      "state": {
       "description": "Redo",
       "layout": "IPY_MODEL_a812619f32474e7588a8db11885eb393",
       "style": "IPY_MODEL_e8d81f2dafe74f57afe1621b38c72747"
      }
     },
     "da800d1f55f8493bb2987500930c9f67": {
      "model_module": "@jupyter-widgets/controls",
      "model_module_version": "1.5.0",
      "model_name": "ButtonStyleModel",
      "state": {}
     },
     "dab05953ec3441b2b473d7495a397015": {
      "model_module": "@jupyter-widgets/base",
      "model_module_version": "1.2.0",
      "model_name": "LayoutModel",
      "state": {}
     },
     "db2a0d5f2a334c61b245c985086fa883": {
      "model_module": "ipysheet",
      "model_module_version": "~0.5.0",
      "model_name": "CellRangeModel",
      "state": {
       "_view_module": null,
       "_view_module_version": "",
       "column_end": 2,
       "column_start": 2,
       "row_end": 8,
       "row_start": 8,
       "type": "text",
       "value": "157.47"
      }
     },
     "db3390d98e3b46ab9db9bc236868fe88": {
      "model_module": "ipysheet",
      "model_module_version": "~0.5.0",
      "model_name": "CellRangeModel",
      "state": {
       "_view_module": null,
       "_view_module_version": "",
       "column_end": 0,
       "column_start": 0,
       "row_end": 4,
       "row_start": 4,
       "type": "text",
       "value": "2"
      }
     },
     "dc9310f561414fe19ac929517fb7105a": {
      "model_module": "ipysheet",
      "model_module_version": "~0.5.0",
      "model_name": "CellRangeModel",
      "state": {
       "_view_module": null,
       "_view_module_version": "",
       "column_end": 2,
       "column_start": 2,
       "row_end": 7,
       "row_start": 7,
       "type": "text",
       "value": "85.87"
      }
     },
     "dd3960bf85a945e384de82cf4e52b8c5": {
      "model_module": "ipysheet",
      "model_module_version": "~0.5.0",
      "model_name": "CellRangeModel",
      "state": {
       "_view_module": null,
       "_view_module_version": "",
       "column_end": 0,
       "column_start": 0,
       "row_end": 9,
       "row_start": 9,
       "type": "text",
       "value": "10"
      }
     },
     "dd65e89bb3704f8abf4a85368cea5f41": {
      "model_module": "@jupyter-widgets/controls",
      "model_module_version": "1.5.0",
      "model_name": "ButtonStyleModel",
      "state": {}
     },
     "dfe0155d65614b3fb3c8a5ee7754eebc": {
      "model_module": "ipysheet",
      "model_module_version": "~0.5.0",
      "model_name": "CellRangeModel",
      "state": {
       "_view_module": null,
       "_view_module_version": "",
       "row_end": 0,
       "row_start": 0,
       "type": "text",
       "value": "N"
      }
     },
     "e01618cd452a4eee89ee1cc977ea77ef": {
      "model_module": "@jupyter-widgets/base",
      "model_module_version": "1.2.0",
      "model_name": "LayoutModel",
      "state": {}
     },
     "e0c03d3ec0d44bb693eb2ba70bf65932": {
      "model_module": "@jupyter-widgets/controls",
      "model_module_version": "1.5.0",
      "model_name": "ButtonStyleModel",
      "state": {}
     },
     "e0c5e6fa95a844828d8542d8773c6b70": {
      "model_module": "@jupyter-widgets/controls",
      "model_module_version": "1.5.0",
      "model_name": "ButtonStyleModel",
      "state": {}
     },
     "e1eff1a5851b44bc8c28ce1811e82b48": {
      "model_module": "ipysheet",
      "model_module_version": "~0.5.0",
      "model_name": "CellRangeModel",
      "state": {
       "_view_module": null,
       "_view_module_version": "",
       "row_end": 11,
       "row_start": 11,
       "type": "text",
       "value": "300"
      }
     },
     "e231b950106a4a18b5ac17a4224360b1": {
      "model_module": "ipysheet",
      "model_module_version": "~0.5.0",
      "model_name": "CellRangeModel",
      "state": {
       "_view_module": null,
       "_view_module_version": "",
       "column_end": 0,
       "column_start": 0,
       "row_end": 0,
       "row_start": 0,
       "type": "text",
       "value": "x"
      }
     },
     "e39eb70590404531a071e00ff1df7574": {
      "model_module": "ipysheet",
      "model_module_version": "~0.5.0",
      "model_name": "CellRangeModel",
      "state": {
       "_view_module": null,
       "_view_module_version": "",
       "row_end": 2,
       "row_start": 2,
       "type": "text",
       "value": "306"
      }
     },
     "e3dd053140024751ad0c152c7fe50c10": {
      "model_module": "ipysheet",
      "model_module_version": "~0.5.0",
      "model_name": "CellRangeModel",
      "state": {
       "_view_module": null,
       "_view_module_version": "",
       "row_end": 6,
       "row_start": 6,
       "type": "text",
       "value": "300"
      }
     },
     "e6e5d4b2c72741229b944799b5fd166d": {
      "model_module": "ipysheet",
      "model_module_version": "~0.5.0",
      "model_name": "CellRangeModel",
      "state": {
       "_view_module": null,
       "_view_module_version": "",
       "row_end": 2,
       "row_start": 2,
       "type": "text",
       "value": "306"
      }
     },
     "e720f1eb1bc54ee085d7ba53ab8610f2": {
      "model_module": "ipysheet",
      "model_module_version": "~0.5.0",
      "model_name": "CellRangeModel",
      "state": {
       "_view_module": null,
       "_view_module_version": "",
       "column_end": 0,
       "column_start": 0,
       "row_end": 0,
       "row_start": 0,
       "type": "text",
       "value": "x"
      }
     },
     "e8d81f2dafe74f57afe1621b38c72747": {
      "model_module": "@jupyter-widgets/controls",
      "model_module_version": "1.5.0",
      "model_name": "ButtonStyleModel",
      "state": {}
     },
     "ecf9054bcf094d5f9978332d432bc1c5": {
      "model_module": "ipysheet",
      "model_module_version": "~0.5.0",
      "model_name": "CellRangeModel",
      "state": {
       "_view_module": null,
       "_view_module_version": "",
       "column_end": 2,
       "column_start": 2,
       "row_end": 5,
       "row_start": 5,
       "type": "text",
       "value": "49.21"
      }
     },
     "edbdcf17f01f4b6fb6db62728902b226": {
      "model_module": "ipysheet",
      "model_module_version": "~0.5.0",
      "model_name": "CellRangeModel",
      "state": {
       "_view_module": null,
       "_view_module_version": "",
       "column_end": 2,
       "column_start": 2,
       "row_end": 9,
       "row_start": 9,
       "type": "text",
       "value": "337.74"
      }
     },
     "f0554a242d1243e2a37baa6251badc34": {
      "model_module": "@jupyter-widgets/base",
      "model_module_version": "1.2.0",
      "model_name": "LayoutModel",
      "state": {}
     },
     "f0eb400e3c8046529378f6592fdba269": {
      "model_module": "ipysheet",
      "model_module_version": "~0.5.0",
      "model_name": "CellRangeModel",
      "state": {
       "_view_module": null,
       "_view_module_version": "",
       "column_end": 0,
       "column_start": 0,
       "row_end": 3,
       "row_start": 3,
       "type": "text",
       "value": "1"
      }
     },
     "f0f4881388a14795979323c185a78ee7": {
      "model_module": "ipysheet",
      "model_module_version": "~0.5.0",
      "model_name": "CellRangeModel",
      "state": {
       "_view_module": null,
       "_view_module_version": "",
       "row_end": 9,
       "row_start": 9,
       "type": "text",
       "value": "100"
      }
     },
     "f56d43d1281d42279dddfe6edcc9b6f4": {
      "model_module": "@jupyter-widgets/base",
      "model_module_version": "1.2.0",
      "model_name": "LayoutModel",
      "state": {}
     },
     "f6dd37a4a1ba492c84aeef09fd38bd96": {
      "model_module": "@jupyter-widgets/output",
      "model_module_version": "1.0.0",
      "model_name": "OutputModel",
      "state": {
       "layout": "IPY_MODEL_f0554a242d1243e2a37baa6251badc34",
       "outputs": [
        {
         "name": "stdout",
         "output_type": "stream",
         "text": "Row # 7 skipped\nRow # 8 skipped\nRow # 9 skipped\nRow # 10 skipped\nRow # 11 skipped\nFound 7 valid rows\n\nCreated array:\n xVec = np.array([0.0, 1.0, 2.0, 3.0, 4.0, 5.0, 7.0])\n\nCreated array:\n NVec = np.array([306.0, 300.0, 301.0, 301.0, 300.0, 300.0, 300.0])\n\nCreated array:\n tVec = np.array([20.53, 23.55, 36.61, 49.21, 62.37, 85.87, 157.47])\n"
        },
        {
         "data": {
          "text/html": "<div>\n<style scoped>\n    .dataframe tbody tr th:only-of-type {\n        vertical-align: middle;\n    }\n\n    .dataframe tbody tr th {\n        vertical-align: top;\n    }\n\n    .dataframe thead th {\n        text-align: right;\n    }\n</style>\n<table border=\"1\" class=\"dataframe\">\n  <thead>\n    <tr style=\"text-align: right;\">\n      <th></th>\n      <th>x</th>\n      <th>N</th>\n      <th>t</th>\n    </tr>\n  </thead>\n  <tbody>\n    <tr>\n      <th>Units</th>\n      <td>number of sheets</td>\n      <td>counts</td>\n      <td>seconds</td>\n    </tr>\n    <tr>\n      <th>0</th>\n      <td>0</td>\n      <td>306</td>\n      <td>20.53</td>\n    </tr>\n    <tr>\n      <th>1</th>\n      <td>1</td>\n      <td>300</td>\n      <td>23.55</td>\n    </tr>\n    <tr>\n      <th>2</th>\n      <td>2</td>\n      <td>301</td>\n      <td>36.61</td>\n    </tr>\n    <tr>\n      <th>3</th>\n      <td>3</td>\n      <td>301</td>\n      <td>49.21</td>\n    </tr>\n    <tr>\n      <th>4</th>\n      <td>4</td>\n      <td>300</td>\n      <td>62.37</td>\n    </tr>\n    <tr>\n      <th>5</th>\n      <td>5</td>\n      <td>300</td>\n      <td>85.87</td>\n    </tr>\n    <tr>\n      <th>6</th>\n      <td>7</td>\n      <td>300</td>\n      <td>157.47</td>\n    </tr>\n    <tr>\n      <th>7</th>\n      <td>#10</td>\n      <td>300</td>\n      <td>337.74</td>\n    </tr>\n    <tr>\n      <th>8</th>\n      <td>#15</td>\n      <td>300</td>\n      <td>1125.13</td>\n    </tr>\n    <tr>\n      <th>9</th>\n      <td>#12</td>\n      <td>300</td>\n      <td>608.02</td>\n    </tr>\n    <tr>\n      <th>10</th>\n      <td>#17</td>\n      <td>150</td>\n      <td>668.58</td>\n    </tr>\n    <tr>\n      <th>11</th>\n      <td>#20</td>\n      <td>150</td>\n      <td>1086.15</td>\n    </tr>\n  </tbody>\n</table>\n</div>",
          "text/plain": "                      x       N        t\nUnits  number of sheets  counts  seconds\n0                     0     306    20.53\n1                     1     300    23.55\n2                     2     301    36.61\n3                     3     301    49.21\n4                     4     300    62.37\n5                     5     300    85.87\n6                     7     300   157.47\n7                   #10     300   337.74\n8                   #15     300  1125.13\n9                   #12     300   608.02\n10                  #17     150   668.58\n11                  #20     150  1086.15"
         },
         "metadata": {},
         "output_type": "display_data"
        }
       ]
      }
     },
     "f7734c44062c462396086df5a7159523": {
      "model_module": "ipysheet",
      "model_module_version": "~0.5.0",
      "model_name": "CellRangeModel",
      "state": {
       "_view_module": null,
       "_view_module_version": "",
       "column_end": 2,
       "column_start": 2,
       "row_end": 12,
       "row_start": 12,
       "type": "text",
       "value": "668.58"
      }
     },
     "f7fd8106785546d795438642ca96fc83": {
      "model_module": "ipysheet",
      "model_module_version": "~0.5.0",
      "model_name": "CellRangeModel",
      "state": {
       "_view_module": null,
       "_view_module_version": "",
       "row_end": 0,
       "row_start": 0,
       "type": "text",
       "value": "N"
      }
     },
     "fa99ed28b5e9406f85c216a6e89fb12a": {
      "model_module": "ipysheet",
      "model_module_version": "~0.5.0",
      "model_name": "CellRangeModel",
      "state": {
       "_view_module": null,
       "_view_module_version": "",
       "column_end": 2,
       "column_start": 2,
       "row_end": 4,
       "row_start": 4,
       "type": "text",
       "value": "36.61"
      }
     },
     "fb75efcba9354189a5fbbea1a9f8a456": {
      "model_module": "ipysheet",
      "model_module_version": "~0.5.0",
      "model_name": "CellRangeModel",
      "state": {
       "_view_module": null,
       "_view_module_version": "",
       "column_end": 0,
       "column_start": 0,
       "row_end": 8,
       "row_start": 8,
       "type": "text",
       "value": "7"
      }
     },
     "fba5841006784e2087a4a2e39ea845c1": {
      "model_module": "ipysheet",
      "model_module_version": "~0.5.0",
      "model_name": "CellRangeModel",
      "state": {
       "_view_module": null,
       "_view_module_version": "",
       "row_end": 12,
       "row_start": 12,
       "type": "text",
       "value": "150"
      }
     },
     "fd9b0872c6a34c46b6d8b7f8de1d721f": {
      "model_module": "ipysheet",
      "model_module_version": "~0.5.0",
      "model_name": "CellRangeModel",
      "state": {
       "_view_module": null,
       "_view_module_version": "",
       "column_end": 0,
       "column_start": 0,
       "row_end": 10,
       "row_start": 10,
       "type": "text",
       "value": "15"
      }
     }
    },
    "version_major": 2,
    "version_minor": 0
   }
  }
 },
 "nbformat": 4,
 "nbformat_minor": 5
}
