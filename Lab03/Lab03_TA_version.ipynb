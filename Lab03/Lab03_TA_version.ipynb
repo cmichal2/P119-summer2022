{
 "cells": [
  {
   "cell_type": "markdown",
   "id": "10129cf0-f314-4d11-9b4a-e8580785b7bf",
   "metadata": {},
   "source": [
    "# Lab 3 - The Pendulum"
   ]
  },
  {
   "cell_type": "markdown",
   "id": "1b6782b8-0892-40fd-b516-af76ecec9fdd",
   "metadata": {},
   "source": [
    "Edit this cell and provide the information requested:\n",
    "\n",
    "- Your name:\n",
    "- Your student number:\n",
    "- Partner's name:\n"
   ]
  },
  {
   "cell_type": "code",
   "execution_count": 1,
   "id": "bb41a3e5-6dc2-4689-8f6b-c571553096ce",
   "metadata": {
    "colab": {
     "base_uri": "https://localhost:8080/",
     "height": 34,
     "referenced_widgets": [
      "f4867fcd1bc84f73a8ebaf6d3fe7f93a",
      "d034be63185d4811a05ec0f093d02d7a",
      "bd6d356d711e4792a1e9ada201d26b78",
      "c0d9513060084283a214f5c8f025ecf0",
      "da2defae0a8e4905a29dc8d3ca8a42e3",
      "60dc88a1698c461187c3481c679c7b71",
      "5f73d93446b34030af9201112526626f",
      "4d3b430ac5934818a7693c1a6a3d9355",
      "0bedf7f9be8a49378ea8f37f9c2ebf16",
      "ea117ac05b9b41c082cd9d62ef94d518",
      "124f9831f181482eb784405723a8b2d0",
      "8e1cbf36822a474ebdf82a80a5681924",
      "f8023654ea164371b4e3f37957a06c8a",
      "e1709bb85bb34c7e997f035a4c7560b8",
      "5a1355ddfd1840c2bc9de6ebd7342682",
      "624675d0d30242d6bf1213deb6e3f624",
      "699f933c64d24cafa5bfd5e0a1fc397a",
      "d58d95defca340b885a9e405134fc887",
      "58cf21d8ac234496bad2ebd7ae7f2a1d",
      "5e2883b7e2ba4d6d8a1352e621a8183f",
      "ffe3c8f2bda74603a92742464e69ba6b",
      "7ce01fb43382463f9ae0ad311d7b5dc4"
     ]
    },
    "id": "26726484-93c7-499a-9f34-d4656ef6df5a",
    "outputId": "82f6fee3-86ff-43e5-8b52-64b7eb4467ab"
   },
   "outputs": [],
   "source": [
    "import numpy as np\n",
    "import data_entry"
   ]
  },
  {
   "cell_type": "markdown",
   "id": "6bc2f65e-1838-4b3d-adcd-a78a7f7b17e8",
   "metadata": {},
   "source": [
    "## Part A - Intro and announcements"
   ]
  },
  {
   "cell_type": "markdown",
   "id": "658cad60-0137-47fd-9a6e-2bdfccbacfae",
   "metadata": {},
   "source": [
    "***TA grading feedback here:***\n",
    "- example feedback"
   ]
  },
  {
   "cell_type": "markdown",
   "id": "0bf9f813-2fb3-46e1-a83e-df454787d388",
   "metadata": {},
   "source": [
    "## Part B - Start of familiarization"
   ]
  },
  {
   "cell_type": "markdown",
   "id": "1b81f7d2-53bd-46bf-ac94-78c46dc025a3",
   "metadata": {},
   "source": [
    "***Discuss the experimental goal and familiarization done in Part B of the student instructions***"
   ]
  },
  {
   "cell_type": "markdown",
   "id": "d1142b9a-ec95-432c-bc05-c24548806d53",
   "metadata": {},
   "source": [
    "**Experimental Goal:**\n",
    "Determine if the period of a pendulum depends on amplitude by comparing results at 10 and 20 degrees.\n",
    "\n",
    "**Differences between simulation and real pendulum:**\n",
    "- Air resistance?\n",
    "- String \"wobbles\" during first few swings\n",
    "- Harder to determine initial angle\n",
    "\n",
    "**Initial measurements:**\n",
    "We tried a few initial measurements by releasing the pendulum bob at 10 degrees and starting the timer simultaneously, then stopping the timer when the bob returned back to its starting position. We got 1.85, 1.91, and 1.82 seconds.\n",
    "\n",
    "We then tried measuring at 20 degrees and got 1.90, 1.84, and 1.85 seconds, so the periods don't really look different. We discussed with other groups at our table and they also got values around 1.8-1.9 seconds. One group let the pendulum swing for a few periods before doing their measurement to allow the \"wobbles\" to settle down. We thought that was a good idea so we will do that in our actual measurements."
   ]
  },
  {
   "cell_type": "markdown",
   "id": "b481304a-5188-4fbd-a395-0d9edbf26080",
   "metadata": {},
   "source": [
    "## Part C - Class Discussion of prelab data and measurement design (more familiarization)"
   ]
  },
  {
   "cell_type": "markdown",
   "id": "5979ca0d-d449-40d8-a6fe-59481308b608",
   "metadata": {},
   "source": [
    "***Summarize any important notes from the class discussion and familiarization done in Part C of the student instructions***"
   ]
  },
  {
   "cell_type": "markdown",
   "id": "9e18d4c5-9dab-4ea5-afe6-311b45f3f7f4",
   "metadata": {},
   "source": [
    "The pendulum period for one trial is given by\n",
    "\n",
    "$$T = t/M$$\n",
    "\n",
    "where $t$ is the total time to measure $M$ cycles. The average pendulum period, collected across $N$ trials, is given by\n",
    "\n",
    "$$T_{ave} = t_{ave}/M$$.\n",
    "\n",
    "The uncertainty of the average pendulum period (or uncertainty in the mean of the period) is given by\n",
    "\n",
    "$$u[T_{ave}] = \\frac{\\sigma(T)}{\\sqrt{N}} = \\frac{\\sigma(t)}{M\\cdot \\sqrt{N}}$$.\n",
    "\n",
    "Other relationships and definitions that might be helpful are:\n",
    "\n",
    "- $t_{ave}$ and $\\sigma(t)$ are the average and standard deviation of your timing measurements, and $u[t_{ave}]$ is the uncertainty in the average time\n",
    "- $T_{ave}$ and $\\sigma(T)$ are the average and standard deviation of your period, respectively. $u[T_{ave}]$ is the uncertainty in the mean period\n",
    "\n",
    "**Summary of Nomenclature:**\n",
    "- $M$: number of swings\n",
    "- $N$: number of trials\n",
    "- $t$: time for $M$ swings\n",
    "- $T=t/M$: period from a single trial\n",
    "- $t_{ave}$: average time for $M$ swings over $N$ trials\n",
    "- $T_{ave}$: average period over $N$ trials\n",
    "- $\\sigma(t)$: standard deviation in time\n",
    "- $\\sigma(T)$: standard deviation in period\n",
    "\n",
    "***What do we notice about...***\n",
    "\n",
    "**Standard deviation in time $\\sigma(t)$?**\n",
    "- Everyone is fairly consistent at about 0.1 s\n",
    "- This is independent of the number of swings, $M$\n",
    "- Everyone has similar start/stop timing uncertainty!\n",
    "\n",
    "**Effect of $N$ on uncertainty in average time?**\n",
    "- More trials = less uncertainty in average time\n",
    "- $u[t_{ave}] = \\sigma(t) / \\sqrt{N}$\n",
    "- We are rewarded for doing more trials!\n",
    "\n",
    "**Effect of $M$ (the number of cycles) on uncertainty in period?**\n",
    "- More swings = less uncertainty in period\n",
    "- $u[T] = \\sigma(t) / M$\n",
    "- From above, we have the same timing uncertainty regardless of $M$, so more swings allows us to reduce the impact of this timing uncertainty on our period estimation"
   ]
  },
  {
   "cell_type": "markdown",
   "id": "83d33fcb-6d91-4c37-998b-173e9fb0f65d",
   "metadata": {},
   "source": [
    "## Part D - Your First Round of Measurements (7 minutes of data collection per angle)"
   ]
  },
  {
   "cell_type": "markdown",
   "id": "039d956c-b989-42e9-8367-d218de62679f",
   "metadata": {},
   "source": [
    "***Write some notes below detailing your initial measurement plan***"
   ]
  },
  {
   "cell_type": "markdown",
   "id": "4ce31b01-2acc-4cbd-a949-90cd8c8ca07e",
   "metadata": {},
   "source": [
    "We learned that increasing $M$ is best for reducing uncertainty. With $T\\sim 2$ s and 420 seconds of measurement time, we will do $M=20$ which allows us to run $N=720/(2\\cdot 20)=18$ trials for each angle. For each measurement, we release the pendulum from the angle and let it swing for 5 full periods before starting the timer to allow for any wobbles to fizzle out."
   ]
  },
  {
   "cell_type": "markdown",
   "id": "16101424-86fd-4261-b9f7-4a9cd732e340",
   "metadata": {},
   "source": [
    "*Use the 'data_entry' library to load in a blank spreadsheet below to fill in with your initial round of data. Look back to Lab 02 for help if you forget how to do this!*"
   ]
  },
  {
   "cell_type": "code",
   "execution_count": 3,
   "id": "11fcd5cf-3996-4878-9a64-70417859e239",
   "metadata": {},
   "outputs": [
    {
     "name": "stdout",
     "output_type": "stream",
     "text": [
      "Sheet name: lab03_round1.csv\n"
     ]
    },
    {
     "data": {
      "application/vnd.jupyter.widget-view+json": {
       "model_id": "5a5b1c04b8cc4f7a85c541695d024362",
       "version_major": 2,
       "version_minor": 0
      },
      "text/plain": [
       "VBox(children=(Sheet(cells=(Cell(column_end=0, column_start=0, row_end=0, row_start=0, type='text', value='t10…"
      ]
     },
     "metadata": {},
     "output_type": "display_data"
    }
   ],
   "source": [
    "de = data_entry.sheet(\"lab03_round1\")"
   ]
  },
  {
   "cell_type": "markdown",
   "id": "b41e0d7a-a84c-4e96-8872-dae059d0ab53",
   "metadata": {},
   "source": [
    "**Calculating $T_{ave}$ and $u[T_{ave}]$**"
   ]
  },
  {
   "cell_type": "code",
   "execution_count": 4,
   "id": "116cc604-14d8-42db-b519-389c9467ce4a",
   "metadata": {},
   "outputs": [
    {
     "name": "stdout",
     "output_type": "stream",
     "text": [
      "10 deg period = 1.8098 +/- 0.0016 s\n",
      "20 deg period = 1.8128 +/- 0.0011 s\n"
     ]
    }
   ],
   "source": [
    "M = 20 # number of swings\n",
    "N = 18 # number of trials\n",
    "T10 = np.mean(t10Vec)/M # 10 deg average period\n",
    "T20 = np.mean(t20Vec)/M # 20 deg average period\n",
    "uT10 = np.std(t10Vec)/(np.sqrt(N)*M) # u[Tave] for 10 deg\n",
    "uT20 = np.std(t20Vec)/(np.sqrt(N)*M) # u[Tave] for 20 deg\n",
    "\n",
    "print(\"10 deg period = {:.4f} +/- {:.4f} s\".format(T10,uT10))\n",
    "print(\"20 deg period = {:.4f} +/- {:.4f} s\".format(T20,uT20))"
   ]
  },
  {
   "cell_type": "markdown",
   "id": "4a774171-d3fa-4dd1-b579-1eb8cdba3cc5",
   "metadata": {},
   "source": [
    "**t-score and relative uncertainty calculations**"
   ]
  },
  {
   "cell_type": "code",
   "execution_count": 5,
   "id": "4be7ef58-d6f8-43d2-95f5-cdaee1caa759",
   "metadata": {},
   "outputs": [
    {
     "name": "stdout",
     "output_type": "stream",
     "text": [
      "t' = 1.5095481023513224\n",
      "Relative uncertainty in 10 deg period = 0.0008946859220793611\n",
      "Relative uncertainty in 20 deg period = 0.0006179362024773987\n"
     ]
    }
   ],
   "source": [
    "tscore = np.abs(T10 - T20) / np.sqrt(uT10**2 + uT20**2)\n",
    "reluT10 = uT10 / T10\n",
    "reluT20 = uT20 / T20\n",
    "print(\"t' = {}\".format(tscore))\n",
    "print(\"Relative uncertainty in 10 deg period = {}\".format(reluT10))\n",
    "print(\"Relative uncertainty in 20 deg period = {}\".format(reluT20))"
   ]
  },
  {
   "cell_type": "markdown",
   "id": "144a5c06-afcd-43cc-b48c-a59f29675d84",
   "metadata": {},
   "source": [
    "***Reflect on the results of your first round below***"
   ]
  },
  {
   "cell_type": "markdown",
   "id": "2b0b3691-029f-4909-8fd4-eadb93e5a0fa",
   "metadata": {},
   "source": [
    "Since $1<t'<3$, this means we are in tension and can't say whether the period at 10 and 20 degrees is different. One group found $t=4.2$ which suggests the two values are different, but they did $M=40$ swings and had a lower relative uncertainty than us (about 0.0002 for each angle). Another group found $t=0.3$ but only did $M=10$ swings and had higher relative uncertainty than us (about 0.004). \n",
    "\n",
    "For next round we will increase the number of swings to $M=50$ to further reduce our relative uncertainty. Therefore, if there is a hidden difference between the periods, we will have a better chance of uncovering it with a higher quality measurement."
   ]
  },
  {
   "cell_type": "markdown",
   "id": "7ee49d8e-0841-4224-8bcd-d11a8607bf94",
   "metadata": {},
   "source": [
    "## Part E - SECOND ROUND (10 minutes of data collection per angle)"
   ]
  },
  {
   "cell_type": "markdown",
   "id": "445ac0fa-c0bc-4101-b8e4-ca6cc772efe1",
   "metadata": {},
   "source": [
    "***Iterative cycles of improvements: detail what you are doing for improvements and why.***"
   ]
  },
  {
   "cell_type": "markdown",
   "id": "2f27654a-0070-4b0b-90fb-f0d9f5e22b0f",
   "metadata": {},
   "source": [
    "With $M=50$ and 600 seconds of measurement time per angle, we can get $N=600/(2\\cdot 50)= 6$ trials per angle. Although $N$ has decreased from our last trial, in that trial our uncertainty reduction factor what $\\sqrt{18}\\cdot 20 = 84.85$ whereas our uncertainty reduction factor is now greater at $\\sqrt{6}\\cdot 50 = 122.47$."
   ]
  },
  {
   "cell_type": "markdown",
   "id": "8913f9e0-54ed-440a-92ec-8ca0086cb405",
   "metadata": {},
   "source": [
    "*Use the 'data_entry' library to copy your spreadsheet from round 1, then replace the existing data with the new data from this second round. Again, look back to Lab 02 for help if you forget how to do this!*"
   ]
  },
  {
   "cell_type": "code",
   "execution_count": 6,
   "id": "0bd5f1e5-f31c-4951-ba19-2f628b224205",
   "metadata": {},
   "outputs": [
    {
     "name": "stdout",
     "output_type": "stream",
     "text": [
      "Sheet name: lab03_round2.csv\n"
     ]
    },
    {
     "data": {
      "application/vnd.jupyter.widget-view+json": {
       "model_id": "2a25fa3f4aea4900ae975494f7457d64",
       "version_major": 2,
       "version_minor": 0
      },
      "text/plain": [
       "VBox(children=(Sheet(cells=(Cell(column_end=0, column_start=0, row_end=0, row_start=0, type='text', value='t10…"
      ]
     },
     "metadata": {},
     "output_type": "display_data"
    }
   ],
   "source": [
    "oldFilename = \"lab03_round1\"\n",
    "newFilename = \"lab03_round2\"\n",
    "de2 = data_entry.sheet_copy(oldFilename, newFilename)"
   ]
  },
  {
   "cell_type": "markdown",
   "id": "7788db13-f123-40f7-96c7-8b5fa87c6d87",
   "metadata": {},
   "source": [
    "**Calculating $T_{ave}$ and $u[T_{ave}]$**"
   ]
  },
  {
   "cell_type": "code",
   "execution_count": 7,
   "id": "4953deb3-8ec3-44f8-b486-67f6b9114567",
   "metadata": {},
   "outputs": [
    {
     "name": "stdout",
     "output_type": "stream",
     "text": [
      "10 deg period = 1.81017 +/- 0.00072 s\n",
      "20 deg period = 1.81270 +/- 0.00037 s\n"
     ]
    }
   ],
   "source": [
    "M = 50 # number of swings\n",
    "N = 6 # number of trials\n",
    "T10 = np.mean(t10Vec)/M # 10 deg average period\n",
    "T20 = np.mean(t20Vec)/M # 20 deg average period\n",
    "uT10 = np.std(t10Vec)/(np.sqrt(N)*M) # u[Tave] for 10 deg\n",
    "uT20 = np.std(t20Vec)/(np.sqrt(N)*M) # u[Tave] for 20 deg\n",
    "\n",
    "print(\"10 deg period = {:.5f} +/- {:.5f} s\".format(T10,uT10))\n",
    "print(\"20 deg period = {:.5f} +/- {:.5f} s\".format(T20,uT20))"
   ]
  },
  {
   "cell_type": "markdown",
   "id": "4619ad2d-880c-4064-8776-f800b2ba4896",
   "metadata": {},
   "source": [
    "**t-score and relative uncertainty calculations**"
   ]
  },
  {
   "cell_type": "code",
   "execution_count": 8,
   "id": "14cb3bcb-849d-407c-9eec-f7e7bc7b2db1",
   "metadata": {},
   "outputs": [
    {
     "name": "stdout",
     "output_type": "stream",
     "text": [
      "t' = 3.1122111145039915\n",
      "Relative uncertainty in 10 deg period = 0.00039957083651878797\n",
      "Relative uncertainty in 20 deg period = 0.0002060035352642213\n"
     ]
    }
   ],
   "source": [
    "tscore = np.abs(T10 - T20) / np.sqrt(uT10**2 + uT20**2)\n",
    "reluT10 = uT10 / T10\n",
    "reluT20 = uT20 / T20\n",
    "print(\"t' = {}\".format(tscore))\n",
    "print(\"Relative uncertainty in 10 deg period = {}\".format(reluT10))\n",
    "print(\"Relative uncertainty in 20 deg period = {}\".format(reluT20))"
   ]
  },
  {
   "cell_type": "markdown",
   "id": "b93afd4c-d4c2-46cb-b586-8b0b9619bb92",
   "metadata": {},
   "source": [
    "***Reflect on the results of your second round below***"
   ]
  },
  {
   "cell_type": "markdown",
   "id": "5b0b7e75-d78f-4d71-afc8-470742aa0173",
   "metadata": {},
   "source": [
    "Our relative uncertainty went down for both angles, so our improvement of increasing $M$ panned out. Our t-score increased to $3.11>3$, so we are now confident that the two angles have different periods. However, this is still close to $3$, so we need to do an even better measurement to see if our confidence increases further. One group saw their t-score go down from 4.2 to 3.7, but they kept $M$ unchanged and increased $N$ from 5 to 7. In any case, their t-score interpretation didn't change. Another group saw their t-score go from 0.3 to 3.3 after increasing their $M$ from 10 to 30.\n",
    "\n",
    "For next round, we will keep $M=50$ but increase $N$ from 6 to 10; we don't want to increase $M$ too high in case resistance starts to noticeably affect the period."
   ]
  },
  {
   "cell_type": "markdown",
   "id": "0d1eb79c-639e-4814-81d4-99ecfddfbede",
   "metadata": {},
   "source": [
    "## Part F - THIRD ROUND (10+ minutes of data collection per angle)"
   ]
  },
  {
   "cell_type": "markdown",
   "id": "e508df8a-9c40-4524-bea6-06f980913e7a",
   "metadata": {},
   "source": [
    "***Using Part E as a template, perform another round of improvements***"
   ]
  },
  {
   "cell_type": "markdown",
   "id": "430a0295-d6b1-4a5a-a677-08f7536d864d",
   "metadata": {},
   "source": [
    "With $M=50$ and $N=10$ our measurements should take a total of $2\\cdot 50\\cdot 10 = 1000$ seconds, or about 17 minutes, per angle. This leaves us enough time for analysis and discussion. Our uncertainty reduction factor now increases from $\\sqrt{6}\\cdot 50 = 122.47$ to $\\sqrt{10}\\cdot 50 = 158.11$."
   ]
  },
  {
   "cell_type": "code",
   "execution_count": 9,
   "id": "8ed4a362-1be5-411e-beaf-3e2cb3574e17",
   "metadata": {},
   "outputs": [
    {
     "name": "stdout",
     "output_type": "stream",
     "text": [
      "Sheet name: lab03_round3.csv\n"
     ]
    },
    {
     "data": {
      "application/vnd.jupyter.widget-view+json": {
       "model_id": "ab1404a1d78e4be4ab13dfb4a3cbc2fe",
       "version_major": 2,
       "version_minor": 0
      },
      "text/plain": [
       "VBox(children=(Sheet(cells=(Cell(column_end=0, column_start=0, row_end=0, row_start=0, type='text', value='t10…"
      ]
     },
     "metadata": {},
     "output_type": "display_data"
    }
   ],
   "source": [
    "oldFilename = \"lab03_round2\"\n",
    "newFilename = \"lab03_round3\"\n",
    "de3 = data_entry.sheet_copy(oldFilename, newFilename)"
   ]
  },
  {
   "cell_type": "markdown",
   "id": "4039d10b-7b5f-47a5-ad49-8ddcd0461f6b",
   "metadata": {},
   "source": [
    "**Calculating $T_{ave}$ and $u[T_{ave}]$**"
   ]
  },
  {
   "cell_type": "code",
   "execution_count": 10,
   "id": "6fc001a3-964f-4911-aea9-e5a39a1c2785",
   "metadata": {},
   "outputs": [
    {
     "name": "stdout",
     "output_type": "stream",
     "text": [
      "10 deg period = 1.81022 +/- 0.00058 s\n",
      "20 deg period = 1.81304 +/- 0.00048 s\n"
     ]
    }
   ],
   "source": [
    "M = 50 # number of swings\n",
    "N = 10 # number of trials\n",
    "T10 = np.mean(t10Vec)/M # 10 deg average period\n",
    "T20 = np.mean(t20Vec)/M # 20 deg average period\n",
    "uT10 = np.std(t10Vec)/(np.sqrt(N)*M) # u[Tave] for 10 deg\n",
    "uT20 = np.std(t20Vec)/(np.sqrt(N)*M) # u[Tave] for 20 deg\n",
    "\n",
    "print(\"10 deg period = {:.5f} +/- {:.5f} s\".format(T10,uT10))\n",
    "print(\"20 deg period = {:.5f} +/- {:.5f} s\".format(T20,uT20))"
   ]
  },
  {
   "cell_type": "markdown",
   "id": "f1441ac2-69ef-45c8-b18a-5a118ef7d5f2",
   "metadata": {},
   "source": [
    "**t-score and relative uncertainty calculations**"
   ]
  },
  {
   "cell_type": "code",
   "execution_count": 11,
   "id": "c25545f6-2acd-45ce-bb43-5658f9a44135",
   "metadata": {},
   "outputs": [
    {
     "name": "stdout",
     "output_type": "stream",
     "text": [
      "t' = 3.730602614832325\n",
      "Relative uncertainty in 10 deg period = 0.00032303999536525605\n",
      "Relative uncertainty in 20 deg period = 0.00026419657379734467\n"
     ]
    }
   ],
   "source": [
    "tscore = np.abs(T10 - T20) / np.sqrt(uT10**2 + uT20**2)\n",
    "reluT10 = uT10 / T10\n",
    "reluT20 = uT20 / T20\n",
    "print(\"t' = {}\".format(tscore))\n",
    "print(\"Relative uncertainty in 10 deg period = {}\".format(reluT10))\n",
    "print(\"Relative uncertainty in 20 deg period = {}\".format(reluT20))"
   ]
  },
  {
   "cell_type": "markdown",
   "id": "9cf69ee3-3a90-4e5a-9331-a9e8f4aa3c20",
   "metadata": {},
   "source": [
    "Our t-score slightly went up and now is even greater than $3$, so we are confident that the two periods are different. It looks like our relative uncertainty for the 10 deg period went down, but the relative uncertainty went up for the 20 deg period. This could be from our eyes getting tired or a lapse in focus during a few of these measurements after watching so many pendulum swings!\n",
    "\n",
    "All groups we compared with still have t-scores $>3$ and their relative uncertainties reduced as they increased $M$ (one group: from 30 to 50) or increased $N$ (other group: from 7 to 15)."
   ]
  },
  {
   "cell_type": "markdown",
   "id": "7df7ff5a-0df9-4085-a91e-6d98e4b8d5be",
   "metadata": {},
   "source": [
    "## Part G - COMPLETE YOUR SUMMARY OF RESULTS AND SUBMIT"
   ]
  },
  {
   "cell_type": "markdown",
   "id": "4e640f40-83d2-4294-b206-9b5f8b0aded9",
   "metadata": {},
   "source": [
    "***Tips:***\n",
    "- A brief summary of your key results and key comparisons in 1-2 sentences.\n",
    "- 1-2 sentences to describe and justify your major improvements and how they proved to be successful or unsuccessful. It may be helpful to use relative uncertainty to quantify your argument. \n",
    "- 1-2 sentences addressing the experimental goal and describing the conclusions you can make from the results of your comparisons. \n",
    "- 1 sentence containing your thoughts for further investigation. If you were to spend more time with this experiment, what would you plan to do next?"
   ]
  },
  {
   "cell_type": "markdown",
   "id": "8778f9ab-d956-4dfa-9319-daa7fa4611ea",
   "metadata": {},
   "source": [
    "The experimental goal was to determine whether the period of a pendulum depends on its amplitude. Based on our measurements it appears that it does; our highest quality measurement yielded an average period of $1.81022 \\pm 0.00058$ s for 10 degrees and $1.81304 \\pm 0.00048$ s for 20 deg. Comparing these values gave us a t-score of 3.73, which indicates we have high confidence these two periods are different.\n",
    "\n",
    "As the quality of our dataset increased (i.e., decreasing relative uncertainty by increasing $M$ or $N$), our confidence in the two periods being different also increased (our first measurement round gave us a t-score in tension). This indicates that there is a difference, but that we need sufficiently low relative uncertainty to uncover this difference.\n",
    "\n",
    "Other groups had similar results: their t-scores increased beyond 3 when they increased $M$ and $N$ in an effort to reduce relative uncertainty. When we had similar $M$ and $N$ to other groups, our relative uncertainties were also similar, indicating our underlying timing uncertainty was similar as well.\n",
    "\n",
    "If we had more time, we could increase the number of swings to something like $M=100$ to (i) further reduce our relative uncertainty and (ii) see whether air resistance or internal friction of the pendulum comes into play."
   ]
  }
 ],
 "metadata": {
  "kernelspec": {
   "display_name": "Python 3 (ipykernel)",
   "language": "python",
   "name": "python3"
  },
  "language_info": {
   "codemirror_mode": {
    "name": "ipython",
    "version": 3
   },
   "file_extension": ".py",
   "mimetype": "text/x-python",
   "name": "python",
   "nbconvert_exporter": "python",
   "pygments_lexer": "ipython3",
   "version": "3.9.12"
  }
 },
 "nbformat": 4,
 "nbformat_minor": 5
}
