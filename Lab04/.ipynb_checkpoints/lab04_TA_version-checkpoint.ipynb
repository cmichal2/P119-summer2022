{
 "cells": [
  {
   "cell_type": "markdown",
   "id": "56f42178-9a69-488d-b8f4-cd63984ccc1d",
   "metadata": {},
   "source": [
    "# Lab 03 - Single-Slit Diffraction"
   ]
  },
  {
   "cell_type": "code",
   "execution_count": 1,
   "id": "c299c7fb-5aee-492f-90a7-e930a762dd84",
   "metadata": {
    "tags": []
   },
   "outputs": [],
   "source": [
    "import numpy as np\n",
    "import data_entry"
   ]
  },
  {
   "cell_type": "markdown",
   "id": "457d1616-29cc-434b-8d21-509d67d4d5b9",
   "metadata": {
    "tags": []
   },
   "source": [
    "## Part A - Grading feedback, review of lab 02, overview of the day [0h00-0h10]"
   ]
  },
  {
   "cell_type": "markdown",
   "id": "ae63767a-6cf0-4b33-9ded-6340a5feba25",
   "metadata": {},
   "source": [
    "- Example notes"
   ]
  },
  {
   "cell_type": "markdown",
   "id": "40abfc73-d727-47d6-b653-e9df4577b681",
   "metadata": {},
   "source": [
    "## Part B - Invention activity (combining measurements) and spreadsheet tutorial [0h10-0h55]"
   ]
  },
  {
   "cell_type": "markdown",
   "id": "3714612d-bd12-4836-99cd-66fe52592ee7",
   "metadata": {},
   "source": [
    "***After we have our wrap-up discussion of the activity, take notes below on the new tool that you learned about in the invention (equation, why/when you would want to use it, etc).***"
   ]
  },
  {
   "cell_type": "markdown",
   "id": "94a6e77b-d3f3-4275-97c8-8c8427b41ea6",
   "metadata": {},
   "source": [
    "- The weighted mean is a formula used to combine $N$ measurements, $\\{x_1,x_2,\\cdots x_N\\}$, potentially having different measurement uncertainties, $\\{u[x_i],u[x_2],\\cdots,u[x_N]\\}$, into a single representative measurement. It is defined as:\n",
    "\n",
    "$$ \\bar{x}_w = \\frac{\\sum_{i=1}^N w_i x_i}{\\sum_{i=1}^N w_i} $$\n",
    "\n",
    "where\n",
    "\n",
    "$$ w_i = \\frac{1}{(u[x_i])^2} $$\n",
    "\n",
    "- Note that the weights, $w_i$, give more weight to measurements with smaller measurement uncertainty (high precision), and less weight to measurements with larger measurement uncertainty (low precision).\n",
    "- From the TA demo, when calculating the weighted mean a good sanity check is to see whether $\\bar{x}_w$ is relatively close to the high precision measurements.\n",
    "- The uncertainty in the weighted mean is given as:\n",
    "\n",
    "$$ u[\\bar{x}_w] = \\sqrt{\\frac{1}{\\sum_{i=1}^N w_i}} $$\n",
    "\n",
    "- From the TA demo, another sanity check is that $u[\\bar{x}_w]$ should be less than any $u[x_i]$.\n",
    "- **Why is the weighted mean important?** Sometimes in science we use a variety of measurement methods to measure the same thing, e.g. the Hubble constant, which parametrizes the expansion rate of the universe and has been estimated using standard candles, CMB data, and gravitational waves. Sometimes these measurement strategies yield wildly different measurement uncertainties, so if we want a single representative data point from all the available measurements, the weighted mean can combine these measurements in a logical fashion."
   ]
  },
  {
   "cell_type": "markdown",
   "id": "1b2a1ac4-eb72-4ee3-8604-7b386ffcc82b",
   "metadata": {},
   "source": [
    "## Part C.1 - The experimental goal"
   ]
  },
  {
   "cell_type": "markdown",
   "id": "92db7cb4-c09c-45b9-8d36-888a3e9bd6a1",
   "metadata": {},
   "source": [
    "***What is the diameter of a human hair? Can I use multiple measurement methods to build confidence in my results?***"
   ]
  },
  {
   "cell_type": "markdown",
   "id": "b7cb0ff5-08cb-4ae8-b562-a2a4f3baa62a",
   "metadata": {},
   "source": [
    "We we use a direct measurement of the diameter using calipers and at least three indirect, laser-based measurements using diffraction. All laser-based measurements will be combined using our new tool, the weighted mean and then compared to the direct measurement."
   ]
  },
  {
   "cell_type": "markdown",
   "id": "85ae30fe-525d-46ab-8fb5-78e87d42fc8a",
   "metadata": {},
   "source": [
    "## Part C.2 - FAMILIARIZE (background theory) [0h55-1h00]\n",
    "\n",
    "The equation relating the hair diameter to the characteristics of the diffraction pattern is:\n",
    "\n",
    "$$ a = p\\lambda\\sqrt{1+z^2} $$\n",
    "\n",
    "where\n",
    "\n",
    "$$ z = \\frac{L}{y}$$\n",
    "\n",
    "Nomenclature:\n",
    "- $a$ is the hair diameter\n",
    "- $p$ is a non-zero integer label for the minima in the interference pattern (dark patches). You choose which one!\n",
    "- $\\lambda$ is the wavelength of the light (<span style=\"color:red\">Red laser pointer: $\\lambda$ = 650 nm</span>; the uncertainty in this wavelength is negligible compared to any of your distance measurement uncertainties)\n",
    "- $L$ is the distance from the slit to the screen\n",
    "- $y$ is the distance to a minimum in the interference pattern (dark patches) from the middle of the central bright fringe\n",
    "\n",
    "The uncertainty in the diameter is:\n",
    "\n",
    "$$u[a] = u[z] \\frac{az}{1+z^2}$$\n",
    "\n",
    "where\n",
    "\n",
    "$$u[z] = z\\sqrt{\\left(\\frac{u[L]}{L}\\right)^2 + \\left(\\frac{u[y]}{y}\\right)^2}$$\n",
    "\n",
    "***Which variables are under our control?***"
   ]
  },
  {
   "cell_type": "markdown",
   "id": "c39b8b09-03ec-4636-be9b-1ef67f6aede6",
   "metadata": {},
   "source": [
    "- We are measuring $a$\n",
    "- We get to choose $p$ and we also set the distance from the screen, $L$\n",
    "- We are measuring $y$ on the screen, which will vary according to our choice of $p$ and $L$\n",
    "- $\\lambda$ is a constant which we cannot change for a given colour, though we can use different laser colours to change $\\lambda$"
   ]
  },
  {
   "cell_type": "markdown",
   "id": "8876f4b9-a59f-46f4-9752-0020f0d05ae4",
   "metadata": {},
   "source": [
    "## Part C.3 - FAMILIARIZE (practice measurements and strategy) [1h00-1h10]"
   ]
  },
  {
   "cell_type": "markdown",
   "id": "af24aa11-cea6-4591-aee4-bc9bfbc79237",
   "metadata": {},
   "source": [
    "***Include some familiarization notes below from experimenting with the equipment***"
   ]
  },
  {
   "cell_type": "markdown",
   "id": "62fac724-c46c-4376-adf8-3c6012805fdc",
   "metadata": {},
   "source": [
    "- After taping our hair vertically across the small opening, we noticed a horizontal diffraction pattern on the screen\n",
    "- The central bright spot is quite fuzzy and as one moves outwards the bright spots become dimmer and harder to discern from the dark spaces\n",
    "- Moving the screen farther away from the hair causes the pattern to broaden"
   ]
  },
  {
   "cell_type": "markdown",
   "id": "3d2face2-3067-46ee-9e0e-c8c6dcfbc608",
   "metadata": {},
   "source": [
    "***Describe your first measurement strategy based on your familiarization step above***"
   ]
  },
  {
   "cell_type": "markdown",
   "id": "e3382da8-76eb-4bc4-9d3c-cf34883b4621",
   "metadata": {},
   "source": [
    "- We will start with $p=1$ and $L=50$ cm since the dark spots are easily discernible with these parameters\n",
    "- To avoid the uncertainty of the fuzzy central bright spot, we will measure from the lefthand $p=1$ to righthand $p=1$ (which is $2y$) and divide by 2 to get $y$\n",
    "- $u[y]$ will be estimated using a Gaussian PDF, since this will be measured using an analog ruler and effects like parallax and the fuzziness of the bright spots are random in nature\n",
    "- $u[L]$ will also be represented by a Gaussian PDF, since we have random uncertainties such as eyeballing the measurement off the ruler and the inability to have the ruler completely orthogonal to the projected pattern"
   ]
  },
  {
   "cell_type": "markdown",
   "id": "cb4030cb-f419-4e64-9091-066298a21a17",
   "metadata": {},
   "source": [
    "## Space for data entry and analysis"
   ]
  },
  {
   "cell_type": "markdown",
   "id": "5da404ee-0f31-478a-8613-dee9cb0978d7",
   "metadata": {},
   "source": [
    "*Load in a blank spreadsheet below to hold your data. Remember that you only need to do a **single measurement of $a$** for each measurement round, i.e. if you fix $L$ at a certain distance you only need to pick a single $p$ for your measurement of $a$.*\n",
    "\n",
    "*After each measurement round you should be analyzing and discussing your results, before thinking of ways to improve your data for the next measurement round. Depending on your preference, you may add all of your data to the spreadsheet you generate below, or you may copy the spreadsheet with your data from the first round to alter for successive rounds.*"
   ]
  },
  {
   "cell_type": "code",
   "execution_count": 2,
   "id": "5767bc02-8d8d-4772-9683-fe1268f4ab01",
   "metadata": {},
   "outputs": [
    {
     "name": "stdout",
     "output_type": "stream",
     "text": [
      "Sheet name: lab4.csv\n"
     ]
    },
    {
     "data": {
      "application/vnd.jupyter.widget-view+json": {
       "model_id": "6efea93a1ddf4ac4b5878e09a97632dd",
       "version_major": 2,
       "version_minor": 0
      },
      "text/plain": [
       "VBox(children=(Sheet(cells=(Cell(column_end=0, column_start=0, row_end=0, row_start=0, type='text', value='p')…"
      ]
     },
     "metadata": {},
     "output_type": "display_data"
    }
   ],
   "source": [
    "de = data_entry.sheet(\"lab4\")"
   ]
  },
  {
   "cell_type": "code",
   "execution_count": 3,
   "id": "9397bfce-0120-43e8-a302-48cfd75e3295",
   "metadata": {},
   "outputs": [],
   "source": [
    "\"\"\" calculating hair diameter and uncertainty \"\"\"\n",
    "lam = 650e-9 # red laser wavelength, in m\n",
    "z = LVec / yVec # intermediate parameter, z\n",
    "uz = z * np.sqrt((uyVec/yVec)**2 + (uLVec/LVec)**2) # uncertainty in z\n",
    "a = pVec*lam * np.sqrt(1 + z**2) # hair diameter\n",
    "ua = uz * a*z/(1+z**2)"
   ]
  },
  {
   "cell_type": "markdown",
   "id": "ef7d945a-e745-49a3-9be6-1b0bec4f1884",
   "metadata": {},
   "source": [
    "## Part D - MEASURE & ANALYZE (Round 1) [1h10-1h20]"
   ]
  },
  {
   "cell_type": "markdown",
   "id": "109c1d39-40a4-4f61-9c5b-af969a093e6a",
   "metadata": {},
   "source": [
    "***What did we do and why?\n",
    "What did we actually do and what happened?\n",
    "Why were specific choices made?***"
   ]
  },
  {
   "cell_type": "markdown",
   "id": "6df4a140-f927-4775-b1e3-0cd112e51b83",
   "metadata": {},
   "source": [
    "- As mentioned above, we chose $p=1$ and $L=50$ cm since the dark spots are easily identifiable\n",
    "- We estimated a 95\\% confidence interval of 1 cm for u[L] due to parallax and potential slightly mispositioning of the ruler when trying to set the ruler orthogonal to both the pattern and the hair holder\n",
    "- We estimated a 95% confidence interval of 4 mm for u[y] due to the fuzziness of the bright bands, leading to an uncertainty in where exactly the centre of the dark bands are\n",
    "- Our first measurement is about 50 micrometres (see below), which seems reasonable\n",
    "- We also did a direct measurement using the calipers, which gave us a stable measurement of 0.04 mm (40 micrometres)\n",
    "- The uncertainty in the direct measurement is described by a uniform PDF, since the calipers are a digital instrument and the reported value was not fluctuating"
   ]
  },
  {
   "cell_type": "code",
   "execution_count": 4,
   "id": "31d0fab0-0ed4-4851-831a-dc94bce57685",
   "metadata": {},
   "outputs": [
    {
     "name": "stdout",
     "output_type": "stream",
     "text": [
      "a = 46.43 +/- 3.32 micrometres\n",
      "u[a]/a = 0.0716\n",
      "u[a_direct]/a_direct = 0.0722\n"
     ]
    }
   ],
   "source": [
    "# First measurement\n",
    "print(\"a = {:.2f} +/- {:.2f} micrometres\".format(a[0]*1e6, ua[0]*1e6)) # in micrometres\n",
    "print(\"u[a]/a = {:.4f}\".format(ua[0]/a[0]))\n",
    "\n",
    "# Direct measurement\n",
    "aDirect = 0.04e-3 # in m\n",
    "uaDirect = (0.01e-3/2)/np.sqrt(3)\n",
    "print(\"u[a_direct]/a_direct = {:.4f}\".format(uaDirect/aDirect))"
   ]
  },
  {
   "cell_type": "markdown",
   "id": "4410054e-ca8b-446b-bd80-92dc36d35157",
   "metadata": {},
   "source": [
    "## Part E - COMPARE, SUMMARIZE & REFLECT (Round 1) [1h20-1h35]"
   ]
  },
  {
   "cell_type": "markdown",
   "id": "4eb56454-b78c-4a85-aa69-b0d92753366b",
   "metadata": {},
   "source": [
    "***What did we learn and what’s the evidence?\n",
    "What are our important numerical and/or comparison results?\n",
    "Do our results address the experimental goal? What’s the evidence?\n",
    "Do our results make sense?\n",
    "Is our result of high quality?***"
   ]
  },
  {
   "cell_type": "code",
   "execution_count": 5,
   "id": "0f342d28-3b2c-4285-bfaf-1d4e41fd2575",
   "metadata": {},
   "outputs": [
    {
     "name": "stdout",
     "output_type": "stream",
     "text": [
      "1.4612022925541046\n"
     ]
    }
   ],
   "source": [
    "# t-score between direct measurement and first diffraction measurement\n",
    "t1 = np.abs(a[0] - aDirect) / np.sqrt(ua[0]**2 + uaDirect**2) # with indexing\n",
    "print(t1)"
   ]
  },
  {
   "cell_type": "markdown",
   "id": "2e40e915-2e8c-4424-8061-dcfe8ebdcb2b",
   "metadata": {},
   "source": [
    "- The t-score is in tension comparing the direct and laser-based measurement, meaning we need to do more precise measurements to resolve the tension\n",
    "- The relative uncertainty in the direct measurement is about 7 times higher than the laser-based measurement\n",
    "- The laser-based measurement has a relative uncertainty of about 0.01, which is fairly precise, but we will aim to do more precise measurements in the later rounds\n",
    "- Since we are measuring the same hair using two different methods, we would expect to have high confidence that the values are not different ($t<1$)\n",
    "- It is possible that we are squishing the hair slightly when making the caliper measurement, which is supported by the lower diameter from the direct measurement\n",
    "- Other groups had similar observations of higher precision in the laser-based measurements\n",
    "- The hair diameters were fairly variable, from as low as 42.12 micrometres to as high as 157.44 micrometres; this is not surprising since we expect hair thickness to vary person-to-person"
   ]
  },
  {
   "cell_type": "markdown",
   "id": "16a16cb1-87f5-4d8d-9aee-f0efe8fcf030",
   "metadata": {},
   "source": [
    "## Part F - PLAN TO IMPROVE [1h35-1h40]"
   ]
  },
  {
   "cell_type": "markdown",
   "id": "385022d1-1bec-479b-bd70-5ad368eaae50",
   "metadata": {},
   "source": [
    "***What are we going to do next and why?\n",
    "How do we reduce our uncertainty?\n",
    "What else can we do to improve our results?\n",
    "Why are we choosing these improvements?***"
   ]
  },
  {
   "cell_type": "markdown",
   "id": "2f52a014-087c-4a99-b98f-ce026de5fd38",
   "metadata": {},
   "source": [
    "We will look at the formula for relative uncertainty in the hair diameter to search for possible parameters to change to reduce relative uncertainty:\n",
    "\n",
    "$$\\frac{u[a]}{a} = u[z]\\frac{z}{1+z^2} = \\frac{z^2\\sqrt{\\left(\\frac{u[L]}{L}\\right)^2 + \\left(\\frac{u[y]}{y}\\right)^2}}{1+z^2} $$\n",
    "\n",
    "We note that $z^2>>1$, so:\n",
    "\n",
    "$$\\frac{u[a]}{a} \\approx \\sqrt{\\left(\\frac{u[L]}{L}\\right)^2 + \\left(\\frac{u[y]}{y}\\right)^2} = \\frac{u[z]}{z}$$\n",
    "\n",
    "Therefore to reduce relative uncertainty in $a$, we can increase $L$ (which also increases $y$) or increase $y$ (by choosing a larger $p$). We will try increasing $p$ to increase $y$ in this round, since $y$ has lower precision than $L$ (see below)."
   ]
  },
  {
   "cell_type": "code",
   "execution_count": 6,
   "id": "4275fb97-16e7-4544-8480-bf5dd3b49788",
   "metadata": {},
   "outputs": [
    {
     "name": "stdout",
     "output_type": "stream",
     "text": [
      "0.005\n",
      "0.07142857142857142\n"
     ]
    }
   ],
   "source": [
    "print(uLVec[0]/LVec[0]) # relative uncertainty in L\n",
    "print(uyVec[0]/yVec[0]) # relative uncertainty in y"
   ]
  },
  {
   "cell_type": "markdown",
   "id": "dc402f51-deba-4c6b-8839-8fb3ec751cb5",
   "metadata": {},
   "source": [
    "## Part G - MEASURE & ANALYZE (Round 2)"
   ]
  },
  {
   "cell_type": "markdown",
   "id": "4d22d1cd-df99-45d3-8ae2-6db900c98619",
   "metadata": {},
   "source": [
    "- similar notes as in Part D"
   ]
  },
  {
   "cell_type": "markdown",
   "id": "be293d8f-23ae-418a-bce2-0ada9cba5f18",
   "metadata": {},
   "source": [
    "## Part H - COMPARE, SUMMARIZE, REFLECT (Round 2)"
   ]
  },
  {
   "cell_type": "markdown",
   "id": "df53386e-a3e3-4cd6-ad2a-6caf7fd12724",
   "metadata": {},
   "source": [
    "- similar notes as in Part E"
   ]
  },
  {
   "cell_type": "markdown",
   "id": "eff71043-bae3-43cc-9645-e0f5ce079507",
   "metadata": {},
   "source": [
    "## Part I - CONTINUE TO INVESTIGATE (Rounds 3+ if you have time)"
   ]
  },
  {
   "cell_type": "markdown",
   "id": "000e29a5-765d-4cc3-892a-3f54e26c5697",
   "metadata": {},
   "source": [
    "- similar notes as above"
   ]
  },
  {
   "cell_type": "markdown",
   "id": "f6d9cba2-5357-4c4e-82d1-0392c8b1817d",
   "metadata": {},
   "source": [
    "## Part J - Complete Summary of Results and submit [2h30-2h50]"
   ]
  },
  {
   "cell_type": "markdown",
   "id": "ee643693-fc07-4451-b569-343b9b0c71b5",
   "metadata": {},
   "source": [
    "***Tips:***\n",
    "- A brief summary of how your key results and the results of your comparisons evolved throughout the lab.\n",
    "- 1-2 sentences to describe and justify your major improvements and how they proved to be successful or unsuccessful. It may be helpful to use relative uncertainty to quantify your argument. \n",
    "- 1-2 sentences addressing the experimental goal and describing the conclusions you can make from the results of your comparisons. \n",
    "- 1 sentence containing your thoughts for further investigation. If you were to spend more time with this experiment, what would you plan to do next?"
   ]
  },
  {
   "cell_type": "markdown",
   "id": "fcc4b644-2ad3-4900-ba03-44af9a11de69",
   "metadata": {},
   "source": [
    "By increasing $L$ and $y$, we were able to successively lower our relative uncertainty in $a$ in each round:"
   ]
  },
  {
   "cell_type": "code",
   "execution_count": 7,
   "id": "7e1eb660-66be-46c3-ad98-afd16cea8019",
   "metadata": {},
   "outputs": [
    {
     "name": "stdout",
     "output_type": "stream",
     "text": [
      "[0.07158933 0.02674795 0.01304215]\n"
     ]
    }
   ],
   "source": [
    "print(ua/a)"
   ]
  },
  {
   "cell_type": "markdown",
   "id": "f25d09cb-279e-4d71-8724-98d3620d0a4b",
   "metadata": {},
   "source": [
    "The weighted mean and uncertainty of all laser-based measurements is calculated below:"
   ]
  },
  {
   "cell_type": "code",
   "execution_count": 8,
   "id": "f7930ea6-461a-4d40-a186-86f5ed7f0fb6",
   "metadata": {},
   "outputs": [
    {
     "name": "stdout",
     "output_type": "stream",
     "text": [
      "Weighted mean: 50.16 +/- 0.58 micrometres\n",
      "Relative uncertainty of weighted mean: 0.0116\n",
      "[46.43312121 51.35282611 50.03801055]\n"
     ]
    }
   ],
   "source": [
    "\"\"\" weighted mean and uncertainty \"\"\"\n",
    "w = 1 / ua**2 # weights\n",
    "aw = np.sum(w * a) / np.sum(w)\n",
    "uaw = np.sqrt(1/np.sum(w))\n",
    "print(\"Weighted mean: {:.2f} +/- {:.2f} micrometres\".format(aw*1e6,uaw*1e6)) # in micrometres\n",
    "print(\"Relative uncertainty of weighted mean: {:.4f}\".format(uaw/aw))\n",
    "print(a*1e6)"
   ]
  },
  {
   "cell_type": "markdown",
   "id": "650e38da-929f-4547-81b1-9e85fcaf02dc",
   "metadata": {},
   "source": [
    "This is closer to our more precise measurements, as expected. The t-score between our direct measurement and the weighted mean of the laser-based measurements is shown below:"
   ]
  },
  {
   "cell_type": "code",
   "execution_count": 9,
   "id": "23481006-aef9-4130-808f-ee1c30133ae8",
   "metadata": {},
   "outputs": [
    {
     "name": "stdout",
     "output_type": "stream",
     "text": [
      "3.4514499693128387\n"
     ]
    }
   ],
   "source": [
    "tFinal = np.abs(aw - aDirect)/np.sqrt(uaw**2 + uaDirect**2)\n",
    "print(tFinal)"
   ]
  },
  {
   "cell_type": "markdown",
   "id": "9e529998-9160-4d54-81d6-ef21de4e9251",
   "metadata": {},
   "source": [
    "This is $>3$, indicated we have high confidence the values are different. Again, it is likely that the calipers are slightly squishing the hair, resulting in a statistically different value of the same hair measured using two different measurement methods. As a result of this observation and the lower relative uncertainty in the laser-based weighted mean measurement, we would trust this value more to estimate the true hair diameter, i.e. the hair diameter is likely closer to 50 micrometres than the direct measurement of 40 micrometres."
   ]
  }
 ],
 "metadata": {
  "kernelspec": {
   "display_name": "Python 3 (ipykernel)",
   "language": "python",
   "name": "python3"
  },
  "language_info": {
   "codemirror_mode": {
    "name": "ipython",
    "version": 3
   },
   "file_extension": ".py",
   "mimetype": "text/x-python",
   "name": "python",
   "nbconvert_exporter": "python",
   "pygments_lexer": "ipython3",
   "version": "3.10.5"
  }
 },
 "nbformat": 4,
 "nbformat_minor": 5
}
