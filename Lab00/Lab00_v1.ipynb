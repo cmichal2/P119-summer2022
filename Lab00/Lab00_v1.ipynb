{
 "cells": [
  {
   "cell_type": "markdown",
   "id": "38c874a6-cae3-4f94-931a-173155fa86d3",
   "metadata": {
    "tags": []
   },
   "source": [
    "# Lab 00 - Becoming BFFs with Jupyter"
   ]
  },
  {
   "cell_type": "markdown",
   "id": "a17e32ac-bb67-4311-ba68-aaf5766d1291",
   "metadata": {},
   "source": [
    "In this Jupyter notebook, we will go through some basics of using Jupyter notebooks."
   ]
  },
  {
   "cell_type": "markdown",
   "id": "8282c5b1-ade2-4c3f-a844-55ad3894e4bc",
   "metadata": {
    "jp-MarkdownHeadingCollapsed": true,
    "tags": []
   },
   "source": [
    "## Cells - Code and Markdown"
   ]
  },
  {
   "cell_type": "markdown",
   "id": "d7695526-6e26-4ca6-9c4b-2889d944d320",
   "metadata": {},
   "source": [
    "The first thing we will introduce is the unit block of the Jupyter notebook. These are what is known as \"cells\". They come in two types; code cells (where you can write and run Python) and markdown cells (where you can write text, and also create headings and equations). This cell is a markdown cell."
   ]
  },
  {
   "cell_type": "code",
   "execution_count": 1,
   "id": "82f2910b-46fc-49cb-a115-38901d7af276",
   "metadata": {},
   "outputs": [],
   "source": [
    "# While this cell is a code cell.\n",
    "x = 3.1415\n",
    "y = 2.7\n",
    "z = x + y"
   ]
  },
  {
   "cell_type": "markdown",
   "id": "c9e6465a-f287-43bc-b74b-4f78f261be7a",
   "metadata": {},
   "source": [
    "Cells can be added using the \"+\" button that you see in the top toolbar. You can change the cell type using the dropdown menu (to the left of the clock symbol)."
   ]
  },
  {
   "cell_type": "markdown",
   "id": "64e834a1-0ae2-49da-9ee9-e0f0d43bd6e4",
   "metadata": {
    "jp-MarkdownHeadingCollapsed": true,
    "tags": []
   },
   "source": [
    "## Editing and Running Markdown Cells"
   ]
  },
  {
   "cell_type": "markdown",
   "id": "7cf12e6e-d085-4dfa-831d-780f9b29eb14",
   "metadata": {},
   "source": [
    "Markdown cells can be edited by double clicking them. They can be then run (to be converted into text form) by clicking the \"play\" button in the top toolbar, or by Shift + Return. Actually, you can run code cells in the exact same way.\n",
    "\n",
    "Try double clicking on this cell, and type in your favourite quote below!\n",
    "\n",
    "\" \""
   ]
  },
  {
   "cell_type": "markdown",
   "id": "14c39ad2-ff34-46c9-8b0b-1f7cfe8d49c5",
   "metadata": {
    "jp-MarkdownHeadingCollapsed": true,
    "tags": []
   },
   "source": [
    "## Headings in Markdown"
   ]
  },
  {
   "cell_type": "markdown",
   "id": "e77f5c91-5967-4067-94a4-982faac9156f",
   "metadata": {},
   "source": [
    "Headings can be created by Throwing \"#\" symbols in front of markdown text. The more #s you have in front of a heading, the smaller the heading it will be (e.g # Large Heading, ## Medium Heading, ### Small Heading)."
   ]
  },
  {
   "cell_type": "markdown",
   "id": "5aaf3920-1e34-4c37-ba4f-88307ec35954",
   "metadata": {
    "tags": []
   },
   "source": [
    "### Small Heading"
   ]
  },
  {
   "cell_type": "markdown",
   "id": "f991a28d-7367-4c7b-ae59-dd1a6de5d2a7",
   "metadata": {
    "jp-MarkdownHeadingCollapsed": true,
    "tags": []
   },
   "source": [
    "## Math in Markdown"
   ]
  },
  {
   "cell_type": "markdown",
   "id": "7c7cddb0-40bb-4031-a255-d4aa63d48e1d",
   "metadata": {},
   "source": [
    "A powerful part of Markdown is the ability to type mathematical expressions through a typesetting system known as $\\LaTeX$. While we won't require any knowledge or proficiency with $\\LaTeX$ in this course, it can be useful to make your expressions look nice."
   ]
  },
  {
   "cell_type": "markdown",
   "id": "da52a2c4-d39c-40f6-9274-390fa4410510",
   "metadata": {},
   "source": [
    "If you want to type mathematical expressions \"in-line\", surround them with single \"$\"s. For example:\n",
    "\n",
    "The mass-energy equivalence $E = mc^2$ is attributed to Albert Einstein."
   ]
  },
  {
   "cell_type": "markdown",
   "id": "ba60c500-ed23-4bf9-aabf-75247dff3e15",
   "metadata": {},
   "source": [
    "If you want to type mathematical expressions as equations, surround them with double \"$\"s. For example:\n",
    "\n",
    "Schrodinger's Equation describes the time evolution of a quantum system. It can be written as:\n",
    "\n",
    "$$ i \\hbar \\frac{\\partial}{\\partial t} \\lvert \\psi \\rangle = H \\lvert \\psi \\rangle$$"
   ]
  },
  {
   "cell_type": "markdown",
   "id": "345f94bc-3329-4ff8-a224-3fe2287c677f",
   "metadata": {},
   "source": [
    "There is a whole world of markdown too large to be covered in this tutorial, but the curious can discover more here! https://www.markdownguide.org"
   ]
  },
  {
   "cell_type": "markdown",
   "id": "82b1aede-dcc7-423b-864c-82678bd4cda5",
   "metadata": {
    "jp-MarkdownHeadingCollapsed": true,
    "tags": []
   },
   "source": [
    "## Running code cells, comments"
   ]
  },
  {
   "cell_type": "markdown",
   "id": "df722f8c-3f74-4312-86ac-aa5f1867439c",
   "metadata": {},
   "source": [
    "Code cells can be edited by clicking and writing. They can be run just like markdown cells, by clicking the \"play\" button in the top toolbar, or by Shift + Return. This will run the python code in that cell."
   ]
  },
  {
   "cell_type": "code",
   "execution_count": null,
   "id": "39059471-5914-4665-879f-a899ccdb26f8",
   "metadata": {},
   "outputs": [],
   "source": [
    "# This is (again) a code cell.\n",
    "# Python treats any lines with a \"#\" in front as a comment.\n",
    "# So these lines will do nothing even if the cell is run."
   ]
  },
  {
   "cell_type": "markdown",
   "id": "5725f504-31a5-40d7-aa0f-3898b2faa528",
   "metadata": {
    "jp-MarkdownHeadingCollapsed": true,
    "tags": []
   },
   "source": [
    "## Arithmetic in python"
   ]
  },
  {
   "cell_type": "markdown",
   "id": "a03b6d31-c28d-4a9c-bfc7-9fe8566c5626",
   "metadata": {},
   "source": [
    "Arithmetic in python works almost exactly like you would expect it!"
   ]
  },
  {
   "cell_type": "code",
   "execution_count": 2,
   "id": "727dc7a5-63ce-49c3-8bf4-4554132ffcfd",
   "metadata": {},
   "outputs": [
    {
     "data": {
      "text/plain": [
       "3"
      ]
     },
     "execution_count": 2,
     "metadata": {},
     "output_type": "execute_result"
    }
   ],
   "source": [
    "# Addition\n",
    "1 + 2"
   ]
  },
  {
   "cell_type": "code",
   "execution_count": 6,
   "id": "077005dd-7d92-48ca-9d9c-0aa6c60d94ef",
   "metadata": {},
   "outputs": [
    {
     "data": {
      "text/plain": [
       "1.3"
      ]
     },
     "execution_count": 6,
     "metadata": {},
     "output_type": "execute_result"
    }
   ],
   "source": [
    "# Subtraction\n",
    "2.5 - 1.2"
   ]
  },
  {
   "cell_type": "code",
   "execution_count": 4,
   "id": "c4711372-276f-4401-bf73-83a1d5a31520",
   "metadata": {},
   "outputs": [
    {
     "data": {
      "text/plain": [
       "6"
      ]
     },
     "execution_count": 4,
     "metadata": {},
     "output_type": "execute_result"
    }
   ],
   "source": [
    "# Multiplication\n",
    "2 * 3"
   ]
  },
  {
   "cell_type": "code",
   "execution_count": 5,
   "id": "78ca2ac4-8354-4938-b923-a17ae650f5c7",
   "metadata": {},
   "outputs": [
    {
     "data": {
      "text/plain": [
       "3.0"
      ]
     },
     "execution_count": 5,
     "metadata": {},
     "output_type": "execute_result"
    }
   ],
   "source": [
    "# Division\n",
    "6 / 2"
   ]
  },
  {
   "cell_type": "code",
   "execution_count": 8,
   "id": "fffeb48e-bb7c-41c0-b1c2-cba98eae58c8",
   "metadata": {},
   "outputs": [
    {
     "data": {
      "text/plain": [
       "8"
      ]
     },
     "execution_count": 8,
     "metadata": {},
     "output_type": "execute_result"
    }
   ],
   "source": [
    "# Exponentiation\n",
    "2**3  # Note that ** = ^ in python"
   ]
  },
  {
   "cell_type": "code",
   "execution_count": 10,
   "id": "c865d1c5-1097-4eb0-85b8-1c1a8e0f5af0",
   "metadata": {},
   "outputs": [
    {
     "data": {
      "text/plain": [
       "2.0"
      ]
     },
     "execution_count": 10,
     "metadata": {},
     "output_type": "execute_result"
    }
   ],
   "source": [
    "# Roots\n",
    "4**(1/2)"
   ]
  },
  {
   "cell_type": "markdown",
   "id": "74948a64-fdb6-4c44-a98f-0c9c6e116ca5",
   "metadata": {
    "jp-MarkdownHeadingCollapsed": true,
    "tags": []
   },
   "source": [
    "## Variables in python, printing"
   ]
  },
  {
   "cell_type": "markdown",
   "id": "daf5bc04-9e37-401e-b2a7-fae4392dc80f",
   "metadata": {},
   "source": [
    "It will be useful to store and handle values symbolically (instead of just working with individual numbers all the time). To this end, we introduce variables. The cell below can be run to set the value of the variable \"x\" to be 7. In python, the \"=\" symbol is used as an assignment operator, rather than a checking if two things are equal (confusingly, that task is done by a double equals sign \"==\"... but this will not be necessary for this course!)"
   ]
  },
  {
   "cell_type": "code",
   "execution_count": 9,
   "id": "bf164117-ab26-4c9d-b836-1486c1386a50",
   "metadata": {},
   "outputs": [],
   "source": [
    "x = 7"
   ]
  },
  {
   "cell_type": "markdown",
   "id": "735180bd-e396-46c0-8d0f-a4fd3ae7ed3e",
   "metadata": {},
   "source": [
    "This stored value now persists across cells, so I can use this in future cells:"
   ]
  },
  {
   "cell_type": "code",
   "execution_count": 11,
   "id": "0f6295af-5b47-40ee-b89c-5d0cee5234cd",
   "metadata": {},
   "outputs": [
    {
     "data": {
      "text/plain": [
       "7"
      ]
     },
     "execution_count": 11,
     "metadata": {},
     "output_type": "execute_result"
    }
   ],
   "source": [
    "x"
   ]
  },
  {
   "cell_type": "markdown",
   "id": "5d8ee407-79f9-4c64-9b94-b35a9a88f259",
   "metadata": {},
   "source": [
    "However, sometimes I want to see the value of something not just at the end of the cell (As we have been doing now) but at some intermediate point in the cell. For this, the print function is very useful. Try running the cell below, where we assign some values, and along the way print the value of a to see what it is:"
   ]
  },
  {
   "cell_type": "code",
   "execution_count": 13,
   "id": "ef659ee9-dffc-42f7-b112-7761e451ef33",
   "metadata": {},
   "outputs": [
    {
     "name": "stdout",
     "output_type": "stream",
     "text": [
      "1\n"
     ]
    }
   ],
   "source": [
    "a = 1\n",
    "print(a)\n",
    "b = 2"
   ]
  },
  {
   "cell_type": "markdown",
   "id": "df583a7c-b978-4a24-9da4-92b0dbdba96b",
   "metadata": {},
   "source": [
    "Note that we can also do arithmetic operations on variables. For example, what do you expect the value of c to be below? Try printing c to see if your guess matches up with what you expect."
   ]
  },
  {
   "cell_type": "code",
   "execution_count": 15,
   "id": "13ffb573-2ab4-4b37-8869-b6c65f3d3d49",
   "metadata": {},
   "outputs": [],
   "source": [
    "c = a + b\n",
    "# Try printing out c in the line below.\n"
   ]
  },
  {
   "cell_type": "markdown",
   "id": "6fad6ba6-3e44-4b4a-ab5e-66616ab7b230",
   "metadata": {
    "jp-MarkdownHeadingCollapsed": true,
    "tags": []
   },
   "source": [
    "## Importing libraries"
   ]
  },
  {
   "cell_type": "markdown",
   "id": "04081b1f-d058-45e0-9622-1ceea8b73ca2",
   "metadata": {},
   "source": [
    "Often, there are additional functionalities that base python does not provide, but are extremely useful. In order to access these, we have to import them. A common library we will be using in this course (and one of the most common libraries used in general) is numPy (numerical python). We will also be using a data entry program designed for this course to take data. Run the cell below to import these libraries:"
   ]
  },
  {
   "cell_type": "code",
   "execution_count": 2,
   "id": "9fb1fc55-1989-422d-a57a-0b59c2f4c7a5",
   "metadata": {},
   "outputs": [],
   "source": [
    "import numpy as np\n",
    "import data_entry"
   ]
  },
  {
   "cell_type": "markdown",
   "id": "76493ec5-1615-4c82-89a1-41e4cd25f19d",
   "metadata": {},
   "source": [
    "Now these libraries are forever accessible until you quit this notebook! Note that for future notebooks, we will import libraries at the very beginning of the notebook (and then not worry about them again)."
   ]
  },
  {
   "cell_type": "markdown",
   "id": "bb95b65c-3a65-4621-8759-1e42026a7c9a",
   "metadata": {
    "jp-MarkdownHeadingCollapsed": true,
    "tags": []
   },
   "source": [
    "## Arrays and Array Operations"
   ]
  },
  {
   "cell_type": "markdown",
   "id": "66b36a56-49a8-477e-acd4-9e1c4e3b62d0",
   "metadata": {},
   "source": [
    "In experiments, we often work with datasets rather than individual points of data; it is therefore going to be useful to become acquainted with a datastructure known as an array. An array holds multiple entries of data. Running the cell below defines two arrays, ``first_vec`` and ``second_vec``."
   ]
  },
  {
   "cell_type": "code",
   "execution_count": 3,
   "id": "bed52b37-96b3-4483-9395-419a096c1660",
   "metadata": {},
   "outputs": [],
   "source": [
    "first_vec = np.array([2, 4, 6])\n",
    "second_vec = np.array([3, 5, 7])"
   ]
  },
  {
   "cell_type": "markdown",
   "id": "fb4799b2-ef4c-41f6-bf9c-45042c07dc6e",
   "metadata": {},
   "source": [
    "Elements of an array can be accessed by `array[position in array]`. However, note that the position/indexing of arrays in python starts with 0, rather than 1."
   ]
  },
  {
   "cell_type": "code",
   "execution_count": 5,
   "id": "f82584e3-6d4f-4efd-9dd0-f2bfa8c26972",
   "metadata": {},
   "outputs": [
    {
     "name": "stdout",
     "output_type": "stream",
     "text": [
      "1\n",
      "2\n"
     ]
    }
   ],
   "source": [
    "first_element = first_vec[0]\n",
    "print(first_element)\n",
    "\n",
    "second_element = first_vec[1]\n",
    "print(second_element)"
   ]
  },
  {
   "cell_type": "markdown",
   "id": "9d00758f-bac4-4bb7-a886-3487a4a47c5d",
   "metadata": {},
   "source": [
    "Arrays can be termwise added, multiplied, subtracted, divided, and exponentiated."
   ]
  },
  {
   "cell_type": "code",
   "execution_count": 6,
   "id": "15d5317d-d853-4173-8d3f-75d1c5ca568c",
   "metadata": {},
   "outputs": [
    {
     "data": {
      "text/plain": [
       "array([5, 7, 9])"
      ]
     },
     "execution_count": 6,
     "metadata": {},
     "output_type": "execute_result"
    }
   ],
   "source": [
    "# Termwise addition\n",
    "sum_vec = first_vec + second_vec\n",
    "sum_vec"
   ]
  },
  {
   "cell_type": "code",
   "execution_count": 7,
   "id": "8034940f-e3d3-4815-a2cd-377f40cfcc2a",
   "metadata": {},
   "outputs": [
    {
     "data": {
      "text/plain": [
       "array([-3, -3, -3])"
      ]
     },
     "execution_count": 7,
     "metadata": {},
     "output_type": "execute_result"
    }
   ],
   "source": [
    "# Termwise subtraction\n",
    "diff_vec = first_vec - second_vec\n",
    "diff_vec"
   ]
  },
  {
   "cell_type": "code",
   "execution_count": 8,
   "id": "7c96bc5b-5301-429f-a39f-d1961da3c700",
   "metadata": {},
   "outputs": [
    {
     "data": {
      "text/plain": [
       "array([ 4, 10, 18])"
      ]
     },
     "execution_count": 8,
     "metadata": {},
     "output_type": "execute_result"
    }
   ],
   "source": [
    "# Termwise multiplication\n",
    "mult_vec = first_vec * second_vec\n",
    "mult_vec"
   ]
  },
  {
   "cell_type": "code",
   "execution_count": 10,
   "id": "a1f9997a-778c-4f29-a13b-69070d7f1f7b",
   "metadata": {},
   "outputs": [
    {
     "data": {
      "text/plain": [
       "array([0.25, 0.4 , 0.5 ])"
      ]
     },
     "execution_count": 10,
     "metadata": {},
     "output_type": "execute_result"
    }
   ],
   "source": [
    "# Termwise division\n",
    "div_vec = first_vec/second_vec\n",
    "div_vec"
   ]
  },
  {
   "cell_type": "code",
   "execution_count": 11,
   "id": "133c5ad4-f8d6-4da8-843d-c5f5d4defa2d",
   "metadata": {},
   "outputs": [
    {
     "data": {
      "text/plain": [
       "array([1.        , 1.41421356, 1.73205081])"
      ]
     },
     "execution_count": 11,
     "metadata": {},
     "output_type": "execute_result"
    }
   ],
   "source": [
    "# Termwise exponentiation\n",
    "exp_vec = first_vec**(1/2)\n",
    "exp_vec"
   ]
  },
  {
   "cell_type": "markdown",
   "id": "77255272-8db2-4ab2-83a1-9a6a5489a220",
   "metadata": {},
   "source": [
    "One can obtain the length of an array using the `len` function:"
   ]
  },
  {
   "cell_type": "code",
   "execution_count": 12,
   "id": "c86bbcc1-8771-404b-ba49-9ed00693e3d3",
   "metadata": {},
   "outputs": [
    {
     "name": "stdout",
     "output_type": "stream",
     "text": [
      "3\n"
     ]
    }
   ],
   "source": [
    "length = len(first_vec)\n",
    "print(length)"
   ]
  },
  {
   "cell_type": "markdown",
   "id": "7003a77b-eeb2-46e0-94e7-85ed1b306664",
   "metadata": {},
   "source": [
    "One can also sum over all elements in the array using the `np.sum` function:"
   ]
  },
  {
   "cell_type": "code",
   "execution_count": 13,
   "id": "80ccc1c3-6691-460c-bd6c-bcd6fa5dc4ee",
   "metadata": {},
   "outputs": [
    {
     "data": {
      "text/plain": [
       "6"
      ]
     },
     "execution_count": 13,
     "metadata": {},
     "output_type": "execute_result"
    }
   ],
   "source": [
    "sum_of_elements = np.sum(first_vec)\n",
    "sum_of_elements"
   ]
  },
  {
   "cell_type": "markdown",
   "id": "bea7abb5-a94e-4771-87e5-620d021bd9b1",
   "metadata": {
    "jp-MarkdownHeadingCollapsed": true,
    "tags": []
   },
   "source": [
    "## Data Entry"
   ]
  },
  {
   "cell_type": "markdown",
   "id": "152902f9-70a1-41e1-9b69-e4a54c57c740",
   "metadata": {},
   "source": [
    "In this course, we will be using the `data_entry` library to record data from experiments. Running the below cell will bring up an example data table using this library."
   ]
  },
  {
   "cell_type": "markdown",
   "id": "9b70d4fc-18c0-4e9c-be85-129fe7df9d7c",
   "metadata": {},
   "source": [
    "**Might be good to remove the uncertainty columns for now - They won't have seen this before**"
   ]
  },
  {
   "cell_type": "code",
   "execution_count": 15,
   "id": "c60f5ab6-37d2-4b54-8c22-05af94f6648a",
   "metadata": {},
   "outputs": [
    {
     "name": "stdout",
     "output_type": "stream",
     "text": [
      "Sheet name: lab00_example.csv\n"
     ]
    },
    {
     "data": {
      "application/vnd.jupyter.widget-view+json": {
       "model_id": "4896b8147bf24f8ba841a16bc0371397",
       "version_major": 2,
       "version_minor": 0
      },
      "text/plain": [
       "VBox(children=(Sheet(cells=(Cell(column_end=0, column_start=0, row_end=0, row_start=0, type='text', value='M')…"
      ]
     },
     "metadata": {},
     "output_type": "display_data"
    }
   ],
   "source": [
    "de = data_entry.sheet(\"lab00_example\")"
   ]
  },
  {
   "cell_type": "markdown",
   "id": "5b3cb7fa-31f0-4475-8f91-e969898ff4e6",
   "metadata": {},
   "source": [
    "The first row of a table holds the variable names (e.g. M for mass, u[M] for the uncertainty in mass, E for energy etc.). The second row will hold the units for the variables (e.g. kg (kilograms) for mass, J (Joules) for energy). Then, the data table can be filled out using the columns. If more rows are needed for additional data points, you can click `Add Row`. If more columns are needed for additional variables, you can click `Add Column`. The data table can be edited by clicking on the cell you want to edit and filling it in. Try playing around with the example data table above to get a feel for how it works!"
   ]
  },
  {
   "cell_type": "markdown",
   "id": "e71cb536-ad7b-4df3-b4e7-995d041c7ed6",
   "metadata": {},
   "source": [
    "Finally, one functionality that will be very useful later on will be to do operations on our data to process and analyze it. To this end, the `Generate Vectors` button will generate arrays/vectors from the columns of the data table. These arrays/vectors can then be processed through the array operations discussed above."
   ]
  },
  {
   "cell_type": "code",
   "execution_count": null,
   "id": "00f93018-276c-44be-8b0a-262181412cdb",
   "metadata": {},
   "outputs": [],
   "source": []
  }
 ],
 "metadata": {
  "kernelspec": {
   "display_name": "Python 3 (ipykernel)",
   "language": "python",
   "name": "python3"
  },
  "language_info": {
   "codemirror_mode": {
    "name": "ipython",
    "version": 3
   },
   "file_extension": ".py",
   "mimetype": "text/x-python",
   "name": "python",
   "nbconvert_exporter": "python",
   "pygments_lexer": "ipython3",
   "version": "3.9.7"
  }
 },
 "nbformat": 4,
 "nbformat_minor": 5
}
