{
 "cells": [
  {
   "cell_type": "markdown",
   "id": "38c874a6-cae3-4f94-931a-173155fa86d3",
   "metadata": {
    "tags": []
   },
   "source": [
    "# Lab 00 - Becoming BFFs with Jupyter"
   ]
  },
  {
   "cell_type": "markdown",
   "id": "a17e32ac-bb67-4311-ba68-aaf5766d1291",
   "metadata": {},
   "source": [
    "In this Jupyter notebook, we will go through some basics of using Jupyter notebooks. These will be the medium which encompasses your lab notebook, data recording, and data analysis!\n",
    "\n",
    "Note that we know that for many of you this will be your first encounter with Jupyter notebooks and with coding in general. It is perfectly normal if you feel some cognitive overload as we go through this notebook together with all the new information. We will revisit a lot of this material as we continue in future labs and pre-labs."
   ]
  },
  {
   "cell_type": "markdown",
   "id": "fd193338-8bd7-4660-93af-dbbb8dcc5121",
   "metadata": {
    "jp-MarkdownHeadingCollapsed": true,
    "tags": []
   },
   "source": [
    "## A preliminary step - Downloads & Setup"
   ]
  },
  {
   "cell_type": "markdown",
   "id": "2963b1f1-a11f-46f1-be21-6c319607260a",
   "metadata": {},
   "source": [
    "**(However the final format for uploading the data_entry file to syzygy, getting the other libraries installed, will be done at some point in the first tutorial)**"
   ]
  },
  {
   "cell_type": "markdown",
   "id": "8282c5b1-ade2-4c3f-a844-55ad3894e4bc",
   "metadata": {
    "jp-MarkdownHeadingCollapsed": true,
    "tags": []
   },
   "source": [
    "## Cells - Code and Markdown"
   ]
  },
  {
   "cell_type": "markdown",
   "id": "d7695526-6e26-4ca6-9c4b-2889d944d320",
   "metadata": {},
   "source": [
    "The first thing we will introduce is the \"base units\" of the Jupyter notebook, known as cells. They come in two types; Code cells (where you can write and run Python) and Markdown cells (where you can write text, and also create headings and equations). The benefit of using a Jupyter notebook for these labs is that you can seamlessly alternate between Markdown and Code cells. In a generic PHYS 119 lab, we will have periods of notetaking when you are familiarizing yourself with the equipment for an experiment, coming up with a measurement plan, explaining your results and analysis, as well as planning and executing improvements. At other times, you will be using Python code to store data and perform analysis. A Jupyter notebook thus allows you to seamlessly transition between notetaking via formatted text (Markdown) and analysis (Python code).\n",
    "\n",
    "This cell that you are currently reading is a markdown cell."
   ]
  },
  {
   "cell_type": "code",
   "execution_count": 1,
   "id": "82f2910b-46fc-49cb-a115-38901d7af276",
   "metadata": {},
   "outputs": [],
   "source": [
    "# While this cell is a code cell.\n",
    "x = 3.1415\n",
    "y = 2.7\n",
    "z = x + y"
   ]
  },
  {
   "cell_type": "markdown",
   "id": "c9e6465a-f287-43bc-b74b-4f78f261be7a",
   "metadata": {},
   "source": [
    "Cells can be added using the \"+\" button that you see in the top toolbar (in between the floppy disk (save) and scissor (cut) buttons). Alternatively, if not currently editing a cell, we can also add a new cell above the highlighted cell (indicated by a blue bar on the left side) by pressing 'A' and a cell below by pressing 'B'.\n",
    "\n",
    "You can change the cell type using the dropdown menu in the same toolbar (in between the double play (rerun notebook) and clock (displaying differences from last checkpoint) buttons). "
   ]
  },
  {
   "cell_type": "markdown",
   "id": "64e834a1-0ae2-49da-9ee9-e0f0d43bd6e4",
   "metadata": {
    "jp-MarkdownHeadingCollapsed": true,
    "tags": []
   },
   "source": [
    "## Editing and Running Markdown Cells"
   ]
  },
  {
   "cell_type": "markdown",
   "id": "7cf12e6e-d085-4dfa-831d-780f9b29eb14",
   "metadata": {},
   "source": [
    "Markdown cells can be edited by double clicking them. They can be then run (to be converted into text form) by clicking the \"play\" button in the top toolbar, or by Shift + Return. You can run code cells in the exact same way!\n",
    "\n",
    "As practice, try double clicking on this cell, and type in your favourite quote below!\n",
    "\n",
    "\" \""
   ]
  },
  {
   "cell_type": "markdown",
   "id": "14c39ad2-ff34-46c9-8b0b-1f7cfe8d49c5",
   "metadata": {
    "jp-MarkdownHeadingCollapsed": true,
    "tags": []
   },
   "source": [
    "## Typefaces, Headings & Lists in Markdown"
   ]
  },
  {
   "cell_type": "markdown",
   "id": "643976d8-6f45-428a-9246-d2b32e0bba9f",
   "metadata": {},
   "source": [
    "Within Markdown, we can do things like making text **bold** or *in italics* (or ***both***)."
   ]
  },
  {
   "cell_type": "markdown",
   "id": "e77f5c91-5967-4067-94a4-982faac9156f",
   "metadata": {},
   "source": [
    "Headings can be created by Throwing \"#\" symbols in front of markdown text. The more #s you have in front of a heading, the smaller the heading it will be (e.g # Large Heading, ## Medium Heading, ### Small Heading). You can also compress the size of a notebook by hiding cells under a heading; you can hide/unhide by clicking the triangle to the left of any given heading."
   ]
  },
  {
   "cell_type": "markdown",
   "id": "cb6e9a7d-f95f-414b-9013-8e3fb29ad5aa",
   "metadata": {
    "jp-MarkdownHeadingCollapsed": true,
    "tags": []
   },
   "source": [
    "### This is a small heading"
   ]
  },
  {
   "cell_type": "markdown",
   "id": "c313b66e-1d74-4caa-8b79-fd038f32575b",
   "metadata": {},
   "source": [
    "You can make numbered lists in markdown:\n",
    "1. First entry\n",
    "2. Second entry\n",
    "3. Third entry\n",
    "\n",
    "Or unnumbered bullet points:\n",
    "- A thing\n",
    "- Another thing\n",
    "- Yet another thing\n",
    "\n",
    "both which may be useful for taking notes."
   ]
  },
  {
   "cell_type": "markdown",
   "id": "f991a28d-7367-4c7b-ae59-dd1a6de5d2a7",
   "metadata": {
    "jp-MarkdownHeadingCollapsed": true,
    "tags": []
   },
   "source": [
    "## Formatting Math in Markdown"
   ]
  },
  {
   "cell_type": "markdown",
   "id": "7c7cddb0-40bb-4031-a255-d4aa63d48e1d",
   "metadata": {},
   "source": [
    "A powerful part of Markdown is the ability to type mathematical expressions through a typesetting system known as $\\LaTeX$. While we won't require any knowledge or proficiency with $\\LaTeX$ in this course, it may be useful for formatting the various equations that we will come across when looking at various physical laws or formulas for calculating uncertainties. Most of the time, we will provide you with a formula and you can copy + paste it into your notebook."
   ]
  },
  {
   "cell_type": "markdown",
   "id": "da52a2c4-d39c-40f6-9274-390fa4410510",
   "metadata": {},
   "source": [
    "If you want to type mathematical expressions \"in-line\", surround them with single $s. For example:\n",
    "\n",
    "The mass-energy equivalence $E = mc^2$ is attributed to Albert Einstein."
   ]
  },
  {
   "cell_type": "markdown",
   "id": "ba60c500-ed23-4bf9-aabf-75247dff3e15",
   "metadata": {},
   "source": [
    "If you want to type mathematical expressions as equations, surround them with double \"$\"s. For example:\n",
    "\n",
    "The solution to the quadratic equation $ax^2 + bx + c= 0$ is given by:\n",
    "\n",
    "$$ x = \\frac{-b \\pm \\sqrt{b^2 - 4ac}}{2a}$$"
   ]
  },
  {
   "cell_type": "markdown",
   "id": "b85524b9-7452-4f29-a4c2-a83549c6ab3c",
   "metadata": {
    "jp-MarkdownHeadingCollapsed": true,
    "tags": []
   },
   "source": [
    "## How to Write Math in Markdown (Optional)"
   ]
  },
  {
   "cell_type": "markdown",
   "id": "a67cbb17-8e9e-4815-bf9b-b191bb778575",
   "metadata": {},
   "source": [
    "\"+\", \"-\", and \"=\", and numbers/symbols can be typed in $\\LaTeX$ as you would do normally. Some other commands that that may come in useful are below for your reference:\n",
    "\n",
    "Multiplication:\n",
    "$$A \\cdot B \\text{ or } A \\times B$$\n",
    "\n",
    "Division/Fractions:\n",
    "$$\\frac{A}{B}$$\n",
    "\n",
    "Powers:\n",
    "$$y^{1/3} = x^2$$\n",
    "\n",
    "Roots:\n",
    "$$\\sqrt{2} \\neq \\sqrt[3]{2}$$\n",
    "\n",
    "Sums:\n",
    "$$y = \\sum_{i=1}^N x_i$$"
   ]
  },
  {
   "cell_type": "markdown",
   "id": "b223c35b-0f48-417d-9c0f-77aed72f44fd",
   "metadata": {},
   "source": [
    "One can also type in Greek letters by typing the name of the Greek letter preceded by a backslash \\. Some that may be encountered during the lab are $\\sigma$, $\\Delta$ and $\\chi$. "
   ]
  },
  {
   "cell_type": "markdown",
   "id": "345f94bc-3329-4ff8-a224-3fe2287c677f",
   "metadata": {},
   "source": [
    "There is a whole world of markdown that we have not completely explored in this tutorial, but the curious can discover more here! https://www.markdownguide.org. A two-page cheatsheet for math typesetting with $\\LaTeX$ can be found here http://tug.ctan.org/info/undergradmath/undergradmath.pdf."
   ]
  },
  {
   "cell_type": "markdown",
   "id": "82b1aede-dcc7-423b-864c-82678bd4cda5",
   "metadata": {
    "jp-MarkdownHeadingCollapsed": true,
    "tags": []
   },
   "source": [
    "## Editing and Running Code Cells"
   ]
  },
  {
   "cell_type": "markdown",
   "id": "df722f8c-3f74-4312-86ac-aa5f1867439c",
   "metadata": {},
   "source": [
    "All the data taking, analysis, and display in this course will be done through Python. Like with $\\LaTeX$, we will not expect extensive knowledge or proficiency in this course (but those curious can look forwards to PHYS 210!) However, we will want to become familiar enough to adapt and understand the provided code to accomplish the tasks for each lab.\n",
    "\n",
    "Code cells can be edited by clicking and writing. They can be run just like markdown cells, by clicking the \"play\" button in the top toolbar, or by Shift + Return. This will run the python code in that cell."
   ]
  },
  {
   "cell_type": "code",
   "execution_count": 1,
   "id": "39059471-5914-4665-879f-a899ccdb26f8",
   "metadata": {},
   "outputs": [],
   "source": [
    "# This is a code cell.\n",
    "# Python treats any lines with a \"#\" in front as a comment.\n",
    "# So these lines will do nothing even if the cell is run.\n",
    "x = 5  # You can also put comments after code."
   ]
  },
  {
   "cell_type": "markdown",
   "id": "5725f504-31a5-40d7-aa0f-3898b2faa528",
   "metadata": {
    "jp-MarkdownHeadingCollapsed": true,
    "tags": []
   },
   "source": [
    "## Arithmetic in python"
   ]
  },
  {
   "cell_type": "markdown",
   "id": "a03b6d31-c28d-4a9c-bfc7-9fe8566c5626",
   "metadata": {},
   "source": [
    "Arithmetic in python with numbers works almost exactly like you would expect it!"
   ]
  },
  {
   "cell_type": "code",
   "execution_count": 2,
   "id": "727dc7a5-63ce-49c3-8bf4-4554132ffcfd",
   "metadata": {},
   "outputs": [
    {
     "data": {
      "text/plain": [
       "3"
      ]
     },
     "execution_count": 2,
     "metadata": {},
     "output_type": "execute_result"
    }
   ],
   "source": [
    "# Addition\n",
    "1 + 2"
   ]
  },
  {
   "cell_type": "code",
   "execution_count": 6,
   "id": "077005dd-7d92-48ca-9d9c-0aa6c60d94ef",
   "metadata": {},
   "outputs": [
    {
     "data": {
      "text/plain": [
       "1.3"
      ]
     },
     "execution_count": 6,
     "metadata": {},
     "output_type": "execute_result"
    }
   ],
   "source": [
    "# Subtraction\n",
    "2.5 - 1.2"
   ]
  },
  {
   "cell_type": "code",
   "execution_count": 4,
   "id": "c4711372-276f-4401-bf73-83a1d5a31520",
   "metadata": {},
   "outputs": [
    {
     "data": {
      "text/plain": [
       "6"
      ]
     },
     "execution_count": 4,
     "metadata": {},
     "output_type": "execute_result"
    }
   ],
   "source": [
    "# Multiplication\n",
    "2 * 3"
   ]
  },
  {
   "cell_type": "code",
   "execution_count": 5,
   "id": "78ca2ac4-8354-4938-b923-a17ae650f5c7",
   "metadata": {},
   "outputs": [
    {
     "data": {
      "text/plain": [
       "3.0"
      ]
     },
     "execution_count": 5,
     "metadata": {},
     "output_type": "execute_result"
    }
   ],
   "source": [
    "# Division\n",
    "6 / 2"
   ]
  },
  {
   "cell_type": "code",
   "execution_count": 8,
   "id": "fffeb48e-bb7c-41c0-b1c2-cba98eae58c8",
   "metadata": {},
   "outputs": [
    {
     "data": {
      "text/plain": [
       "8"
      ]
     },
     "execution_count": 8,
     "metadata": {},
     "output_type": "execute_result"
    }
   ],
   "source": [
    "# Exponentiation\n",
    "2**3  # Note that ** = ^ in python"
   ]
  },
  {
   "cell_type": "code",
   "execution_count": 10,
   "id": "c865d1c5-1097-4eb0-85b8-1c1a8e0f5af0",
   "metadata": {},
   "outputs": [
    {
     "data": {
      "text/plain": [
       "2.0"
      ]
     },
     "execution_count": 10,
     "metadata": {},
     "output_type": "execute_result"
    }
   ],
   "source": [
    "# Roots\n",
    "4**(1/2)"
   ]
  },
  {
   "cell_type": "markdown",
   "id": "74948a64-fdb6-4c44-a98f-0c9c6e116ca5",
   "metadata": {
    "jp-MarkdownHeadingCollapsed": true,
    "tags": []
   },
   "source": [
    "## Variables in python, printing"
   ]
  },
  {
   "cell_type": "markdown",
   "id": "daf5bc04-9e37-401e-b2a7-fae4392dc80f",
   "metadata": {},
   "source": [
    "It will be useful to store and handle values symbolically (instead of just working with individual numbers all the time). To this end, we introduce variables. The cell below can be run to set the value of the variable \"x\" to be 7. In python, the \"=\" symbol is used as an assignment operator, rather than a checking if two things are equal (confusingly, that task is done by a double equals sign \"==\"... but this will not be necessary for this course!)"
   ]
  },
  {
   "cell_type": "code",
   "execution_count": 9,
   "id": "bf164117-ab26-4c9d-b836-1486c1386a50",
   "metadata": {},
   "outputs": [],
   "source": [
    "x = 7"
   ]
  },
  {
   "cell_type": "markdown",
   "id": "735180bd-e396-46c0-8d0f-a4fd3ae7ed3e",
   "metadata": {},
   "source": [
    "This stored value now persists across cells, so I can use this in future cells:"
   ]
  },
  {
   "cell_type": "code",
   "execution_count": 11,
   "id": "0f6295af-5b47-40ee-b89c-5d0cee5234cd",
   "metadata": {},
   "outputs": [
    {
     "data": {
      "text/plain": [
       "7"
      ]
     },
     "execution_count": 11,
     "metadata": {},
     "output_type": "execute_result"
    }
   ],
   "source": [
    "x"
   ]
  },
  {
   "cell_type": "markdown",
   "id": "5d8ee407-79f9-4c64-9b94-b35a9a88f259",
   "metadata": {},
   "source": [
    "However, sometimes I want to see the value of something not just at the end of the cell (As we have been doing now) but at some intermediate point in the cell. For this, the print function is very useful. Try running the cell below, where we assign some values, and along the way print the value of a to see what it is:"
   ]
  },
  {
   "cell_type": "code",
   "execution_count": 3,
   "id": "ef659ee9-dffc-42f7-b112-7761e451ef33",
   "metadata": {},
   "outputs": [
    {
     "name": "stdout",
     "output_type": "stream",
     "text": [
      "1\n"
     ]
    }
   ],
   "source": [
    "a = 1\n",
    "print(a)\n",
    "b = 2"
   ]
  },
  {
   "cell_type": "markdown",
   "id": "df583a7c-b978-4a24-9da4-92b0dbdba96b",
   "metadata": {},
   "source": [
    "Note that we can also do all the usual arithmetic operations on variables (provided that the variables store numbers). For example, what do you expect the value of c to be below?"
   ]
  },
  {
   "cell_type": "code",
   "execution_count": 4,
   "id": "13ffb573-2ab4-4b37-8869-b6c65f3d3d49",
   "metadata": {},
   "outputs": [
    {
     "name": "stdout",
     "output_type": "stream",
     "text": [
      "3\n"
     ]
    }
   ],
   "source": [
    "c = a + b\n",
    "print(c)"
   ]
  },
  {
   "cell_type": "markdown",
   "id": "4771aa16-360d-4a9f-a1d0-b26ed39b5b30",
   "metadata": {},
   "source": [
    "We can also overwrite variables; c will be a new value when you run the following cell:"
   ]
  },
  {
   "cell_type": "code",
   "execution_count": 5,
   "id": "eb62442d-a147-4645-ba37-2ca8ee8f0e63",
   "metadata": {},
   "outputs": [
    {
     "name": "stdout",
     "output_type": "stream",
     "text": [
      "2\n"
     ]
    }
   ],
   "source": [
    "c = a * b\n",
    "print(c)"
   ]
  },
  {
   "cell_type": "markdown",
   "id": "10345a0e-27ac-483d-b1cc-bc3c89351cb8",
   "metadata": {
    "jp-MarkdownHeadingCollapsed": true,
    "tags": []
   },
   "source": [
    "## Importing Libraries - Can be removed if we don't actually use any libraries for the first lab?"
   ]
  },
  {
   "cell_type": "markdown",
   "id": "1c65c2d1-d122-4fd5-9060-5129abc82b34",
   "metadata": {},
   "source": [
    "Often, there are additional functionalities that base python does not provide, but are extremely useful. In order to access these, we have to import them. A common library we will be using in this course (and one of the most common libraries used in general) is numPy (numerical python). We will also be using a data entry program designed for this course to take data. Run the cell below to import these libraries:"
   ]
  },
  {
   "cell_type": "code",
   "execution_count": 5,
   "id": "d2e2579e-d022-4a22-b4fc-99d7e372caca",
   "metadata": {},
   "outputs": [],
   "source": [
    "import numpy as np\n",
    "import data_entry"
   ]
  },
  {
   "cell_type": "markdown",
   "id": "ea29eb43-8f7b-4284-b8e9-d8c1cb0d9683",
   "metadata": {},
   "source": [
    "Now these libraries are accessible in any cell of this notebook until you quit out of it! Note that for future notebooks, we will import libraries at the very beginning of the notebook (and then not worry about them again)."
   ]
  },
  {
   "cell_type": "markdown",
   "id": "17adda27-1425-44df-979c-72022a790ca4",
   "metadata": {
    "jp-MarkdownHeadingCollapsed": true,
    "tags": []
   },
   "source": [
    "## End of Lab - Rerunning your notebook and Submitting"
   ]
  },
  {
   "cell_type": "markdown",
   "id": "7c0f84ab-e308-4d87-9865-163c63706fba",
   "metadata": {},
   "source": [
    "At the end of labs before submitting your work, we will ask you to restart + rerun your entire notebook to make sure that everything runs correctly and without error. Let's practice how to do that here! First, go to the very top bar in Jupyter lab (with File, Edit, View...) and then click \"Kernel\". From the dropdown menu, select \"Restart Kernel and Run All Cells\"."
   ]
  },
  {
   "cell_type": "markdown",
   "id": "65f356bf-f2c1-45da-97a9-8fa7ae9074ad",
   "metadata": {},
   "source": [
    "If the entire notebook runs without errors, fantastic! You're then ready to submit you work.\n",
    "\n",
    "**(Go through how to zip the lab work folder, giving a single file to submit to Canvas, or elsewhere)**"
   ]
  }
 ],
 "metadata": {
  "kernelspec": {
   "display_name": "Python 3 (ipykernel)",
   "language": "python",
   "name": "python3"
  },
  "language_info": {
   "codemirror_mode": {
    "name": "ipython",
    "version": 3
   },
   "file_extension": ".py",
   "mimetype": "text/x-python",
   "name": "python",
   "nbconvert_exporter": "python",
   "pygments_lexer": "ipython3",
   "version": "3.9.7"
  }
 },
 "nbformat": 4,
 "nbformat_minor": 5
}
