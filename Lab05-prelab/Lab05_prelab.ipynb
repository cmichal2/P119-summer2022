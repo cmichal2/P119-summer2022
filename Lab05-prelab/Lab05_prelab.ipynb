{
 "cells": [
  {
   "cell_type": "markdown",
   "id": "88c0f1e3-21cb-420a-bfb2-079c3fbc1796",
   "metadata": {
    "id": "88c0f1e3-21cb-420a-bfb2-079c3fbc1796"
   },
   "source": [
    "# Lab 05 Prelab"
   ]
  },
  {
   "cell_type": "markdown",
   "id": "7c0d45fd-730f-49fe-9336-872e5a629a17",
   "metadata": {
    "id": "7c0d45fd-730f-49fe-9336-872e5a629a17"
   },
   "source": [
    "## Ohm's Law, Plots, and Models"
   ]
  },
  {
   "cell_type": "markdown",
   "id": "e8882a35-29d6-4fda-9909-d4760729c62a",
   "metadata": {
    "id": "e8882a35-29d6-4fda-9909-d4760729c62a"
   },
   "source": [
    "Ohm's law relates the electrical potential applied to a device ($V$) to the current that passes through it, $I$.\n",
    "Ohm's law isn't really a physical law the way Newton's Law are, rather it is an empirical relation that does a good job of describing many devices or materials under specific ranges of circumstances. Ohm's law takes the form:\n",
    "\n",
    "$$\n",
    "V = IR.\n",
    "$$\n",
    "\n",
    "An example which will be of our interest is as follows. Consider the circuit below, where we have a voltage source (battery) of a variable voltage $V.$ The battery is connected to a resistor of some unknown, but fixed resistance $R$. We have access to tools to measure the voltage $V$ (using a voltmeter) across the resistor as well as the current $I$ (using an ammeter) in the circuit, for a range of voltages $V$. How can we go about extracting the resistance $R$?\n",
    "\n",
    "<center><img src=\"circuit.png\" width=\"180\" height=\"240\"/></center>"
   ]
  },
  {
   "cell_type": "markdown",
   "id": "cadf25d0-c00b-4ed9-891d-91324ca43a69",
   "metadata": {
    "id": "cadf25d0-c00b-4ed9-891d-91324ca43a69"
   },
   "source": [
    "Given multiple datapoints $(V_1 \\pm u[V_1], I_1 \\pm u[I_1])$, $(V_2 \\pm u[V_2], I_2 \\pm u[I_2])$, $\\ldots (V_n \\pm u[V_n], I_n \\pm u[I_n])$, a useful way to visualize the relationship (and extract information from the relationship) is by plotting the two variables against each other. We have done so below for a mock dataset of voltages and currents. It is worth noting that this issue is one of great general interest in science. We may have two variables which are related (here the potential $V$ and current $I$ through a circuit) and a model that describes how they may be related (here, Ohm's law). What we can do as experimental scientists is to collect data of the two variables and try to fit a model to them; from this we may extract parameters of interest (here, the resistance of our circuit), as well as evaluate how good the model is at describing the phenomena we see.\n",
    "\n",
    "<center><img src=\"CurrentvsVoltage.png\" width=\"500\" height=\"325\"/></center>"
   ]
  },
  {
   "cell_type": "markdown",
   "id": "b5c92029-d0be-404a-a483-0a26bdc7214b",
   "metadata": {
    "tags": []
   },
   "source": [
    "### Question 1"
   ]
  },
  {
   "cell_type": "markdown",
   "id": "dbce1b46-f9bf-4c4e-8474-6d6b67c40ad7",
   "metadata": {},
   "source": [
    "This question has multiple short parts; if you get stuck or want to make sure you are on the right track, the answers are provided below."
   ]
  },
  {
   "cell_type": "markdown",
   "id": "ed2e527b-f2af-40cd-a884-95938f6bff32",
   "metadata": {
    "id": "ed2e527b-f2af-40cd-a884-95938f6bff32"
   },
   "source": [
    "**Q1a:** What is the relationship between voltage and current as shown in the experimental data above?"
   ]
  },
  {
   "cell_type": "markdown",
   "id": "b73b5355-cb7b-4229-8e8a-c6629a2c52c0",
   "metadata": {},
   "source": []
  },
  {
   "cell_type": "markdown",
   "id": "4ad16914-180e-4b3e-b9bb-8003266a05d7",
   "metadata": {},
   "source": [
    "**Q1b:** What is the relationship theoretically predicted by Ohm's law? "
   ]
  },
  {
   "cell_type": "markdown",
   "id": "93d7de4a-06b9-4038-b8cd-5bc61206b98c",
   "metadata": {},
   "source": []
  },
  {
   "cell_type": "markdown",
   "id": "e617405e-25d9-4250-8c23-52e2b9a3ef79",
   "metadata": {},
   "source": [
    "**Q1c**: Do the experimental and theoretical predictions for the relationship agree?"
   ]
  },
  {
   "cell_type": "markdown",
   "id": "ae8f9e44-f051-4e13-a2b4-e53ab1d93c70",
   "metadata": {},
   "source": []
  },
  {
   "cell_type": "markdown",
   "id": "20e944b3-81ea-4f8f-9636-2fef3fba5df8",
   "metadata": {},
   "source": [
    "**Q1d:** How is the slope of the above plot related to the resistance $R$ of the resistor?"
   ]
  },
  {
   "cell_type": "markdown",
   "id": "d7587abd-3fb3-48df-a646-fd45795f070c",
   "metadata": {},
   "source": []
  },
  {
   "cell_type": "markdown",
   "id": "fd75dd82-56ab-42b4-9660-1069214e8e44",
   "metadata": {},
   "source": [
    "**Q1e:** Finally, estimate the resistance $R$ of the resistor by estimating the slope of the experimental data above."
   ]
  },
  {
   "cell_type": "markdown",
   "id": "02ba46b2-ec00-422a-95e7-8fc517e501f7",
   "metadata": {},
   "source": []
  },
  {
   "cell_type": "markdown",
   "id": "4e3b6f5f-a857-4011-8c6e-6d2870a91237",
   "metadata": {
    "tags": []
   },
   "source": [
    "### Answers (Highlight to reveal)"
   ]
  },
  {
   "cell_type": "markdown",
   "id": "ae60aa38-6df6-4d71-b96f-6e92e690518f",
   "metadata": {
    "id": "ae60aa38-6df6-4d71-b96f-6e92e690518f"
   },
   "source": [
    "**A1a:** <font color='white'>The relationship between current and voltage appears linear.</font>"
   ]
  },
  {
   "cell_type": "markdown",
   "id": "d406791c-8b79-45e7-ad39-1ea71a72917b",
   "metadata": {},
   "source": [
    "**A1b:** <font color='white'>The relationship predicted by Ohm's law is $I = (1/R)V$, i.e. the two are linearly related via the resistance.</font>"
   ]
  },
  {
   "cell_type": "markdown",
   "id": "be815130-281e-4fc4-9587-2401f922fb3f",
   "metadata": {},
   "source": [
    "**A1c:** <font color='white'>The experimental and theoretical predictions for the relationship agree, as both are linear.</font>"
   ]
  },
  {
   "cell_type": "markdown",
   "id": "aab744a7-c1e3-49c3-a975-b014872f5f3c",
   "metadata": {},
   "source": [
    "**A1d:** <font color='white'>The slope of the above plot is related to the resistance of the resistor via Ohm's law to be $m = 1/R$. </font>"
   ]
  },
  {
   "cell_type": "markdown",
   "id": "c57679a2-3425-4cf5-8a8c-6d793cebd426",
   "metadata": {},
   "source": [
    "**A1e:** <font color='white'>The slope of the above plot looks to be roughly $m = \\frac{0.8A - 0A}{0.8V - 0V} = 1$, and so the resistance is approximately $R = \\frac{1}{m} = 1\\Omega$.</font>"
   ]
  },
  {
   "cell_type": "markdown",
   "id": "4cd844cb-940e-4221-82dd-ab63dd9098cf",
   "metadata": {
    "id": "4cd844cb-940e-4221-82dd-ab63dd9098cf"
   },
   "source": [
    "## Plotting with Python"
   ]
  },
  {
   "cell_type": "markdown",
   "id": "54e187fc-d7de-435e-a599-8d56fa45054c",
   "metadata": {
    "id": "54e187fc-d7de-435e-a599-8d56fa45054c"
   },
   "source": [
    "An important first step to finding relationships between variables is data visualization; such as through producing plots of data. Fortunately, python is an excellent medium for this task. The rest of this pre-lab will be walking through how to produce a scatterplot of experimental data, which we will be doing time and time again for future experiments in this lab.\n",
    "\n",
    "Much like with the case of recording data in tables, plotting is not a native functionality of python; instead, we import a library which carries this functionality. In this case, the library of interest is `matplotlib`. You can import it (along with the data_entry and numpy libraries we have been using) by running the cell below."
   ]
  },
  {
   "cell_type": "code",
   "execution_count": 1,
   "id": "42b044bd-b81d-41fa-bbb7-0844e410cc87",
   "metadata": {
    "id": "42b044bd-b81d-41fa-bbb7-0844e410cc87"
   },
   "outputs": [],
   "source": [
    "import data_entry\n",
    "import numpy as np\n",
    "import matplotlib.pyplot as plt"
   ]
  },
  {
   "cell_type": "markdown",
   "id": "eb4a120b-3707-4391-befe-4c756c6d971c",
   "metadata": {
    "id": "eb4a120b-3707-4391-befe-4c756c6d971c"
   },
   "source": [
    "We will go through an example together of creating a scatterplot, and then at the end we will ask you to take what you've learned to recreate the scatter plot we showed in the beginning of the notebook. For our example together, we consider an example akin to the very first experiment in the lab. We suppose that we have some spring, and we have measured the force the spring exerts $F$ for a variety of compressions $\\Delta x$. The data is given in the spreadsheet below:"
   ]
  },
  {
   "cell_type": "code",
   "execution_count": 67,
   "id": "b9605911-aeae-4c75-bc35-f22211ef3733",
   "metadata": {
    "colab": {
     "referenced_widgets": [
      "bf03e00bffc94ba6a62158c354a404d2"
     ]
    },
    "id": "b9605911-aeae-4c75-bc35-f22211ef3733",
    "outputId": "cbbddd51-108a-4dfa-f82c-f3dc3543a812"
   },
   "outputs": [
    {
     "name": "stdout",
     "output_type": "stream",
     "text": [
      "Sheet name: lab05_prelab_data1.csv\n"
     ]
    },
    {
     "data": {
      "application/vnd.jupyter.widget-view+json": {
       "model_id": "d8122fbdf038441794404f1ef2bb3f9b",
       "version_major": 2,
       "version_minor": 0
      },
      "text/plain": [
       "VBox(children=(Sheet(cells=(Cell(column_end=0, column_start=0, row_end=0, row_start=0, type='text', value='dx'…"
      ]
     },
     "metadata": {},
     "output_type": "display_data"
    }
   ],
   "source": [
    "de = data_entry.sheet(\"lab05_prelab_data1\")"
   ]
  },
  {
   "cell_type": "markdown",
   "id": "6037a75c-7a65-4881-97ae-348cf0adce7f",
   "metadata": {
    "id": "6037a75c-7a65-4881-97ae-348cf0adce7f"
   },
   "source": [
    "We will want to work with vectors of this data, so click the `Generate Vectors` button in the spreadsheet. First, let's do a barebones plot of the datapoints of force vs. displacement and nothing else. You can create that by running the cell below:"
   ]
  },
  {
   "cell_type": "code",
   "execution_count": 72,
   "id": "b3124ee2-1163-46e0-ae0d-26540771bf0d",
   "metadata": {
    "id": "b3124ee2-1163-46e0-ae0d-26540771bf0d",
    "outputId": "5edcc8a5-73a6-4533-d844-a34da0448569"
   },
   "outputs": [
    {
     "data": {
      "image/png": "[encoded data removed]",
      "text/plain": [
       "<Figure size 432x288 with 1 Axes>"
      ]
     },
     "metadata": {
      "needs_background": "light"
     },
     "output_type": "display_data"
    }
   ],
   "source": [
    "plt.errorbar(dxVec, FVec, uFVec, fmt='bo')\n",
    "plt.show()"
   ]
  },
  {
   "cell_type": "markdown",
   "id": "161a66c3-1079-4c08-b125-16b6793cd255",
   "metadata": {
    "id": "161a66c3-1079-4c08-b125-16b6793cd255"
   },
   "source": [
    "To explain what is going on here, we use `plt` to specify that we want to be using the `matplotlib` plotting library. We then use the `plt.errorbar` function to specify that we want a plot with error bars. The first argument we give it is the data for the x-axis, the second argument is the data for the y-axis, and the third argument is the error bars for the y-axis data (we will often find that the errors in the y-values are more significant than those on the x-values, so the x errors can often be neglected). `fmt='bo'` specifies that we want blue dots (os) for the datapoints (you could have red x's if you replaced bo with rx). Finally, the `plt.show()` at the end displays the plot.\n",
    "\n",
    "Now that we have a barebones plot, let's start adding some elements; in particular, we will want to add axis labels, as well as a title. We will also show how to adjust the size of the markers in the plot and then add a legend (though this plot doesn't really need one).  These are done below."
   ]
  },
  {
   "cell_type": "code",
   "execution_count": 73,
   "id": "49b800a9-f253-4699-a652-c79d163ce468",
   "metadata": {
    "id": "49b800a9-f253-4699-a652-c79d163ce468",
    "outputId": "c6a829b6-adb0-4d7a-db9b-f47a26682f3b"
   },
   "outputs": [
    {
     "data": {
      "image/png": "[encoded data removed]",
      "text/plain": [
       "<Figure size 432x288 with 1 Axes>"
      ]
     },
     "metadata": {
      "needs_background": "light"
     },
     "output_type": "display_data"
    }
   ],
   "source": [
    "plt.errorbar(dxVec, FVec, uFVec, fmt=\"bo\", markersize = 3, label=\"Experimental data\")\n",
    "plt.title(\"Force vs. Displacement for spring\")\n",
    "plt.xlabel(\"Displacement of spring from equilibrium (m)\")\n",
    "plt.ylabel(\"Force (N)\")\n",
    "plt.legend()\n",
    "plt.show()"
   ]
  },
  {
   "cell_type": "markdown",
   "id": "80d2c14b-e1f4-4e63-acf6-e9f94ff13b4c",
   "metadata": {
    "id": "80d2c14b-e1f4-4e63-acf6-e9f94ff13b4c"
   },
   "source": [
    "We now have a complete plot! Notice that the plot title describes what is being plotted against what (y quantity plotted vs. x quantity), and the axis labels describe the quantities (with the units) on each axis. You can experiment with what you want to write for the title/axis labels to be by changing the text inside the \"...\" found in the `plt.title(\"...\"), plt.xlabel(\"...\"),` and `plt.ylabel(\"...\")`functions in the cell above.\n",
    "\n",
    "The `markersize = ...` argument in `plt.errorbar` specifies how large the markers in the plot are. In the first version of the plot above, the error bars of the first datapoint were hidden behind the marker; we have here shrunk the size of the markers to make this visible.\n",
    "\n",
    "Finally, by providing a `label=\"...\"` argument to `plt.errorbar`, we can specify the label for the plot when we include a legend with `plt.legend()`. We don't really need a legend here as we are only plotting a single dataset, but later on when we have multiple things on the same plot, a legend will become very useful.\n",
    "\n",
    "Note that the plot will (usually) automatically give reasonable axis ticks, and set appropriate limits for the plot so all of the datapoints can be displayed. If you find the defaults aren't suitable, there are ways to control these (eg `plt.xlim([min, max])` and `plt.xticks([.1, .2, .3])`), though you probably won't need those in this course."
   ]
  },
  {
   "cell_type": "markdown",
   "id": "a3a45e67-57cb-4a64-a59e-8718319ac046",
   "metadata": {},
   "source": [
    "### Question 2"
   ]
  },
  {
   "cell_type": "markdown",
   "id": "0b861a5f-04a4-47f0-9d74-3e94b9c4a43c",
   "metadata": {
    "id": "0b861a5f-04a4-47f0-9d74-3e94b9c4a43c"
   },
   "source": [
    "What can you physically infer about the slope of the plot above? Recall that Hooke's law tells us that $F = k \\Delta x$. "
   ]
  },
  {
   "cell_type": "markdown",
   "id": "3f177284-419e-4225-a281-3f8b9c0de6f6",
   "metadata": {
    "id": "3f177284-419e-4225-a281-3f8b9c0de6f6"
   },
   "source": []
  },
  {
   "cell_type": "markdown",
   "id": "f2f5d3a8-9004-4936-ac27-1b3683f3984a",
   "metadata": {
    "tags": []
   },
   "source": [
    "### Answer (Highlight to reveal)"
   ]
  },
  {
   "cell_type": "markdown",
   "id": "2507103f-f8d0-4517-b2f0-fbc0ab387b0b",
   "metadata": {},
   "source": [
    "**A:** <font color='white'>The slope of the above plot can be identified as the spring constant $k$ of the spring via Hooke's law.<font>"
   ]
  },
  {
   "cell_type": "markdown",
   "id": "d14c6250-b163-4154-ae98-c7e2b579eeb7",
   "metadata": {
    "id": "d3931412-cc62-4538-86f0-7d56d807a61a",
    "outputId": "19324d4a-2237-4a7d-b6a5-5e16c0d43724",
    "tags": []
   },
   "source": [
    "## Adding a model"
   ]
  },
  {
   "cell_type": "markdown",
   "id": "f8aca172-f710-4fdf-b434-3fd22f7191bb",
   "metadata": {},
   "source": [
    "We've seen how to plot data. We will often want to add a line or curve to a plot to judge how well a model describes the experimental results. To this, we break the process into four steps:\n",
    "1. Find the range of x values that the data spans\n",
    "2. Generate a bunch x values over the range of x values. We'll use to calculate the model prediction. Why a whole bunch of points? For a straight line the number of points used doesn't matter much, but if the model predicts a more complicated function, using many points will give a smooth curve.\n",
    "3. Calculate the model prediction at each of the x values\n",
    "4. Plot the model prediction on the graph.\n",
    "\n",
    "Here, our model is the linear model of $F = kx$. In order to create our model prediction, we will need to input some value for the model parameter $k$ (the spring constant of the spring, and the slope of the model). To start with, we can estimate this value by inspection; we have points at approximately $(0, 0)$ and $(0.6, 1.2)$, so a reasonable estimate would be $k = m = \\frac{1.2 - 0}{0.6 - 0} = 2$. Using this value, we go through the plotting process described above in the code cell below."
   ]
  },
  {
   "cell_type": "code",
   "execution_count": 77,
   "id": "c425f695-a24f-4bc3-9106-af45b87305c0",
   "metadata": {},
   "outputs": [
    {
     "data": {
      "image/png": "[encoded data removed]",
      "text/plain": [
       "<Figure size 432x288 with 1 Axes>"
      ]
     },
     "metadata": {
      "needs_background": "light"
     },
     "output_type": "display_data"
    }
   ],
   "source": [
    "# Step 1: find the limits of the data:\n",
    "xmin = np.min(dxVec) # use the np.min function to find the smallest x value\n",
    "xmax = np.max(dxVec) # same for max\n",
    "#print (xmin, xmax)  # uncomment to see what the limits are\n",
    "\n",
    "# Step 2: generate a bunch of x points between xmin and xmax\n",
    "xpoints = np.linspace(xmin, xmax, 200) # gives 200 evenly spaced points between xmin and xmax\n",
    "#print(xpoints) # uncomment to see the x values that were generated.\n",
    "\n",
    "# Step 3: calculate the model values:\n",
    "slope = 2 # Estimate of the slope.\n",
    "ypoints = xpoints * slope # this calculates the yvalues at all 200 points.\n",
    "\n",
    "# Step 4: plot the curve. We plot this as a red line \"r-\" :\n",
    "plt.plot(xpoints, ypoints, \"r-\", label = \"F = kx\")\n",
    "\n",
    "# What's below is exactly what we had earlier:\n",
    "plt.errorbar(dxVec, FVec, uFVec, fmt=\"bo\", markersize = 3, label=\"Experimental data\")\n",
    "plt.title(\"Force vs. Displacement for spring\")\n",
    "plt.xlabel(\"Displacement of spring from equilibrium (m)\")\n",
    "plt.ylabel(\"Force (N)\")\n",
    "plt.legend()\n",
    "plt.show()"
   ]
  },
  {
   "cell_type": "markdown",
   "id": "cbe5d92a-bfa8-4b94-8f6c-741996cfd69f",
   "metadata": {},
   "source": [
    "A few things to note:\n",
    "1. The results of all `plt.plot()` and `plt.errorbar()` functions will appear on the same plot, until there is a `plt.show()` (or the cell ends).\n",
    "2. The syntax for `plt.plot()` is a little different from `plt.errorbar().` For `plt.errorbar()` you need `fmt='bo'`, but for `plt.plot()` the format for plotting can't include the `fmt=` piece."
   ]
  },
  {
   "cell_type": "markdown",
   "id": "dcfbe785-cb24-40bc-855c-9ec4a1910056",
   "metadata": {},
   "source": [
    "## Residuals - Making a plot (and what are they?)"
   ]
  },
  {
   "cell_type": "markdown",
   "id": "a9bec124-6f7d-4d80-a99e-493a962fefbb",
   "metadata": {},
   "source": [
    "This fit of the model to our data looks pretty good to the eye, but we are going to introduce a new tool, a residual plot, which we will use in lab 5 (and future labs) as a tool to improve the quality of our fits and to estimate uncertainty in the fitting parameters (in this case, the slope $m$). For now, we will introduce what it is and how to create the plot.\n",
    "\n",
    "A residual is a measure of how far a data point lies from the best fit line (the model) along the y-direction. So for a given data point on the graph $(x_i, y_i)$, the residual $(R_i)$ is given by:\n",
    "\n",
    "$$R_i = y_i - \\text{model}(x_i)$$\n",
    "\n",
    "where $\\text{model}(x_i)$ represents the $y$-value that our model, $y = mx$, predicts at the point $x_i$. Let’s build a graph of the residuals that correspond to each $x$-value and then we will spend a bit more time learning about how they are useful. We will break this process down into a few steps:\n",
    "\n",
    "1. Calculate the model prediction $\\text{model}(x_i)$ points at all of the $x$-data values\n",
    "2. Calculate the residual vector $[R_1, R_2, \\ldots R_n]$ as the difference of the $y$-data vector $[y_1, y_2, \\ldots, y_n]$ and the model vector $[\\text{model}(x_1), \\text{model}(x_2), \\ldots, \\text{model}(x_n)]$. \n",
    "3. Plot the residual vector against the $x$-data vector.\n",
    "4. Add a $R = 0$ x-axis to the plot.\n",
    "\n",
    "See the code below for creating a residual plot for the Hooke's law dataset."
   ]
  },
  {
   "cell_type": "code",
   "execution_count": 76,
   "id": "7d376812-1abf-4f67-a3ae-c67480096337",
   "metadata": {},
   "outputs": [
    {
     "data": {
      "image/png": "[encoded data removed]",
      "text/plain": [
       "<Figure size 432x288 with 1 Axes>"
      ]
     },
     "metadata": {
      "needs_background": "light"
     },
     "output_type": "display_data"
    }
   ],
   "source": [
    "# Step 1: Calculate the model at each x-datapoint\n",
    "ymodel = slope * dxVec # y = mx at each x_i\n",
    "\n",
    "# Step 2: Calcualte the residual vector\n",
    "RVec = FVec - ymodel\n",
    "\n",
    "# Step 3: Plot the residual vector against the x-data vector\n",
    "plt.errorbar(dxVec, RVec, uFVec, fmt=\"bo\", markersize = 3)\n",
    "\n",
    "# Step 4: Add a R = 0 x-axis (horizontal line) to the plot\n",
    "plt.hlines(y=0, xmin=xmin, xmax=xmax, color='k') # draw axis at y = 0.\n",
    "\n",
    "# Add axis labels and title, and show the graph\n",
    "plt.title(\"Residuals for Force vs. displacement for spring\")\n",
    "plt.xlabel(\"Displacement (m)\")\n",
    "plt.ylabel(\"Residual = data - model (N)\")\n",
    "plt.show()"
   ]
  },
  {
   "cell_type": "markdown",
   "id": "80308ec9-2ef2-4fd4-adf8-f7ed7a6091bf",
   "metadata": {},
   "source": [
    "Note that we use use `plt.errorbar()` to plot the residuals, and we use the same errors as the error in the $y$-data. This is because there is no error present in the model, so the error in the residual (the difference of data and model) is just the error in the data. We also modify the labelling of the plot (axis labels, title) to make sure what is being plotted is more clear.\n",
    "\n",
    "Looking at the residual/difference between model and data gives us more resolving power than looking at the two together on a plot. In this case, we can see from the residuals plot that the residuals trend (roughly) linearly upwards; this informs us that we can adjust the model to better fit to the data. In this case, we will want to increase the slope of the model so as to \"cancel out\" the upwards trend we see in the residuals. \n",
    "\n",
    "Usually, it is standard to plot the data/model and residual plot in the same cell, to ease of viewing. We do this below, with the modification that we have increased our slope from 2 to 2.1 to improve the fit of the model according to our above analysis."
   ]
  },
  {
   "cell_type": "code",
   "execution_count": 78,
   "id": "9e03dee0-65f1-4285-ae96-2ba1942b2868",
   "metadata": {},
   "outputs": [
    {
     "data": {
      "image/png": "[encoded data removed]",
      "text/plain": [
       "<Figure size 432x288 with 1 Axes>"
      ]
     },
     "metadata": {
      "needs_background": "light"
     },
     "output_type": "display_data"
    },
    {
     "data": {
      "image/png": "[encoded data removed]",
      "text/plain": [
       "<Figure size 432x288 with 1 Axes>"
      ]
     },
     "metadata": {
      "needs_background": "light"
     },
     "output_type": "display_data"
    }
   ],
   "source": [
    "# Data/Model Plot\n",
    "# Step 1: find the limits of the data:\n",
    "xmin = np.min(dxVec) # use the np.min function to find the smallest x value\n",
    "xmax = np.max(dxVec) # same for max\n",
    "#print (xmin, xmax)  # uncomment to see what the limits are\n",
    "\n",
    "# Step 2: generate a bunch of x points between xmin and xmax\n",
    "xpoints = np.linspace(xmin, xmax, 200) # gives 200 evenly spaced points between xmin and xmax\n",
    "#print(xpoints) # uncomment to see the x values that were generated.\n",
    "\n",
    "# Step 3: calculate the model values:\n",
    "slope = 2.1 # Estimate of the slope.\n",
    "ypoints = xpoints * slope # this calculates the yvalues at all 200 points.\n",
    "\n",
    "# Step 4: plot the curve. We plot this as a red line \"r-\" :\n",
    "plt.plot(xpoints, ypoints, \"r-\", label = \"F = kx\")\n",
    "\n",
    "# What's below is exactly what we had earlier:\n",
    "plt.errorbar(dxVec, FVec, uFVec, fmt=\"bo\", markersize = 3, label=\"Experimental data\")\n",
    "plt.title(\"Force vs. Displacement for spring\")\n",
    "plt.xlabel(\"Displacement of spring from equilibrium (m)\")\n",
    "plt.ylabel(\"Force (N)\")\n",
    "plt.legend()\n",
    "plt.show()\n",
    "\n",
    "# Residuals Plot\n",
    "# Step 1: Calculate the model at each x-datapoint\n",
    "ymodel = slope * dxVec # y = mx at each x_i\n",
    "\n",
    "# Step 2: Calcualte the residual vector\n",
    "RVec = FVec - ymodel\n",
    "\n",
    "# Step 3: Plot the residual vector against the x-data vector\n",
    "plt.errorbar(dxVec, RVec, uFVec, fmt=\"bo\", markersize = 3)\n",
    "\n",
    "# Step 4: Add a R = 0 x-axis (horizontal line) to the plot\n",
    "plt.hlines(y=0, xmin=xmin, xmax=xmax, color='k') # draw axis at y = 0.\n",
    "\n",
    "# Add axis labels and title, and show the graph\n",
    "plt.title(\"Residuals for Force vs. displacement for spring\")\n",
    "plt.xlabel(\"Displacement (m)\")\n",
    "plt.ylabel(\"Residual = data - model (N)\")\n",
    "plt.show()"
   ]
  },
  {
   "cell_type": "markdown",
   "id": "e2a788e3-1f7e-4da1-81f4-9f59cd9ab254",
   "metadata": {},
   "source": [
    "Let’s take a moment to see how these two graphs each present the same overall information, but with different emphases. \n",
    "\n",
    "- The main scatter-plot, on top, shows our data points and the model. We can see that two of our data points lie above the model line and two of them below it. Three of the four of the data points are touching the model line within their uncertainty/error bars.\n",
    "- The residuals plot, on the bottom, shows how far each data point is away from the model, thus the two data points that lie above the model line are shown to have positive residuals and the two below the model line are shown to have negative residuals. Three residuals are touching the $y=0$ line on the residuals graph, which is equivalent to touching the model line on the scatter plot. The residuals graph can be thought of as a zoomed-in representation of the data points as seen from the perspective of the model line.\n",
    "\n",
    "The zoomed-in nature of the residual plot (in comparison to the raw scatterplot and model) allows us to better analyze the agreement between the two. This makes residual plots an extremely useful tool for evaluating the quality of fits and for modifying models (as we did above with the adjustment of the slope). We will explore this in much greater detail during the lab session."
   ]
  },
  {
   "cell_type": "markdown",
   "id": "41a9826c-109e-4cee-98c9-da580c27d156",
   "metadata": {
    "id": "41a9826c-109e-4cee-98c9-da580c27d156"
   },
   "source": [
    "## Plotting with Python - Your turn! "
   ]
  },
  {
   "cell_type": "markdown",
   "id": "272c1632-0840-4a98-815a-b4c33f41fdcd",
   "metadata": {},
   "source": [
    "### Question 3"
   ]
  },
  {
   "cell_type": "markdown",
   "id": "85c5b89b-3108-4226-8b97-48e17db8b3e2",
   "metadata": {
    "id": "85c5b89b-3108-4226-8b97-48e17db8b3e2"
   },
   "source": [
    "Now that we've gone through an example together, see if you can follow the same steps as above to create the current vs. voltage plot (including labels and title) that we saw at the beginning of the notebook. The data you need is provided below.\n",
    "\n",
    "Instead of starting from scratch, you can copy the last code cell in the *Plotting with Python* section and modify the names of the vectors being plotted, as well as the axis labels/title to fit the Current vs. Voltage plot."
   ]
  },
  {
   "cell_type": "code",
   "execution_count": 79,
   "id": "a8d147d6-04b5-4130-a471-23e846931304",
   "metadata": {
    "colab": {
     "referenced_widgets": [
      "aaee5e8d7dee4449a629908207959bbd"
     ]
    },
    "id": "a8d147d6-04b5-4130-a471-23e846931304",
    "outputId": "ed4702f8-d2fc-420d-e313-d7d909f3e099"
   },
   "outputs": [
    {
     "name": "stdout",
     "output_type": "stream",
     "text": [
      "Sheet name: lab05_prelab_data2.csv\n"
     ]
    },
    {
     "data": {
      "application/vnd.jupyter.widget-view+json": {
       "model_id": "12e39c22426c48abb6023c2809d9e44d",
       "version_major": 2,
       "version_minor": 0
      },
      "text/plain": [
       "VBox(children=(Sheet(cells=(Cell(column_end=0, column_start=0, row_end=0, row_start=0, type='text', value='V')…"
      ]
     },
     "metadata": {},
     "output_type": "display_data"
    }
   ],
   "source": [
    "de = data_entry.sheet(\"lab05_prelab_data2\")\n",
    "# Make sure to press \"Generate Vectors\"!"
   ]
  },
  {
   "cell_type": "code",
   "execution_count": null,
   "id": "4901a695-d5bb-4d89-8edc-c0b1394f8ee1",
   "metadata": {},
   "outputs": [],
   "source": []
  },
  {
   "cell_type": "markdown",
   "id": "2289082f-47f5-4c14-975a-ffbeea794e26",
   "metadata": {},
   "source": [
    "### Question 4"
   ]
  },
  {
   "cell_type": "markdown",
   "id": "2bc3dde9-f130-47b0-ac5b-cb9efc7cb480",
   "metadata": {},
   "source": [
    "Finally, plot a linear model on top of the current vs. voltage scatterplot, choosing a reasonable slope $m$ for the model (you may want to use your answer for Question 1), and also generate an accompanying residuals plot. Again, you will find it convenient to copy and paste the last code cell in the *Residuals - Making a plot* section and modify the variable names/plot elements accordingly."
   ]
  },
  {
   "cell_type": "code",
   "execution_count": null,
   "id": "36d8fc59-e977-4646-b25d-6072f727b09d",
   "metadata": {},
   "outputs": [],
   "source": []
  }
 ],
 "metadata": {
  "colab": {
   "collapsed_sections": [],
   "name": "lab05_prelab.ipynb",
   "provenance": []
  },
  "kernelspec": {
   "display_name": "Python 3 (ipykernel)",
   "language": "python",
   "name": "python3"
  },
  "language_info": {
   "codemirror_mode": {
    "name": "ipython",
    "version": 3
   },
   "file_extension": ".py",
   "mimetype": "text/x-python",
   "name": "python",
   "nbconvert_exporter": "python",
   "pygments_lexer": "ipython3",
   "version": "3.10.5"
  }
 },
 "nbformat": 4,
 "nbformat_minor": 5
}
