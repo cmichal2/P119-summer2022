{
 "cells": [
  {
   "cell_type": "markdown",
   "id": "d8d5d4d2-d72a-4e39-8261-d2270bea16ef",
   "metadata": {},
   "source": [
    "# Lab 07 - Introduction to the Oscilloscope"
   ]
  },
  {
   "cell_type": "code",
   "execution_count": 1,
   "id": "c7e56ef9-175b-4e74-8d0c-46daf5159cfa",
   "metadata": {},
   "outputs": [],
   "source": [
    "import numpy as np\n",
    "import data_entry\n",
    "import matplotlib.pyplot as plt"
   ]
  },
  {
   "cell_type": "markdown",
   "id": "e6311cdc-8028-44c2-8b85-4c4986e4f7c9",
   "metadata": {},
   "source": [
    "## Part A - FAMILIARIZE, Part 1 - Overview of your resistor-capacitor (RC) circuit and the oscilloscope tutorial"
   ]
  },
  {
   "cell_type": "markdown",
   "id": "32f56d9d-7871-4d7c-b30a-deee258006c9",
   "metadata": {},
   "source": [
    "***Write down any important notes about the oscilloscope and circuit here.***"
   ]
  },
  {
   "cell_type": "markdown",
   "id": "57bada0b-1a00-4b40-abd8-b4a6122aa052",
   "metadata": {},
   "source": [
    "- The oscilloscope analyzes the *dynamics* of a circuit; in our case we will look at how voltage evolves over time in an RC circuit\n",
    "- \"RC\" refers to a resistor-capacitor circuit\n",
    "- The resistor and capacitor are connected in parallel\n",
    "    - When a switch is closed, the current flows to the capacitor, thus charging it up\n",
    "    - When the switch is opened, the capacitor discharges through the resistor, resulting in the voltage decaying\n",
    "- The dynamics happen very quickly, so we use \"triggering\" to freeze the discharge event in time\n",
    "- We want to trigger when the voltage falls below a certain threshold voltage (set by the trigger level), which is somewhere between the maximum and minimum voltage during the discharge\n",
    "- We also want the decaying signal to take up most of the screen, so we should adjust the horizontal (time) and vertical (voltage) resolutions to achieve this\n",
    "- Once we have our discharge event frozen in time, we use horizontal and vertical cursors to isolate two points on the curve: $(t_1, V_1)$ and $(t_2, V_2)$\n",
    "- Using the given formula in the student instructions, from these four quantities we can determine the time constant $\\tau$ at a given resistance $R$."
   ]
  },
  {
   "cell_type": "markdown",
   "id": "411a6b6d-425a-4e2a-a0d7-cbc5eabe7cdc",
   "metadata": {},
   "source": [
    "## Part B - FAMILIARIZE, Part 2 - Make an initial set of measurements"
   ]
  },
  {
   "cell_type": "markdown",
   "id": "438f08ce-9ba8-45fa-9778-acc924b5189e",
   "metadata": {},
   "source": [
    "***Before making any measurements, record the number on your capacitor in your lab notes. You will use this same setup next week and will be able to continue using your data from this week as long as you are certain you are using the same capacitor.***"
   ]
  },
  {
   "cell_type": "markdown",
   "id": "d4cefc5c-7959-43c4-ae2f-bfc19939864d",
   "metadata": {},
   "source": [
    "- We used capacitor number 7 for our data\n",
    "- We use the suggested initial resistance of $5000 \\Omega$ and voltage of $1.3 V$, then set the trigger level to $\\sim 700 mV$\n",
    "- We find that the decay takes up only a small part of the middle of the screen, so we zoom in temporally\n",
    "- With the decaying signal now taking up most of the screen, we choose two points\n",
    "    - The first is just past the initial decay at $(-450 ms, 1.18 V)$\n",
    "    - The second is lower in the decay curve at $(500 ms, 176 mV)$\n",
    "- For uncertainty, after discussing with the TA we decide to fix $t$ and user the cursor resolution to define a uniform PDF for $u[t]$, i.e. $u[t] = a/\\sqrt{3}$ where $a$ is half of the cursor resolution\n",
    "- For $u[V]$, we notice the fuzziness of the line is thicker than the horizontal cursor resolution and thus is limiting the precision of our measurement, so we use a Gaussian PDF where the 95\\% CI is defined by the upper and lower bounds of the fuzzy line\n",
    "- We note that when $V$ is changing rapidly (during the initial portion of the decay), the upper and lower bounds are spread farther apart since the line is steeper here\n",
    "\n",
    "Calculation of $\\tau$ is done below."
   ]
  },
  {
   "cell_type": "code",
   "execution_count": 14,
   "id": "2c541345-2542-4963-aa40-185ed961f0a4",
   "metadata": {},
   "outputs": [
    {
     "name": "stdout",
     "output_type": "stream",
     "text": [
      "499.2679884054382 6.081278217454613\n",
      "0.09985359768108763 0.001573642871591\n"
     ]
    }
   ],
   "source": [
    "t1 = -450e-6\n",
    "t2 = 500e-6\n",
    "V1 = 1.18\n",
    "V2 = 0.176\n",
    "\n",
    "a = 2e-6 / 2 # cursor resolution at this zoom is 2 microseconds\n",
    "ut1 = a / np.sqrt(3)\n",
    "ut2 = ut1 # identical timing uncertainty for both measurements\n",
    "\n",
    "uV1 = (1.19 - 1.17) / 4\n",
    "uV2 = (0.184 - 0.168) / 4\n",
    "\n",
    "\"\"\" breaking down tau calculation into subproblems for uncertainty propagation \"\"\"\n",
    "dT = t2 - t1\n",
    "udT = np.sqrt(ut1**2 + ut2**2)\n",
    "W = V1/V2\n",
    "uW = W * np.sqrt( (uV1/V1)**2 + (uV2/V2)**2 )\n",
    "\n",
    "logW = np.log(W)\n",
    "ulogW = uW / W\n",
    "\n",
    "tau = dT / logW\n",
    "utau = tau * np.sqrt( (udT/dT)**2 + (ulogW/logW)**2 )\n",
    "\n",
    "print(tau*1e6, utau*1e6)\n",
    "\n",
    "R = 5000 # in Ohms\n",
    "uR = 0.01*R\n",
    "C = tau / R\n",
    "uC = C * np.sqrt( (utau/tau)**2 + (uR/R)**2 )\n",
    "print(C*1e6, uC*1e6)"
   ]
  },
  {
   "cell_type": "markdown",
   "id": "fb252f8e-0d13-415a-a883-dc4677c847ef",
   "metadata": {},
   "source": [
    "From this initial measurement we find $\\tau=499.3 \\pm 6.1\\mu s$, which gives a capacitance of $C = 0.0999 \\pm 0.0016 \\mu F$, which is very close to the theoretical value of $0.1 \\mu F$."
   ]
  },
  {
   "cell_type": "markdown",
   "id": "6d617255-4bfb-4ba6-b3c5-4e2c0ca4a629",
   "metadata": {},
   "source": [
    "## Part C - FAMILIARIZE, Part 3 - Develop your measurement strategy for further measurements"
   ]
  },
  {
   "cell_type": "markdown",
   "id": "1f249335-848f-483a-8a6b-4202be0482c4",
   "metadata": {},
   "source": [
    "***Include some notes on the questions from Part C of the student instructions.***"
   ]
  },
  {
   "cell_type": "markdown",
   "id": "45a797b2-8599-4bc4-9224-59b71bca92ac",
   "metadata": {
    "tags": []
   },
   "source": [
    "Below we collect four points in addition to our initial point from Part B, such that we have five initial data points. From our observations we can answer the following questions:\n",
    "\n",
    "- **How does increasing/decreasing the resistance affect the decay curve shown on the oscilloscope?**\n",
    "Increasing $R$ stretches out the decay. This is because $\\tau = RC$, so with $C$ a fixed quantity of the capacitor, when $R$ increases $\\tau$ increases proportionally. Since $\\tau$ is the decay constant of the discharge event, when $\\tau$ increases the length of the decay increases. When this happens, we have to zoom out to capture the full curve, thus making our temporal resolution worse and ultimately increasing $u[t]$.\n",
    "\n",
    "- **What are the practical maximum and minimum resistances that can be used?**\n",
    "When we increase $R>>5000\\Omega$, the decay time takes much longer and thus our temporal resolution is increasingly worse. Thus, we stick to $R<10000\\Omega$ for now. When $R<<5000\\Omega$, the decay happens very quickly and we start to see artifacts in the signal. Thus, we also stick to $R>1000\\Omega$ for now.\n",
    "\n",
    "- **How should the R values be spaced in order to make an informative scatter plot?**\n",
    "We expect $\\tau$ vs. $R$ to be linear, so we should pick roughly evenly-spaced $R$ to have a good sampling of the distribution of $\\tau$. Therefore we plane to sample $R\\in [1000,10000] \\Omega$ in $1000\\Omega$ intervals."
   ]
  },
  {
   "cell_type": "code",
   "execution_count": 33,
   "id": "8737ea4f-e618-4551-9338-c03a71d01404",
   "metadata": {},
   "outputs": [
    {
     "name": "stdout",
     "output_type": "stream",
     "text": [
      "Sheet name: lab07_data.csv\n"
     ]
    },
    {
     "data": {
      "application/vnd.jupyter.widget-view+json": {
       "model_id": "6880c352e8da4645872d1ba7c39addc2",
       "version_major": 2,
       "version_minor": 0
      },
      "text/plain": [
       "VBox(children=(Sheet(cells=(Cell(column_end=0, column_start=0, row_end=0, row_start=0, type='text', value='R')…"
      ]
     },
     "metadata": {},
     "output_type": "display_data"
    },
    {
     "name": "stdout",
     "output_type": "stream",
     "text": [
      "1.1547005383792516e-06\n"
     ]
    }
   ],
   "source": [
    "de = data_entry.sheet(\"lab07_data\")\n",
    "print(ut1*2)"
   ]
  },
  {
   "cell_type": "markdown",
   "id": "e3433d8b-a751-419b-af4d-213e7902cf05",
   "metadata": {},
   "source": [
    "## Part D - MEASURE & ANALYZE - Collect additional data and create a scatter plot"
   ]
  },
  {
   "cell_type": "markdown",
   "id": "2635aecf-0fdf-43c1-9061-71e1ce02ec8f",
   "metadata": {},
   "source": [
    "Below we calculate $\\tau$ for each $R$ set and plot our initial scatter plot. The data look extremely linear and the errorbars are so small that they are hard to see in the plot. However, a residuals plot and chi-squared will help us determine a good fit to the data."
   ]
  },
  {
   "cell_type": "code",
   "execution_count": 44,
   "id": "11041811-5ad0-45fa-8dfe-60f6047f2bfd",
   "metadata": {
    "tags": []
   },
   "outputs": [
    {
     "data": {
      "image/png": "[encoded data removed]",
      "text/plain": [
       "<Figure size 432x288 with 1 Axes>"
      ]
     },
     "metadata": {
      "needs_background": "light"
     },
     "output_type": "display_data"
    }
   ],
   "source": [
    "dTVec = t2Vec - t1Vec\n",
    "udTVec = np.sqrt(ut1Vec**2 + ut2Vec**2)\n",
    "WVec = V1Vec/V2Vec\n",
    "uWVec = WVec * np.sqrt( (uV1Vec/V1Vec)**2 + (uV2Vec/V2Vec)**2 )\n",
    "\n",
    "logWVec = np.log(WVec)\n",
    "ulogWVec = uWVec / WVec\n",
    "\n",
    "tauVec = dTVec / logWVec\n",
    "utauVec = tauVec * np.sqrt( (udTVec/dTVec)**2 + (ulogWVec/logWVec)**2 )\n",
    "\n",
    "plt.errorbar(RVec, tauVec, utauVec, fmt = \"bo\", markersize = 3, label = \"Experimental data\")\n",
    "plt.title(\"Time constant vs. resistance in an RC circuit\")\n",
    "plt.xlabel(\"Resistance ($\\Omega$)\")\n",
    "plt.ylabel(\"Time constant (s)\")\n",
    "plt.show()"
   ]
  },
  {
   "cell_type": "markdown",
   "id": "46456db0-bcff-4d9c-aa90-0d05e760f7ec",
   "metadata": {
    "tags": []
   },
   "source": [
    "## Part E - COMPARE, SUMMARIZE, REFLECT"
   ]
  },
  {
   "cell_type": "markdown",
   "id": "fed583af-c89b-410e-a86a-df614f2bf196",
   "metadata": {},
   "source": [
    "Below we define a model fit and overlay the model on our initial scatter plot. Our initial guess for the model is zero intercept and a slope of the theoretical capacitance of $1\\times 10^-{7} F$. After making a residuals plot and calculating chi-squared, we iteratively adjusted the slope and found $0.99 \\times 10^{-7} F$ minimized chi-squared ($\\chi^2=1.07$). This produces a fit with no structure in the residuals, even scatter above and below, and roughly 2/3 of errorbars crossing the x-axis. $\\chi^2 \\approx 1$ and these observations tell us our fit is good and our assumption of no intercept is reasonable. The slope is very close to the expected capacitance of $1\\times 10^{-7} F$."
   ]
  },
  {
   "cell_type": "code",
   "execution_count": 59,
   "id": "79786eee-6aac-4f92-9208-fd7afe7b529c",
   "metadata": {},
   "outputs": [
    {
     "name": "stdout",
     "output_type": "stream",
     "text": [
      "1.0730402934402585\n"
     ]
    },
    {
     "data": {
      "image/png": "[encoded data removed]",
      "text/plain": [
       "<Figure size 432x288 with 1 Axes>"
      ]
     },
     "metadata": {
      "needs_background": "light"
     },
     "output_type": "display_data"
    },
    {
     "data": {
      "image/png": "[encoded data removed]",
      "text/plain": [
       "<Figure size 432x288 with 1 Axes>"
      ]
     },
     "metadata": {
      "needs_background": "light"
     },
     "output_type": "display_data"
    }
   ],
   "source": [
    "slope = 0.99e-7\n",
    "modelVec = slope*RVec\n",
    "\n",
    "\"\"\" residuals and chi-squared \"\"\"\n",
    "residuals = tauVec - modelVec\n",
    "wResiduals2 = (residuals / utauVec)**2 # weighting the residuals and squaring\n",
    "P = 1 # number of parameters\n",
    "N = len(tauVec) # number of data points\n",
    "chi2 = np.sum(wResiduals2) / (N - P)\n",
    "print(chi2)\n",
    "\n",
    "\"\"\" plotting \"\"\"\n",
    "plt.errorbar(RVec, tauVec, utauVec, fmt = \"bo\", markersize = 3, label = \"Experimental data\")\n",
    "plt.plot(RVec, modelVec, \"r\", label = \"Model fit\")\n",
    "plt.title(\"Time constant vs. resistance in an RC circuit\")\n",
    "plt.xlabel(\"Resistance ($\\Omega$)\")\n",
    "plt.ylabel(\"Time constant (s)\")\n",
    "plt.legend()\n",
    "plt.show()\n",
    "\n",
    "plt.errorbar(RVec, residuals, utauVec, fmt = \"bo\", markersize = 3)\n",
    "plt.grid()\n",
    "plt.title(\"Residuals plot\")\n",
    "plt.xlabel(\"Resistance ($\\Omega$)\")\n",
    "plt.ylabel(\"Residuals (s)\")\n",
    "plt.show()"
   ]
  },
  {
   "cell_type": "markdown",
   "id": "a0bc6cc4-63e8-446b-95b7-1f423f62a59e",
   "metadata": {},
   "source": [
    "For future improvements, we will increase the number of data points by filling in the gaps at 2000, 4000, 6000, and 10000 $\\Omega$. This will gives us a better characterization of the slope in the current range of resistances investigated. Then, to test the extremes of system, we will also take measurements at $500\\Omega$ and several at much higher $R$. This will test the limitations of our model."
   ]
  },
  {
   "cell_type": "code",
   "execution_count": null,
   "id": "a34067b5-f7ec-4694-9a23-396a1d1744a6",
   "metadata": {},
   "outputs": [],
   "source": []
  }
 ],
 "metadata": {
  "kernelspec": {
   "display_name": "Python 3 (ipykernel)",
   "language": "python",
   "name": "python3"
  },
  "language_info": {
   "codemirror_mode": {
    "name": "ipython",
    "version": 3
   },
   "file_extension": ".py",
   "mimetype": "text/x-python",
   "name": "python",
   "nbconvert_exporter": "python",
   "pygments_lexer": "ipython3",
   "version": "3.10.5"
  }
 },
 "nbformat": 4,
 "nbformat_minor": 5
}
