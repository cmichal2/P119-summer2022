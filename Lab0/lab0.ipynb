{
 "cells": [
  {
   "cell_type": "code",
   "execution_count": 1,
   "id": "6c44e699-496e-4845-8d94-96a619151558",
   "metadata": {},
   "outputs": [],
   "source": [
    "import matplotlib.pyplot as plt\n",
    "\n",
    "import numpy as np\n",
    "import data_entry"
   ]
  },
  {
   "cell_type": "code",
   "execution_count": 6,
   "id": "d764eb23-e23b-4b47-ad38-484ea5057136",
   "metadata": {},
   "outputs": [
    {
     "name": "stdout",
     "output_type": "stream",
     "text": [
      "Sheet name: test_sheet1.csv\n"
     ]
    },
    {
     "data": {
      "application/vnd.jupyter.widget-view+json": {
       "model_id": "897f63fca6e24fcc8347638c118ad2fc",
       "version_major": 2,
       "version_minor": 0
      },
      "text/plain": [
       "VBox(children=(Sheet(cells=(Cell(column_end=0, column_start=0, row_end=0, row_start=0, type='text', value='a')…"
      ]
     },
     "metadata": {},
     "output_type": "display_data"
    }
   ],
   "source": [
    "de = data_entry.sheet('test_sheet1')\n"
   ]
  },
  {
   "cell_type": "code",
   "execution_count": 3,
   "id": "84b935a2-81c2-4fe1-890b-f079b4f3913f",
   "metadata": {},
   "outputs": [
    {
     "data": {
      "text/plain": [
       "[<matplotlib.lines.Line2D at 0x7fbc111bbfd0>]"
      ]
     },
     "execution_count": 3,
     "metadata": {},
     "output_type": "execute_result"
    },
    {
     "data": {
      "image/png": "[encoded data removed]",
      "text/plain": [
       "<Figure size 432x288 with 1 Axes>"
      ]
     },
     "metadata": {
      "needs_background": "light"
     },
     "output_type": "display_data"
    }
   ],
   "source": [
    "plt.plot(v_a, v_b)"
   ]
  },
  {
   "cell_type": "code",
   "execution_count": 8,
   "id": "75e89d2b-baa4-4e45-a73d-dee334e00db0",
   "metadata": {},
   "outputs": [
    {
     "name": "stdout",
     "output_type": "stream",
     "text": [
      "Sheet name: test_sheet1-1.csv\n"
     ]
    },
    {
     "data": {
      "application/vnd.jupyter.widget-view+json": {
       "model_id": "b53729fed6d947d99ea3beca208d5f2a",
       "version_major": 2,
       "version_minor": 0
      },
      "text/plain": [
       "VBox(children=(Sheet(cells=(Cell(column_end=0, column_start=0, row_end=0, row_start=0, type='text', value='a')…"
      ]
     },
     "metadata": {},
     "output_type": "display_data"
    },
    {
     "data": {
      "text/plain": [
       "<data_entry.sheet at 0x7fbc090152e0>"
      ]
     },
     "execution_count": 8,
     "metadata": {},
     "output_type": "execute_result"
    }
   ],
   "source": [
    "data_entry.sheet_copy(\"test_sheet1.csv\",\"test_sheet1-1.csv\")"
   ]
  },
  {
   "cell_type": "code",
   "execution_count": null,
   "id": "0e3129e7-de43-437b-b371-27f2eb198b40",
   "metadata": {},
   "outputs": [],
   "source": []
  },
  {
   "cell_type": "code",
   "execution_count": 5,
   "id": "6e03cb8b-69b0-4d7b-8954-79fab763323d",
   "metadata": {
    "tags": []
   },
   "outputs": [
    {
     "name": "stdout",
     "output_type": "stream",
     "text": [
      "Self installer for: data_entry.py\n",
      "/home/jovyan/data_entry.py  will be moved to: /home/jovyan/.local/lib/python3.9/site-packages so that it can be imported.\n",
      "File exists, proceeding will overwrite a previous version.\n"
     ]
    },
    {
     "name": "stdin",
     "output_type": "stream",
     "text": [
      "Do you wish to proceed: [y/n]?  n\n"
     ]
    },
    {
     "name": "stdout",
     "output_type": "stream",
     "text": [
      "Aborting\n"
     ]
    }
   ],
   "source": [
    "# Execute this cell to install a module we will use for entering data in a \n",
    "# spreadsheet-like interface in later labs.\n",
    "\n",
    "# After executing this cell once, you can prevent this installation from running \n",
    "# again by \"commenting out\" the code lines below:\n",
    "# To do so,put a # symbol in front of the lines below:\n",
    "\n",
    "!wget -N --quiet https://www.phas.ubc.ca/~michal/data_entry.py # download data_entry.py\n",
    "%run data_entry.py  # install it.\n"
   ]
  },
  {
   "cell_type": "code",
   "execution_count": null,
   "id": "75739b69-388b-4086-a664-f28f277e81a1",
   "metadata": {},
   "outputs": [],
   "source": []
  }
 ],
 "metadata": {
  "kernelspec": {
   "display_name": "Python 3 (ipykernel)",
   "language": "python",
   "name": "python3"
  },
  "language_info": {
   "codemirror_mode": {
    "name": "ipython",
    "version": 3
   },
   "file_extension": ".py",
   "mimetype": "text/x-python",
   "name": "python",
   "nbconvert_exporter": "python",
   "pygments_lexer": "ipython3",
   "version": "3.9.10"
  }
 },
 "nbformat": 4,
 "nbformat_minor": 5
}
