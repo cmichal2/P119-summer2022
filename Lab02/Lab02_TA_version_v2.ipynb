{
 "cells": [
  {
   "cell_type": "markdown",
   "id": "904f567e-ad76-42fc-a2e2-9dd24ad41f66",
   "metadata": {},
   "source": [
    "# Lab 02 - Hooke's Law"
   ]
  },
  {
   "cell_type": "code",
   "execution_count": 5,
   "id": "73304620-b011-449e-9a34-6cfc5988e88f",
   "metadata": {},
   "outputs": [],
   "source": [
    "import numpy as np\n",
    "import data_entry"
   ]
  },
  {
   "cell_type": "markdown",
   "id": "d609b4f8-ad60-4f2e-bdd0-72fb0dc29192",
   "metadata": {},
   "source": [
    "Edit this cell and provide the information requested:\n",
    "\n",
    "- Your name:\n",
    "- Your student number:\n",
    "- Partner's name:\n"
   ]
  },
  {
   "cell_type": "markdown",
   "id": "21fdbeb6-eca3-469e-8039-275c7c8424d7",
   "metadata": {},
   "source": [
    "## Part A - Introduction"
   ]
  },
  {
   "cell_type": "markdown",
   "id": "73c25d8d-614f-4f8e-a3f3-f3edb0531ba5",
   "metadata": {},
   "source": [
    "***TA grading feedback here:***\n",
    "- (Some notes about TA feedback)"
   ]
  },
  {
   "cell_type": "markdown",
   "id": "581dc4af-f866-413e-a28c-4a7e76ef925c",
   "metadata": {},
   "source": [
    "Review of Hooke's Law:\n",
    "\n",
    "- Approximation describing how springs/elastic objects deform in response to an applied force. \n",
    "- Accurate for small deviations\n",
    "- Useful for modelling physical systems"
   ]
  },
  {
   "cell_type": "markdown",
   "id": "1ca47910-6cff-44df-b01f-b59c947a1ffb",
   "metadata": {},
   "source": [
    "The spring constant ($k$) is the proportionality constant that relates the change in force ($\\Delta F$) needed to extend or compress a spring by some distance ($\\Delta x$)\n",
    "\n",
    "$$ k = \\frac{\\lvert \\Delta F \\rvert}{\\lvert \\Delta x \\rvert} = g \\frac{\\lvert m_2 - m_1 \\rvert}{\\lvert x_2 - x_1 \\rvert}$$\n",
    "\n",
    "$x_1, m_1$: uncompressed position of the top of the spring and mass\n",
    "\n",
    "$x_2, m_2$: compressed position of the top of the spring and mass"
   ]
  },
  {
   "cell_type": "markdown",
   "id": "f7272d08-7f14-43e9-8238-9972bcf6e28e",
   "metadata": {},
   "source": [
    "Experimental goal:\n",
    "See if deviation from Hooke's Law can be detected by comparing large vs. small $\\Delta x = x_2 - x_1$."
   ]
  },
  {
   "cell_type": "markdown",
   "id": "9c464e96-f995-43f8-99c8-3f1aa8a5efd9",
   "metadata": {},
   "source": [
    "## Part B - Uncertainty Discussions"
   ]
  },
  {
   "cell_type": "markdown",
   "id": "0f5cdc1a-2e78-457b-a7e8-a4ec5ff45041",
   "metadata": {},
   "source": [
    "***Include notes on class discussion here:***\n",
    "- Report uncertainty with 2 sig figs, and measurement has same decimal places as uncertainty.\n",
    "- Rectangular uncertainty is half-width divided by $\\sqrt{3}$\n",
    "- u[m2] should be larger than u[m1] because of flucatuations, and should be Gaussian not rectangular\n",
    "\n",
    "Relative uncertainty: Given $A \\pm u[A]$, the relative uncertainty is given as:\n",
    "    \n",
    "$$ \\frac{u[A]}{A} $$\n",
    "\n",
    "More precise measurement = smaller relative uncertainty\n",
    "\n",
    "Relative uncertainty in k is given by:\n",
    "\n",
    "$$\\frac{u[k]}{k}=\\sqrt{\\left(\\frac{u[\\Delta x]}{\\Delta x}\\right)^{2}+\\left(\\frac{u[\\Delta m]}{\\Delta m}\\right)^{2}}$$\n",
    "\n",
    "Can be reduced by:\n",
    "- Decreasing $u[\\Delta x]$, $u[\\Delta m]$\n",
    "- Increasing $\\Delta x, \\Delta m$"
   ]
  },
  {
   "cell_type": "markdown",
   "id": "97ddd0a1-5822-4990-a28f-143542196a62",
   "metadata": {},
   "source": [
    "## Part C - Invention Activity"
   ]
  },
  {
   "cell_type": "markdown",
   "id": "674ba6dd-77e1-4e3e-b2ac-ce3c16049764",
   "metadata": {},
   "source": [
    "***Make sure to include a formula for the new statistical tool and a description of how to use and interpret it.***\n"
   ]
  },
  {
   "cell_type": "markdown",
   "id": "d92a7c3d-774d-412b-924a-9c4f9ecf35cc",
   "metadata": {},
   "source": [
    "Metric to evaluate whether two measurements with uncertainties are distinguishable.\n",
    "\n",
    "$$t' = \\frac{\\lvert A - B\\rvert}{\\sqrt{(u[A])^2 + (u[B])^2}}$$\n",
    "\n",
    "- If $t' \\geq 3$, reasonably confident that the values are different. However, do a better measurement to increase your confidence further.\n",
    "- If $1 < t' < 3$, values in tension; do another measurement to resolve.\n",
    "- If $t' \\leq 1$, Not at all confident they are different, but more precise measurement may uncover hidden difference."
   ]
  },
  {
   "cell_type": "markdown",
   "id": "950791c5-89e9-49d9-9840-653d3e411f61",
   "metadata": {},
   "source": [
    "## Part D - First round of measurements"
   ]
  },
  {
   "cell_type": "markdown",
   "id": "060d749e-8cd0-4798-acf0-8d219b5b7b60",
   "metadata": {},
   "source": [
    "***Include your initial measurement plan in the Markdown cell below, then follow the instructions on setting up your data spreadsheet.***"
   ]
  },
  {
   "cell_type": "markdown",
   "id": "f829c3f0-937e-4ab3-81e3-8cca68b1c6db",
   "metadata": {},
   "source": [
    "Goal: For this week’s experiment, we are investigating the limitations of Hooke’s Law by measuring the spring “constant” for different ranges of compression of the spring. \n",
    "\n",
    "Measurement plan:\n",
    "\n",
    "1. Put the spring on the scale and TARE, measure the uncompressed length, and record the uncompressed mass reading (should be 0).\n",
    "2. Push down spring around 3cm. There is some fluctuation, so take the average/center value observed for the length and scale value.\n",
    "3. Repeat step 2, compressing spring down 7cm.\n",
    "\n",
    "Uncertainties:\n",
    "\n",
    "- Uncertainty in $x_1$ is Gaussian because human error in reading off length value... Determined by estimating 95% CI as boundaries of reasonable values, dividing by 4.\n",
    "- Uncertainty in $m_1$ is Rectangular because digital measurement... Determined by dividing most precise decimal place in half and then by sqrt(3)\n",
    "- Uncertainty in $x_2$ is Gaussian because human error + fluctuations in hand... Determined by estimating 95% CI as boundaries of reasonable length readings from unstable hand and dividing by 4\n",
    "- Uncertainty in $m_2$ is Gaussian because fluctuations in the reading... Determined by estimating 95% CI as min/max values on scale seen and dividing by 4.\n",
    "\n",
    "Some calculations for uncertainties:"
   ]
  },
  {
   "cell_type": "code",
   "execution_count": 6,
   "id": "ac3fcf06-3c8a-49bb-bf43-062afb32d843",
   "metadata": {},
   "outputs": [
    {
     "name": "stdout",
     "output_type": "stream",
     "text": [
      "0.001\n",
      "0.0015\n",
      "0.001\n",
      "0.0002886751345948129\n",
      "0.0075\n",
      "0.0125\n"
     ]
    }
   ],
   "source": [
    "ux1 = 0.004/4\n",
    "print(ux1)\n",
    "\n",
    "ux2small = 0.006/4\n",
    "print(ux2small)\n",
    "\n",
    "ux2large = 0.004/4\n",
    "print(ux2large)\n",
    "\n",
    "um1 = 0.001/2/np.sqrt(3)\n",
    "print(um1)\n",
    "\n",
    "um2large = 0.03/4\n",
    "print(um2large)\n",
    "\n",
    "um2small = 0.05/4\n",
    "print(um2small)"
   ]
  },
  {
   "cell_type": "markdown",
   "id": "3c9f1aed-6a7d-41b0-bead-a0c4491afdd3",
   "metadata": {},
   "source": [
    "Uncomment the code below (i.e., remove the '#') to set up your initial spreadsheet 'lab02_data_round1.csv'. Any edits you make will automatically be saved. When you are finished inputting your data, press 'Generate Vectors' to transform each column into a Python vector. For instance, if you title a column 'm1', then a Python vector called 'm1Vec' will be generated. The idea is to use these generated vectors to perform the necessary calculations to obtain $k$ and $u[k]$ for small and large compressions."
   ]
  },
  {
   "cell_type": "code",
   "execution_count": 8,
   "id": "29a8d24c-fa66-42d1-a5ac-6119fc49bb10",
   "metadata": {},
   "outputs": [
    {
     "name": "stdout",
     "output_type": "stream",
     "text": [
      "Sheet name: lab02_data_round1.csv\n"
     ]
    },
    {
     "data": {
      "application/vnd.jupyter.widget-view+json": {
       "model_id": "fc0b08fe94904841be1e8bf805cc936d",
       "version_major": 2,
       "version_minor": 0
      },
      "text/plain": [
       "VBox(children=(Sheet(cells=(Cell(column_end=0, column_start=0, row_end=0, row_start=0, type='text', value=''),…"
      ]
     },
     "metadata": {},
     "output_type": "display_data"
    }
   ],
   "source": [
    "de_round1 = data_entry.sheet(\"lab02_data_round1\")"
   ]
  },
  {
   "cell_type": "code",
   "execution_count": 10,
   "id": "77c2d348-0d97-4d00-9d27-7f8a06e30359",
   "metadata": {},
   "outputs": [],
   "source": [
    "g = 9.801 # in Vancouver"
   ]
  },
  {
   "cell_type": "markdown",
   "id": "95397dd9-6666-4986-98af-26c74d1e72dc",
   "metadata": {},
   "source": [
    "Calculating k:"
   ]
  },
  {
   "cell_type": "code",
   "execution_count": 11,
   "id": "a5ccd8ec-ff02-41c3-b1a1-03182e711cdc",
   "metadata": {},
   "outputs": [
    {
     "name": "stdout",
     "output_type": "stream",
     "text": [
      "Spring constant k = [141.7878     137.59096154]\n"
     ]
    }
   ],
   "source": [
    "kVec = g*np.abs(m2Vec-m1Vec)/np.abs(x2Vec-x1Vec)\n",
    "print(\"Spring constant k = {}\".format(kVec))"
   ]
  },
  {
   "cell_type": "markdown",
   "id": "e633dfcc-336b-47a5-a14d-349802bd93cb",
   "metadata": {},
   "source": [
    "Calculating uncertainty in k:"
   ]
  },
  {
   "cell_type": "code",
   "execution_count": 12,
   "id": "a89a49f2-99bd-4efa-8782-11c8530c8574",
   "metadata": {},
   "outputs": [
    {
     "name": "stdout",
     "output_type": "stream",
     "text": [
      "Spring constant uncertainty u[k] = [17.73241145  4.42223501]\n"
     ]
    }
   ],
   "source": [
    "DxVec = x2Vec - x1Vec # delta x\n",
    "DmVec = m2Vec - m1Vec # delta m\n",
    "\n",
    "uDxVec = np.sqrt(ux1Vec**2 + ux2Vec**2) # uncertainty in delta x \n",
    "uDmVec = np.sqrt(um1Vec**2 + um2Vec**2) # uncertainty in delta m\n",
    "\n",
    "ukVec = kVec*np.sqrt((uDxVec/DxVec)**2 + (uDmVec/DmVec)**2) # uncertainty in k\n",
    "print(\"Spring constant uncertainty u[k] = {}\".format(ukVec))"
   ]
  },
  {
   "cell_type": "markdown",
   "id": "72085b10-2997-49c9-831a-61348c83b862",
   "metadata": {},
   "source": [
    "Relative uncertainties:"
   ]
  },
  {
   "cell_type": "code",
   "execution_count": 13,
   "id": "ee4d0394-3cec-4ed6-ba54-cb4dcd8978d3",
   "metadata": {},
   "outputs": [
    {
     "name": "stdout",
     "output_type": "stream",
     "text": [
      "Spring constant relative uncertainty u[k]/k = [0.12506303 0.03214045]\n"
     ]
    }
   ],
   "source": [
    "print(\"Spring constant relative uncertainty u[k]/k = {}\".format(ukVec/kVec))"
   ]
  },
  {
   "cell_type": "markdown",
   "id": "428c9069-1524-4ec1-9cde-555a9a7df7fd",
   "metadata": {},
   "source": [
    "t' score:"
   ]
  },
  {
   "cell_type": "code",
   "execution_count": 14,
   "id": "db1c6cb1-9932-446a-a98a-379d5e24dd26",
   "metadata": {},
   "outputs": [
    {
     "name": "stdout",
     "output_type": "stream",
     "text": [
      "t-score = 0.22964264738391663\n"
     ]
    }
   ],
   "source": [
    "ksmall = kVec[0]\n",
    "klarge = kVec[1]\n",
    "uksmall = ukVec[0]\n",
    "uklarge = ukVec[1]\n",
    "\n",
    "t = np.abs(ksmall - klarge)/np.sqrt(uksmall**2 + uklarge**2)\n",
    "print(\"t-score = {}\".format(t))"
   ]
  },
  {
   "cell_type": "markdown",
   "id": "93fdceda-3f67-4c9e-ba54-c9be720af5d1",
   "metadata": {},
   "source": [
    "So for the small compression we have $k = 142 \\pm 18 N/m$ and for the large compression we have $k = 137.6 \\pm 4.4 N/m$. The relative uncertainties are 0.13 and 0.032 respectively. The t-score between these two values is 0.23, which is less than 1 so we are not at all confident that these two values are different."
   ]
  },
  {
   "cell_type": "markdown",
   "id": "716c733d-b549-4dac-81a9-954820d3868b",
   "metadata": {},
   "source": [
    "## Part E - Group Discussion"
   ]
  },
  {
   "cell_type": "markdown",
   "id": "89d1b174-ba68-41f1-a2ab-84343a08e7ec",
   "metadata": {},
   "source": [
    "***Comparisons can be measurement techniques and/or measured/calculated values. Don't forget to provide the names of the group members you compare to.***"
   ]
  },
  {
   "cell_type": "markdown",
   "id": "0bc55fd0-2d59-432f-a704-213cd47890a1",
   "metadata": {},
   "source": [
    "a) (Some comparison with other groups of values...)\n",
    "\n",
    "b) (Some comparison of relative uncertainties... Comparison of the numerical values by writing them down, why certain groups may have had lower/higher uncertainty values.) \n",
    "\n",
    "c) Looking at the t-score, we are not at all confident that the two values are different as t is much less than 1.\n",
    "\n",
    "d) After discussing, we looked at the expression for the relative uncertainty in k and saw that it is best if we maximize $\\Delta m$ and $\\Delta x$, so we will take $\\Delta x$ for the large compression to be 9cm (the largest) and $\\Delta x$ for the small compression to be 5cm (the largest) so as to minimize the relative uncertainty. We saw that groups that did this had lower uncertainties so we conjecture that this will help to reduce ours. Also, instead of using our hands, we will also make towers of books and press down on the springs in a more stable way using a ruler so as to minimize the fluctuations (and hence $u[\\Delta x], u[\\Delta m]$) that arise from our unstable pressing down on the spring."
   ]
  },
  {
   "cell_type": "markdown",
   "id": "a3987179-8dc3-4e07-a566-1886f2ede8e9",
   "metadata": {},
   "source": [
    "## Part F - Cycles of Improvement"
   ]
  },
  {
   "cell_type": "markdown",
   "id": "a1a36267-483c-41e2-ab0f-45a78d2bffbe",
   "metadata": {},
   "source": [
    "Uncomment the code below to set up a new spreadsheet for your improvement round data. This code will copy your old spreadsheet so that all you have to do is overwrite the data from your initial round with your improvement round data. *IMPORTANT NOTE: do not run the code below until you are finished with your data entry in Part D.* "
   ]
  },
  {
   "cell_type": "code",
   "execution_count": 16,
   "id": "9211de0c-c33c-443c-8304-41ea35c42e96",
   "metadata": {},
   "outputs": [
    {
     "name": "stdout",
     "output_type": "stream",
     "text": [
      "Copied lab02_data_round1.csv to lab02_data_round2.csv\n",
      "Creating undo file\n",
      "Sheet name: lab02_data_round2.csv\n"
     ]
    },
    {
     "data": {
      "application/vnd.jupyter.widget-view+json": {
       "model_id": "c5d426cda7e64f9c8f0a6e2abe434fc8",
       "version_major": 2,
       "version_minor": 0
      },
      "text/plain": [
       "VBox(children=(Sheet(cells=(Cell(column_end=0, column_start=0, row_end=0, row_start=0, type='text', value='$ty…"
      ]
     },
     "metadata": {},
     "output_type": "display_data"
    }
   ],
   "source": [
    "de_round2 = data_entry.sheet_copy(\"lab02_data_round1\", \"lab02_data_round2\")"
   ]
  },
  {
   "cell_type": "markdown",
   "id": "72cb10be-eb39-4365-b340-c27722d852d2",
   "metadata": {},
   "source": [
    "Calculating k:"
   ]
  },
  {
   "cell_type": "code",
   "execution_count": 17,
   "id": "e9c71baa-22f3-48e4-bfaf-8f0fb1bb8135",
   "metadata": {},
   "outputs": [
    {
     "name": "stdout",
     "output_type": "stream",
     "text": [
      "Spring constant k = [139.1742 140.481 ]\n"
     ]
    }
   ],
   "source": [
    "kVec = g*np.abs(m2Vec-m1Vec)/np.abs(x2Vec-x1Vec)\n",
    "print(\"Spring constant k = {}\".format(kVec))"
   ]
  },
  {
   "cell_type": "markdown",
   "id": "27c5d76f-bd98-46f8-96bf-51bcf8c17c5c",
   "metadata": {},
   "source": [
    "Calculating uncertainty in k:"
   ]
  },
  {
   "cell_type": "code",
   "execution_count": 18,
   "id": "64e2d066-ad47-4900-905d-fbfa2376ee8f",
   "metadata": {},
   "outputs": [
    {
     "name": "stdout",
     "output_type": "stream",
     "text": [
      "Spring constant uncertainty u[k] = [4.05701423 2.27382633]\n"
     ]
    }
   ],
   "source": [
    "DxVec = x2Vec - x1Vec # delta x\n",
    "DmVec = m2Vec - m1Vec # delta m\n",
    "\n",
    "uDxVec = np.sqrt(ux1Vec**2 + ux2Vec**2) # uncertainty in delta x \n",
    "uDmVec = np.sqrt(um1Vec**2 + um2Vec**2) # uncertainty in delta m\n",
    "\n",
    "ukVec = kVec*np.sqrt((uDxVec/DxVec)**2 + (uDmVec/DmVec)**2) # uncertainty in k\n",
    "print(\"Spring constant uncertainty u[k] = {}\".format(ukVec))"
   ]
  },
  {
   "cell_type": "markdown",
   "id": "cc674897-8630-44bf-80c2-797edc297603",
   "metadata": {},
   "source": [
    "Relative uncertainties:"
   ]
  },
  {
   "cell_type": "code",
   "execution_count": 19,
   "id": "35c01be5-d1ad-423a-8688-c565b3b64f46",
   "metadata": {},
   "outputs": [
    {
     "name": "stdout",
     "output_type": "stream",
     "text": [
      "Spring constant relative uncertainty u[k]/k = [0.02915062 0.01618601]\n"
     ]
    }
   ],
   "source": [
    "print(\"Spring constant relative uncertainty u[k]/k = {}\".format(ukVec/kVec))"
   ]
  },
  {
   "cell_type": "markdown",
   "id": "b3ab5b67-5106-4fbe-8b89-1c80dac139fe",
   "metadata": {},
   "source": [
    "t' score:"
   ]
  },
  {
   "cell_type": "code",
   "execution_count": 20,
   "id": "da337d72-2c24-4858-a4aa-e04fafd818ca",
   "metadata": {},
   "outputs": [
    {
     "name": "stdout",
     "output_type": "stream",
     "text": [
      "t-score = 0.2809858004403343\n"
     ]
    }
   ],
   "source": [
    "ksmall = kVec[0]\n",
    "klarge = kVec[1]\n",
    "uksmall = ukVec[0]\n",
    "uklarge = ukVec[1]\n",
    "\n",
    "t = np.abs(ksmall - klarge)/np.sqrt(uksmall**2 + uklarge**2)\n",
    "print(\"t-score = {}\".format(t))"
   ]
  },
  {
   "cell_type": "markdown",
   "id": "94b6e346-c7da-4ec5-b4fb-833a72e3e385",
   "metadata": {},
   "source": [
    "From our improvement round, we now have $k=139.2 \\pm 4.1 N/m$ for the small compression and $k=140.5 \\pm 2.3 N/m$ for the large compression.  With these improved measurements, our t-score is $0.28$ which is still less than one. Therefore, we are still not at all confident the large and small compressions have different $k$. In the future, we could do even better measurements to see if there is a very small hidden difference to uncover."
   ]
  },
  {
   "cell_type": "markdown",
   "id": "812ddb11-10f2-44e5-b981-955228163f62",
   "metadata": {
    "tags": []
   },
   "source": [
    "## Summary of Results"
   ]
  },
  {
   "cell_type": "markdown",
   "id": "7dbc0155-d839-4d2e-860b-dfe3dc02022a",
   "metadata": {},
   "source": [
    "***Tips:***\n",
    "- A brief summary of how your key results and the results of your comparisons evolved throughout the lab.\n",
    "- 1-2 sentences to describe and justify your major improvements and how they proved to be successful or unsuccessful. It may be helpful to use relative uncertainty to quantify your argument. \n",
    "- 1-2 sentences addressing the experimental goal and describing the conclusions you can make from the results of your comparisons. \n",
    "- 1 sentence containing your thoughts for further investigation. If you were to spend more time with this experiment, what would you plan to do next?"
   ]
  },
  {
   "cell_type": "markdown",
   "id": "a2a4a737-b540-465a-9bca-a8bf7c952373",
   "metadata": {},
   "source": [
    "From our best round of measurements, we found that $k=139.2 \\pm 4.1 N/m$ for the small compression and $k=140.5 \\pm 2.3 N/m$ for the large compression. These values are similar to our initial round of measurements, except our relative uncertainty has decreased from $0.125$ to $0.029$ (small compression) and $0.032$ to $0.016$ (large compression). This tells us that our improvements of using maximum compressions within the allowed ranges (to directly lower uncertainty based on the $u[k]/k$ formula), as well as stabilizing the compression by using an external \"tower\" of books (to reduce $u[\\Delta x]$ and especially $u[\\Delta m]$) were successful. Taking a t-score between the two results, we find $t' = 0.28$ and so we are not at all confident the two $k$ are different because $t'<1$. From the results of our experiment, we would conclude that Hooke's law holds across the two ranges."
   ]
  }
 ],
 "metadata": {
  "kernelspec": {
   "display_name": "Python 3 (ipykernel)",
   "language": "python",
   "name": "python3"
  },
  "language_info": {
   "codemirror_mode": {
    "name": "ipython",
    "version": 3
   },
   "file_extension": ".py",
   "mimetype": "text/x-python",
   "name": "python",
   "nbconvert_exporter": "python",
   "pygments_lexer": "ipython3",
   "version": "3.9.12"
  }
 },
 "nbformat": 4,
 "nbformat_minor": 5
}
